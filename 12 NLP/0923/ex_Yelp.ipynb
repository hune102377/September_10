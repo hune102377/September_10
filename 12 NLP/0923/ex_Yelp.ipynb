{
 "cells": [
  {
   "cell_type": "markdown",
   "metadata": {},
   "source": [
    "## Yelp Review Dataset\n",
    "---  "
   ]
  },
  {
   "cell_type": "markdown",
   "metadata": {},
   "source": [
    "impo"
   ]
  },
  {
   "cell_type": "code",
   "execution_count": null,
   "metadata": {},
   "outputs": [],
   "source": [
    "from torch.utils.data import Daataset\n",
    "\n",
    "class ReviewDataset(Dataset) :\n",
    "    def __init__(self, review_df, vectorizer):\n",
    "        \"\"\"매게변수 :\n",
    "        review_df (pandas.DataFrame) : 데이터셋\n",
    "        vectorizer (ReviewVectorizer) : ReviewVectorizer 객체\n",
    "        \"\"\"\n",
    "        self.review_df = review_df"
   ]
  }
 ],
 "metadata": {
  "kernelspec": {
   "display_name": "Python 3.9.12 ('base')",
   "language": "python",
   "name": "python3"
  },
  "language_info": {
   "name": "python",
   "version": "3.9.12"
  },
  "orig_nbformat": 4,
  "vscode": {
   "interpreter": {
    "hash": "399b942a90945adf822711c817a2148b24a3a269b52160aecaa333816877df5e"
   }
  }
 },
 "nbformat": 4,
 "nbformat_minor": 2
}
