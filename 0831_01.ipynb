{
 "cells": [
  {
   "cell_type": "markdown",
   "metadata": {},
   "source": [
    "# 머신러닝 3장"
   ]
  },
  {
   "cell_type": "markdown",
   "metadata": {},
   "source": [
    "k-최근접 이웃 분류 : 샘플 주변을 보고 샘플의 클래스로 예측  \n",
    "k-최근접 이웃 회귀 : 샘플 주변 이웃의 평균으로 샘플의 값을 구함"
   ]
  },
  {
   "cell_type": "markdown",
   "metadata": {},
   "source": [
    "### - 농어(perch)의 길이로 무게를 잘 예측할 수 있을까?"
   ]
  },
  {
   "cell_type": "code",
   "execution_count": 1,
   "metadata": {},
   "outputs": [],
   "source": [
    "# 필요할 라이브러리 import\n",
    "import numpy as np\n",
    "import matplotlib.pyplot as plt"
   ]
  },
  {
   "cell_type": "code",
   "execution_count": 2,
   "metadata": {},
   "outputs": [],
   "source": [
    "# 농어의 길이\n",
    "perch_length = np.array([8.4, 13.7, 15.0, 16.2, 17.4, 18.0, 18.7, 19.0, \n",
    "                        19.6, 20.0, 21.0, 21.0, 21.0, 21.3, 22.0, 22.0, \n",
    "                        22.0, 22.0, 22.0, 22.5, 22.5, 22.7, 23.0, 23.5, \n",
    "                        24.0, 24.0, 24.6, 25.0, 25.6, 26.5,\t27.3, 27.5, \n",
    "                        27.5, 27.5, 28.0, 28.7, 30.0, 32.8, 34.5, 35.0,\n",
    "                     \t36.5, 36.0, 37.0, 37.0, 39.0, 39.0, 39.0, 40.0, \n",
    "                        40.0, 40.0,\t40.0, 42.0, 43.0, 43.0, 43.5, 44.0])\n",
    "# 농어의 무게\n",
    "perch_weight = np.array([5.9, 32.0, 40.0, 51.5, 70.0, 100.0, 78.0, 80.0, \n",
    "                         85.0, 85.0, 110.0, 115.0, 125.0, 130.0, 120.0, \n",
    "                         120.0, 130.0, 135.0, 110.0, 130.0,150.0, 145.0,\n",
    "                         150.0, 170.0, 225.0, 145.0, 188.0, 180.0,197.0,\n",
    "                         218.0,300.0, 260.0, 265.0, 250.0, 250.0, 300.0,\n",
    "                         320.0, 514.0, 556.0, 840.0,685.0, 700.0, 700.0,\n",
    "                         690.0, 900.0, 650.0, 820.0, 850.0, 900.0,\n",
    "                         1015.0, 820.0, 1100.0, 1000.0, 1100.0, \n",
    "                         1000.0, 1000.0])"
   ]
  },
  {
   "cell_type": "code",
   "execution_count": 24,
   "metadata": {},
   "outputs": [
    {
     "data": {
      "image/png": "[encoded data removed]",
      "text/plain": [
       "<Figure size 1008x648 with 1 Axes>"
      ]
     },
     "metadata": {
      "needs_background": "light"
     },
     "output_type": "display_data"
    }
   ],
   "source": [
    "# 산점도 확인\n",
    "plt.figure(figsize=(14,9))\n",
    "plt.scatter(perch_length, perch_weight, marker='D', color ='limegreen')\n",
    "plt.xlabel('length')\n",
    "plt.ylabel('weight')\n",
    "plt.grid(True)\n",
    "plt.show()"
   ]
  },
  {
   "cell_type": "markdown",
   "metadata": {},
   "source": [
    "훈련 세트와 테스트 세트 준비"
   ]
  },
  {
   "cell_type": "code",
   "execution_count": 27,
   "metadata": {},
   "outputs": [
    {
     "name": "stdout",
     "output_type": "stream",
     "text": [
      "(42,) (14,)\n"
     ]
    }
   ],
   "source": [
    "# 라이브러리 import\n",
    "from sklearn.model_selection import train_test_split\n",
    "\n",
    "# 훈련 세트와 테스트 세트 준비\n",
    "train_input, test_input, train_target, test_target = train_test_split(perch_length, perch_weight, random_state = 42)\n",
    "\n",
    "print(train_input.shape, test_input.shape)"
   ]
  },
  {
   "cell_type": "code",
   "execution_count": 28,
   "metadata": {},
   "outputs": [
    {
     "name": "stdout",
     "output_type": "stream",
     "text": [
      "(42, 1) (14, 1)\n"
     ]
    }
   ],
   "source": [
    "# 2차원 배열로 변경\n",
    "train_input = train_input.reshape(-1,1)\n",
    "test_input = test_input.reshape(-1,1)\n",
    "\n",
    "print(train_input.shape, test_input.shape)"
   ]
  },
  {
   "cell_type": "markdown",
   "metadata": {},
   "source": [
    "k-최근접 이웃 회귀 알고리즘 정확도 계산"
   ]
  },
  {
   "cell_type": "code",
   "execution_count": 31,
   "metadata": {},
   "outputs": [
    {
     "name": "stdout",
     "output_type": "stream",
     "text": [
      "0.992809406101064\n"
     ]
    }
   ],
   "source": [
    "from sklearn.neighbors import KNeighborsRegressor\n",
    "\n",
    "# 모델 생성\n",
    "knr = KNeighborsRegressor()\n",
    "\n",
    "# 모델 훈련\n",
    "knr.fit(train_input, train_target)\n",
    "\n",
    "# 모델 점수 확인, 결정 계수(R2)를 리턴\n",
    "print(knr.score(test_input, test_target))"
   ]
  },
  {
   "cell_type": "markdown",
   "metadata": {},
   "source": [
    "### 결정계수란?\n",
    "##### 회귀식이 얼마나 정확하지를 나타내는 숫자\n",
    "- 0에 가까울수록 정확도가 낮음\n",
    "- 1에 가까울수록 정확도는 높음"
   ]
  },
  {
   "cell_type": "markdown",
   "metadata": {},
   "source": [
    "### 평균 절대 오차(MAE : mean absolute error)\n",
    "##### 실제 값과 예측 값의 절대값 오차 평균 (에러의 크기를 반영)"
   ]
  },
  {
   "cell_type": "code",
   "execution_count": 33,
   "metadata": {},
   "outputs": [
    {
     "name": "stdout",
     "output_type": "stream",
     "text": [
      "19.157142857142862\n"
     ]
    }
   ],
   "source": [
    "from sklearn.metrics import mean_absolute_error\n",
    "\n",
    "# 테스트 세트에 대한 예측값 계산\n",
    "test_prediction = knr.predict(test_input)\n",
    "\n",
    "# 테스트 세트에 대한 평균 절대 오차 계산\n",
    "mae = mean_absolute_error(test_target, test_prediction)\n",
    "print(mae)"
   ]
  }
 ],
 "metadata": {
  "kernelspec": {
   "display_name": "Python 3.9.12 ('base')",
   "language": "python",
   "name": "python3"
  },
  "language_info": {
   "codemirror_mode": {
    "name": "ipython",
    "version": 3
   },
   "file_extension": ".py",
   "mimetype": "text/x-python",
   "name": "python",
   "nbconvert_exporter": "python",
   "pygments_lexer": "ipython3",
   "version": "3.9.12"
  },
  "orig_nbformat": 4,
  "vscode": {
   "interpreter": {
    "hash": "399b942a90945adf822711c817a2148b24a3a269b52160aecaa333816877df5e"
   }
  }
 },
 "nbformat": 4,
 "nbformat_minor": 2
}
