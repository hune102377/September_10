{
 "cells": [
  {
   "cell_type": "code",
   "execution_count": 1,
   "metadata": {},
   "outputs": [],
   "source": [
    "raw_text = \"\"\"The main Henry Ford Museum building houses some of the classrooms for the Henry Ford Academy\n",
    "\n",
    "\n",
    "Henry Ford Academy is the first charter school in the United States to be developed jointly by a global corporation, public education, and a major nonprofit cultural institution. The school is sponsored by the Ford Motor Company, Wayne County Regional Educational Service Agency and The Henry Ford Museum and admits high school students. It is located in Dearborn, Michigan on the campus of the Henry Ford museum. Enrollment is taken from a lottery in the area and totaled 467 in 2010.[1]\n",
    "Freshman meet inside the main museum building in glass walled classrooms, while older students use a converted carousel building and Pullman cars on a siding of the Greenfield Village railroad. Classes are expected to include use of the museum artifacts, a tradition of the original Village Schools. When the Museum was established in 1929, it included a school which served grades kindergarten to college/trade school ages. The last part of the original school closed in 1969.\n",
    "The Henry Ford Learning Institute is using the Henry Ford Academy model for further charter schools including the Power House High in Chicago and Alameda School for Art + Design in San Antonio.\n",
    "The building received the international annual design award of the Council of Educational Facilities Planners International for 2001, the James D. MacConnell Award for outstanding new educational facilities. Notable attendees include Chris Stroud and Isaac Sudut.\n",
    "See also[edit]\"\"\""
   ]
  },
  {
   "cell_type": "markdown",
   "metadata": {},
   "source": [
    "---  \n",
    "리스트로 바꾸기"
   ]
  },
  {
   "cell_type": "code",
   "execution_count": 2,
   "metadata": {},
   "outputs": [],
   "source": [
    "from nltk.tokenize import sent_tokenize\n",
    "\n",
    "sent_Text = sent_tokenize(raw_text)"
   ]
  },
  {
   "cell_type": "code",
   "execution_count": 3,
   "metadata": {},
   "outputs": [
    {
     "name": "stdout",
     "output_type": "stream",
     "text": [
      "['The main Henry Ford Museum building houses some of the classrooms for the Henry Ford Academy\\n\\n\\nHenry Ford Academy is the first charter school in the United States to be developed jointly by a global corporation, public education, and a major nonprofit cultural institution.', 'The school is sponsored by the Ford Motor Company, Wayne County Regional Educational Service Agency and The Henry Ford Museum and admits high school students.', 'It is located in Dearborn, Michigan on the campus of the Henry Ford museum.', 'Enrollment is taken from a lottery in the area and totaled 467 in 2010.', '[1]\\nFreshman meet inside the main museum building in glass walled classrooms, while older students use a converted carousel building and Pullman cars on a siding of the Greenfield Village railroad.', 'Classes are expected to include use of the museum artifacts, a tradition of the original Village Schools.', 'When the Museum was established in 1929, it included a school which served grades kindergarten to college/trade school ages.', 'The last part of the original school closed in 1969.', 'The Henry Ford Learning Institute is using the Henry Ford Academy model for further charter schools including the Power House High in Chicago and Alameda School for Art + Design in San Antonio.', 'The building received the international annual design award of the Council of Educational Facilities Planners International for 2001, the James D. MacConnell Award for outstanding new educational facilities.', 'Notable attendees include Chris Stroud and Isaac Sudut.', 'See also[edit]'] 12\n"
     ]
    }
   ],
   "source": [
    "print(sent_Text, len(sent_Text))"
   ]
  },
  {
   "cell_type": "markdown",
   "metadata": {},
   "source": [
    "---  \n",
    "단어처리"
   ]
  },
  {
   "cell_type": "code",
   "execution_count": 4,
   "metadata": {},
   "outputs": [],
   "source": [
    "from tensorflow.keras.preprocessing.text import text_to_word_sequence, Tokenizer, padd_se"
   ]
  },
  {
   "cell_type": "code",
   "execution_count": 17,
   "metadata": {},
   "outputs": [],
   "source": [
    "from tensorflow.keras.utils import pad_sequences"
   ]
  },
  {
   "cell_type": "code",
   "execution_count": 6,
   "metadata": {},
   "outputs": [],
   "source": [
    "tokens  = text_to_word_sequence(raw_text)"
   ]
  },
  {
   "cell_type": "code",
   "execution_count": 7,
   "metadata": {},
   "outputs": [
    {
     "name": "stdout",
     "output_type": "stream",
     "text": [
      "['the', 'main', 'henry', 'ford', 'museum', 'building', 'houses', 'some', 'of', 'the', 'classrooms', 'for', 'the', 'henry', 'ford', 'academy', 'henry', 'ford', 'academy', 'is', 'the', 'first', 'charter', 'school', 'in', 'the', 'united', 'states', 'to', 'be', 'developed', 'jointly', 'by', 'a', 'global', 'corporation', 'public', 'education', 'and', 'a', 'major', 'nonprofit', 'cultural', 'institution', 'the', 'school', 'is', 'sponsored', 'by', 'the', 'ford', 'motor', 'company', 'wayne', 'county', 'regional', 'educational', 'service', 'agency', 'and', 'the', 'henry', 'ford', 'museum', 'and', 'admits', 'high', 'school', 'students', 'it', 'is', 'located', 'in', 'dearborn', 'michigan', 'on', 'the', 'campus', 'of', 'the', 'henry', 'ford', 'museum', 'enrollment', 'is', 'taken', 'from', 'a', 'lottery', 'in', 'the', 'area', 'and', 'totaled', '467', 'in', '2010', '1', 'freshman', 'meet', 'inside', 'the', 'main', 'museum', 'building', 'in', 'glass', 'walled', 'classrooms', 'while', 'older', 'students', 'use', 'a', 'converted', 'carousel', 'building', 'and', 'pullman', 'cars', 'on', 'a', 'siding', 'of', 'the', 'greenfield', 'village', 'railroad', 'classes', 'are', 'expected', 'to', 'include', 'use', 'of', 'the', 'museum', 'artifacts', 'a', 'tradition', 'of', 'the', 'original', 'village', 'schools', 'when', 'the', 'museum', 'was', 'established', 'in', '1929', 'it', 'included', 'a', 'school', 'which', 'served', 'grades', 'kindergarten', 'to', 'college', 'trade', 'school', 'ages', 'the', 'last', 'part', 'of', 'the', 'original', 'school', 'closed', 'in', '1969', 'the', 'henry', 'ford', 'learning', 'institute', 'is', 'using', 'the', 'henry', 'ford', 'academy', 'model', 'for', 'further', 'charter', 'schools', 'including', 'the', 'power', 'house', 'high', 'in', 'chicago', 'and', 'alameda', 'school', 'for', 'art', 'design', 'in', 'san', 'antonio', 'the', 'building', 'received', 'the', 'international', 'annual', 'design', 'award', 'of', 'the', 'council', 'of', 'educational', 'facilities', 'planners', 'international', 'for', '2001', 'the', 'james', 'd', 'macconnell', 'award', 'for', 'outstanding', 'new', 'educational', 'facilities', 'notable', 'attendees', 'include', 'chris', 'stroud', 'and', 'isaac', 'sudut', 'see', 'also', 'edit'] 246\n"
     ]
    }
   ],
   "source": [
    "print(tokens, len(tokens))"
   ]
  },
  {
   "cell_type": "code",
   "execution_count": 8,
   "metadata": {},
   "outputs": [],
   "source": [
    "myToken = Tokenizer()\n",
    "myToken.fit_on_texts(tokens)"
   ]
  },
  {
   "cell_type": "code",
   "execution_count": 16,
   "metadata": {},
   "outputs": [
    {
     "name": "stdout",
     "output_type": "stream",
     "text": [
      "{'the': 1, 'in': 2, 'ford': 3, 'of': 4, 'henry': 5, 'school': 6, 'a': 7, 'and': 8, 'museum': 9, 'for': 10, 'is': 11, 'building': 12, 'academy': 13, 'to': 14, 'educational': 15, 'main': 16, 'classrooms': 17, 'charter': 18, 'by': 19, 'high': 20, 'students': 21, 'it': 22, 'on': 23, 'use': 24, 'village': 25, 'include': 26, 'original': 27, 'schools': 28, 'design': 29, 'international': 30, 'award': 31, 'facilities': 32, 'houses': 33, 'some': 34, 'first': 35, 'united': 36, 'states': 37, 'be': 38, 'developed': 39, 'jointly': 40, 'global': 41, 'corporation': 42, 'public': 43, 'education': 44, 'major': 45, 'nonprofit': 46, 'cultural': 47, 'institution': 48, 'sponsored': 49, 'motor': 50, 'company': 51, 'wayne': 52, 'county': 53, 'regional': 54, 'service': 55, 'agency': 56, 'admits': 57, 'located': 58, 'dearborn': 59, 'michigan': 60, 'campus': 61, 'enrollment': 62, 'taken': 63, 'from': 64, 'lottery': 65, 'area': 66, 'totaled': 67, '467': 68, '2010': 69, '1': 70, 'freshman': 71, 'meet': 72, 'inside': 73, 'glass': 74, 'walled': 75, 'while': 76, 'older': 77, 'converted': 78, 'carousel': 79, 'pullman': 80, 'cars': 81, 'siding': 82, 'greenfield': 83, 'railroad': 84, 'classes': 85, 'are': 86, 'expected': 87, 'artifacts': 88, 'tradition': 89, 'when': 90, 'was': 91, 'established': 92, '1929': 93, 'included': 94, 'which': 95, 'served': 96, 'grades': 97, 'kindergarten': 98, 'college': 99, 'trade': 100, 'ages': 101, 'last': 102, 'part': 103, 'closed': 104, '1969': 105, 'learning': 106, 'institute': 107, 'using': 108, 'model': 109, 'further': 110, 'including': 111, 'power': 112, 'house': 113, 'chicago': 114, 'alameda': 115, 'art': 116, 'san': 117, 'antonio': 118, 'received': 119, 'annual': 120, 'council': 121, 'planners': 122, '2001': 123, 'james': 124, 'd': 125, 'macconnell': 126, 'outstanding': 127, 'new': 128, 'notable': 129, 'attendees': 130, 'chris': 131, 'stroud': 132, 'isaac': 133, 'sudut': 134, 'see': 135, 'also': 136, 'edit': 137} 137\n"
     ]
    }
   ],
   "source": [
    "print(myToken.word_index, len(myToken.word_index))"
   ]
  },
  {
   "cell_type": "code",
   "execution_count": 10,
   "metadata": {},
   "outputs": [],
   "source": [
    "seq_voca = myToken.texts_to_sequences(sent_Text)"
   ]
  },
  {
   "cell_type": "code",
   "execution_count": 11,
   "metadata": {},
   "outputs": [
    {
     "name": "stdout",
     "output_type": "stream",
     "text": [
      "[[1, 16, 5, 3, 9, 12, 33, 34, 4, 1, 17, 10, 1, 5, 3, 13, 5, 3, 13, 11, 1, 35, 18, 6, 2, 1, 36, 37, 14, 38, 39, 40, 19, 7, 41, 42, 43, 44, 8, 7, 45, 46, 47, 48], [1, 6, 11, 49, 19, 1, 3, 50, 51, 52, 53, 54, 15, 55, 56, 8, 1, 5, 3, 9, 8, 57, 20, 6, 21], [22, 11, 58, 2, 59, 60, 23, 1, 61, 4, 1, 5, 3, 9], [62, 11, 63, 64, 7, 65, 2, 1, 66, 8, 67, 68, 2, 69], [70, 71, 72, 73, 1, 16, 9, 12, 2, 74, 75, 17, 76, 77, 21, 24, 7, 78, 79, 12, 8, 80, 81, 23, 7, 82, 4, 1, 83, 25, 84], [85, 86, 87, 14, 26, 24, 4, 1, 9, 88, 7, 89, 4, 1, 27, 25, 28], [90, 1, 9, 91, 92, 2, 93, 22, 94, 7, 6, 95, 96, 97, 98, 14, 99, 100, 6, 101], [1, 102, 103, 4, 1, 27, 6, 104, 2, 105], [1, 5, 3, 106, 107, 11, 108, 1, 5, 3, 13, 109, 10, 110, 18, 28, 111, 1, 112, 113, 20, 2, 114, 8, 115, 6, 10, 116, 29, 2, 117, 118], [1, 12, 119, 1, 30, 120, 29, 31, 4, 1, 121, 4, 15, 32, 122, 30, 10, 123, 1, 124, 125, 126, 31, 10, 127, 128, 15, 32], [129, 130, 26, 131, 132, 8, 133, 134], [135, 136, 137]]\n"
     ]
    }
   ],
   "source": [
    "print(seq_voca)"
   ]
  },
  {
   "cell_type": "markdown",
   "metadata": {},
   "source": [
    "---  \n",
    "padding 작업(길이 맞추기)\n",
    "- 길이가 모두 다른 문장들을 동일 길이로 맞추기 위한 과정\n",
    "- 길이 기준 설정\n",
    "    * 앞으로 부터 채울지 뒤로 채울지 선택\n",
    "    * 값 : 패딩에 들어갈 값"
   ]
  },
  {
   "cell_type": "code",
   "execution_count": 25,
   "metadata": {},
   "outputs": [
    {
     "name": "stdout",
     "output_type": "stream",
     "text": [
      "[[  1  16   5   3   9  12  33  34   4   1  17  10   1   5   3  13   5   3\n",
      "   13  11   1  35  18   6   2   1  36  37  14  38  39  40  19   7  41  42\n",
      "   43  44   8   7  45  46  47  48]\n",
      " [  0   0   0   0   0   0   0   0   0   0   0   0   0   0   0   0   0   0\n",
      "    0   1   6  11  49  19   1   3  50  51  52  53  54  15  55  56   8   1\n",
      "    5   3   9   8  57  20   6  21]\n",
      " [  0   0   0   0   0   0   0   0   0   0   0   0   0   0   0   0   0   0\n",
      "    0   0   0   0   0   0   0   0   0   0   0   0  22  11  58   2  59  60\n",
      "   23   1  61   4   1   5   3   9]\n",
      " [  0   0   0   0   0   0   0   0   0   0   0   0   0   0   0   0   0   0\n",
      "    0   0   0   0   0   0   0   0   0   0   0   0  62  11  63  64   7  65\n",
      "    2   1  66   8  67  68   2  69]\n",
      " [  0   0   0   0   0   0   0   0   0   0   0   0   0  70  71  72  73   1\n",
      "   16   9  12   2  74  75  17  76  77  21  24   7  78  79  12   8  80  81\n",
      "   23   7  82   4   1  83  25  84]\n",
      " [  0   0   0   0   0   0   0   0   0   0   0   0   0   0   0   0   0   0\n",
      "    0   0   0   0   0   0   0   0   0  85  86  87  14  26  24   4   1   9\n",
      "   88   7  89   4   1  27  25  28]\n",
      " [  0   0   0   0   0   0   0   0   0   0   0   0   0   0   0   0   0   0\n",
      "    0   0   0   0   0   0  90   1   9  91  92   2  93  22  94   7   6  95\n",
      "   96  97  98  14  99 100   6 101]\n",
      " [  0   0   0   0   0   0   0   0   0   0   0   0   0   0   0   0   0   0\n",
      "    0   0   0   0   0   0   0   0   0   0   0   0   0   0   0   0   1 102\n",
      "  103   4   1  27   6 104   2 105]\n",
      " [  0   0   0   0   0   0   0   0   0   0   0   0   1   5   3 106 107  11\n",
      "  108   1   5   3  13 109  10 110  18  28 111   1 112 113  20   2 114   8\n",
      "  115   6  10 116  29   2 117 118]\n",
      " [  0   0   0   0   0   0   0   0   0   0   0   0   0   0   0   0   1  12\n",
      "  119   1  30 120  29  31   4   1 121   4  15  32 122  30  10 123   1 124\n",
      "  125 126  31  10 127 128  15  32]\n",
      " [  0   0   0   0   0   0   0   0   0   0   0   0   0   0   0   0   0   0\n",
      "    0   0   0   0   0   0   0   0   0   0   0   0   0   0   0   0   0   0\n",
      "  129 130  26 131 132   8 133 134]\n",
      " [  0   0   0   0   0   0   0   0   0   0   0   0   0   0   0   0   0   0\n",
      "    0   0   0   0   0   0   0   0   0   0   0   0   0   0   0   0   0   0\n",
      "    0   0   0   0   0 135 136 137]]\n"
     ]
    }
   ],
   "source": [
    "padd_seq_voca = pad_sequences(seq_voca)\n",
    "print(padd_seq_voca)"
   ]
  },
  {
   "cell_type": "markdown",
   "metadata": {},
   "source": [
    "---  \n",
    "one-hot encoding"
   ]
  },
  {
   "cell_type": "code",
   "execution_count": 12,
   "metadata": {},
   "outputs": [],
   "source": [
    "from tensorflow.keras.utils import to_categorical"
   ]
  },
  {
   "cell_type": "code",
   "execution_count": 22,
   "metadata": {},
   "outputs": [
    {
     "data": {
      "text/plain": [
       "array([[0., 1., 0., ..., 0., 0., 0.],\n",
       "       [0., 0., 0., ..., 0., 0., 0.],\n",
       "       [0., 0., 0., ..., 0., 0., 0.],\n",
       "       ...,\n",
       "       [0., 0., 0., ..., 1., 0., 0.],\n",
       "       [0., 0., 0., ..., 0., 1., 0.],\n",
       "       [0., 0., 0., ..., 0., 0., 1.]], dtype=float32)"
      ]
     },
     "execution_count": 22,
     "metadata": {},
     "output_type": "execute_result"
    }
   ],
   "source": [
    "to_categorical(padd_seq_voca[0])"
   ]
  }
 ],
 "metadata": {
  "kernelspec": {
   "display_name": "Python 3.9.12 ('base')",
   "language": "python",
   "name": "python3"
  },
  "language_info": {
   "codemirror_mode": {
    "name": "ipython",
    "version": 3
   },
   "file_extension": ".py",
   "mimetype": "text/x-python",
   "name": "python",
   "nbconvert_exporter": "python",
   "pygments_lexer": "ipython3",
   "version": "3.9.12"
  },
  "orig_nbformat": 4,
  "vscode": {
   "interpreter": {
    "hash": "399b942a90945adf822711c817a2148b24a3a269b52160aecaa333816877df5e"
   }
  }
 },
 "nbformat": 4,
 "nbformat_minor": 2
}
