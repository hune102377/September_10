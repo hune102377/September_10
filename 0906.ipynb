{
 "cells": [
  {
   "cell_type": "markdown",
   "metadata": {},
   "source": [
    "## 다양한 데이터 교차검증\n",
    "    - cross_val_validate()\n",
    "    - cross_val_predict()"
   ]
  },
  {
   "cell_type": "markdown",
   "metadata": {},
   "source": [
    "### [1] 데이터 불러오기"
   ]
  },
  {
   "cell_type": "code",
   "execution_count": 8,
   "metadata": {},
   "outputs": [],
   "source": [
    "from sklearn.model_selection import cross_val_predict, cross_validate, cross_val_score\n",
    "from sklearn.datasets import load_iris\n",
    "import numpy as np\n",
    "import pandas as pd"
   ]
  },
  {
   "cell_type": "code",
   "execution_count": 2,
   "metadata": {},
   "outputs": [],
   "source": [
    "iris = load_iris()"
   ]
  },
  {
   "cell_type": "code",
   "execution_count": 4,
   "metadata": {},
   "outputs": [],
   "source": [
    "data = iris['data']\n",
    "target = iris['target']\n",
    "featureName = iris['feature_names']\n",
    "className = iris['target_names']"
   ]
  },
  {
   "cell_type": "markdown",
   "metadata": {},
   "source": [
    "### [2] 모델 생성"
   ]
  },
  {
   "cell_type": "code",
   "execution_count": 10,
   "metadata": {},
   "outputs": [],
   "source": [
    "from sklearn.linear_model import LogisticRegression\n",
    "lrModel = LogisticRegression(max_iter=500)"
   ]
  },
  {
   "cell_type": "code",
   "execution_count": 13,
   "metadata": {},
   "outputs": [],
   "source": [
    "# 교차 검증으로 모델 학습 진행\n",
    "# => 학습 데이터 5개를 사용하여 교차 검증\n",
    "result = cross_val_score(lrModel, data, target, cv = 10)"
   ]
  },
  {
   "cell_type": "code",
   "execution_count": 14,
   "metadata": {},
   "outputs": [
    {
     "data": {
      "text/plain": [
       "array([1.        , 0.93333333, 1.        , 1.        , 0.93333333,\n",
       "       0.93333333, 0.93333333, 1.        , 1.        , 1.        ])"
      ]
     },
     "execution_count": 14,
     "metadata": {},
     "output_type": "execute_result"
    }
   ],
   "source": [
    "result"
   ]
  },
  {
   "cell_type": "code",
   "execution_count": 20,
   "metadata": {},
   "outputs": [],
   "source": [
    "# 학습과 검증이 포함된 종합적인 정보 확인\n",
    "allResult = cross_validate(lrModel, data, target, cv = 10, return_train_score = True)"
   ]
  },
  {
   "cell_type": "code",
   "execution_count": 21,
   "metadata": {},
   "outputs": [
    {
     "data": {
      "text/html": [
       "<div>\n",
       "<style scoped>\n",
       "    .dataframe tbody tr th:only-of-type {\n",
       "        vertical-align: middle;\n",
       "    }\n",
       "\n",
       "    .dataframe tbody tr th {\n",
       "        vertical-align: top;\n",
       "    }\n",
       "\n",
       "    .dataframe thead th {\n",
       "        text-align: right;\n",
       "    }\n",
       "</style>\n",
       "<table border=\"1\" class=\"dataframe\">\n",
       "  <thead>\n",
       "    <tr style=\"text-align: right;\">\n",
       "      <th></th>\n",
       "      <th>fit_time</th>\n",
       "      <th>score_time</th>\n",
       "      <th>test_score</th>\n",
       "      <th>train_score</th>\n",
       "    </tr>\n",
       "  </thead>\n",
       "  <tbody>\n",
       "    <tr>\n",
       "      <th>0</th>\n",
       "      <td>0.044790</td>\n",
       "      <td>0.000989</td>\n",
       "      <td>1.000000</td>\n",
       "      <td>0.970370</td>\n",
       "    </tr>\n",
       "    <tr>\n",
       "      <th>1</th>\n",
       "      <td>0.032554</td>\n",
       "      <td>0.000998</td>\n",
       "      <td>0.933333</td>\n",
       "      <td>0.977778</td>\n",
       "    </tr>\n",
       "    <tr>\n",
       "      <th>2</th>\n",
       "      <td>0.032442</td>\n",
       "      <td>0.000470</td>\n",
       "      <td>1.000000</td>\n",
       "      <td>0.970370</td>\n",
       "    </tr>\n",
       "    <tr>\n",
       "      <th>3</th>\n",
       "      <td>0.028984</td>\n",
       "      <td>0.000954</td>\n",
       "      <td>1.000000</td>\n",
       "      <td>0.970370</td>\n",
       "    </tr>\n",
       "    <tr>\n",
       "      <th>4</th>\n",
       "      <td>0.026485</td>\n",
       "      <td>0.000954</td>\n",
       "      <td>0.933333</td>\n",
       "      <td>0.977778</td>\n",
       "    </tr>\n",
       "    <tr>\n",
       "      <th>5</th>\n",
       "      <td>0.034639</td>\n",
       "      <td>0.000000</td>\n",
       "      <td>0.933333</td>\n",
       "      <td>0.977778</td>\n",
       "    </tr>\n",
       "    <tr>\n",
       "      <th>6</th>\n",
       "      <td>0.029956</td>\n",
       "      <td>0.000000</td>\n",
       "      <td>0.933333</td>\n",
       "      <td>0.985185</td>\n",
       "    </tr>\n",
       "    <tr>\n",
       "      <th>7</th>\n",
       "      <td>0.020682</td>\n",
       "      <td>0.000000</td>\n",
       "      <td>1.000000</td>\n",
       "      <td>0.970370</td>\n",
       "    </tr>\n",
       "    <tr>\n",
       "      <th>8</th>\n",
       "      <td>0.025956</td>\n",
       "      <td>0.000998</td>\n",
       "      <td>1.000000</td>\n",
       "      <td>0.970370</td>\n",
       "    </tr>\n",
       "    <tr>\n",
       "      <th>9</th>\n",
       "      <td>0.024825</td>\n",
       "      <td>0.000000</td>\n",
       "      <td>1.000000</td>\n",
       "      <td>0.977778</td>\n",
       "    </tr>\n",
       "  </tbody>\n",
       "</table>\n",
       "</div>"
      ],
      "text/plain": [
       "   fit_time  score_time  test_score  train_score\n",
       "0  0.044790    0.000989    1.000000     0.970370\n",
       "1  0.032554    0.000998    0.933333     0.977778\n",
       "2  0.032442    0.000470    1.000000     0.970370\n",
       "3  0.028984    0.000954    1.000000     0.970370\n",
       "4  0.026485    0.000954    0.933333     0.977778\n",
       "5  0.034639    0.000000    0.933333     0.977778\n",
       "6  0.029956    0.000000    0.933333     0.985185\n",
       "7  0.020682    0.000000    1.000000     0.970370\n",
       "8  0.025956    0.000998    1.000000     0.970370\n",
       "9  0.024825    0.000000    1.000000     0.977778"
      ]
     },
     "execution_count": 21,
     "metadata": {},
     "output_type": "execute_result"
    }
   ],
   "source": [
    "resultDF = pd.DataFrame(allResult)\n",
    "resultDF"
   ]
  },
  {
   "cell_type": "code",
   "execution_count": 27,
   "metadata": {},
   "outputs": [
    {
     "data": {
      "text/html": [
       "<div>\n",
       "<style scoped>\n",
       "    .dataframe tbody tr th:only-of-type {\n",
       "        vertical-align: middle;\n",
       "    }\n",
       "\n",
       "    .dataframe tbody tr th {\n",
       "        vertical-align: top;\n",
       "    }\n",
       "\n",
       "    .dataframe thead th {\n",
       "        text-align: right;\n",
       "    }\n",
       "</style>\n",
       "<table border=\"1\" class=\"dataframe\">\n",
       "  <thead>\n",
       "    <tr style=\"text-align: right;\">\n",
       "      <th></th>\n",
       "      <th>fit_time</th>\n",
       "      <th>score_time</th>\n",
       "      <th>estimator</th>\n",
       "      <th>test_score</th>\n",
       "      <th>train_score</th>\n",
       "    </tr>\n",
       "  </thead>\n",
       "  <tbody>\n",
       "    <tr>\n",
       "      <th>0</th>\n",
       "      <td>0.024430</td>\n",
       "      <td>0.000000</td>\n",
       "      <td>LogisticRegression(max_iter=500)</td>\n",
       "      <td>1.000000</td>\n",
       "      <td>0.955556</td>\n",
       "    </tr>\n",
       "    <tr>\n",
       "      <th>1</th>\n",
       "      <td>0.025421</td>\n",
       "      <td>0.000000</td>\n",
       "      <td>LogisticRegression(max_iter=500)</td>\n",
       "      <td>0.933333</td>\n",
       "      <td>0.985185</td>\n",
       "    </tr>\n",
       "    <tr>\n",
       "      <th>2</th>\n",
       "      <td>0.030051</td>\n",
       "      <td>0.000199</td>\n",
       "      <td>LogisticRegression(max_iter=500)</td>\n",
       "      <td>1.000000</td>\n",
       "      <td>0.970370</td>\n",
       "    </tr>\n",
       "    <tr>\n",
       "      <th>3</th>\n",
       "      <td>0.023717</td>\n",
       "      <td>0.000809</td>\n",
       "      <td>LogisticRegression(max_iter=500)</td>\n",
       "      <td>1.000000</td>\n",
       "      <td>0.977778</td>\n",
       "    </tr>\n",
       "    <tr>\n",
       "      <th>4</th>\n",
       "      <td>0.025227</td>\n",
       "      <td>0.000993</td>\n",
       "      <td>LogisticRegression(max_iter=500)</td>\n",
       "      <td>0.933333</td>\n",
       "      <td>0.970370</td>\n",
       "    </tr>\n",
       "    <tr>\n",
       "      <th>5</th>\n",
       "      <td>0.022689</td>\n",
       "      <td>0.000995</td>\n",
       "      <td>LogisticRegression(max_iter=500)</td>\n",
       "      <td>0.933333</td>\n",
       "      <td>0.977778</td>\n",
       "    </tr>\n",
       "    <tr>\n",
       "      <th>6</th>\n",
       "      <td>0.022922</td>\n",
       "      <td>0.001018</td>\n",
       "      <td>LogisticRegression(max_iter=500)</td>\n",
       "      <td>0.933333</td>\n",
       "      <td>0.985185</td>\n",
       "    </tr>\n",
       "    <tr>\n",
       "      <th>7</th>\n",
       "      <td>0.025445</td>\n",
       "      <td>0.000000</td>\n",
       "      <td>LogisticRegression(max_iter=500)</td>\n",
       "      <td>1.000000</td>\n",
       "      <td>0.970370</td>\n",
       "    </tr>\n",
       "    <tr>\n",
       "      <th>8</th>\n",
       "      <td>0.020514</td>\n",
       "      <td>0.000000</td>\n",
       "      <td>LogisticRegression(max_iter=500)</td>\n",
       "      <td>1.000000</td>\n",
       "      <td>0.977778</td>\n",
       "    </tr>\n",
       "    <tr>\n",
       "      <th>9</th>\n",
       "      <td>0.018950</td>\n",
       "      <td>0.000000</td>\n",
       "      <td>LogisticRegression(max_iter=500)</td>\n",
       "      <td>0.933333</td>\n",
       "      <td>0.977778</td>\n",
       "    </tr>\n",
       "  </tbody>\n",
       "</table>\n",
       "</div>"
      ],
      "text/plain": [
       "   fit_time  score_time                         estimator  test_score  \\\n",
       "0  0.024430    0.000000  LogisticRegression(max_iter=500)    1.000000   \n",
       "1  0.025421    0.000000  LogisticRegression(max_iter=500)    0.933333   \n",
       "2  0.030051    0.000199  LogisticRegression(max_iter=500)    1.000000   \n",
       "3  0.023717    0.000809  LogisticRegression(max_iter=500)    1.000000   \n",
       "4  0.025227    0.000993  LogisticRegression(max_iter=500)    0.933333   \n",
       "5  0.022689    0.000995  LogisticRegression(max_iter=500)    0.933333   \n",
       "6  0.022922    0.001018  LogisticRegression(max_iter=500)    0.933333   \n",
       "7  0.025445    0.000000  LogisticRegression(max_iter=500)    1.000000   \n",
       "8  0.020514    0.000000  LogisticRegression(max_iter=500)    1.000000   \n",
       "9  0.018950    0.000000  LogisticRegression(max_iter=500)    0.933333   \n",
       "\n",
       "   train_score  \n",
       "0     0.955556  \n",
       "1     0.985185  \n",
       "2     0.970370  \n",
       "3     0.977778  \n",
       "4     0.970370  \n",
       "5     0.977778  \n",
       "6     0.985185  \n",
       "7     0.970370  \n",
       "8     0.977778  \n",
       "9     0.977778  "
      ]
     },
     "execution_count": 27,
     "metadata": {},
     "output_type": "execute_result"
    }
   ],
   "source": [
    "# Splitter 객체 생성 - kFold()\n",
    "from sklearn.model_selection import KFold, StratifiedKFold\n",
    "\n",
    "kSplitter = KFold(n_splits= 10, shuffle=True)\n",
    "\n",
    "allResult_kSplitter = cross_validate(lrModel, data, target, cv = kSplitter,return_train_score = True, return_estimator=True)\n",
    "\n",
    "dfkSplitter = pd.DataFrame(allResult_kSplitter)\n",
    "dfkSplitter"
   ]
  }
 ],
 "metadata": {
  "kernelspec": {
   "display_name": "Python 3.9.12 ('base')",
   "language": "python",
   "name": "python3"
  },
  "language_info": {
   "codemirror_mode": {
    "name": "ipython",
    "version": 3
   },
   "file_extension": ".py",
   "mimetype": "text/x-python",
   "name": "python",
   "nbconvert_exporter": "python",
   "pygments_lexer": "ipython3",
   "version": "3.9.12"
  },
  "orig_nbformat": 4,
  "vscode": {
   "interpreter": {
    "hash": "399b942a90945adf822711c817a2148b24a3a269b52160aecaa333816877df5e"
   }
  }
 },
 "nbformat": 4,
 "nbformat_minor": 2
}
