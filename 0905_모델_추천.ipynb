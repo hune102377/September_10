{
 "cells": [
  {
   "cell_type": "code",
   "execution_count": null,
   "metadata": {},
   "outputs": [],
   "source": [
    "## Sklearn 모델 추천 메서드 활용\n",
    "\n",
    "- sklearn.utils 모듈의 all_estimators()"
   ]
  }
 ],
 "metadata": {
  "kernelspec": {
   "display_name": "Python 3.10.6 64-bit",
   "language": "python",
   "name": "python3"
  },
  "language_info": {
   "name": "python",
   "version": "3.10.6"
  },
  "orig_nbformat": 4,
  "vscode": {
   "interpreter": {
    "hash": "428f01ee3f356438e556d3daff8c88dc9a684c1c7b1933d1eea4e5680e69c636"
   }
  }
 },
 "nbformat": 4,
 "nbformat_minor": 2
}
