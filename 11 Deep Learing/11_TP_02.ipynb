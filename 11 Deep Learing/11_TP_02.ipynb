{
 "cells": [
  {
   "cell_type": "code",
   "execution_count": 1,
   "metadata": {},
   "outputs": [],
   "source": [
    "import os\n",
    "from keras.preprocessing.image import ImageDataGenerator\n",
    "from keras.models import Sequential\n",
    "from keras.layers import Dense, Flatten, Conv2D, MaxPool2D, BatchNormalization, Activation, Dropout, Input\n",
    "from keras.utils import plot_model\n",
    "from keras.callbacks import EarlyStopping\n",
    "import matplotlib.pyplot as plt\n",
    "from sklearn.model_selection import train_test_split"
   ]
  },
  {
   "cell_type": "code",
   "execution_count": 2,
   "metadata": {},
   "outputs": [],
   "source": [
    "def iridsearch(num) :\n",
    "    input_length_h, input_length_w = num, num\n",
    "\n",
    "    data_generator = ImageDataGenerator(rescale = 1./255)\n",
    "\n",
    "    train_generator = data_generator.flow_from_directory(\n",
    "        './data/',\n",
    "        target_size = (input_length_h, input_length_w),\n",
    "        batch_size = 551,\n",
    "        class_mode='categorical'\n",
    "    )\n",
    "\n",
    "    X_data, y_data = train_generator.next()\n",
    "\n",
    "    X_train, X_test, y_train, y_test = train_test_split(\n",
    "        X_data, y_data, test_size = 0.1, stratify = y_data\n",
    "    )\n",
    "\n",
    "    list_test = []\n",
    "    list_test_accuracy = []\n",
    "    list_test_val_accuracy = []\n",
    "\n",
    "    print(f'dropout : {num} start -------------------------------------------')\n",
    "\n",
    "\n",
    "    model = Sequential()\n",
    "\n",
    "    # 1층\n",
    "    model.add(Conv2D(filters=64, kernel_size=(3,3), padding=\"same\", input_shape = (input_length_h, input_length_w, 3), activation=\"relu\", name = 'conv1'))\n",
    "    model.add(Conv2D(filters=64, kernel_size=(3,3), padding=\"same\", activation=\"relu\", name = 'conv2'))\n",
    "    model.add(MaxPool2D((2, 2), name = 'pool1'))\n",
    "\n",
    "    # 출력층\n",
    "    model.add(Flatten())\n",
    "    model.add(Dense(4096, activation=\"relu\", name = 'dense1'))\n",
    "    model.add(Dropout(0.3))\n",
    "    model.add(Dense(2048, activation=\"relu\", name = 'dense2'))\n",
    "    model.add(Dropout(0.3))\n",
    "    model.add(Dense(6, activation=\"softmax\", name = 'output'))\n",
    "\n",
    "    # compile\n",
    "    model.compile(loss = 'categorical_crossentropy', optimizer='adam', metrics = ['accuracy'])\n",
    "\n",
    "    history = model.fit(\n",
    "        X_train, y_train,\n",
    "        epochs=15,\n",
    "        validation_data=(X_test, y_test),\n",
    "        )\n",
    "\n",
    "    list_test.append(num)\n",
    "    list_test_accuracy.append(history.history['accuracy'])\n",
    "    list_test_val_accuracy.append(history.history['val_accuracy'])\n",
    "    print(f'dropout : {num} end -------------------------------------------')"
   ]
  },
  {
   "cell_type": "code",
   "execution_count": 3,
   "metadata": {},
   "outputs": [
    {
     "name": "stdout",
     "output_type": "stream",
     "text": [
      "Found 551 images belonging to 6 classes.\n",
      "dropout : 96 start -------------------------------------------\n",
      "Epoch 1/15\n",
      "16/16 [==============================] - 54s 3s/step - loss: 20.3703 - accuracy: 0.1374 - val_loss: 1.7878 - val_accuracy: 0.1786\n",
      "Epoch 2/15\n",
      "16/16 [==============================] - 59s 4s/step - loss: 1.7800 - accuracy: 0.2061 - val_loss: 1.7722 - val_accuracy: 0.2321\n",
      "Epoch 3/15\n",
      "16/16 [==============================] - 49s 3s/step - loss: 1.6894 - accuracy: 0.2788 - val_loss: 1.7232 - val_accuracy: 0.2679\n",
      "Epoch 4/15\n",
      "16/16 [==============================] - 54s 3s/step - loss: 1.4731 - accuracy: 0.4020 - val_loss: 1.6819 - val_accuracy: 0.3036\n",
      "Epoch 5/15\n",
      "16/16 [==============================] - 54s 3s/step - loss: 1.1525 - accuracy: 0.5556 - val_loss: 2.0214 - val_accuracy: 0.2143\n",
      "Epoch 6/15\n",
      "16/16 [==============================] - 60s 4s/step - loss: 0.8160 - accuracy: 0.6889 - val_loss: 2.0992 - val_accuracy: 0.3393\n",
      "Epoch 7/15\n",
      "16/16 [==============================] - 51s 3s/step - loss: 0.5755 - accuracy: 0.8121 - val_loss: 2.5389 - val_accuracy: 0.3214\n",
      "Epoch 8/15\n",
      "16/16 [==============================] - 53s 3s/step - loss: 0.5011 - accuracy: 0.8444 - val_loss: 3.8950 - val_accuracy: 0.3571\n",
      "Epoch 9/15\n",
      "16/16 [==============================] - 54s 3s/step - loss: 0.3258 - accuracy: 0.8889 - val_loss: 3.3233 - val_accuracy: 0.3214\n",
      "Epoch 10/15\n",
      "16/16 [==============================] - 58s 4s/step - loss: 0.2567 - accuracy: 0.9374 - val_loss: 3.6156 - val_accuracy: 0.3571\n",
      "Epoch 11/15\n",
      "16/16 [==============================] - 61s 4s/step - loss: 0.1739 - accuracy: 0.9495 - val_loss: 4.4155 - val_accuracy: 0.3750\n",
      "Epoch 12/15\n",
      "16/16 [==============================] - 55s 3s/step - loss: 0.1105 - accuracy: 0.9677 - val_loss: 5.8018 - val_accuracy: 0.2857\n",
      "Epoch 13/15\n",
      "16/16 [==============================] - 56s 4s/step - loss: 0.1143 - accuracy: 0.9576 - val_loss: 5.7227 - val_accuracy: 0.3214\n",
      "Epoch 14/15\n",
      "16/16 [==============================] - 56s 4s/step - loss: 0.2526 - accuracy: 0.9374 - val_loss: 4.9322 - val_accuracy: 0.3393\n",
      "Epoch 15/15\n",
      "16/16 [==============================] - 57s 4s/step - loss: 0.8366 - accuracy: 0.8202 - val_loss: 3.5993 - val_accuracy: 0.2679\n",
      "dropout : 96 end -------------------------------------------\n"
     ]
    }
   ],
   "source": [
    "iridsearch(96)"
   ]
  }
 ],
 "metadata": {
  "kernelspec": {
   "display_name": "Python 3.9.12 ('base')",
   "language": "python",
   "name": "python3"
  },
  "language_info": {
   "codemirror_mode": {
    "name": "ipython",
    "version": 3
   },
   "file_extension": ".py",
   "mimetype": "text/x-python",
   "name": "python",
   "nbconvert_exporter": "python",
   "pygments_lexer": "ipython3",
   "version": "3.9.12"
  },
  "orig_nbformat": 4,
  "vscode": {
   "interpreter": {
    "hash": "399b942a90945adf822711c817a2148b24a3a269b52160aecaa333816877df5e"
   }
  }
 },
 "nbformat": 4,
 "nbformat_minor": 2
}
