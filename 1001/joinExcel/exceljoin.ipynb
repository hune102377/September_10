{
 "cells": [
  {
   "cell_type": "code",
   "execution_count": 1,
   "metadata": {},
   "outputs": [],
   "source": [
    "import pandas as pd"
   ]
  },
  {
   "cell_type": "code",
   "execution_count": 13,
   "metadata": {},
   "outputs": [],
   "source": [
    "def concatexcel(name) :\n",
    "    file = (f'./data/{name}.xlsx')\n",
    "    df_all = pd.read_excel(file, sheet_name = None)\n",
    "    concatted_df = pd.concat(df_all, ignore_index = True)\n",
    "    return concatted_df"
   ]
  },
  {
   "cell_type": "code",
   "execution_count": 3,
   "metadata": {},
   "outputs": [],
   "source": [
    "df_econmy = concatexcel('economy')"
   ]
  },
  {
   "cell_type": "code",
   "execution_count": 4,
   "metadata": {},
   "outputs": [
    {
     "data": {
      "text/html": [
       "<div>\n",
       "<style scoped>\n",
       "    .dataframe tbody tr th:only-of-type {\n",
       "        vertical-align: middle;\n",
       "    }\n",
       "\n",
       "    .dataframe tbody tr th {\n",
       "        vertical-align: top;\n",
       "    }\n",
       "\n",
       "    .dataframe thead th {\n",
       "        text-align: right;\n",
       "    }\n",
       "</style>\n",
       "<table border=\"1\" class=\"dataframe\">\n",
       "  <thead>\n",
       "    <tr style=\"text-align: right;\">\n",
       "      <th></th>\n",
       "      <th>title</th>\n",
       "      <th>label</th>\n",
       "    </tr>\n",
       "  </thead>\n",
       "  <tbody>\n",
       "    <tr>\n",
       "      <th>0</th>\n",
       "      <td>광명도시공사 인권영향평가 지표개선…정보개방↑</td>\n",
       "      <td>1</td>\n",
       "    </tr>\n",
       "    <tr>\n",
       "      <th>1</th>\n",
       "      <td>양주시의회 \"의정부 자원회수시설 이전 철회하라\"</td>\n",
       "      <td>1</td>\n",
       "    </tr>\n",
       "    <tr>\n",
       "      <th>2</th>\n",
       "      <td>3년 만에 정상 개최된 자라섬 재즈 페스티벌</td>\n",
       "      <td>1</td>\n",
       "    </tr>\n",
       "    <tr>\n",
       "      <th>3</th>\n",
       "      <td>자라섬 재즈 페스티벌 개막 알리는 가평군수</td>\n",
       "      <td>1</td>\n",
       "    </tr>\n",
       "    <tr>\n",
       "      <th>4</th>\n",
       "      <td>자라섬 재즈 페스티벌 개막 알리는 가평군수</td>\n",
       "      <td>1</td>\n",
       "    </tr>\n",
       "    <tr>\n",
       "      <th>...</th>\n",
       "      <td>...</td>\n",
       "      <td>...</td>\n",
       "    </tr>\n",
       "    <tr>\n",
       "      <th>4106</th>\n",
       "      <td>동영상기사</td>\n",
       "      <td>1</td>\n",
       "    </tr>\n",
       "    <tr>\n",
       "      <th>4107</th>\n",
       "      <td>동영상기사</td>\n",
       "      <td>1</td>\n",
       "    </tr>\n",
       "    <tr>\n",
       "      <th>4108</th>\n",
       "      <td>동영상기사</td>\n",
       "      <td>1</td>\n",
       "    </tr>\n",
       "    <tr>\n",
       "      <th>4109</th>\n",
       "      <td>동영상기사</td>\n",
       "      <td>1</td>\n",
       "    </tr>\n",
       "    <tr>\n",
       "      <th>4110</th>\n",
       "      <td>검색상위</td>\n",
       "      <td>1</td>\n",
       "    </tr>\n",
       "  </tbody>\n",
       "</table>\n",
       "<p>4111 rows × 2 columns</p>\n",
       "</div>"
      ],
      "text/plain": [
       "                           title  label\n",
       "0       광명도시공사 인권영향평가 지표개선…정보개방↑      1\n",
       "1     양주시의회 \"의정부 자원회수시설 이전 철회하라\"      1\n",
       "2       3년 만에 정상 개최된 자라섬 재즈 페스티벌      1\n",
       "3        자라섬 재즈 페스티벌 개막 알리는 가평군수      1\n",
       "4        자라섬 재즈 페스티벌 개막 알리는 가평군수      1\n",
       "...                          ...    ...\n",
       "4106                       동영상기사      1\n",
       "4107                       동영상기사      1\n",
       "4108                       동영상기사      1\n",
       "4109                       동영상기사      1\n",
       "4110                        검색상위      1\n",
       "\n",
       "[4111 rows x 2 columns]"
      ]
     },
     "execution_count": 4,
     "metadata": {},
     "output_type": "execute_result"
    }
   ],
   "source": [
    "df_econmy"
   ]
  },
  {
   "cell_type": "code",
   "execution_count": 6,
   "metadata": {},
   "outputs": [],
   "source": [
    "df_econmy = df_econmy.drop_duplicates()"
   ]
  },
  {
   "cell_type": "code",
   "execution_count": 12,
   "metadata": {},
   "outputs": [
    {
     "data": {
      "text/plain": [
       "광명도시공사 인권영향평가 지표개선…정보개방↑                         1\n",
       "코레일, 태풍 난마돌 대비 19일 열차 운행 조정                      1\n",
       "[세상을 바꾸는 스타트업]<13>셰빌리티 “공유 킥보드 주차·충전 한 번에 해결”    1\n",
       "플라스틱재활용 적합업종 결정 미룬 동반위…대·중소 조율 계속                1\n",
       "스타트업 투자, 7~8월 연속 감소…국내도 투자 위축                    1\n",
       "                                                ..\n",
       "[5분세계증시] 국내 증시 뉴욕 증시 반등에 힘입어 상승 출발               1\n",
       "반도체株 혹한기에도…\"AMD 주가 50% 뛸 수 있다\" 월가 호평             1\n",
       "오미크론 대응 모더나 백신, 국내 허가                            1\n",
       "모더나 '오미크론 백신', 식약처 허가…다음달부터 접종 가능                1\n",
       "뉴욕증시 하락 출발…英 통화·재정 엇박자에 美 국채금리↑                  1\n",
       "Name: title, Length: 3558, dtype: int64"
      ]
     },
     "execution_count": 12,
     "metadata": {},
     "output_type": "execute_result"
    }
   ],
   "source": [
    "df_econmy['title'].value_counts()"
   ]
  }
 ],
 "metadata": {
  "kernelspec": {
   "display_name": "Python 3.9.12 ('base')",
   "language": "python",
   "name": "python3"
  },
  "language_info": {
   "codemirror_mode": {
    "name": "ipython",
    "version": 3
   },
   "file_extension": ".py",
   "mimetype": "text/x-python",
   "name": "python",
   "nbconvert_exporter": "python",
   "pygments_lexer": "ipython3",
   "version": "3.9.12"
  },
  "orig_nbformat": 4,
  "vscode": {
   "interpreter": {
    "hash": "263930470851f494f0ed2879c35b57985588df20f9e529b86e97dd5eb9ddc466"
   }
  }
 },
 "nbformat": 4,
 "nbformat_minor": 2
}
