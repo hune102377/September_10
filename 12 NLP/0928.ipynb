{
 "cells": [
  {
   "cell_type": "markdown",
   "metadata": {},
   "source": [
    "## 0928"
   ]
  },
  {
   "cell_type": "markdown",
   "metadata": {},
   "source": [
    "0900 ~ 0950"
   ]
  },
  {
   "cell_type": "markdown",
   "metadata": {},
   "source": [
    "ex_classifier_spam 파일 중심\n",
    "\n",
    "---  "
   ]
  },
  {
   "cell_type": "markdown",
   "metadata": {},
   "source": [
    "### 텍스트  \n",
    ": 기본적인 전처리(결측치 확인 등) + 정제(상황에 따라 다름), 토큰화, (필요하다면 또 정제), 정수 정규화, 패딩, 이진 정규화 \n",
    "* 이유 : 메모리 문제와 모델 성능\n",
    "\n",
    "---  "
   ]
  },
  {
   "cell_type": "markdown",
   "metadata": {},
   "source": [
    "단어 사전 : 문장을 숫자로 바꾸기 위해 필요한 기준\n",
    "- 문장의 단어들을 모두 나누어 숫자로 변환\n",
    "\n",
    "---  "
   ]
  },
  {
   "cell_type": "markdown",
   "metadata": {},
   "source": [
    "패딩 : 모델에 넣기 위해 문장의 길이를 모두 맞춰 주는 작업\n",
    "- 방법\n",
    "    * (1) 가장 긴 걸 기준으로 모두 늘리기 : 장점 (쉬움), 단점(메모리)\n",
    "    * (2) 앞/뒤 짜르기 : 전반적인 문장을 보고 중요하다가고 생각하는 부분을 남김\n",
    "\n",
    "---  "
   ]
  },
  {
   "cell_type": "markdown",
   "metadata": {},
   "source": [
    "이진 정규화\n",
    "- (1) One-Hot Encoding : 메모리를 많이 잡아먹음 => 한 번만 나오는 단어 정도는 거르자(oov)\n",
    "\n",
    "---  "
   ]
  },
  {
   "cell_type": "markdown",
   "metadata": {},
   "source": [
    "**자연어 전처리는 메모리와 모델 효율 간의 선택이 많다**  \n",
    "**또한 자료가 늘어나거나(단어 사전 추가) 패딩의 수를 정하거나, 이진정규화의 oov가 수정되는 경우가 많으니 이를 빠르게 하기위해 하드코딩을 하지 않고 함수를 만들어 사용한다**"
   ]
  }
 ],
 "metadata": {
  "kernelspec": {
   "display_name": "Python 3.9.12 ('base')",
   "language": "python",
   "name": "python3"
  },
  "language_info": {
   "name": "python",
   "version": "3.9.12"
  },
  "orig_nbformat": 4,
  "vscode": {
   "interpreter": {
    "hash": "399b942a90945adf822711c817a2148b24a3a269b52160aecaa333816877df5e"
   }
  }
 },
 "nbformat": 4,
 "nbformat_minor": 2
}
