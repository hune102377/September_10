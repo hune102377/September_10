{
 "cells": [
  {
   "cell_type": "markdown",
   "metadata": {},
   "source": [
    "https://blog.naver.com/PostView.nhn?blogId=beyondlegend&logNo=222309644589&from=search&redirect=Log&widgetTypeCall=true&directAccess=false"
   ]
  },
  {
   "cell_type": "markdown",
   "metadata": {},
   "source": [
    "[1] 데이터 불러오기 및 정규화"
   ]
  },
  {
   "cell_type": "code",
   "execution_count": 17,
   "metadata": {},
   "outputs": [],
   "source": [
    "import numpy as np\n",
    "import tensorflow as tf\n",
    "from tensorflow.keras.datasets import cifar10\n",
    "from tensorflow.keras.models import Sequential\n",
    "from tensorflow.keras.layers import Conv2D, MaxPool2D\n",
    "from tensorflow.keras.layers import Flatten, Dense, Dropout"
   ]
  },
  {
   "cell_type": "code",
   "execution_count": 18,
   "metadata": {},
   "outputs": [],
   "source": [
    "(x_train, y_train), (x_test, y_test) = cifar10.load_data()"
   ]
  },
  {
   "cell_type": "code",
   "execution_count": 19,
   "metadata": {},
   "outputs": [],
   "source": [
    "# 텐서로 변환\n",
    "x_train = x_train.reshape(-1, 32, 32, 3)\n",
    "x_test = x_test.reshape(-1, 32, 32, 3)"
   ]
  },
  {
   "cell_type": "code",
   "execution_count": 20,
   "metadata": {},
   "outputs": [
    {
     "name": "stdout",
     "output_type": "stream",
     "text": [
      "(50000, 32, 32, 3) (10000, 32, 32, 3)\n",
      "(50000, 1) (10000, 1)\n"
     ]
    }
   ],
   "source": [
    "print(x_train.shape, x_test.shape)\n",
    "print(y_train.shape, y_test.shape)"
   ]
  },
  {
   "cell_type": "code",
   "execution_count": 21,
   "metadata": {},
   "outputs": [],
   "source": [
    "# 정규화\n",
    "x_train = x_train.astype(np.float32) / 255.0\n",
    "x_test = x_test.astype(np.float32) / 255.0"
   ]
  },
  {
   "cell_type": "markdown",
   "metadata": {},
   "source": [
    "#### [2] 모델 구출"
   ]
  },
  {
   "cell_type": "code",
   "execution_count": 22,
   "metadata": {},
   "outputs": [],
   "source": [
    "model = Sequential()\n",
    "\n",
    "model.add(Conv2D(input_shape = (32,32,3), kernel_size = (3,3), filters =32, activation = 'relu'))\n",
    "model.add(Conv2D(kernel_size = (3,3), filters=64, activation = 'relu'))\n",
    "model.add(MaxPool2D(pool_size=(2,2)))\n",
    "model.add(Dropout(0.5))\n",
    "model.add(Flatten())\n",
    "model.add(Dense(128, activation = 'relu'))\n",
    "model.add(Dropout(0.5))\n",
    "model.add(Dense(10, activation='softmax'))"
   ]
  },
  {
   "cell_type": "markdown",
   "metadata": {},
   "source": [
    "#### [3] 모델 컴파일 및 학습"
   ]
  },
  {
   "cell_type": "code",
   "execution_count": 23,
   "metadata": {},
   "outputs": [
    {
     "name": "stdout",
     "output_type": "stream",
     "text": [
      "Epoch 1/15\n",
      "391/391 [==============================] - 60s 152ms/step - loss: 1.5790 - accuracy: 0.4314 - val_loss: 1.2081 - val_accuracy: 0.5784\n",
      "Epoch 2/15\n",
      "391/391 [==============================] - 76s 193ms/step - loss: 1.2532 - accuracy: 0.5538 - val_loss: 1.0526 - val_accuracy: 0.6313\n",
      "Epoch 3/15\n",
      "391/391 [==============================] - 72s 185ms/step - loss: 1.1313 - accuracy: 0.6008 - val_loss: 0.9711 - val_accuracy: 0.6585\n",
      "Epoch 4/15\n",
      "391/391 [==============================] - 73s 187ms/step - loss: 1.0589 - accuracy: 0.6259 - val_loss: 0.9606 - val_accuracy: 0.6617\n",
      "Epoch 5/15\n",
      "391/391 [==============================] - 73s 187ms/step - loss: 1.0167 - accuracy: 0.6432 - val_loss: 0.9147 - val_accuracy: 0.6836\n",
      "Epoch 6/15\n",
      "391/391 [==============================] - 73s 186ms/step - loss: 0.9693 - accuracy: 0.6562 - val_loss: 0.8906 - val_accuracy: 0.6943\n",
      "Epoch 7/15\n",
      "391/391 [==============================] - 72s 183ms/step - loss: 0.9260 - accuracy: 0.6744 - val_loss: 0.8829 - val_accuracy: 0.6932\n",
      "Epoch 8/15\n",
      "391/391 [==============================] - 72s 183ms/step - loss: 0.8918 - accuracy: 0.6845 - val_loss: 0.9019 - val_accuracy: 0.6878\n",
      "Epoch 9/15\n",
      "391/391 [==============================] - 72s 185ms/step - loss: 0.8662 - accuracy: 0.6919 - val_loss: 0.8677 - val_accuracy: 0.6954\n",
      "Epoch 10/15\n",
      "391/391 [==============================] - 70s 179ms/step - loss: 0.8426 - accuracy: 0.7008 - val_loss: 0.8456 - val_accuracy: 0.7070\n",
      "Epoch 11/15\n",
      "391/391 [==============================] - 69s 176ms/step - loss: 0.8165 - accuracy: 0.7106 - val_loss: 0.8395 - val_accuracy: 0.7109\n",
      "Epoch 12/15\n",
      "391/391 [==============================] - 69s 176ms/step - loss: 0.7932 - accuracy: 0.7183 - val_loss: 0.8218 - val_accuracy: 0.7142\n",
      "Epoch 13/15\n",
      "391/391 [==============================] - 69s 176ms/step - loss: 0.7745 - accuracy: 0.7238 - val_loss: 0.8416 - val_accuracy: 0.7070\n",
      "Epoch 14/15\n",
      "391/391 [==============================] - 70s 178ms/step - loss: 0.7555 - accuracy: 0.7308 - val_loss: 0.8307 - val_accuracy: 0.7145\n",
      "Epoch 15/15\n",
      "391/391 [==============================] - 70s 178ms/step - loss: 0.7381 - accuracy: 0.7342 - val_loss: 0.8154 - val_accuracy: 0.7217\n"
     ]
    }
   ],
   "source": [
    "model.compile(loss='sparse_categorical_crossentropy',\n",
    "optimizer=tf.keras.optimizers.Adam(),\n",
    "metrics=['accuracy'])\n",
    "\n",
    "hist = model.fit(x_train, y_train, batch_size = 128, epochs = 15, validation_data = (x_test, y_test))"
   ]
  },
  {
   "cell_type": "markdown",
   "metadata": {},
   "source": [
    "#### [4] 모델 정확도 평가"
   ]
  },
  {
   "cell_type": "code",
   "execution_count": 25,
   "metadata": {},
   "outputs": [
    {
     "name": "stdout",
     "output_type": "stream",
     "text": [
      "313/313 [==============================] - 3s 11ms/step - loss: 0.8154 - accuracy: 0.7217\n"
     ]
    },
    {
     "data": {
      "text/plain": [
       "[0.815414547920227, 0.7217000126838684]"
      ]
     },
     "execution_count": 25,
     "metadata": {},
     "output_type": "execute_result"
    }
   ],
   "source": [
    "model.evaluate(x_test, y_test)"
   ]
  },
  {
   "cell_type": "markdown",
   "metadata": {},
   "source": [
    "#### [99] 성능 향상 (오버피팅↑, 정확도↓)\n",
    "**더 많은 레이어 쌓기**  \n",
    "**이미지 데이터 보강**  \n",
    "**높은 해상도 학습 데이터 확보**  \n",
    "**가중치 규제, Dropout, 정규화**"
   ]
  }
 ],
 "metadata": {
  "kernelspec": {
   "display_name": "Python 3.9.12 ('base')",
   "language": "python",
   "name": "python3"
  },
  "language_info": {
   "codemirror_mode": {
    "name": "ipython",
    "version": 3
   },
   "file_extension": ".py",
   "mimetype": "text/x-python",
   "name": "python",
   "nbconvert_exporter": "python",
   "pygments_lexer": "ipython3",
   "version": "3.9.12"
  },
  "orig_nbformat": 4,
  "vscode": {
   "interpreter": {
    "hash": "399b942a90945adf822711c817a2148b24a3a269b52160aecaa333816877df5e"
   }
  }
 },
 "nbformat": 4,
 "nbformat_minor": 2
}
