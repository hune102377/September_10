{
 "cells": [
  {
   "cell_type": "markdown",
   "metadata": {},
   "source": [
    "## 한국어 키워드 추출"
   ]
  },
  {
   "cell_type": "code",
   "execution_count": 1,
   "metadata": {},
   "outputs": [],
   "source": [
    "#!pip install sentence_transformers\n",
    "# !pip install konlpy"
   ]
  },
  {
   "cell_type": "markdown",
   "metadata": {},
   "source": [
    "모듈 불러오기"
   ]
  },
  {
   "cell_type": "code",
   "execution_count": 2,
   "metadata": {},
   "outputs": [],
   "source": [
    "import numpy as np\n",
    "import itertools\n",
    "\n",
    "from konlpy.tag import Okt\n",
    "from sklearn.feature_extraction.text import CountVectorizer\n",
    "from sklearn.metrics.pairwise import cosine_similarity\n",
    "from sentence_transformers import SentenceTransformer"
   ]
  },
  {
   "cell_type": "markdown",
   "metadata": {},
   "source": [
    "예시"
   ]
  },
  {
   "cell_type": "code",
   "execution_count": 3,
   "metadata": {},
   "outputs": [],
   "source": [
    "doc = \"\"\"\n",
    "청탁 대가 명목으로 사업가로부터 거액을 수수한 혐의를 받는 이정근 전 더불어민주당 사무부총장이 30일 오전 서울 서초동 중앙지법에서 열린 구속 전 피의자심문(영장실질심사)에 출석하고 있다. 연합뉴스이정근 전 더불어민주당 사무부총장이 30일 늦은 저녁 구속됐다.▶김상우 서울중앙지법 영장 전담 부장판사는 여러 청탁을 들어주는 대가로 사업가로부터 10억원대 금품을 수수한 혐의를 받는 이정근 전 사무부총장에 대해 이날 오전 구속 전 피의자 심문(영장실질심사)을 진행한 후 증거인멸 및 도망 우려를 이유로 구속영장 발부 결정을 내렸다.이정근 전 사무부총장은 지난 2019년 12월부터 올해 1월까지 100억원대 정부 에너지 기금 배정, 마스크 사업 관련 인허가 및 공공기관 납품, 한국남부발전 임직원 승진 등에 대한 알선 등 명목으로 사업가 박모씨로부터 수십 차례에 걸쳐 총 9억5천만원을 수수한 혐의(특가법상 알선수재·변호사법 위반)를 받는다.또 21대 총선이 있었던 2020년 2∼4월에도 박씨로부터 선거 비용 명목으로 수 회에 걸쳐 3억3천만원의 불법 정치자금을 받은 혐의(정치자금법 위반)도 받고 있다.검찰은 알선 대가로 받은 돈과 불법 정치자금이 일부 겹친다고 보고 이정근 전 사무부총장의 총 수수 금액을 10억1천만원으로 판단했다.이에 대해 이정근 전 사무부총장은 박씨와의 자금 거래가 채권 및 채무 관계일 뿐이라면서 불법성이 없다고 반박하고 있다. 그는 이날 영장심사에 출석하면서 언론에 \"억울함을 잘 밝히겠다\"고 했다.▶이정근 전 사무부총장은 1962년 전북 군산 태생으로 올해 나이 61세이다.MBC PD수첩 취재리서처, 더불어민주당 싱크탱크인 민주연구원 이사, 더불어민주당 중앙당 부대변인 등을 지냈다. 19대 대선 당시 문재인 후보 선대위 본부장, 20대 대선 당시 이재명 후보 선대위 부본부장을 맡기도 했다.2016년 20대 총선 ,2020년 21대 총선, 2022년 3월 재보궐선거 등 3차례 서울 서초갑 국회의원 선거에 나서 모두 2위로 낙선했다. 그 사이인 2018년 7회 지방선거 서초구청장 선거에도 출마했으나 역시 2위로 떨어졌다.\n",
    "\"\"\""
   ]
  },
  {
   "cell_type": "markdown",
   "metadata": {},
   "source": [
    "형태소 분석기를 통한 명사 추출"
   ]
  },
  {
   "cell_type": "code",
   "execution_count": 4,
   "metadata": {},
   "outputs": [],
   "source": [
    "okt = Okt()"
   ]
  },
  {
   "cell_type": "markdown",
   "metadata": {},
   "source": [
    "##### 자바 오류 해결  \n",
    "https://stricky.tistory.com/398"
   ]
  },
  {
   "cell_type": "code",
   "execution_count": 5,
   "metadata": {},
   "outputs": [],
   "source": [
    "tokenized_doc = okt.pos(doc)\n",
    "tokenized_nouns = ' '.join([word[0] for word in tokenized_doc if word[1] == 'Noun'])"
   ]
  },
  {
   "cell_type": "code",
   "execution_count": 9,
   "metadata": {},
   "outputs": [],
   "source": [
    "n_gram_range = (2, 3)\n",
    "\n",
    "count = CountVectorizer(ngram_range=n_gram_range).fit([tokenized_nouns])\n",
    "candidates = count.get_feature_names_out()"
   ]
  },
  {
   "cell_type": "code",
   "execution_count": 12,
   "metadata": {},
   "outputs": [],
   "source": [
    "model = SentenceTransformer('sentence-transformers/xlm-r-100langs-bert-base-nli-stsb-mean-tokens')\n",
    "doc_embedding = model.encode([doc])\n",
    "candidate_embeddings = model.encode(candidates)"
   ]
  },
  {
   "cell_type": "code",
   "execution_count": null,
   "metadata": {},
   "outputs": [],
   "source": [
    "top_n = 3\n",
    "distances = cosine_similarity(doc_embedding, candidate_embeddings)\n",
    "keywords = [candidates[index] for index in distances.argsort()[0][-top_n:]]\n",
    "print(keywords)"
   ]
  },
  {
   "cell_type": "markdown",
   "metadata": {},
   "source": [
    "Max Sum Similarity"
   ]
  },
  {
   "cell_type": "markdown",
   "metadata": {},
   "source": [
    "Maximal Marginal Relevance"
   ]
  }
 ],
 "metadata": {
  "kernelspec": {
   "display_name": "Python 3.9.12 ('base')",
   "language": "python",
   "name": "python3"
  },
  "language_info": {
   "codemirror_mode": {
    "name": "ipython",
    "version": 3
   },
   "file_extension": ".py",
   "mimetype": "text/x-python",
   "name": "python",
   "nbconvert_exporter": "python",
   "pygments_lexer": "ipython3",
   "version": "3.9.12"
  },
  "orig_nbformat": 4,
  "vscode": {
   "interpreter": {
    "hash": "263930470851f494f0ed2879c35b57985588df20f9e529b86e97dd5eb9ddc466"
   }
  }
 },
 "nbformat": 4,
 "nbformat_minor": 2
}
