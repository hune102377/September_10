{
 "cells": [
  {
   "cell_type": "code",
   "execution_count": null,
   "metadata": {},
   "outputs": [],
   "source": [
    "import os\n",
    "from keras.preprocessing.image import ImageDataGenerator\n",
    "from keras.models import Sequential\n",
    "from keras.layers import Dense, Flatten, Conv2D, MaxPool2D, BatchNormalization, Activation, Dropout, Input\n",
    "from keras.utils import plot_model\n",
    "from keras.callbacks import EarlyStopping\n",
    "import matplotlib.pyplot as plt\n",
    "from sklearn.model_selection import train_test_split\n",
    "from keras.callbacks import ReduceLROnPlateau"
   ]
  },
  {
   "cell_type": "code",
   "execution_count": null,
   "metadata": {},
   "outputs": [],
   "source": [
    "import seaborn as sns\n",
    "import tensorflow as tf\n",
    "import numpy as np"
   ]
  },
  {
   "cell_type": "code",
   "execution_count": null,
   "metadata": {},
   "outputs": [],
   "source": [
    "input_length_h, input_length_w = 64, 64"
   ]
  },
  {
   "cell_type": "code",
   "execution_count": null,
   "metadata": {},
   "outputs": [],
   "source": [
    "data_generator = ImageDataGenerator(rescale = 1./255)\n",
    "\n",
    "train_generator = data_generator.flow_from_directory(\n",
    "    './data/',\n",
    "    target_size = (input_length_h, input_length_w),\n",
    "    batch_size = 551,\n",
    "    class_mode='categorical'\n",
    ")"
   ]
  },
  {
   "cell_type": "code",
   "execution_count": null,
   "metadata": {},
   "outputs": [],
   "source": [
    "X_data, y_data = train_generator.next()"
   ]
  },
  {
   "cell_type": "code",
   "execution_count": null,
   "metadata": {},
   "outputs": [],
   "source": [
    "X_train, X_test, y_train, y_test = train_test_split(\n",
    "    X_data, y_data, test_size = 0.1, stratify = y_data\n",
    ")"
   ]
  },
  {
   "cell_type": "code",
   "execution_count": null,
   "metadata": {},
   "outputs": [],
   "source": [
    "model = Sequential()\n",
    "\n",
    "# 1층\n",
    "model.add(Conv2D(filters=64, kernel_size=(3,3), padding=\"same\", input_shape = (input_length_h, input_length_w, 3), activation=\"relu\", name = 'conv1'))\n",
    "model.add(Conv2D(filters=64, kernel_size=(3,3), padding=\"same\", activation=\"relu\", name = 'conv2'))\n",
    "model.add(MaxPool2D((2, 2), name = 'pool1'))\n",
    "\n",
    "# 출력층\n",
    "model.add(Flatten())\n",
    "model.add(Dense(4096, activation=\"relu\", name = 'dense1'))\n",
    "model.add(Dropout(0.6))\n",
    "model.add(Dense(2048, activation=\"relu\", name = 'dense2'))\n",
    "model.add(Dropout(0.6))\n",
    "model.add(Dense(6, activation=\"softmax\", name = 'output'))\n",
    "\n",
    "# compile\n",
    "model.compile(loss = 'categorical_crossentropy', optimizer='adam', metrics = ['accuracy'])"
   ]
  },
  {
   "cell_type": "code",
   "execution_count": null,
   "metadata": {},
   "outputs": [],
   "source": [
    "history = model.fit(\n",
    "    X_train, y_train,\n",
    "    epochs=15,\n",
    "    validation_data=(X_test, y_test),\n",
    "    )"
   ]
  },
  {
   "cell_type": "code",
   "execution_count": null,
   "metadata": {},
   "outputs": [],
   "source": [
    "y_pred = np.argmax(model.predict(X_test), axis=-1)\n",
    "y = np.argmax(y_test, axis = 1)\n",
    "\n",
    "plt.figure(figsize =(10, 8))\n",
    "class_names = ['Bishop', 'King', 'Knight', 'Pawn', ' Queen', 'Rook']\n",
    "conf = tf.math.confusion_matrix(labels=y, predictions=y_pred)\n",
    "sns.heatmap(conf, annot=True, cmap='Blues', yticklabels=class_names, xticklabels=class_names)\n",
    "plt.show()"
   ]
  }
 ],
 "metadata": {
  "kernelspec": {
   "display_name": "Python 3.9.12 ('base')",
   "language": "python",
   "name": "python3"
  },
  "language_info": {
   "name": "python",
   "version": "3.9.12"
  },
  "orig_nbformat": 4,
  "vscode": {
   "interpreter": {
    "hash": "399b942a90945adf822711c817a2148b24a3a269b52160aecaa333816877df5e"
   }
  }
 },
 "nbformat": 4,
 "nbformat_minor": 2
}
