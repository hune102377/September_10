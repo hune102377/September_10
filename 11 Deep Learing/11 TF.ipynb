{
 "cells": [
  {
   "cell_type": "markdown",
   "metadata": {},
   "source": [
    "## 체스 말 구분하기"
   ]
  },
  {
   "cell_type": "markdown",
   "metadata": {},
   "source": [
    "### [1] 데이터 불러오기"
   ]
  },
  {
   "cell_type": "code",
   "execution_count": 30,
   "metadata": {},
   "outputs": [],
   "source": [
    "# 모듈 불러오기\n",
    "import numpy as np\n",
    "import pandas as pd\n",
    "import os\n",
    "\n",
    "import seaborn as sns\n",
    "import matplotlib.pyplot as plt\n",
    "\n",
    "from keras.models import Sequential\n",
    "from keras.layers import Dense, Flatten, Conv2D, MaxPool2D, Dropout, Activation, BatchNormalization\n",
    "from keras.preprocessing.image import ImageDataGenerator\n",
    "from keras.preprocessing import image\n",
    "from keras.utils import plot_model\n",
    "from keras.callbacks import ReduceLROnPlateau"
   ]
  },
  {
   "cell_type": "code",
   "execution_count": 31,
   "metadata": {},
   "outputs": [],
   "source": [
    "# 각각의 데이터가 들어간 경로 설정\n",
    "dirname = './data/'\n",
    "dir_chess_folder = os.listdir(dirname)\n",
    "dir_chess_paths = [os.path.join(dirname, path) for path in dir_chess_folder]"
   ]
  },
  {
   "cell_type": "code",
   "execution_count": 32,
   "metadata": {},
   "outputs": [
    {
     "data": {
      "text/plain": [
       "'./data/'"
      ]
     },
     "execution_count": 32,
     "metadata": {},
     "output_type": "execute_result"
    }
   ],
   "source": [
    "dirname"
   ]
  },
  {
   "cell_type": "code",
   "execution_count": 33,
   "metadata": {},
   "outputs": [],
   "source": [
    "# # 각각의 디렉토리 형성\n",
    "# os.mkdir('./data/chess')\n",
    "\n",
    "# for path in dir_chess_folder :\n",
    "#     dir_path = './data/chess/' + path\n",
    "#     os.mkdir(dir_path)"
   ]
  },
  {
   "cell_type": "code",
   "execution_count": 34,
   "metadata": {},
   "outputs": [],
   "source": [
    "# dirname_work = './data/'\n",
    "# dir_work_chess = os.path.join(dirname_work, 'chess')\n",
    "\n",
    "# dir_work_chess02 = dir_work_chess +'/'\n",
    "\n",
    "# pawn_path_work = os.path.join(dir_work_chess02, 'pawn')\n",
    "# rook_path_work = os.path.join(dir_work_chess02, 'rook')\n",
    "# bishop_path_work = os.path.join(dir_work_chess02, 'bishop')\n",
    "# knight_path_work = os.path.join(dir_work_chess02, 'knight')\n",
    "# queen_path_work = os.path.join(dir_work_chess02, 'queen')\n",
    "# king_path_work = os.path.join(dir_work_chess02, 'king')"
   ]
  },
  {
   "cell_type": "code",
   "execution_count": 35,
   "metadata": {},
   "outputs": [],
   "source": [
    "# dir_chess_folders_work = os.listdir(dir_work_chess)\n",
    "# dir_chess_paths_work = [os.path.join(dir_work_chess, path) for path in dir_chess_folders_work]"
   ]
  },
  {
   "cell_type": "markdown",
   "metadata": {},
   "source": [
    "#### [2] EDA"
   ]
  },
  {
   "cell_type": "code",
   "execution_count": 36,
   "metadata": {},
   "outputs": [],
   "source": [
    "# 각각의 이미지가 얼마나 있나 확인\n",
    "chess_dic = {}\n",
    "for path in dir_chess_paths :\n",
    "    head, tail = os.path.split(path)\n",
    "    chess_dic[tail] = len(os.listdir(path))"
   ]
  },
  {
   "cell_type": "code",
   "execution_count": 37,
   "metadata": {},
   "outputs": [
    {
     "data": {
      "image/png": "[encoded data removed]",
      "text/plain": [
       "<Figure size 504x432 with 1 Axes>"
      ]
     },
     "metadata": {
      "needs_background": "light"
     },
     "output_type": "display_data"
    }
   ],
   "source": [
    "plt.figure(figsize=(7,6))\n",
    "plt.barh(range(len(chess_dic)), list(chess_dic.values()), color = 'tomato')\n",
    "plt.yticks(range(len(chess_dic)), list(chess_dic.keys()))\n",
    "plt.show()"
   ]
  },
  {
   "cell_type": "markdown",
   "metadata": {},
   "source": [
    "***우선은 이 비율 그대로 하고 나중에는 비율을 맞춰서 해보자**"
   ]
  },
  {
   "cell_type": "code",
   "execution_count": 38,
   "metadata": {},
   "outputs": [],
   "source": [
    "# 이미지 확인\n",
    "def plot_imgs(item_dir, title= \" \", num_imgs = 4, cmap = 'viridis') :\n",
    "    all_item_dirs = os.listdir(item_dir)\n",
    "    item_files = [os.path.join(item_dir, file) for file in all_item_dirs][:num_imgs]\n",
    "    plt.figure(figsize=(15,15))\n",
    "    for idx, img_path in enumerate(item_files) :\n",
    "        plt.subplot(8, 8, idx+1)\n",
    "        img = plt.imread(img_path, 0)\n",
    "        plt.title(title)\n",
    "        plt.imshow(img, cmap = cmap)\n",
    "\n",
    "        plt.tight_layout()"
   ]
  },
  {
   "cell_type": "code",
   "execution_count": 39,
   "metadata": {},
   "outputs": [],
   "source": [
    "# for path in dir_chess_paths:\n",
    "#     head, tail = os.path.split(path)\n",
    "#     plot_imgs(path, tail, 8)"
   ]
  },
  {
   "cell_type": "markdown",
   "metadata": {},
   "source": [
    "***이미지의 대부분이 컬러고 사이즈가 제각각임**  \n",
    "***우선은 이미지 크기만 맞춰서 하고 나중에 흑백으로 바꿔서 해보자**"
   ]
  },
  {
   "cell_type": "code",
   "execution_count": 40,
   "metadata": {},
   "outputs": [],
   "source": [
    "# 크기는 64, 64으로 고정\n",
    "img_size_h, img_size_w = 64, 64\n",
    "input_shape = (img_size_h, img_size_w, 3)"
   ]
  },
  {
   "cell_type": "code",
   "execution_count": 41,
   "metadata": {},
   "outputs": [],
   "source": [
    "## CNN 모델의 성능을 높이면서 오버피팅을 극복할 수 있게 학습 데이터를 늘려주는\n",
    "# ImageDataGenerateor\n",
    "\n",
    "train_datagen = ImageDataGenerator(rescale=1./255,\n",
    "validation_split=0.3,\n",
    "rotation_range = 90,\n",
    "width_shift_range = 0.6,\n",
    "shear_range = 3,\n",
    "zoom_range = 50,\n",
    "horizontal_flip = True,\n",
    "vertical_flip = True)"
   ]
  },
  {
   "cell_type": "code",
   "execution_count": 42,
   "metadata": {},
   "outputs": [
    {
     "name": "stdout",
     "output_type": "stream",
     "text": [
      "Found 389 images belonging to 6 classes.\n",
      "Found 162 images belonging to 6 classes.\n"
     ]
    }
   ],
   "source": [
    "batch_size = 16\n",
    "train_generator = train_datagen.flow_from_directory(\n",
    "    dirname,\n",
    "    target_size=(img_size_h, img_size_w),\n",
    "    color_mode = 'rgb',\n",
    "    batch_size=batch_size,\n",
    "    class_mode='categorical',\n",
    "    subset='training',\n",
    "    shuffle=True\n",
    ")\n",
    "\n",
    "validation_generator = train_datagen.flow_from_directory(\n",
    "    dirname,\n",
    "    target_size=(img_size_h, img_size_w),\n",
    "    color_mode = 'rgb',\n",
    "    batch_size=batch_size,\n",
    "    class_mode='categorical',\n",
    "    subset='validation',\n",
    "    shuffle=True\n",
    ")"
   ]
  },
  {
   "cell_type": "markdown",
   "metadata": {},
   "source": [
    "#### [3] 모델 생성"
   ]
  },
  {
   "cell_type": "code",
   "execution_count": 50,
   "metadata": {},
   "outputs": [],
   "source": [
    "# 모델 생성\n",
    "model = Sequential([Conv2D(16, (5,5), input_shape = input_shape, padding='same', activation ='relu'),\n",
    "MaxPool2D((2,2)),\n",
    "Flatten(),\n",
    "Dense(128, activation='relu'),\n",
    "Dense(6, activation='softmax')]\n",
    ")"
   ]
  },
  {
   "cell_type": "code",
   "execution_count": 51,
   "metadata": {},
   "outputs": [],
   "source": [
    "# 모델 컴파일\n",
    "model.compile(loss='categorical_crossentropy', optimizer='adam', metrics=['accuracy'])"
   ]
  },
  {
   "cell_type": "code",
   "execution_count": 52,
   "metadata": {},
   "outputs": [
    {
     "data": {
      "image/png": "[encoded data removed]",
      "text/plain": [
       "<IPython.core.display.Image object>"
      ]
     },
     "execution_count": 52,
     "metadata": {},
     "output_type": "execute_result"
    }
   ],
   "source": [
    "# 모델 확인\n",
    "plot_model(model, show_shapes = True)"
   ]
  },
  {
   "cell_type": "markdown",
   "metadata": {},
   "source": [
    "#### [4] 모델 학습"
   ]
  },
  {
   "cell_type": "code",
   "execution_count": 53,
   "metadata": {},
   "outputs": [],
   "source": [
    "learning_rate_reduction = ReduceLROnPlateau(monitor = 'val_accuracy',\n",
    "patience=2,\n",
    "verbose=1,\n",
    "factor=0.5,\n",
    "min_lr = 0.005)\n",
    "    \n",
    "callback = [learning_rate_reduction]"
   ]
  },
  {
   "cell_type": "code",
   "execution_count": 54,
   "metadata": {},
   "outputs": [
    {
     "name": "stderr",
     "output_type": "stream",
     "text": [
      "C:\\Users\\LJH\\AppData\\Local\\Temp\\ipykernel_2060\\1568147520.py:1: UserWarning: `Model.fit_generator` is deprecated and will be removed in a future version. Please use `Model.fit`, which supports generators.\n",
      "  history = model.fit_generator(\n"
     ]
    },
    {
     "name": "stdout",
     "output_type": "stream",
     "text": [
      "Epoch 1/500\n",
      "25/25 [==============================] - 8s 319ms/step - loss: 2.0468 - accuracy: 0.1928 - val_loss: 1.7939 - val_accuracy: 0.1914 - lr: 0.0010\n",
      "Epoch 2/500\n",
      "25/25 [==============================] - 7s 294ms/step - loss: 1.7901 - accuracy: 0.1902 - val_loss: 1.7929 - val_accuracy: 0.1914 - lr: 0.0010\n",
      "Epoch 3/500\n",
      "25/25 [==============================] - 8s 306ms/step - loss: 1.7843 - accuracy: 0.1799 - val_loss: 1.7781 - val_accuracy: 0.1914 - lr: 0.0010\n",
      "Epoch 4/500\n",
      "25/25 [==============================] - 8s 312ms/step - loss: 1.7788 - accuracy: 0.2134 - val_loss: 1.7898 - val_accuracy: 0.1790 - lr: 0.0010\n",
      "Epoch 5/500\n",
      "25/25 [==============================] - 8s 315ms/step - loss: 1.7834 - accuracy: 0.1851 - val_loss: 1.7914 - val_accuracy: 0.1790 - lr: 0.0010\n",
      "Epoch 6/500\n",
      "25/25 [==============================] - 8s 314ms/step - loss: 1.7737 - accuracy: 0.2159 - val_loss: 1.7934 - val_accuracy: 0.1790 - lr: 0.0010\n",
      "Epoch 7/500\n",
      "25/25 [==============================] - 8s 319ms/step - loss: 1.7734 - accuracy: 0.2031 - val_loss: 1.7894 - val_accuracy: 0.1543 - lr: 0.0010\n",
      "Epoch 8/500\n",
      "25/25 [==============================] - 8s 320ms/step - loss: 1.7826 - accuracy: 0.2159 - val_loss: 1.7820 - val_accuracy: 0.2469 - lr: 0.0010\n",
      "Epoch 9/500\n",
      "25/25 [==============================] - 8s 316ms/step - loss: 1.7686 - accuracy: 0.1722 - val_loss: 1.7795 - val_accuracy: 0.1852 - lr: 0.0010\n",
      "Epoch 10/500\n",
      "25/25 [==============================] - 8s 308ms/step - loss: 1.7680 - accuracy: 0.2288 - val_loss: 1.7978 - val_accuracy: 0.1667 - lr: 0.0010\n",
      "Epoch 11/500\n",
      "25/25 [==============================] - 8s 314ms/step - loss: 1.7691 - accuracy: 0.1851 - val_loss: 1.7923 - val_accuracy: 0.1852 - lr: 0.0010\n",
      "Epoch 12/500\n",
      "25/25 [==============================] - 8s 316ms/step - loss: 1.7667 - accuracy: 0.2005 - val_loss: 1.7993 - val_accuracy: 0.1728 - lr: 0.0010\n",
      "Epoch 13/500\n",
      "25/25 [==============================] - 8s 317ms/step - loss: 1.7662 - accuracy: 0.2134 - val_loss: 1.7996 - val_accuracy: 0.1914 - lr: 0.0010\n",
      "Epoch 14/500\n",
      "25/25 [==============================] - 8s 313ms/step - loss: 1.7636 - accuracy: 0.2391 - val_loss: 1.8458 - val_accuracy: 0.1543 - lr: 0.0010\n",
      "Epoch 15/500\n",
      "25/25 [==============================] - 8s 329ms/step - loss: 1.7625 - accuracy: 0.2185 - val_loss: 1.8129 - val_accuracy: 0.1852 - lr: 0.0010\n",
      "Epoch 16/500\n",
      "25/25 [==============================] - 9s 380ms/step - loss: 1.7636 - accuracy: 0.2314 - val_loss: 1.8390 - val_accuracy: 0.1975 - lr: 0.0010\n",
      "Epoch 17/500\n",
      "25/25 [==============================] - 8s 337ms/step - loss: 1.7563 - accuracy: 0.2288 - val_loss: 1.8249 - val_accuracy: 0.2037 - lr: 0.0010\n",
      "Epoch 18/500\n",
      "25/25 [==============================] - 7s 303ms/step - loss: 1.7579 - accuracy: 0.2365 - val_loss: 1.8335 - val_accuracy: 0.1975 - lr: 0.0010\n",
      "Epoch 19/500\n",
      "25/25 [==============================] - 8s 305ms/step - loss: 1.7582 - accuracy: 0.2185 - val_loss: 1.8387 - val_accuracy: 0.1790 - lr: 0.0010\n",
      "Epoch 20/500\n",
      "25/25 [==============================] - 8s 307ms/step - loss: 1.7595 - accuracy: 0.2159 - val_loss: 1.8081 - val_accuracy: 0.1914 - lr: 0.0010\n",
      "Epoch 21/500\n",
      "25/25 [==============================] - 7s 290ms/step - loss: 1.7581 - accuracy: 0.1825 - val_loss: 1.8065 - val_accuracy: 0.2037 - lr: 0.0010\n",
      "Epoch 22/500\n",
      "25/25 [==============================] - 8s 308ms/step - loss: 1.7513 - accuracy: 0.2288 - val_loss: 1.8016 - val_accuracy: 0.1790 - lr: 0.0010\n",
      "Epoch 23/500\n",
      "25/25 [==============================] - 8s 311ms/step - loss: 1.7688 - accuracy: 0.2159 - val_loss: 1.8420 - val_accuracy: 0.1667 - lr: 0.0010\n",
      "Epoch 24/500\n",
      "25/25 [==============================] - 8s 314ms/step - loss: 1.7522 - accuracy: 0.2339 - val_loss: 1.8373 - val_accuracy: 0.1605 - lr: 0.0010\n",
      "Epoch 25/500\n",
      "25/25 [==============================] - 8s 306ms/step - loss: 1.7479 - accuracy: 0.2159 - val_loss: 1.8090 - val_accuracy: 0.1914 - lr: 0.0010\n",
      "Epoch 26/500\n",
      "25/25 [==============================] - 8s 312ms/step - loss: 1.7575 - accuracy: 0.2108 - val_loss: 1.8407 - val_accuracy: 0.2099 - lr: 0.0010\n",
      "Epoch 27/500\n",
      "25/25 [==============================] - 8s 313ms/step - loss: 1.7390 - accuracy: 0.2339 - val_loss: 1.8462 - val_accuracy: 0.2099 - lr: 0.0010\n",
      "Epoch 28/500\n",
      "25/25 [==============================] - 8s 330ms/step - loss: 1.7488 - accuracy: 0.2442 - val_loss: 1.8626 - val_accuracy: 0.1914 - lr: 0.0010\n",
      "Epoch 29/500\n",
      "25/25 [==============================] - 9s 359ms/step - loss: 1.7408 - accuracy: 0.2288 - val_loss: 1.8727 - val_accuracy: 0.2099 - lr: 0.0010\n",
      "Epoch 30/500\n",
      "25/25 [==============================] - 8s 313ms/step - loss: 1.7457 - accuracy: 0.2596 - val_loss: 1.8587 - val_accuracy: 0.1605 - lr: 0.0010\n",
      "Epoch 31/500\n",
      "25/25 [==============================] - 9s 347ms/step - loss: 1.7536 - accuracy: 0.2288 - val_loss: 1.8210 - val_accuracy: 0.1975 - lr: 0.0010\n",
      "Epoch 32/500\n",
      "25/25 [==============================] - 8s 319ms/step - loss: 1.7495 - accuracy: 0.2494 - val_loss: 1.8618 - val_accuracy: 0.1914 - lr: 0.0010\n",
      "Epoch 33/500\n",
      "25/25 [==============================] - 9s 355ms/step - loss: 1.7531 - accuracy: 0.2211 - val_loss: 1.8262 - val_accuracy: 0.1667 - lr: 0.0010\n",
      "Epoch 34/500\n",
      "25/25 [==============================] - 9s 371ms/step - loss: 1.7452 - accuracy: 0.2185 - val_loss: 1.8486 - val_accuracy: 0.2222 - lr: 0.0010\n",
      "Epoch 35/500\n",
      "25/25 [==============================] - 7s 295ms/step - loss: 1.7390 - accuracy: 0.2391 - val_loss: 1.8735 - val_accuracy: 0.1975 - lr: 0.0010\n",
      "Epoch 36/500\n",
      "25/25 [==============================] - 8s 319ms/step - loss: 1.7342 - accuracy: 0.2571 - val_loss: 1.8894 - val_accuracy: 0.1790 - lr: 0.0010\n",
      "Epoch 37/500\n",
      "25/25 [==============================] - 8s 306ms/step - loss: 1.7294 - accuracy: 0.2391 - val_loss: 1.8901 - val_accuracy: 0.1605 - lr: 0.0010\n",
      "Epoch 38/500\n",
      "25/25 [==============================] - 8s 310ms/step - loss: 1.7322 - accuracy: 0.2416 - val_loss: 1.8674 - val_accuracy: 0.2037 - lr: 0.0010\n",
      "Epoch 39/500\n",
      "25/25 [==============================] - 8s 309ms/step - loss: 1.7440 - accuracy: 0.2314 - val_loss: 1.8967 - val_accuracy: 0.1975 - lr: 0.0010\n",
      "Epoch 40/500\n",
      "25/25 [==============================] - 8s 311ms/step - loss: 1.7380 - accuracy: 0.1851 - val_loss: 1.8436 - val_accuracy: 0.1852 - lr: 0.0010\n",
      "Epoch 41/500\n",
      "25/25 [==============================] - 8s 327ms/step - loss: 1.7496 - accuracy: 0.2262 - val_loss: 1.8559 - val_accuracy: 0.2346 - lr: 0.0010\n",
      "Epoch 42/500\n",
      "25/25 [==============================] - 9s 361ms/step - loss: 1.7196 - accuracy: 0.2416 - val_loss: 1.8870 - val_accuracy: 0.1852 - lr: 0.0010\n",
      "Epoch 43/500\n",
      "25/25 [==============================] - 10s 383ms/step - loss: 1.7351 - accuracy: 0.2416 - val_loss: 1.8647 - val_accuracy: 0.2037 - lr: 0.0010\n",
      "Epoch 44/500\n",
      "25/25 [==============================] - 9s 379ms/step - loss: 1.7146 - accuracy: 0.2416 - val_loss: 1.8569 - val_accuracy: 0.1914 - lr: 0.0010\n",
      "Epoch 45/500\n",
      "25/25 [==============================] - 9s 361ms/step - loss: 1.7494 - accuracy: 0.2416 - val_loss: 1.8708 - val_accuracy: 0.1667 - lr: 0.0010\n",
      "Epoch 46/500\n",
      "25/25 [==============================] - 9s 377ms/step - loss: 1.7448 - accuracy: 0.2416 - val_loss: 1.8639 - val_accuracy: 0.1667 - lr: 0.0010\n",
      "Epoch 47/500\n",
      "25/25 [==============================] - 9s 364ms/step - loss: 1.7367 - accuracy: 0.2211 - val_loss: 1.9133 - val_accuracy: 0.2099 - lr: 0.0010\n",
      "Epoch 48/500\n",
      "25/25 [==============================] - 9s 373ms/step - loss: 1.7250 - accuracy: 0.2391 - val_loss: 1.8780 - val_accuracy: 0.1852 - lr: 0.0010\n",
      "Epoch 49/500\n",
      "25/25 [==============================] - 9s 348ms/step - loss: 1.7252 - accuracy: 0.2262 - val_loss: 1.8689 - val_accuracy: 0.1914 - lr: 0.0010\n",
      "Epoch 50/500\n",
      "25/25 [==============================] - 9s 352ms/step - loss: 1.7138 - accuracy: 0.2391 - val_loss: 1.9243 - val_accuracy: 0.2160 - lr: 0.0010\n",
      "Epoch 51/500\n",
      "25/25 [==============================] - 9s 360ms/step - loss: 1.7271 - accuracy: 0.2237 - val_loss: 1.9133 - val_accuracy: 0.1790 - lr: 0.0010\n",
      "Epoch 52/500\n",
      "25/25 [==============================] - 9s 366ms/step - loss: 1.7259 - accuracy: 0.2468 - val_loss: 1.8960 - val_accuracy: 0.1852 - lr: 0.0010\n",
      "Epoch 53/500\n",
      "25/25 [==============================] - 9s 361ms/step - loss: 1.7358 - accuracy: 0.2314 - val_loss: 1.9031 - val_accuracy: 0.1790 - lr: 0.0010\n",
      "Epoch 54/500\n",
      "25/25 [==============================] - 10s 386ms/step - loss: 1.7559 - accuracy: 0.2237 - val_loss: 1.8588 - val_accuracy: 0.2037 - lr: 0.0010\n",
      "Epoch 55/500\n",
      "25/25 [==============================] - 11s 416ms/step - loss: 1.7291 - accuracy: 0.2339 - val_loss: 1.8590 - val_accuracy: 0.2099 - lr: 0.0010\n",
      "Epoch 56/500\n",
      "25/25 [==============================] - 9s 362ms/step - loss: 1.7271 - accuracy: 0.2391 - val_loss: 1.8566 - val_accuracy: 0.2284 - lr: 0.0010\n",
      "Epoch 57/500\n",
      "25/25 [==============================] - 9s 366ms/step - loss: 1.7166 - accuracy: 0.2468 - val_loss: 1.9088 - val_accuracy: 0.1914 - lr: 0.0010\n",
      "Epoch 58/500\n",
      "25/25 [==============================] - 9s 359ms/step - loss: 1.7325 - accuracy: 0.2339 - val_loss: 1.8891 - val_accuracy: 0.2346 - lr: 0.0010\n",
      "Epoch 59/500\n",
      "25/25 [==============================] - 9s 363ms/step - loss: 1.7301 - accuracy: 0.2262 - val_loss: 1.8618 - val_accuracy: 0.2222 - lr: 0.0010\n",
      "Epoch 60/500\n",
      "25/25 [==============================] - 9s 350ms/step - loss: 1.7177 - accuracy: 0.2314 - val_loss: 1.8816 - val_accuracy: 0.1852 - lr: 0.0010\n",
      "Epoch 61/500\n",
      "25/25 [==============================] - 9s 359ms/step - loss: 1.7413 - accuracy: 0.2391 - val_loss: 1.8397 - val_accuracy: 0.1728 - lr: 0.0010\n",
      "Epoch 62/500\n",
      "25/25 [==============================] - 9s 351ms/step - loss: 1.7329 - accuracy: 0.2416 - val_loss: 1.8870 - val_accuracy: 0.1975 - lr: 0.0010\n",
      "Epoch 63/500\n",
      "25/25 [==============================] - 9s 352ms/step - loss: 1.7396 - accuracy: 0.2674 - val_loss: 1.8749 - val_accuracy: 0.1790 - lr: 0.0010\n",
      "Epoch 64/500\n",
      "25/25 [==============================] - 9s 343ms/step - loss: 1.7294 - accuracy: 0.2391 - val_loss: 1.8853 - val_accuracy: 0.2160 - lr: 0.0010\n",
      "Epoch 65/500\n",
      "25/25 [==============================] - 9s 351ms/step - loss: 1.7023 - accuracy: 0.2622 - val_loss: 1.8782 - val_accuracy: 0.1852 - lr: 0.0010\n",
      "Epoch 66/500\n",
      "25/25 [==============================] - 8s 317ms/step - loss: 1.7143 - accuracy: 0.2339 - val_loss: 1.8698 - val_accuracy: 0.1852 - lr: 0.0010\n",
      "Epoch 67/500\n",
      "25/25 [==============================] - ETA: 0s - loss: 1.7123 - accuracy: 0.2391"
     ]
    },
    {
     "ename": "KeyboardInterrupt",
     "evalue": "",
     "output_type": "error",
     "traceback": [
      "\u001b[1;31m---------------------------------------------------------------------------\u001b[0m",
      "\u001b[1;31mKeyboardInterrupt\u001b[0m                         Traceback (most recent call last)",
      "\u001b[1;32mc:\\Users\\LJH\\Desktop\\File\\Study\\11 Deep Learing\\11 TF\\11 TF.ipynb 셀 25\u001b[0m in \u001b[0;36m<cell line: 1>\u001b[1;34m()\u001b[0m\n\u001b[1;32m----> <a href='vscode-notebook-cell:/c%3A/Users/LJH/Desktop/File/Study/11%20Deep%20Learing/11%20TF/11%20TF.ipynb#X34sZmlsZQ%3D%3D?line=0'>1</a>\u001b[0m history \u001b[39m=\u001b[39m model\u001b[39m.\u001b[39;49mfit_generator(\n\u001b[0;32m      <a href='vscode-notebook-cell:/c%3A/Users/LJH/Desktop/File/Study/11%20Deep%20Learing/11%20TF/11%20TF.ipynb#X34sZmlsZQ%3D%3D?line=1'>2</a>\u001b[0m     train_generator,\n\u001b[0;32m      <a href='vscode-notebook-cell:/c%3A/Users/LJH/Desktop/File/Study/11%20Deep%20Learing/11%20TF/11%20TF.ipynb#X34sZmlsZQ%3D%3D?line=2'>3</a>\u001b[0m     epochs\u001b[39m=\u001b[39;49m\u001b[39m500\u001b[39;49m,\n\u001b[0;32m      <a href='vscode-notebook-cell:/c%3A/Users/LJH/Desktop/File/Study/11%20Deep%20Learing/11%20TF/11%20TF.ipynb#X34sZmlsZQ%3D%3D?line=3'>4</a>\u001b[0m     validation_data\u001b[39m=\u001b[39;49mvalidation_generator,\n\u001b[0;32m      <a href='vscode-notebook-cell:/c%3A/Users/LJH/Desktop/File/Study/11%20Deep%20Learing/11%20TF/11%20TF.ipynb#X34sZmlsZQ%3D%3D?line=4'>5</a>\u001b[0m     callbacks \u001b[39m=\u001b[39;49m callback\n\u001b[0;32m      <a href='vscode-notebook-cell:/c%3A/Users/LJH/Desktop/File/Study/11%20Deep%20Learing/11%20TF/11%20TF.ipynb#X34sZmlsZQ%3D%3D?line=5'>6</a>\u001b[0m     )\n",
      "File \u001b[1;32mc:\\Users\\LJH\\Anaconda3\\lib\\site-packages\\keras\\engine\\training.py:2260\u001b[0m, in \u001b[0;36mModel.fit_generator\u001b[1;34m(self, generator, steps_per_epoch, epochs, verbose, callbacks, validation_data, validation_steps, validation_freq, class_weight, max_queue_size, workers, use_multiprocessing, shuffle, initial_epoch)\u001b[0m\n\u001b[0;32m   2249\u001b[0m \u001b[39m\"\"\"Fits the model on data yielded batch-by-batch by a Python generator.\u001b[39;00m\n\u001b[0;32m   2250\u001b[0m \n\u001b[0;32m   2251\u001b[0m \u001b[39mDEPRECATED:\u001b[39;00m\n\u001b[0;32m   2252\u001b[0m \u001b[39m  `Model.fit` now supports generators, so there is no longer any need to use\u001b[39;00m\n\u001b[0;32m   2253\u001b[0m \u001b[39m  this endpoint.\u001b[39;00m\n\u001b[0;32m   2254\u001b[0m \u001b[39m\"\"\"\u001b[39;00m\n\u001b[0;32m   2255\u001b[0m warnings\u001b[39m.\u001b[39mwarn(\n\u001b[0;32m   2256\u001b[0m     \u001b[39m'\u001b[39m\u001b[39m`Model.fit_generator` is deprecated and \u001b[39m\u001b[39m'\u001b[39m\n\u001b[0;32m   2257\u001b[0m     \u001b[39m'\u001b[39m\u001b[39mwill be removed in a future version. \u001b[39m\u001b[39m'\u001b[39m\n\u001b[0;32m   2258\u001b[0m     \u001b[39m'\u001b[39m\u001b[39mPlease use `Model.fit`, which supports generators.\u001b[39m\u001b[39m'\u001b[39m,\n\u001b[0;32m   2259\u001b[0m     stacklevel\u001b[39m=\u001b[39m\u001b[39m2\u001b[39m)\n\u001b[1;32m-> 2260\u001b[0m \u001b[39mreturn\u001b[39;00m \u001b[39mself\u001b[39;49m\u001b[39m.\u001b[39;49mfit(\n\u001b[0;32m   2261\u001b[0m     generator,\n\u001b[0;32m   2262\u001b[0m     steps_per_epoch\u001b[39m=\u001b[39;49msteps_per_epoch,\n\u001b[0;32m   2263\u001b[0m     epochs\u001b[39m=\u001b[39;49mepochs,\n\u001b[0;32m   2264\u001b[0m     verbose\u001b[39m=\u001b[39;49mverbose,\n\u001b[0;32m   2265\u001b[0m     callbacks\u001b[39m=\u001b[39;49mcallbacks,\n\u001b[0;32m   2266\u001b[0m     validation_data\u001b[39m=\u001b[39;49mvalidation_data,\n\u001b[0;32m   2267\u001b[0m     validation_steps\u001b[39m=\u001b[39;49mvalidation_steps,\n\u001b[0;32m   2268\u001b[0m     validation_freq\u001b[39m=\u001b[39;49mvalidation_freq,\n\u001b[0;32m   2269\u001b[0m     class_weight\u001b[39m=\u001b[39;49mclass_weight,\n\u001b[0;32m   2270\u001b[0m     max_queue_size\u001b[39m=\u001b[39;49mmax_queue_size,\n\u001b[0;32m   2271\u001b[0m     workers\u001b[39m=\u001b[39;49mworkers,\n\u001b[0;32m   2272\u001b[0m     use_multiprocessing\u001b[39m=\u001b[39;49muse_multiprocessing,\n\u001b[0;32m   2273\u001b[0m     shuffle\u001b[39m=\u001b[39;49mshuffle,\n\u001b[0;32m   2274\u001b[0m     initial_epoch\u001b[39m=\u001b[39;49minitial_epoch)\n",
      "File \u001b[1;32mc:\\Users\\LJH\\Anaconda3\\lib\\site-packages\\keras\\utils\\traceback_utils.py:64\u001b[0m, in \u001b[0;36mfilter_traceback.<locals>.error_handler\u001b[1;34m(*args, **kwargs)\u001b[0m\n\u001b[0;32m     62\u001b[0m filtered_tb \u001b[39m=\u001b[39m \u001b[39mNone\u001b[39;00m\n\u001b[0;32m     63\u001b[0m \u001b[39mtry\u001b[39;00m:\n\u001b[1;32m---> 64\u001b[0m   \u001b[39mreturn\u001b[39;00m fn(\u001b[39m*\u001b[39margs, \u001b[39m*\u001b[39m\u001b[39m*\u001b[39mkwargs)\n\u001b[0;32m     65\u001b[0m \u001b[39mexcept\u001b[39;00m \u001b[39mException\u001b[39;00m \u001b[39mas\u001b[39;00m e:  \u001b[39m# pylint: disable=broad-except\u001b[39;00m\n\u001b[0;32m     66\u001b[0m   filtered_tb \u001b[39m=\u001b[39m _process_traceback_frames(e\u001b[39m.\u001b[39m__traceback__)\n",
      "File \u001b[1;32mc:\\Users\\LJH\\Anaconda3\\lib\\site-packages\\keras\\engine\\training.py:1445\u001b[0m, in \u001b[0;36mModel.fit\u001b[1;34m(self, x, y, batch_size, epochs, verbose, callbacks, validation_split, validation_data, shuffle, class_weight, sample_weight, initial_epoch, steps_per_epoch, validation_steps, validation_batch_size, validation_freq, max_queue_size, workers, use_multiprocessing)\u001b[0m\n\u001b[0;32m   1431\u001b[0m \u001b[39mif\u001b[39;00m \u001b[39mgetattr\u001b[39m(\u001b[39mself\u001b[39m, \u001b[39m'\u001b[39m\u001b[39m_eval_data_handler\u001b[39m\u001b[39m'\u001b[39m, \u001b[39mNone\u001b[39;00m) \u001b[39mis\u001b[39;00m \u001b[39mNone\u001b[39;00m:\n\u001b[0;32m   1432\u001b[0m   \u001b[39mself\u001b[39m\u001b[39m.\u001b[39m_eval_data_handler \u001b[39m=\u001b[39m data_adapter\u001b[39m.\u001b[39mget_data_handler(\n\u001b[0;32m   1433\u001b[0m       x\u001b[39m=\u001b[39mval_x,\n\u001b[0;32m   1434\u001b[0m       y\u001b[39m=\u001b[39mval_y,\n\u001b[1;32m   (...)\u001b[0m\n\u001b[0;32m   1443\u001b[0m       model\u001b[39m=\u001b[39m\u001b[39mself\u001b[39m,\n\u001b[0;32m   1444\u001b[0m       steps_per_execution\u001b[39m=\u001b[39m\u001b[39mself\u001b[39m\u001b[39m.\u001b[39m_steps_per_execution)\n\u001b[1;32m-> 1445\u001b[0m val_logs \u001b[39m=\u001b[39m \u001b[39mself\u001b[39;49m\u001b[39m.\u001b[39;49mevaluate(\n\u001b[0;32m   1446\u001b[0m     x\u001b[39m=\u001b[39;49mval_x,\n\u001b[0;32m   1447\u001b[0m     y\u001b[39m=\u001b[39;49mval_y,\n\u001b[0;32m   1448\u001b[0m     sample_weight\u001b[39m=\u001b[39;49mval_sample_weight,\n\u001b[0;32m   1449\u001b[0m     batch_size\u001b[39m=\u001b[39;49mvalidation_batch_size \u001b[39mor\u001b[39;49;00m batch_size,\n\u001b[0;32m   1450\u001b[0m     steps\u001b[39m=\u001b[39;49mvalidation_steps,\n\u001b[0;32m   1451\u001b[0m     callbacks\u001b[39m=\u001b[39;49mcallbacks,\n\u001b[0;32m   1452\u001b[0m     max_queue_size\u001b[39m=\u001b[39;49mmax_queue_size,\n\u001b[0;32m   1453\u001b[0m     workers\u001b[39m=\u001b[39;49mworkers,\n\u001b[0;32m   1454\u001b[0m     use_multiprocessing\u001b[39m=\u001b[39;49muse_multiprocessing,\n\u001b[0;32m   1455\u001b[0m     return_dict\u001b[39m=\u001b[39;49m\u001b[39mTrue\u001b[39;49;00m,\n\u001b[0;32m   1456\u001b[0m     _use_cached_eval_dataset\u001b[39m=\u001b[39;49m\u001b[39mTrue\u001b[39;49;00m)\n\u001b[0;32m   1457\u001b[0m val_logs \u001b[39m=\u001b[39m {\u001b[39m'\u001b[39m\u001b[39mval_\u001b[39m\u001b[39m'\u001b[39m \u001b[39m+\u001b[39m name: val \u001b[39mfor\u001b[39;00m name, val \u001b[39min\u001b[39;00m val_logs\u001b[39m.\u001b[39mitems()}\n\u001b[0;32m   1458\u001b[0m epoch_logs\u001b[39m.\u001b[39mupdate(val_logs)\n",
      "File \u001b[1;32mc:\\Users\\LJH\\Anaconda3\\lib\\site-packages\\keras\\utils\\traceback_utils.py:64\u001b[0m, in \u001b[0;36mfilter_traceback.<locals>.error_handler\u001b[1;34m(*args, **kwargs)\u001b[0m\n\u001b[0;32m     62\u001b[0m filtered_tb \u001b[39m=\u001b[39m \u001b[39mNone\u001b[39;00m\n\u001b[0;32m     63\u001b[0m \u001b[39mtry\u001b[39;00m:\n\u001b[1;32m---> 64\u001b[0m   \u001b[39mreturn\u001b[39;00m fn(\u001b[39m*\u001b[39margs, \u001b[39m*\u001b[39m\u001b[39m*\u001b[39mkwargs)\n\u001b[0;32m     65\u001b[0m \u001b[39mexcept\u001b[39;00m \u001b[39mException\u001b[39;00m \u001b[39mas\u001b[39;00m e:  \u001b[39m# pylint: disable=broad-except\u001b[39;00m\n\u001b[0;32m     66\u001b[0m   filtered_tb \u001b[39m=\u001b[39m _process_traceback_frames(e\u001b[39m.\u001b[39m__traceback__)\n",
      "File \u001b[1;32mc:\\Users\\LJH\\Anaconda3\\lib\\site-packages\\keras\\engine\\training.py:1756\u001b[0m, in \u001b[0;36mModel.evaluate\u001b[1;34m(self, x, y, batch_size, verbose, sample_weight, steps, callbacks, max_queue_size, workers, use_multiprocessing, return_dict, **kwargs)\u001b[0m\n\u001b[0;32m   1754\u001b[0m \u001b[39mwith\u001b[39;00m tf\u001b[39m.\u001b[39mprofiler\u001b[39m.\u001b[39mexperimental\u001b[39m.\u001b[39mTrace(\u001b[39m'\u001b[39m\u001b[39mtest\u001b[39m\u001b[39m'\u001b[39m, step_num\u001b[39m=\u001b[39mstep, _r\u001b[39m=\u001b[39m\u001b[39m1\u001b[39m):\n\u001b[0;32m   1755\u001b[0m   callbacks\u001b[39m.\u001b[39mon_test_batch_begin(step)\n\u001b[1;32m-> 1756\u001b[0m   tmp_logs \u001b[39m=\u001b[39m \u001b[39mself\u001b[39;49m\u001b[39m.\u001b[39;49mtest_function(iterator)\n\u001b[0;32m   1757\u001b[0m   \u001b[39mif\u001b[39;00m data_handler\u001b[39m.\u001b[39mshould_sync:\n\u001b[0;32m   1758\u001b[0m     context\u001b[39m.\u001b[39masync_wait()\n",
      "File \u001b[1;32mc:\\Users\\LJH\\Anaconda3\\lib\\site-packages\\tensorflow\\python\\util\\traceback_utils.py:150\u001b[0m, in \u001b[0;36mfilter_traceback.<locals>.error_handler\u001b[1;34m(*args, **kwargs)\u001b[0m\n\u001b[0;32m    148\u001b[0m filtered_tb \u001b[39m=\u001b[39m \u001b[39mNone\u001b[39;00m\n\u001b[0;32m    149\u001b[0m \u001b[39mtry\u001b[39;00m:\n\u001b[1;32m--> 150\u001b[0m   \u001b[39mreturn\u001b[39;00m fn(\u001b[39m*\u001b[39margs, \u001b[39m*\u001b[39m\u001b[39m*\u001b[39mkwargs)\n\u001b[0;32m    151\u001b[0m \u001b[39mexcept\u001b[39;00m \u001b[39mException\u001b[39;00m \u001b[39mas\u001b[39;00m e:\n\u001b[0;32m    152\u001b[0m   filtered_tb \u001b[39m=\u001b[39m _process_traceback_frames(e\u001b[39m.\u001b[39m__traceback__)\n",
      "File \u001b[1;32mc:\\Users\\LJH\\Anaconda3\\lib\\site-packages\\tensorflow\\python\\eager\\def_function.py:915\u001b[0m, in \u001b[0;36mFunction.__call__\u001b[1;34m(self, *args, **kwds)\u001b[0m\n\u001b[0;32m    912\u001b[0m compiler \u001b[39m=\u001b[39m \u001b[39m\"\u001b[39m\u001b[39mxla\u001b[39m\u001b[39m\"\u001b[39m \u001b[39mif\u001b[39;00m \u001b[39mself\u001b[39m\u001b[39m.\u001b[39m_jit_compile \u001b[39melse\u001b[39;00m \u001b[39m\"\u001b[39m\u001b[39mnonXla\u001b[39m\u001b[39m\"\u001b[39m\n\u001b[0;32m    914\u001b[0m \u001b[39mwith\u001b[39;00m OptionalXlaContext(\u001b[39mself\u001b[39m\u001b[39m.\u001b[39m_jit_compile):\n\u001b[1;32m--> 915\u001b[0m   result \u001b[39m=\u001b[39m \u001b[39mself\u001b[39m\u001b[39m.\u001b[39m_call(\u001b[39m*\u001b[39margs, \u001b[39m*\u001b[39m\u001b[39m*\u001b[39mkwds)\n\u001b[0;32m    917\u001b[0m new_tracing_count \u001b[39m=\u001b[39m \u001b[39mself\u001b[39m\u001b[39m.\u001b[39mexperimental_get_tracing_count()\n\u001b[0;32m    918\u001b[0m without_tracing \u001b[39m=\u001b[39m (tracing_count \u001b[39m==\u001b[39m new_tracing_count)\n",
      "File \u001b[1;32mc:\\Users\\LJH\\Anaconda3\\lib\\site-packages\\tensorflow\\python\\eager\\def_function.py:954\u001b[0m, in \u001b[0;36mFunction._call\u001b[1;34m(self, *args, **kwds)\u001b[0m\n\u001b[0;32m    951\u001b[0m \u001b[39mself\u001b[39m\u001b[39m.\u001b[39m_lock\u001b[39m.\u001b[39mrelease()\n\u001b[0;32m    952\u001b[0m \u001b[39m# In this case we have not created variables on the first call. So we can\u001b[39;00m\n\u001b[0;32m    953\u001b[0m \u001b[39m# run the first trace but we should fail if variables are created.\u001b[39;00m\n\u001b[1;32m--> 954\u001b[0m results \u001b[39m=\u001b[39m \u001b[39mself\u001b[39m\u001b[39m.\u001b[39m_stateful_fn(\u001b[39m*\u001b[39margs, \u001b[39m*\u001b[39m\u001b[39m*\u001b[39mkwds)\n\u001b[0;32m    955\u001b[0m \u001b[39mif\u001b[39;00m \u001b[39mself\u001b[39m\u001b[39m.\u001b[39m_created_variables \u001b[39mand\u001b[39;00m \u001b[39mnot\u001b[39;00m ALLOW_DYNAMIC_VARIABLE_CREATION:\n\u001b[0;32m    956\u001b[0m   \u001b[39mraise\u001b[39;00m \u001b[39mValueError\u001b[39;00m(\u001b[39m\"\u001b[39m\u001b[39mCreating variables on a non-first call to a function\u001b[39m\u001b[39m\"\u001b[39m\n\u001b[0;32m    957\u001b[0m                    \u001b[39m\"\u001b[39m\u001b[39m decorated with tf.function.\u001b[39m\u001b[39m\"\u001b[39m)\n",
      "File \u001b[1;32mc:\\Users\\LJH\\Anaconda3\\lib\\site-packages\\tensorflow\\python\\eager\\function.py:2453\u001b[0m, in \u001b[0;36mFunction.__call__\u001b[1;34m(self, *args, **kwargs)\u001b[0m\n\u001b[0;32m   2450\u001b[0m \u001b[39mwith\u001b[39;00m \u001b[39mself\u001b[39m\u001b[39m.\u001b[39m_lock:\n\u001b[0;32m   2451\u001b[0m   (graph_function,\n\u001b[0;32m   2452\u001b[0m    filtered_flat_args) \u001b[39m=\u001b[39m \u001b[39mself\u001b[39m\u001b[39m.\u001b[39m_maybe_define_function(args, kwargs)\n\u001b[1;32m-> 2453\u001b[0m \u001b[39mreturn\u001b[39;00m graph_function\u001b[39m.\u001b[39;49m_call_flat(\n\u001b[0;32m   2454\u001b[0m     filtered_flat_args, captured_inputs\u001b[39m=\u001b[39;49mgraph_function\u001b[39m.\u001b[39;49mcaptured_inputs)\n",
      "File \u001b[1;32mc:\\Users\\LJH\\Anaconda3\\lib\\site-packages\\tensorflow\\python\\eager\\function.py:1860\u001b[0m, in \u001b[0;36mConcreteFunction._call_flat\u001b[1;34m(self, args, captured_inputs, cancellation_manager)\u001b[0m\n\u001b[0;32m   1856\u001b[0m possible_gradient_type \u001b[39m=\u001b[39m gradients_util\u001b[39m.\u001b[39mPossibleTapeGradientTypes(args)\n\u001b[0;32m   1857\u001b[0m \u001b[39mif\u001b[39;00m (possible_gradient_type \u001b[39m==\u001b[39m gradients_util\u001b[39m.\u001b[39mPOSSIBLE_GRADIENT_TYPES_NONE\n\u001b[0;32m   1858\u001b[0m     \u001b[39mand\u001b[39;00m executing_eagerly):\n\u001b[0;32m   1859\u001b[0m   \u001b[39m# No tape is watching; skip to running the function.\u001b[39;00m\n\u001b[1;32m-> 1860\u001b[0m   \u001b[39mreturn\u001b[39;00m \u001b[39mself\u001b[39m\u001b[39m.\u001b[39m_build_call_outputs(\u001b[39mself\u001b[39;49m\u001b[39m.\u001b[39;49m_inference_function\u001b[39m.\u001b[39;49mcall(\n\u001b[0;32m   1861\u001b[0m       ctx, args, cancellation_manager\u001b[39m=\u001b[39;49mcancellation_manager))\n\u001b[0;32m   1862\u001b[0m forward_backward \u001b[39m=\u001b[39m \u001b[39mself\u001b[39m\u001b[39m.\u001b[39m_select_forward_and_backward_functions(\n\u001b[0;32m   1863\u001b[0m     args,\n\u001b[0;32m   1864\u001b[0m     possible_gradient_type,\n\u001b[0;32m   1865\u001b[0m     executing_eagerly)\n\u001b[0;32m   1866\u001b[0m forward_function, args_with_tangents \u001b[39m=\u001b[39m forward_backward\u001b[39m.\u001b[39mforward()\n",
      "File \u001b[1;32mc:\\Users\\LJH\\Anaconda3\\lib\\site-packages\\tensorflow\\python\\eager\\function.py:497\u001b[0m, in \u001b[0;36m_EagerDefinedFunction.call\u001b[1;34m(self, ctx, args, cancellation_manager)\u001b[0m\n\u001b[0;32m    495\u001b[0m \u001b[39mwith\u001b[39;00m _InterpolateFunctionError(\u001b[39mself\u001b[39m):\n\u001b[0;32m    496\u001b[0m   \u001b[39mif\u001b[39;00m cancellation_manager \u001b[39mis\u001b[39;00m \u001b[39mNone\u001b[39;00m:\n\u001b[1;32m--> 497\u001b[0m     outputs \u001b[39m=\u001b[39m execute\u001b[39m.\u001b[39;49mexecute(\n\u001b[0;32m    498\u001b[0m         \u001b[39mstr\u001b[39;49m(\u001b[39mself\u001b[39;49m\u001b[39m.\u001b[39;49msignature\u001b[39m.\u001b[39;49mname),\n\u001b[0;32m    499\u001b[0m         num_outputs\u001b[39m=\u001b[39;49m\u001b[39mself\u001b[39;49m\u001b[39m.\u001b[39;49m_num_outputs,\n\u001b[0;32m    500\u001b[0m         inputs\u001b[39m=\u001b[39;49margs,\n\u001b[0;32m    501\u001b[0m         attrs\u001b[39m=\u001b[39;49mattrs,\n\u001b[0;32m    502\u001b[0m         ctx\u001b[39m=\u001b[39;49mctx)\n\u001b[0;32m    503\u001b[0m   \u001b[39melse\u001b[39;00m:\n\u001b[0;32m    504\u001b[0m     outputs \u001b[39m=\u001b[39m execute\u001b[39m.\u001b[39mexecute_with_cancellation(\n\u001b[0;32m    505\u001b[0m         \u001b[39mstr\u001b[39m(\u001b[39mself\u001b[39m\u001b[39m.\u001b[39msignature\u001b[39m.\u001b[39mname),\n\u001b[0;32m    506\u001b[0m         num_outputs\u001b[39m=\u001b[39m\u001b[39mself\u001b[39m\u001b[39m.\u001b[39m_num_outputs,\n\u001b[1;32m   (...)\u001b[0m\n\u001b[0;32m    509\u001b[0m         ctx\u001b[39m=\u001b[39mctx,\n\u001b[0;32m    510\u001b[0m         cancellation_manager\u001b[39m=\u001b[39mcancellation_manager)\n",
      "File \u001b[1;32mc:\\Users\\LJH\\Anaconda3\\lib\\site-packages\\tensorflow\\python\\eager\\execute.py:54\u001b[0m, in \u001b[0;36mquick_execute\u001b[1;34m(op_name, num_outputs, inputs, attrs, ctx, name)\u001b[0m\n\u001b[0;32m     52\u001b[0m \u001b[39mtry\u001b[39;00m:\n\u001b[0;32m     53\u001b[0m   ctx\u001b[39m.\u001b[39mensure_initialized()\n\u001b[1;32m---> 54\u001b[0m   tensors \u001b[39m=\u001b[39m pywrap_tfe\u001b[39m.\u001b[39;49mTFE_Py_Execute(ctx\u001b[39m.\u001b[39;49m_handle, device_name, op_name,\n\u001b[0;32m     55\u001b[0m                                       inputs, attrs, num_outputs)\n\u001b[0;32m     56\u001b[0m \u001b[39mexcept\u001b[39;00m core\u001b[39m.\u001b[39m_NotOkStatusException \u001b[39mas\u001b[39;00m e:\n\u001b[0;32m     57\u001b[0m   \u001b[39mif\u001b[39;00m name \u001b[39mis\u001b[39;00m \u001b[39mnot\u001b[39;00m \u001b[39mNone\u001b[39;00m:\n",
      "\u001b[1;31mKeyboardInterrupt\u001b[0m: "
     ]
    }
   ],
   "source": [
    "history = model.fit_generator(\n",
    "    train_generator,\n",
    "    epochs=500,\n",
    "    validation_data=validation_generator,\n",
    "    callbacks = callback\n",
    "    )"
   ]
  }
 ],
 "metadata": {
  "kernelspec": {
   "display_name": "Python 3.9.12 ('base')",
   "language": "python",
   "name": "python3"
  },
  "language_info": {
   "codemirror_mode": {
    "name": "ipython",
    "version": 3
   },
   "file_extension": ".py",
   "mimetype": "text/x-python",
   "name": "python",
   "nbconvert_exporter": "python",
   "pygments_lexer": "ipython3",
   "version": "3.9.12"
  },
  "orig_nbformat": 4,
  "vscode": {
   "interpreter": {
    "hash": "399b942a90945adf822711c817a2148b24a3a269b52160aecaa333816877df5e"
   }
  }
 },
 "nbformat": 4,
 "nbformat_minor": 2
}
