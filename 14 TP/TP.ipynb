{
 "cells": [
  {
   "cell_type": "markdown",
   "metadata": {},
   "source": [
    "## 뉴스 기사를 입력하면 분류 및 요약해주는 딥러닝 모델 개발  \n",
    "네이버 뉴스 주소를 입력하면 해당 기사를 크롤링하고 분류 및 요약해주는 함수 설정\n",
    "\n",
    "- 데이터 원본 자료 : https://dacon.io/competitions/official/235747/overview/description\n",
    "\n",
    "---  "
   ]
  },
  {
   "cell_type": "markdown",
   "metadata": {},
   "source": [
    "- 양방향 LSTM 모델이 분류한 값 = predict_1\n",
    "- Bert 모델이 분류한 값 = predict_2\n",
    "\n",
    "- 뉴스 분류  \n",
    "   * 두 모델이 같은 값을 예측한 경우  \n",
    "   \n",
    "      ${(LSTM 정확도 * predict_1) + (Bert 모델 정확도 * predict_2) \\over (LSTM 정확도 + Bert 모델 정확도)}$ %로 predict_1 관련 뉴스\n",
    "\n",
    "\n",
    "   * 두 모델이 다른 값을 예측한 경우  \n",
    "   \n",
    "      ${(LSTM 정확도) \\over 2}$%로 predict_2 또는 ${(Bert 정확도) \\over 2}$%로 predict_1 관련 뉴스"
   ]
  },
  {
   "cell_type": "markdown",
   "metadata": {},
   "source": [
    "----------------------------------------------------------------------------------------------------------------------------------------------------------------------------------------------\n",
    "\n",
    "### 역할 분담\n",
    "\n",
    "\n",
    "- 팀장 : 전체적인 프로젝트 관리 + 기록(ppt) 담당\n",
    "\n",
    "\n",
    "- 조원 1 : 자료 수집 + 전처리 담당  \n",
    "공부 방향 : https://wikidocs.net/22933  \n",
    "\n",
    "\n",
    "- 조원 2 : 뉴스 분류 모델 개발 (1) : LSTM  \n",
    "공부 방향 : https://wikidocs.net/22933  \n",
    "\n",
    "- 조원 3 : 뉴스 분류 모델 개발 (2) : Bert 활용  \n",
    "공부 방향 : https://github.com/ukairia777/tensorflow-nlp-tutorial/blob/main/18.%20Fine-tuning%20BERT%20(Cls%2C%20NER%2C%20NLI)/18-5.%20kor_bert_kornli_tpu.ipynb  \n",
    "\n",
    "- 조원 4 : 뉴스 요약 모델 개발  \n",
    "공부 방향 :  https://wikidocs.net/159468\n",
    "\n",
    "----------------------------------------------------------------------------------------------------------------------------------------------------------------------------------------------\n"
   ]
  },
  {
   "cell_type": "markdown",
   "metadata": {},
   "source": [
    "지난주에 해본 것  \n",
    "- 김도영 : 가사 학습을 통한 다중 장르 분류  \n",
    "- 김재열 : 네이버 상품 리뷰에 대한 다중 평가 분류\n",
    "- 이재훈 : 네이버 영화 리뷰에 대한 이중 평가 분류\n",
    "- 심정윤 :\n",
    "- 신상언 :\n",
    "\n",
    "---"
   ]
  },
  {
   "cell_type": "markdown",
   "metadata": {},
   "source": [
    "정윤님과 상언님의 자료를 보고 결정해야 되겠지만  \n",
    "발표날 남아계시는 분께서 조장을 담당해주시는게 좋을 것 같음...  \n",
    "조장하시는 분은 책임이 커 보이기는 한데 공부 방향이 모두 잡혀있어서 생각보다는 편안하게 하실 수 있을 것 같아...요\n",
    "\n",
    "---"
   ]
  },
  {
   "cell_type": "markdown",
   "metadata": {},
   "source": [
    "\n",
    "할일 목록\n",
    "\n",
    "- 조원 1 : 자료 수집 + 전처리 담당\n",
    "\n",
    "    * 기본적인 자료 수집 : 수\n",
    "\n",
    "    * 전처리 함수 생성 : 수\n",
    "\n",
    "    * 추가 자료 수집 밎 전처리 : 수목금"
   ]
  },
  {
   "cell_type": "code",
   "execution_count": 4,
   "metadata": {},
   "outputs": [
    {
     "data": {
      "text/html": [
       "<img src=\"0102.jpg\"/>"
      ],
      "text/plain": [
       "<IPython.core.display.Image object>"
      ]
     },
     "execution_count": 4,
     "metadata": {},
     "output_type": "execute_result"
    }
   ],
   "source": [
    "# 이미지 삽입에 필요한 모듈 불러오기\n",
    "from IPython.display import Image\n",
    "  \n",
    "# 이미지 넣기\n",
    "Image(url=\"0102.jpg\")"
   ]
  },
  {
   "cell_type": "markdown",
   "metadata": {},
   "source": [
    "**특히 데이터 분포에서 부족한 부분(ex. 0,1,3라벨)을 채워서 데이터 분포를 비슷하게 조절**"
   ]
  },
  {
   "cell_type": "markdown",
   "metadata": {},
   "source": [
    "- 조원 2 : 뉴스 분류 모델 개발 (1) : LSTM\n",
    "\n",
    "    * 기본적인 LSTM 모델 구성 : 수\n",
    "\n",
    "    * LSTM 모델 조정(2) - 과적합 신경쓰지 말고 모델 성능 최대한 올리기 : 목\n",
    "\n",
    "    * LSTM 모델 조정(3) - 과적합 최대한 줄이면서 모델 개선 : 금  \n",
    "\n",
    "- 조원 3 : 뉴스 분류 모델 개발 (2) : Bert  \n",
    "    * 기본적인 Bert 모델 구성 : 수\n",
    "    \n",
    "    * Bert 모델 조정(2) - 과적합 신경쓰지 말고 모델 성능 최대한 올리기 : 목\n",
    "    \n",
    "    * Bert 모델 조정(3) - 과적합 최대한 줄이면서 모델 개선 : 금\n",
    "\n",
    "- 조원 4 : 뉴스 분류 요약 모델  \n",
    "\n",
    "    * 기본적인 뉴스 요약 모델  : 수\n",
    "\n",
    "    * 뉴스 요약 모델조정 (2) - 과적합 신경쓰지 말고 모델 성능 최대한 올리기 : 목\n",
    "\n",
    "    * 뉴스 요약 모델 조정 (3) - 과적합 최대한 줄이면서 모델 개선 : 금"
   ]
  },
  {
   "cell_type": "markdown",
   "metadata": {},
   "source": [
    "\n",
    "\n",
    "-------------------------------------------------------------------------------------\n",
    "\n",
    "** 매일 매일 각각의 진행 사항을 정리해서 기록  \n",
    "** 금요일 오후 4시부터는 최적의 모델을 종합하여 최종 파일 생성\n",
    "\n",
    "-------------------------------------------------------------------------------------"
   ]
  }
 ],
 "metadata": {
  "kernelspec": {
   "display_name": "Python 3.9.12 ('base')",
   "language": "python",
   "name": "python3"
  },
  "language_info": {
   "codemirror_mode": {
    "name": "ipython",
    "version": 3
   },
   "file_extension": ".py",
   "mimetype": "text/x-python",
   "name": "python",
   "nbconvert_exporter": "python",
   "pygments_lexer": "ipython3",
   "version": "3.9.12"
  },
  "orig_nbformat": 4,
  "vscode": {
   "interpreter": {
    "hash": "263930470851f494f0ed2879c35b57985588df20f9e529b86e97dd5eb9ddc466"
   }
  }
 },
 "nbformat": 4,
 "nbformat_minor": 2
}
