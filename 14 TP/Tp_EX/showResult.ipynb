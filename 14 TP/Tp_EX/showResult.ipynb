{
 "cells": [
  {
   "cell_type": "code",
   "execution_count": 11,
   "metadata": {},
   "outputs": [],
   "source": [
    "# 예시 데이터\n",
    "ex_url = 'https://n.news.naver.com/mnews/article/052/0001796000?sid=102'\n",
    "ex_title = \"마약 혐의' 돈스파이크, 12년 전 '대마'로 징역형\"\n",
    "ex_predict = '사회'\n",
    "ex_key_word = ['마약', '돈스파이크', '12년']"
   ]
  },
  {
   "cell_type": "code",
   "execution_count": 12,
   "metadata": {},
   "outputs": [],
   "source": [
    "def showResult(url, title, predict, key_word) :\n",
    "    print('------------------------------------------------------------------------------------')\n",
    "    print('제목 :', title)\n",
    "    print('분류 :', predict)\n",
    "    print('상세 기사 :', url)\n",
    "    print(f'해시태그 : #{key_word[0]}, #{key_word[1]}, #{key_word[2]}')\n",
    "    print('------------------------------------------------------------------------------------')"
   ]
  },
  {
   "cell_type": "code",
   "execution_count": 13,
   "metadata": {},
   "outputs": [
    {
     "name": "stdout",
     "output_type": "stream",
     "text": [
      "------------------------------------------------------------------------------------\n",
      "제목 : 마약 혐의' 돈스파이크, 12년 전 '대마'로 징역형\n",
      "분류 : 사회\n",
      "상세 기사 : https://n.news.naver.com/mnews/article/052/0001796000?sid=102\n",
      "해시태그 : #마약, #돈스파이크, #12년\n",
      "------------------------------------------------------------------------------------\n"
     ]
    }
   ],
   "source": [
    "showResult(ex_url, ex_title, ex_predict, ex_key_word)"
   ]
  }
 ],
 "metadata": {
  "kernelspec": {
   "display_name": "Python 3.9.12 ('base')",
   "language": "python",
   "name": "python3"
  },
  "language_info": {
   "codemirror_mode": {
    "name": "ipython",
    "version": 3
   },
   "file_extension": ".py",
   "mimetype": "text/x-python",
   "name": "python",
   "nbconvert_exporter": "python",
   "pygments_lexer": "ipython3",
   "version": "3.9.12"
  },
  "orig_nbformat": 4,
  "vscode": {
   "interpreter": {
    "hash": "263930470851f494f0ed2879c35b57985588df20f9e529b86e97dd5eb9ddc466"
   }
  }
 },
 "nbformat": 4,
 "nbformat_minor": 2
}
