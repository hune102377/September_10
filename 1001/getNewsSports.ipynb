{
 "cells": [
  {
   "cell_type": "code",
   "execution_count": 2,
   "metadata": {},
   "outputs": [],
   "source": [
    "# 모듈 불러오기\n",
    "from bs4 import BeautifulSoup\n",
    "import numpy as np\n",
    "import pandas as pd\n",
    "import os\n",
    "from tqdm import tqdm\n",
    "from selenium import webdriver\n",
    "from selenium.webdriver.common.keys import Keys\n",
    "import time"
   ]
  },
  {
   "cell_type": "markdown",
   "metadata": {},
   "source": [
    "https://sports.news.naver.com/kbaseball/news/index?isphoto=N&date=20221005  \n",
    "\n",
    "국내 야구 : kbaseball  \n",
    "해외 야구 : wbaseball  \n",
    "국내 축구 : kfootball  \n",
    "해외 축구 : wfootball  \n",
    "농구    : basketball  \n",
    "배구    : volleyball  \n",
    "골프    : golf  \n",
    "일반    : general  \n",
    "\n",
    "https://game.naver.com/esports/League_of_Legends/news/lol?date=2022-10-05"
   ]
  },
  {
   "cell_type": "code",
   "execution_count": 1,
   "metadata": {},
   "outputs": [],
   "source": [
    "list_sport = ['kbaseball', 'wbaseball', 'kfootball', 'wfootball', 'basketball', 'volleyball', 'golf', 'general']"
   ]
  },
  {
   "cell_type": "code",
   "execution_count": null,
   "metadata": {},
   "outputs": [],
   "source": [
    "driver = webdriver.Chrome(\"./chromedriver\")\n",
    "\n",
    "driver.get(f\"https://news.naver.com/main/list.naver?mode=LS2D&sid2={list_li[i]}&mid=shm&sid1=10{num}&date={date}&page=1\")\n",
    "driver.implicitly_wait(3)\n",
    "\n",
    "html = driver.page_source\n",
    "soup = BeautifulSoup(html, 'html.parser')\n",
    "text = soup.find_all('dt')\n",
    "j = 1\n",
    "for j in range(1, 40, 2) :\n",
    "    try :\n",
    "        te = text[j].text.strip()"
   ]
  }
 ],
 "metadata": {
  "kernelspec": {
   "display_name": "Python 3.9.12 ('base')",
   "language": "python",
   "name": "python3"
  },
  "language_info": {
   "codemirror_mode": {
    "name": "ipython",
    "version": 3
   },
   "file_extension": ".py",
   "mimetype": "text/x-python",
   "name": "python",
   "nbconvert_exporter": "python",
   "pygments_lexer": "ipython3",
   "version": "3.9.12"
  },
  "orig_nbformat": 4,
  "vscode": {
   "interpreter": {
    "hash": "263930470851f494f0ed2879c35b57985588df20f9e529b86e97dd5eb9ddc466"
   }
  }
 },
 "nbformat": 4,
 "nbformat_minor": 2
}
