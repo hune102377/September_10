{
 "cells": [
  {
   "cell_type": "code",
   "execution_count": 92,
   "metadata": {},
   "outputs": [],
   "source": [
    "import tensorflow as tf\n",
    "from tensorflow.keras import Sequential\n",
    "from tensorflow.keras.layers import Input\n",
    "from tensorflow.keras.layers import Dense\n",
    "from tensorflow.keras.layers import Dropout\n",
    "from tensorflow.keras.datasets.boston_housing import load_data\n",
    "import numpy as np"
   ]
  },
  {
   "cell_type": "markdown",
   "metadata": {},
   "source": [
    "### [1] 데이터 로딩"
   ]
  },
  {
   "cell_type": "code",
   "execution_count": 93,
   "metadata": {},
   "outputs": [],
   "source": [
    "(x_train, y_train), (x_test, y_test) = load_data()"
   ]
  },
  {
   "cell_type": "code",
   "execution_count": 94,
   "metadata": {},
   "outputs": [
    {
     "data": {
      "text/plain": [
       "(404, 13)"
      ]
     },
     "execution_count": 94,
     "metadata": {},
     "output_type": "execute_result"
    }
   ],
   "source": [
    "x_train.shape"
   ]
  },
  {
   "cell_type": "code",
   "execution_count": 95,
   "metadata": {},
   "outputs": [
    {
     "data": {
      "text/plain": [
       "(array([[  1.23247,   0.     ,   8.14   ,   0.     ,   0.538  ,   6.142  ,\n",
       "          91.7    ,   3.9769 ,   4.     , 307.     ,  21.     , 396.9    ,\n",
       "          18.72   ]]),\n",
       " 15.2)"
      ]
     },
     "execution_count": 95,
     "metadata": {},
     "output_type": "execute_result"
    }
   ],
   "source": [
    "x_train[:1], y_train[0]"
   ]
  },
  {
   "cell_type": "markdown",
   "metadata": {},
   "source": [
    "### [2] NN Nodel 실습  \n",
    "---  \n",
    "- (1) 모델 구상\n",
    "- (2) 모델 생성\n",
    "- (3) 학습\n",
    "- (4) 평가\n",
    "- (5) 테스트"
   ]
  },
  {
   "cell_type": "markdown",
   "metadata": {},
   "source": [
    "(1) 입력 데이터와 출력 데이터가 몇개여야 하는지 부터 파악(feature와 회귀/분류)  \n",
    "(2) 학습 방법(회귀/분류) 파악"
   ]
  },
  {
   "cell_type": "markdown",
   "metadata": {},
   "source": [
    "#### [2] - 1 모델구상  \n",
    "입력 데이터 : 13 feature  \n",
    "출력 데이터 : 1 (Houseprices)"
   ]
  },
  {
   "cell_type": "code",
   "execution_count": 96,
   "metadata": {},
   "outputs": [],
   "source": [
    "model = Sequential(name='Boston')"
   ]
  },
  {
   "cell_type": "code",
   "execution_count": 97,
   "metadata": {},
   "outputs": [],
   "source": [
    "model.add(Input(shape = (13, ), name = 'input'))\n",
    "model.add(Dense(13, activation ='relu', name = 'hidden1'))\n",
    "# 과적합을 해결하기위 해어서 지정된 비율만큼 node를 비활성화 하는 Dropout() 사용\n",
    "model.add(Dropout(0.5))\n",
    "model.add(Dense(1, activation ='linear', name = 'output'))"
   ]
  },
  {
   "cell_type": "code",
   "execution_count": 98,
   "metadata": {},
   "outputs": [
    {
     "name": "stdout",
     "output_type": "stream",
     "text": [
      "Model: \"Boston\"\n",
      "_________________________________________________________________\n",
      " Layer (type)                Output Shape              Param #   \n",
      "=================================================================\n",
      " hidden1 (Dense)             (None, 13)                182       \n",
      "                                                                 \n",
      " dropout_2 (Dropout)         (None, 13)                0         \n",
      "                                                                 \n",
      " output (Dense)              (None, 1)                 14        \n",
      "                                                                 \n",
      "=================================================================\n",
      "Total params: 196\n",
      "Trainable params: 196\n",
      "Non-trainable params: 0\n",
      "_________________________________________________________________\n"
     ]
    }
   ],
   "source": [
    "# 모델 구성 확인\n",
    "model.summary()"
   ]
  },
  {
   "cell_type": "markdown",
   "metadata": {},
   "source": [
    "#### [2] - 2 모델 생성  \n",
    "---  \n",
    "- Sequentail 클래스의 compile 메서드\n",
    "- 모델이 동작하기 위해서 필요한 설정\n",
    "    * 오차, 계산 함수 설정       : loss\n",
    "    * W, B 최적화 방식 설정      : optimizer\n",
    "    * 모델의 성능 측정 항목 설정 : metrics\n",
    "- 파라미터 값들\n",
    "     * str 타입으로 입력 가능\n",
    "     * 객체 타입으로 입력 가능"
   ]
  },
  {
   "cell_type": "markdown",
   "metadata": {},
   "source": [
    "**오차 계산**  \n",
    "    * 회귀 : mae, mse, rmse  \n",
    "    * 분류 : crossentropy  \n",
    "        - 이진분류 : binary_crossentropy  \n",
    "        - 다중분류 : categorical_crossentropy           (타겟이 OHE된 경우)  \n",
    "                     sparse_categorical_crossentropy    (타겟이 OHE되지 않은 경우)"
   ]
  },
  {
   "cell_type": "markdown",
   "metadata": {},
   "source": [
    "**최적화**\n",
    "- 기본 : rmsprop\n",
    "- adam, momonent,... 최적화 클래스 이름 문자열 입력"
   ]
  },
  {
   "cell_type": "markdown",
   "metadata": {},
   "source": [
    "**성능 평가**\n",
    "- 기본 : loss\n",
    "- 클래스 이름 문자열 입력"
   ]
  },
  {
   "cell_type": "code",
   "execution_count": 99,
   "metadata": {},
   "outputs": [],
   "source": [
    "model.compile(loss = 'mae', optimizer = 'adam', metrics = ['acc', 'mae'])"
   ]
  },
  {
   "cell_type": "markdown",
   "metadata": {},
   "source": [
    "#### [2] - 3 학습\n",
    "---  \n",
    "- fit() 메서드\n",
    "    * 파라미터\n",
    "    * 반환값 => history 객체"
   ]
  },
  {
   "cell_type": "code",
   "execution_count": 100,
   "metadata": {},
   "outputs": [],
   "source": [
    "# 검증 데이터에 대한 loss 값이 3번 연속 개선되지 않으면 학습 주이\n",
    "from tensorflow.keras.callbacks import EarlyStopping\n",
    "\n",
    "stopCb = EarlyStopping(monitor = 'val_loss', patience = 3)"
   ]
  },
  {
   "cell_type": "code",
   "execution_count": 101,
   "metadata": {},
   "outputs": [
    {
     "name": "stdout",
     "output_type": "stream",
     "text": [
      "Epoch 1/1000\n",
      "41/41 [==============================] - 1s 6ms/step - loss: 81.7104 - acc: 0.0000e+00 - mae: 81.7104 - val_loss: 14.8690 - val_acc: 0.0000e+00 - val_mae: 14.8690\n",
      "Epoch 2/1000\n",
      "41/41 [==============================] - 0s 2ms/step - loss: 57.5053 - acc: 0.0000e+00 - mae: 57.5053 - val_loss: 11.8348 - val_acc: 0.0000e+00 - val_mae: 11.8348\n",
      "Epoch 3/1000\n",
      "41/41 [==============================] - 0s 2ms/step - loss: 46.8937 - acc: 0.0000e+00 - mae: 46.8937 - val_loss: 10.1347 - val_acc: 0.0000e+00 - val_mae: 10.1347\n",
      "Epoch 4/1000\n",
      "41/41 [==============================] - 0s 2ms/step - loss: 34.1447 - acc: 0.0000e+00 - mae: 34.1447 - val_loss: 10.7032 - val_acc: 0.0000e+00 - val_mae: 10.7032\n",
      "Epoch 5/1000\n",
      "41/41 [==============================] - 0s 2ms/step - loss: 24.3125 - acc: 0.0000e+00 - mae: 24.3125 - val_loss: 7.9096 - val_acc: 0.0000e+00 - val_mae: 7.9096\n",
      "Epoch 6/1000\n",
      "41/41 [==============================] - 0s 2ms/step - loss: 20.4985 - acc: 0.0000e+00 - mae: 20.4985 - val_loss: 8.0340 - val_acc: 0.0000e+00 - val_mae: 8.0340\n",
      "Epoch 7/1000\n",
      "41/41 [==============================] - 0s 2ms/step - loss: 16.1019 - acc: 0.0000e+00 - mae: 16.1019 - val_loss: 8.0520 - val_acc: 0.0000e+00 - val_mae: 8.0520\n",
      "Epoch 8/1000\n",
      "41/41 [==============================] - 0s 2ms/step - loss: 13.5873 - acc: 0.0000e+00 - mae: 13.5873 - val_loss: 7.7562 - val_acc: 0.0000e+00 - val_mae: 7.7562\n",
      "Epoch 9/1000\n",
      "41/41 [==============================] - 0s 2ms/step - loss: 12.8812 - acc: 0.0000e+00 - mae: 12.8812 - val_loss: 6.5208 - val_acc: 0.0000e+00 - val_mae: 6.5208\n",
      "Epoch 10/1000\n",
      "41/41 [==============================] - 0s 2ms/step - loss: 12.1888 - acc: 0.0000e+00 - mae: 12.1888 - val_loss: 6.3084 - val_acc: 0.0000e+00 - val_mae: 6.3084\n",
      "Epoch 11/1000\n",
      "41/41 [==============================] - 0s 1ms/step - loss: 10.5776 - acc: 0.0000e+00 - mae: 10.5776 - val_loss: 7.2141 - val_acc: 0.0000e+00 - val_mae: 7.2141\n",
      "Epoch 12/1000\n",
      "41/41 [==============================] - 0s 2ms/step - loss: 11.2081 - acc: 0.0000e+00 - mae: 11.2081 - val_loss: 6.8635 - val_acc: 0.0000e+00 - val_mae: 6.8635\n",
      "Epoch 13/1000\n",
      "41/41 [==============================] - 0s 2ms/step - loss: 10.3632 - acc: 0.0000e+00 - mae: 10.3632 - val_loss: 6.6315 - val_acc: 0.0000e+00 - val_mae: 6.6315\n"
     ]
    }
   ],
   "source": [
    "# epochs : 학습 횟수, batch_size : 학습량 크기\n",
    "# validation_split : 학습 데이터의 일부를 검증용으로 분리\n",
    "# validation_data : 테스트 데이터, 테스트 타겟\n",
    "result = model.fit(x_train, y_train, epochs = 1000, batch_size=10, validation_data = (x_test, y_test), callbacks=[stopCb])"
   ]
  },
  {
   "cell_type": "code",
   "execution_count": 102,
   "metadata": {},
   "outputs": [
    {
     "data": {
      "text/plain": [
       "keras.callbacks.History"
      ]
     },
     "execution_count": 102,
     "metadata": {},
     "output_type": "execute_result"
    }
   ],
   "source": [
    "# 학습 후 학습 결과 체크\n",
    "type(result)"
   ]
  },
  {
   "cell_type": "code",
   "execution_count": 103,
   "metadata": {},
   "outputs": [
    {
     "data": {
      "text/plain": [
       "{'verbose': 1, 'epochs': 1000, 'steps': 41}"
      ]
     },
     "execution_count": 103,
     "metadata": {},
     "output_type": "execute_result"
    }
   ],
   "source": [
    "result.params"
   ]
  },
  {
   "cell_type": "code",
   "execution_count": 104,
   "metadata": {},
   "outputs": [
    {
     "data": {
      "text/plain": [
       "dict_keys(['loss', 'acc', 'mae', 'val_loss', 'val_acc', 'val_mae'])"
      ]
     },
     "execution_count": 104,
     "metadata": {},
     "output_type": "execute_result"
    }
   ],
   "source": [
    "result.history.keys()"
   ]
  },
  {
   "cell_type": "code",
   "execution_count": 105,
   "metadata": {},
   "outputs": [
    {
     "data": {
      "text/plain": [
       "[81.71038818359375,\n",
       " 57.50526428222656,\n",
       " 46.89366912841797,\n",
       " 34.14470672607422,\n",
       " 24.312501907348633,\n",
       " 20.498456954956055,\n",
       " 16.101917266845703,\n",
       " 13.587288856506348,\n",
       " 12.881194114685059,\n",
       " 12.188815116882324,\n",
       " 10.577581405639648,\n",
       " 11.208065032958984,\n",
       " 10.363194465637207]"
      ]
     },
     "execution_count": 105,
     "metadata": {},
     "output_type": "execute_result"
    }
   ],
   "source": [
    "result.history['loss']"
   ]
  },
  {
   "cell_type": "code",
   "execution_count": 106,
   "metadata": {},
   "outputs": [
    {
     "data": {
      "text/plain": [
       "[0.0, 0.0, 0.0, 0.0, 0.0, 0.0, 0.0, 0.0, 0.0, 0.0, 0.0, 0.0, 0.0]"
      ]
     },
     "execution_count": 106,
     "metadata": {},
     "output_type": "execute_result"
    }
   ],
   "source": [
    "result.history['acc']"
   ]
  },
  {
   "cell_type": "code",
   "execution_count": 107,
   "metadata": {},
   "outputs": [
    {
     "data": {
      "text/plain": [
       "<matplotlib.legend.Legend at 0x1e62e770af0>"
      ]
     },
     "execution_count": 107,
     "metadata": {},
     "output_type": "execute_result"
    },
    {
     "data": {
      "image/png": "[encoded data removed]",
      "text/plain": [
       "<Figure size 432x288 with 1 Axes>"
      ]
     },
     "metadata": {
      "needs_background": "light"
     },
     "output_type": "display_data"
    }
   ],
   "source": [
    "### 시각화\n",
    "import matplotlib.pyplot as plt\n",
    "plt.plot(result.epoch, result.history['loss'], label='loss')\n",
    "plt.plot(result.epoch, result.history['val_loss'], label='val_loss')\n",
    "plt.legend()"
   ]
  },
  {
   "cell_type": "markdown",
   "metadata": {},
   "source": [
    "#### [2] - 4 모델 평가\n",
    "- evaluate(test_data, test_target)\n",
    "    * loss, metrics에서의 성능 지표값"
   ]
  },
  {
   "cell_type": "code",
   "execution_count": 108,
   "metadata": {},
   "outputs": [
    {
     "name": "stdout",
     "output_type": "stream",
     "text": [
      "4/4 [==============================] - 0s 3ms/step - loss: 6.6315 - acc: 0.0000e+00 - mae: 6.6315\n"
     ]
    }
   ],
   "source": [
    "eRet = model.evaluate(x_test, y_test)"
   ]
  },
  {
   "cell_type": "code",
   "execution_count": 109,
   "metadata": {},
   "outputs": [
    {
     "data": {
      "text/plain": [
       "[6.631509780883789, 0.0, 6.631509780883789]"
      ]
     },
     "execution_count": 109,
     "metadata": {},
     "output_type": "execute_result"
    }
   ],
   "source": [
    "eRet"
   ]
  },
  {
   "cell_type": "markdown",
   "metadata": {},
   "source": [
    "#### [2] - 5 예측"
   ]
  },
  {
   "cell_type": "code",
   "execution_count": 110,
   "metadata": {},
   "outputs": [
    {
     "name": "stdout",
     "output_type": "stream",
     "text": [
      "1/1 [==============================] - 0s 52ms/step\n"
     ]
    },
    {
     "data": {
      "text/plain": [
       "array([[20.663084]], dtype=float32)"
      ]
     },
     "execution_count": 110,
     "metadata": {},
     "output_type": "execute_result"
    }
   ],
   "source": [
    "model.predict(x_train[:1])"
   ]
  },
  {
   "cell_type": "code",
   "execution_count": 111,
   "metadata": {},
   "outputs": [
    {
     "data": {
      "text/plain": [
       "15.2"
      ]
     },
     "execution_count": 111,
     "metadata": {},
     "output_type": "execute_result"
    }
   ],
   "source": [
    "y_train[0]"
   ]
  },
  {
   "cell_type": "markdown",
   "metadata": {},
   "source": [
    "### [3] 전처리"
   ]
  },
  {
   "cell_type": "markdown",
   "metadata": {},
   "source": [
    "#### [3] - 1 전처리\n",
    "- 특성 전처리\n",
    "    * 수치 데이터 : 값의 범위\n",
    "    * 문자 데이터 : 수치화"
   ]
  },
  {
   "cell_type": "code",
   "execution_count": 112,
   "metadata": {},
   "outputs": [],
   "source": [
    "from sklearn.preprocessing import StandardScaler, MinMaxScaler, RobustScaler"
   ]
  },
  {
   "cell_type": "code",
   "execution_count": 113,
   "metadata": {},
   "outputs": [],
   "source": [
    "scaler = StandardScaler()"
   ]
  },
  {
   "cell_type": "code",
   "execution_count": 114,
   "metadata": {},
   "outputs": [
    {
     "data": {
      "text/plain": [
       "StandardScaler()"
      ]
     },
     "execution_count": 114,
     "metadata": {},
     "output_type": "execute_result"
    }
   ],
   "source": [
    "scaler.fit(x_train)"
   ]
  },
  {
   "cell_type": "code",
   "execution_count": 115,
   "metadata": {},
   "outputs": [
    {
     "data": {
      "text/plain": [
       "array([3.74511057e+00, 1.14801980e+01, 1.11044307e+01, 6.18811881e-02,\n",
       "       5.57355941e-01, 6.26708168e+00, 6.90106436e+01, 3.74027079e+00,\n",
       "       9.44059406e+00, 4.05898515e+02, 1.84759901e+01, 3.54783168e+02,\n",
       "       1.27408168e+01])"
      ]
     },
     "execution_count": 115,
     "metadata": {},
     "output_type": "execute_result"
    }
   ],
   "source": [
    "scaler.mean_"
   ]
  },
  {
   "cell_type": "code",
   "execution_count": 116,
   "metadata": {},
   "outputs": [],
   "source": [
    "x_train_scaler = scaler.transform(x_train)"
   ]
  }
 ],
 "metadata": {
  "kernelspec": {
   "display_name": "Python 3.9.12 ('base')",
   "language": "python",
   "name": "python3"
  },
  "language_info": {
   "codemirror_mode": {
    "name": "ipython",
    "version": 3
   },
   "file_extension": ".py",
   "mimetype": "text/x-python",
   "name": "python",
   "nbconvert_exporter": "python",
   "pygments_lexer": "ipython3",
   "version": "3.9.12"
  },
  "orig_nbformat": 4,
  "vscode": {
   "interpreter": {
    "hash": "399b942a90945adf822711c817a2148b24a3a269b52160aecaa333816877df5e"
   }
  }
 },
 "nbformat": 4,
 "nbformat_minor": 2
}
