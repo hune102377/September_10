{
 "cells": [
  {
   "cell_type": "code",
   "execution_count": 1,
   "metadata": {},
   "outputs": [],
   "source": [
    "# C"
   ]
  },
  {
   "cell_type": "markdown",
   "metadata": {},
   "source": [
    "# CNN(Convolution Neural Network)\n",
    "- 이미지 영상 처리에 사용되는 신경망 모델\n",
    "- DNN의 한 분야\n",
    "- 텍스트 처리에도 사용되는 모델\n",
    "- 사용되는 Layer\n",
    "    * ConvXD : 이미지 형태 그대로 입력 받아 특징을 추출하는 레이어\n",
    "    * Polling : 특징맵에서 특징을 다시 추출, 다운샘플링하는 레이어, 크기를 반으로 줄임"
   ]
  },
  {
   "cell_type": "code",
   "execution_count": 2,
   "metadata": {},
   "outputs": [],
   "source": [
    "from tensorflow.keras.utils import set_random_seed, plot_model\n",
    "from tensorflow.keras import Sequential\n",
    "from tensorflow.keras.layers import Dense, Conv2D, Flatten, MaxPool2D\n",
    "from tensorflow.keras.datasets.fashion_mnist import load_data\n",
    "import matplotlib.pyplot as plt\n",
    "import numpy as np"
   ]
  },
  {
   "cell_type": "code",
   "execution_count": 3,
   "metadata": {},
   "outputs": [],
   "source": [
    "# W, B 고정\n",
    "set_random_seed(11)"
   ]
  },
  {
   "cell_type": "markdown",
   "metadata": {},
   "source": [
    "### [1] 데이터 준비 및 로딩"
   ]
  },
  {
   "cell_type": "code",
   "execution_count": 4,
   "metadata": {},
   "outputs": [],
   "source": [
    "(train_input, train_target), (test_input, test_target) = load_data()"
   ]
  },
  {
   "cell_type": "code",
   "execution_count": 5,
   "metadata": {},
   "outputs": [
    {
     "name": "stdout",
     "output_type": "stream",
     "text": [
      "훈련 입력 데이터 : (60000, 28, 28) 훈련 타겟 데이터 : (60000,)\n",
      "테스트 입력 데이터 : (10000, 28, 28) 테스트 타겟 데이터 : (10000,)\n"
     ]
    }
   ],
   "source": [
    "print(f'훈련 입력 데이터 : {train_input.shape}', f'훈련 타겟 데이터 : {train_target.shape}')\n",
    "print(f'테스트 입력 데이터 : {test_input.shape}', f'테스트 타겟 데이터 : {test_target.shape}')"
   ]
  },
  {
   "cell_type": "markdown",
   "metadata": {},
   "source": [
    "### [2] 데이터 전처리 및 학습형태로 변환"
   ]
  },
  {
   "cell_type": "code",
   "execution_count": 6,
   "metadata": {},
   "outputs": [],
   "source": [
    "# 스케일링\n",
    "train_input = train_input / 255.0\n",
    "test_input = test_input / 255.0"
   ]
  },
  {
   "cell_type": "code",
   "execution_count": 7,
   "metadata": {},
   "outputs": [],
   "source": [
    "# Conv 레이어는 이미지의 채널 정보까지 입력\n",
    "train_input= train_input.reshape(-1, 28, 28, 1)\n",
    "test_input= test_input.reshape(-1, 28, 28, 1)"
   ]
  },
  {
   "cell_type": "code",
   "execution_count": 8,
   "metadata": {},
   "outputs": [
    {
     "name": "stdout",
     "output_type": "stream",
     "text": [
      "훈련 입력 데이터 : (60000, 28, 28, 1)\n",
      "테스트 입력 데이터 : (10000, 28, 28, 1)\n"
     ]
    }
   ],
   "source": [
    "print(f'훈련 입력 데이터 : {train_input.shape}')\n",
    "print(f'테스트 입력 데이터 : {test_input.shape}')"
   ]
  },
  {
   "cell_type": "code",
   "execution_count": 9,
   "metadata": {},
   "outputs": [],
   "source": [
    "# 검증용 데이터 준비\n",
    "from sklearn.model_selection import train_test_split\n",
    "\n",
    "train_input, val_input, train_target, val_target = train_test_split(train_input, train_target,\n",
    "stratify = train_target, random_state=11)"
   ]
  },
  {
   "cell_type": "markdown",
   "metadata": {},
   "source": [
    "### [3] 모델 구성 및 생성\n",
    "- 입력 형태 : 채널 정보까지 포함 3차원 (28, 28, 1)\n",
    "- 출력 형태 : 0 ~ 9까지 정수 확률값 10개 출력\n",
    "- 학습 방식 : 분류 중에서 다중분류\n",
    "- 전반부\n",
    "    * 이미지 특징 추출\n",
    "        - Con2D, MaxPoll2D\n",
    "- 후반부\n",
    "    * 이미지 데이터 학습\n",
    "        - Flatten, Dense"
   ]
  },
  {
   "cell_type": "code",
   "execution_count": 10,
   "metadata": {},
   "outputs": [
    {
     "data": {
      "text/plain": [
       "((45000, 28, 28, 1), (45000,))"
      ]
     },
     "execution_count": 10,
     "metadata": {},
     "output_type": "execute_result"
    }
   ],
   "source": [
    "train_input.shape, train_target.shape"
   ]
  },
  {
   "cell_type": "markdown",
   "metadata": {},
   "source": [
    "#### [3] - 1 모델 구상"
   ]
  },
  {
   "cell_type": "code",
   "execution_count": 11,
   "metadata": {},
   "outputs": [],
   "source": [
    "model = Sequential()\n",
    "\n",
    "# 이미지 특징 추출 Layer => 첫번째 입력값 설정, 흑백이니까 input 값이 1\n",
    "model.add(Conv2D(1, kernel_size = 3, padding = 'same', input_shape = (28, 28, 1)))\n",
    "\n",
    "# 이미지 특징 다운샘플링 해주는 Layer => MaxPoll2D\n",
    "model.add(MaxPool2D(pool_size = (2,2)))\n",
    "\n",
    "# 이미지를 1차원으로 변환시켜주는 Layer\n",
    "model.add(Flatten())\n",
    "\n",
    "# 출력층 => Node : 10(0-9), activation : softmax\n",
    "model.add(Dense(10, activation = 'softmax'))"
   ]
  },
  {
   "cell_type": "code",
   "execution_count": 12,
   "metadata": {},
   "outputs": [
    {
     "name": "stdout",
     "output_type": "stream",
     "text": [
      "Model: \"sequential\"\n",
      "_________________________________________________________________\n",
      " Layer (type)                Output Shape              Param #   \n",
      "=================================================================\n",
      " conv2d (Conv2D)             (None, 28, 28, 1)         10        \n",
      "                                                                 \n",
      " max_pooling2d (MaxPooling2D  (None, 14, 14, 1)        0         \n",
      " )                                                               \n",
      "                                                                 \n",
      " flatten (Flatten)           (None, 196)               0         \n",
      "                                                                 \n",
      " dense (Dense)               (None, 10)                1970      \n",
      "                                                                 \n",
      "=================================================================\n",
      "Total params: 1,980\n",
      "Trainable params: 1,980\n",
      "Non-trainable params: 0\n",
      "_________________________________________________________________\n"
     ]
    }
   ],
   "source": [
    "model.summary()"
   ]
  },
  {
   "cell_type": "code",
   "execution_count": 13,
   "metadata": {},
   "outputs": [
    {
     "data": {
      "image/png": "[encoded data removed]",
      "text/plain": [
       "<IPython.core.display.Image object>"
      ]
     },
     "execution_count": 13,
     "metadata": {},
     "output_type": "execute_result"
    }
   ],
   "source": [
    "plot_model(model, show_shapes=True)"
   ]
  },
  {
   "cell_type": "markdown",
   "metadata": {},
   "source": [
    "#### [3] - 2 모델 생성\n",
    "---  \n",
    "- complie 메서드\n",
    "    * loss 손실 함수 : 다중에 인코딩을 안했으니까 sparse_categorical_crossentropy\n",
    "    * optimizer 최적화 : adam\n",
    "    * metrics 평가항목 : acuuracy"
   ]
  },
  {
   "cell_type": "code",
   "execution_count": 14,
   "metadata": {},
   "outputs": [],
   "source": [
    "model.compile(loss = 'sparse_categorical_crossentropy',\n",
    "optimizer='adam',\n",
    "metrics='accuracy')"
   ]
  },
  {
   "cell_type": "markdown",
   "metadata": {},
   "source": [
    "#### [3] - 3 모델 학습\n",
    "- fit 메서드\n",
    "    - 학습 데이터, 라벨\n",
    "    - epochs : 학습 횟수\n",
    "    - batch_size : 학습 분량\n",
    "    - validation_data : 검증 데이터, 검증 라벨\n",
    "    - validataion_split 학습데이터의 일부 비율 설정(ex, 0.2)\n",
    "    - callback\n",
    "    - verbose : 학습 진행도 화면 출력 여부 설정"
   ]
  },
  {
   "cell_type": "code",
   "execution_count": 15,
   "metadata": {},
   "outputs": [
    {
     "name": "stdout",
     "output_type": "stream",
     "text": [
      "1407/1407 [==============================] - 7s 4ms/step - loss: 0.7114 - accuracy: 0.7566\n"
     ]
    },
    {
     "data": {
      "text/plain": [
       "<keras.callbacks.History at 0x1b150386af0>"
      ]
     },
     "execution_count": 15,
     "metadata": {},
     "output_type": "execute_result"
    }
   ],
   "source": [
    "model.fit(train_input, train_target)"
   ]
  },
  {
   "cell_type": "markdown",
   "metadata": {},
   "source": [
    "### [4] 평가"
   ]
  },
  {
   "cell_type": "code",
   "execution_count": 27,
   "metadata": {},
   "outputs": [
    {
     "name": "stdout",
     "output_type": "stream",
     "text": [
      "313/313 [==============================] - 1s 3ms/step - loss: 0.5527 - accuracy: 0.8038\n"
     ]
    },
    {
     "data": {
      "text/plain": [
       "[0.5527396202087402, 0.8037999868392944]"
      ]
     },
     "execution_count": 27,
     "metadata": {},
     "output_type": "execute_result"
    }
   ],
   "source": [
    "model.evaluate(test_input, test_target)"
   ]
  },
  {
   "cell_type": "markdown",
   "metadata": {},
   "source": [
    "### [5] 테스트\n",
    "--- \n",
    "- 새로운 데이터"
   ]
  },
  {
   "cell_type": "code",
   "execution_count": 30,
   "metadata": {},
   "outputs": [
    {
     "data": {
      "text/plain": [
       "(28, 28, 1)"
      ]
     },
     "execution_count": 30,
     "metadata": {},
     "output_type": "execute_result"
    }
   ],
   "source": [
    "test_input[0].shape"
   ]
  },
  {
   "cell_type": "code",
   "execution_count": 34,
   "metadata": {},
   "outputs": [
    {
     "name": "stdout",
     "output_type": "stream",
     "text": [
      "1/1 [==============================] - 0s 17ms/step\n"
     ]
    }
   ],
   "source": [
    "pre_target = model.predict(test_input[0].reshape(-1, 28, 28, 1))"
   ]
  },
  {
   "cell_type": "code",
   "execution_count": 36,
   "metadata": {},
   "outputs": [
    {
     "data": {
      "text/plain": [
       "(array([[2.39944643e-06, 6.85727264e-06, 6.29907445e-05, 5.68325595e-05,\n",
       "         8.77530038e-05, 3.26368928e-01, 1.03373655e-04, 4.57038015e-01,\n",
       "         2.80657806e-03, 2.13466287e-01]], dtype=float32),\n",
       " (1, 10))"
      ]
     },
     "execution_count": 36,
     "metadata": {},
     "output_type": "execute_result"
    }
   ],
   "source": [
    "pre_target, pre_target.shape"
   ]
  },
  {
   "cell_type": "code",
   "execution_count": 40,
   "metadata": {},
   "outputs": [
    {
     "data": {
      "text/plain": [
       "<matplotlib.image.AxesImage at 0x1b151a5d250>"
      ]
     },
     "execution_count": 40,
     "metadata": {},
     "output_type": "execute_result"
    },
    {
     "data": {
      "image/png": "[encoded data removed]",
      "text/plain": [
       "<Figure size 432x288 with 1 Axes>"
      ]
     },
     "metadata": {
      "needs_background": "light"
     },
     "output_type": "display_data"
    }
   ],
   "source": [
    "plt.imshow(val_input[0].reshape(28, 28), cmap = 'gray_r')"
   ]
  }
 ],
 "metadata": {
  "kernelspec": {
   "display_name": "Python 3.9.12 ('base')",
   "language": "python",
   "name": "python3"
  },
  "language_info": {
   "codemirror_mode": {
    "name": "ipython",
    "version": 3
   },
   "file_extension": ".py",
   "mimetype": "text/x-python",
   "name": "python",
   "nbconvert_exporter": "python",
   "pygments_lexer": "ipython3",
   "version": "3.9.12"
  },
  "orig_nbformat": 4,
  "vscode": {
   "interpreter": {
    "hash": "399b942a90945adf822711c817a2148b24a3a269b52160aecaa333816877df5e"
   }
  }
 },
 "nbformat": 4,
 "nbformat_minor": 2
}
