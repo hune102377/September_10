{
 "cells": [
  {
   "cell_type": "markdown",
   "metadata": {},
   "source": [
    "# 네이버 영화 리뷰 감성 분류하기"
   ]
  },
  {
   "cell_type": "markdown",
   "metadata": {},
   "source": [
    "모델은 고정해두고   \n",
    "(1) 데이터 양을 다르게 하고 (절반/전체)   \n",
    "(2) 전처리를 다르게 해서 (불용어 처리 유무, oov를 전체/일부/최소)  \n",
    "다양한 전처리 단계를 통해 분석량 변화  "
   ]
  },
  {
   "cell_type": "markdown",
   "metadata": {},
   "source": [
    "### 1. 네이버 영화 리뷰 데이터에 대한 이해와 전처리"
   ]
  },
  {
   "cell_type": "code",
   "execution_count": 2,
   "metadata": {},
   "outputs": [],
   "source": [
    "import pandas as pd\n",
    "import numpy as np\n",
    "import matplotlib.pyplot as plt\n",
    "\n",
    "from tensorflow.keras.preprocessing.text import Tokenizer\n",
    "from tensorflow.keras.preprocessing.sequence import pad_sequences\n",
    "\n",
    "import re # 정규 표현식 관련 모델\n",
    "from konlpy.tag import Okt #Open Korean Text 형태소 분리 모듈\n",
    "from tqdm import tqdm # 진행 상황을 보여주는 모듈"
   ]
  },
  {
   "cell_type": "code",
   "execution_count": 82,
   "metadata": {},
   "outputs": [],
   "source": [
    "# 한글 깨짐 방지\n",
    "import platform\n",
    "\n",
    "if platform.system() == 'Windows': \n",
    "    path = r'c:\\Windows\\Fonts\\gulim.ttf'\n",
    "elif platform.system() == 'Darwin': # Mac OS\n",
    "    path = r'/System/Library/Fonts/AppleGothic'\n",
    "else:\n",
    "    path = r'/usr/share/fonts/truetype/name/NanumMyeongjo.ttf'"
   ]
  },
  {
   "cell_type": "markdown",
   "metadata": {},
   "source": [
    "##### [1] 데이터 로드하기"
   ]
  },
  {
   "cell_type": "code",
   "execution_count": 4,
   "metadata": {},
   "outputs": [],
   "source": [
    "data = pd.read_table('./data/data.txt')"
   ]
  },
  {
   "cell_type": "code",
   "execution_count": 5,
   "metadata": {},
   "outputs": [
    {
     "data": {
      "text/html": [
       "<div>\n",
       "<style scoped>\n",
       "    .dataframe tbody tr th:only-of-type {\n",
       "        vertical-align: middle;\n",
       "    }\n",
       "\n",
       "    .dataframe tbody tr th {\n",
       "        vertical-align: top;\n",
       "    }\n",
       "\n",
       "    .dataframe thead th {\n",
       "        text-align: right;\n",
       "    }\n",
       "</style>\n",
       "<table border=\"1\" class=\"dataframe\">\n",
       "  <thead>\n",
       "    <tr style=\"text-align: right;\">\n",
       "      <th></th>\n",
       "      <th>id</th>\n",
       "      <th>document</th>\n",
       "      <th>label</th>\n",
       "    </tr>\n",
       "  </thead>\n",
       "  <tbody>\n",
       "    <tr>\n",
       "      <th>0</th>\n",
       "      <td>9976970</td>\n",
       "      <td>아 더빙.. 진짜 짜증나네요 목소리</td>\n",
       "      <td>0</td>\n",
       "    </tr>\n",
       "    <tr>\n",
       "      <th>1</th>\n",
       "      <td>3819312</td>\n",
       "      <td>흠...포스터보고 초딩영화줄....오버연기조차 가볍지 않구나</td>\n",
       "      <td>1</td>\n",
       "    </tr>\n",
       "    <tr>\n",
       "      <th>2</th>\n",
       "      <td>10265843</td>\n",
       "      <td>너무재밓었다그래서보는것을추천한다</td>\n",
       "      <td>0</td>\n",
       "    </tr>\n",
       "    <tr>\n",
       "      <th>3</th>\n",
       "      <td>9045019</td>\n",
       "      <td>교도소 이야기구먼 ..솔직히 재미는 없다..평점 조정</td>\n",
       "      <td>0</td>\n",
       "    </tr>\n",
       "    <tr>\n",
       "      <th>4</th>\n",
       "      <td>6483659</td>\n",
       "      <td>사이몬페그의 익살스런 연기가 돋보였던 영화!스파이더맨에서 늙어보이기만 했던 커스틴 ...</td>\n",
       "      <td>1</td>\n",
       "    </tr>\n",
       "    <tr>\n",
       "      <th>5</th>\n",
       "      <td>5403919</td>\n",
       "      <td>막 걸음마 뗀 3세부터 초등학교 1학년생인 8살용영화.ㅋㅋㅋ...별반개도 아까움.</td>\n",
       "      <td>0</td>\n",
       "    </tr>\n",
       "    <tr>\n",
       "      <th>6</th>\n",
       "      <td>7797314</td>\n",
       "      <td>원작의 긴장감을 제대로 살려내지못했다.</td>\n",
       "      <td>0</td>\n",
       "    </tr>\n",
       "    <tr>\n",
       "      <th>7</th>\n",
       "      <td>9443947</td>\n",
       "      <td>별 반개도 아깝다 욕나온다 이응경 길용우 연기생활이몇년인지..정말 발로해도 그것보단...</td>\n",
       "      <td>0</td>\n",
       "    </tr>\n",
       "    <tr>\n",
       "      <th>8</th>\n",
       "      <td>7156791</td>\n",
       "      <td>액션이 없는데도 재미 있는 몇안되는 영화</td>\n",
       "      <td>1</td>\n",
       "    </tr>\n",
       "    <tr>\n",
       "      <th>9</th>\n",
       "      <td>5912145</td>\n",
       "      <td>왜케 평점이 낮은건데? 꽤 볼만한데.. 헐리우드식 화려함에만 너무 길들여져 있나?</td>\n",
       "      <td>1</td>\n",
       "    </tr>\n",
       "    <tr>\n",
       "      <th>10</th>\n",
       "      <td>9008700</td>\n",
       "      <td>걍인피니트가짱이다.진짜짱이다♥</td>\n",
       "      <td>1</td>\n",
       "    </tr>\n",
       "    <tr>\n",
       "      <th>11</th>\n",
       "      <td>10217543</td>\n",
       "      <td>볼때마다 눈물나서 죽겠다90년대의 향수자극!!허진호는 감성절제멜로의 달인이다~</td>\n",
       "      <td>1</td>\n",
       "    </tr>\n",
       "    <tr>\n",
       "      <th>12</th>\n",
       "      <td>5957425</td>\n",
       "      <td>울면서 손들고 횡단보도 건널때 뛰쳐나올뻔 이범수 연기 드럽게못해</td>\n",
       "      <td>0</td>\n",
       "    </tr>\n",
       "    <tr>\n",
       "      <th>13</th>\n",
       "      <td>8628627</td>\n",
       "      <td>담백하고 깔끔해서 좋다. 신문기사로만 보다 보면 자꾸 잊어버린다. 그들도 사람이었다...</td>\n",
       "      <td>1</td>\n",
       "    </tr>\n",
       "    <tr>\n",
       "      <th>14</th>\n",
       "      <td>9864035</td>\n",
       "      <td>취향은 존중한다지만 진짜 내생에 극장에서 본 영화중 가장 노잼 노감동임 스토리도 어...</td>\n",
       "      <td>0</td>\n",
       "    </tr>\n",
       "    <tr>\n",
       "      <th>15</th>\n",
       "      <td>6852435</td>\n",
       "      <td>ㄱ냥 매번 긴장되고 재밋음ㅠㅠ</td>\n",
       "      <td>1</td>\n",
       "    </tr>\n",
       "    <tr>\n",
       "      <th>16</th>\n",
       "      <td>9143163</td>\n",
       "      <td>참 사람들 웃긴게 바스코가 이기면 락스코라고 까고바비가 이기면 아이돌이라고 깐다.그...</td>\n",
       "      <td>1</td>\n",
       "    </tr>\n",
       "    <tr>\n",
       "      <th>17</th>\n",
       "      <td>4891476</td>\n",
       "      <td>굿바이 레닌 표절인것은 이해하는데 왜 뒤로 갈수록 재미없어지냐</td>\n",
       "      <td>0</td>\n",
       "    </tr>\n",
       "    <tr>\n",
       "      <th>18</th>\n",
       "      <td>7465483</td>\n",
       "      <td>이건 정말 깨알 캐스팅과 질퍽하지않은 산뜻한 내용구성이 잘 버무러진 깨알일드!!♥</td>\n",
       "      <td>1</td>\n",
       "    </tr>\n",
       "    <tr>\n",
       "      <th>19</th>\n",
       "      <td>3989148</td>\n",
       "      <td>약탈자를 위한 변명, 이라. 저놈들은 착한놈들 절대 아닌걸요.</td>\n",
       "      <td>1</td>\n",
       "    </tr>\n",
       "  </tbody>\n",
       "</table>\n",
       "</div>"
      ],
      "text/plain": [
       "          id                                           document  label\n",
       "0    9976970                                아 더빙.. 진짜 짜증나네요 목소리      0\n",
       "1    3819312                  흠...포스터보고 초딩영화줄....오버연기조차 가볍지 않구나      1\n",
       "2   10265843                                  너무재밓었다그래서보는것을추천한다      0\n",
       "3    9045019                      교도소 이야기구먼 ..솔직히 재미는 없다..평점 조정      0\n",
       "4    6483659  사이몬페그의 익살스런 연기가 돋보였던 영화!스파이더맨에서 늙어보이기만 했던 커스틴 ...      1\n",
       "5    5403919      막 걸음마 뗀 3세부터 초등학교 1학년생인 8살용영화.ㅋㅋㅋ...별반개도 아까움.      0\n",
       "6    7797314                              원작의 긴장감을 제대로 살려내지못했다.      0\n",
       "7    9443947  별 반개도 아깝다 욕나온다 이응경 길용우 연기생활이몇년인지..정말 발로해도 그것보단...      0\n",
       "8    7156791                             액션이 없는데도 재미 있는 몇안되는 영화      1\n",
       "9    5912145      왜케 평점이 낮은건데? 꽤 볼만한데.. 헐리우드식 화려함에만 너무 길들여져 있나?      1\n",
       "10   9008700                                   걍인피니트가짱이다.진짜짱이다♥      1\n",
       "11  10217543        볼때마다 눈물나서 죽겠다90년대의 향수자극!!허진호는 감성절제멜로의 달인이다~      1\n",
       "12   5957425                울면서 손들고 횡단보도 건널때 뛰쳐나올뻔 이범수 연기 드럽게못해      0\n",
       "13   8628627  담백하고 깔끔해서 좋다. 신문기사로만 보다 보면 자꾸 잊어버린다. 그들도 사람이었다...      1\n",
       "14   9864035  취향은 존중한다지만 진짜 내생에 극장에서 본 영화중 가장 노잼 노감동임 스토리도 어...      0\n",
       "15   6852435                                   ㄱ냥 매번 긴장되고 재밋음ㅠㅠ      1\n",
       "16   9143163  참 사람들 웃긴게 바스코가 이기면 락스코라고 까고바비가 이기면 아이돌이라고 깐다.그...      1\n",
       "17   4891476                 굿바이 레닌 표절인것은 이해하는데 왜 뒤로 갈수록 재미없어지냐      0\n",
       "18   7465483      이건 정말 깨알 캐스팅과 질퍽하지않은 산뜻한 내용구성이 잘 버무러진 깨알일드!!♥      1\n",
       "19   3989148                 약탈자를 위한 변명, 이라. 저놈들은 착한놈들 절대 아닌걸요.      1"
      ]
     },
     "execution_count": 5,
     "metadata": {},
     "output_type": "execute_result"
    }
   ],
   "source": [
    "data.head(20)"
   ]
  },
  {
   "cell_type": "markdown",
   "metadata": {},
   "source": [
    "##### [2] 데이터 정제하기"
   ]
  },
  {
   "cell_type": "markdown",
   "metadata": {},
   "source": [
    "[2 - 1] 정규식을 통한 한글과 공백을 제외한 문자 제거"
   ]
  },
  {
   "cell_type": "code",
   "execution_count": 6,
   "metadata": {},
   "outputs": [
    {
     "name": "stderr",
     "output_type": "stream",
     "text": [
      "C:\\Users\\LJH\\AppData\\Local\\Temp\\ipykernel_12832\\192973331.py:1: FutureWarning: The default value of regex will change from True to False in a future version.\n",
      "  data['document'] = data['document'].str.replace(\"[^ㄱ-ㅎㅏ-ㅣ가-힣 ]\",\"\")\n"
     ]
    }
   ],
   "source": [
    "data['document'] = data['document'].str.replace(\"[^ㄱ-ㅎㅏ-ㅣ가-힣 ]\",\"\")"
   ]
  },
  {
   "cell_type": "markdown",
   "metadata": {},
   "source": [
    "[2 - 2] 중복 유무 확인"
   ]
  },
  {
   "cell_type": "code",
   "execution_count": 7,
   "metadata": {},
   "outputs": [
    {
     "name": "stdout",
     "output_type": "stream",
     "text": [
      "전체 데이터 : 150000\n",
      "고유값 : 143682\n"
     ]
    }
   ],
   "source": [
    "# document열의 중복여부 확인\n",
    "print('전체 데이터 :', len(data))\n",
    "print('고유값 :', data['document'].nunique())"
   ]
  },
  {
   "cell_type": "markdown",
   "metadata": {},
   "source": [
    "전체 데이터에서 고유값과 차이가 난다는 것은 그만큼의 중복값이 있다는 것이니 제거한다"
   ]
  },
  {
   "cell_type": "code",
   "execution_count": 8,
   "metadata": {},
   "outputs": [],
   "source": [
    "# 중복 데이터 제거\n",
    "data.drop_duplicates(subset=['document'], inplace = True)"
   ]
  },
  {
   "cell_type": "markdown",
   "metadata": {},
   "source": [
    "[2 - 3] 결측치 확인"
   ]
  },
  {
   "cell_type": "code",
   "execution_count": 9,
   "metadata": {},
   "outputs": [
    {
     "data": {
      "text/plain": [
       "id          0\n",
       "document    1\n",
       "label       0\n",
       "dtype: int64"
      ]
     },
     "execution_count": 9,
     "metadata": {},
     "output_type": "execute_result"
    }
   ],
   "source": [
    "data.isna().sum()"
   ]
  },
  {
   "cell_type": "code",
   "execution_count": 10,
   "metadata": {},
   "outputs": [
    {
     "data": {
      "text/html": [
       "<div>\n",
       "<style scoped>\n",
       "    .dataframe tbody tr th:only-of-type {\n",
       "        vertical-align: middle;\n",
       "    }\n",
       "\n",
       "    .dataframe tbody tr th {\n",
       "        vertical-align: top;\n",
       "    }\n",
       "\n",
       "    .dataframe thead th {\n",
       "        text-align: right;\n",
       "    }\n",
       "</style>\n",
       "<table border=\"1\" class=\"dataframe\">\n",
       "  <thead>\n",
       "    <tr style=\"text-align: right;\">\n",
       "      <th></th>\n",
       "      <th>id</th>\n",
       "      <th>document</th>\n",
       "      <th>label</th>\n",
       "    </tr>\n",
       "  </thead>\n",
       "  <tbody>\n",
       "    <tr>\n",
       "      <th>25857</th>\n",
       "      <td>2172111</td>\n",
       "      <td>NaN</td>\n",
       "      <td>1</td>\n",
       "    </tr>\n",
       "  </tbody>\n",
       "</table>\n",
       "</div>"
      ],
      "text/plain": [
       "            id document  label\n",
       "25857  2172111      NaN      1"
      ]
     },
     "execution_count": 10,
     "metadata": {},
     "output_type": "execute_result"
    }
   ],
   "source": [
    "# 결측 데이터 확인\n",
    "data.loc[data.document.isnull()]"
   ]
  },
  {
   "cell_type": "code",
   "execution_count": 11,
   "metadata": {},
   "outputs": [],
   "source": [
    "# 결측치 제거\n",
    "data = data.dropna(how = 'any')"
   ]
  },
  {
   "cell_type": "code",
   "execution_count": 12,
   "metadata": {},
   "outputs": [
    {
     "data": {
      "image/png": "[encoded data removed]",
      "text/plain": [
       "<Figure size 576x432 with 1 Axes>"
      ]
     },
     "metadata": {
      "needs_background": "light"
     },
     "output_type": "display_data"
    },
    {
     "name": "stdout",
     "output_type": "stream",
     "text": [
      "   label  count\n",
      "0      0  72216\n",
      "1      1  71466\n"
     ]
    }
   ],
   "source": [
    "plt.figure(figsize=(8,6))\n",
    "plt.bar(['1', '0'], data['label'].value_counts(), color = ['steelblue', 'tomato'])\n",
    "plt.show()\n",
    "\n",
    "print(data.groupby('label').size().reset_index(name = 'count'))"
   ]
  },
  {
   "cell_type": "markdown",
   "metadata": {},
   "source": [
    "거의 같은 데이터 자료로 구성되어 있음"
   ]
  },
  {
   "cell_type": "markdown",
   "metadata": {},
   "source": [
    "##### [3] 토큰화"
   ]
  },
  {
   "cell_type": "markdown",
   "metadata": {},
   "source": [
    "[3 - 1] 불용어 제거"
   ]
  },
  {
   "cell_type": "markdown",
   "metadata": {},
   "source": [
    "https://www.ranks.nl/stopwords/korean"
   ]
  },
  {
   "cell_type": "markdown",
   "metadata": {},
   "source": [
    "참고) 기본적인 한국어 불용어 리스트 100개\n",
    "- https://bab2min.tistory.com/544\n",
    "    * 단, 이 리스트는 구어나 인터넷의 가벼운 글들을 반영하지 않아서 블로그/SNS 등에는 적합하지 않음"
   ]
  },
  {
   "cell_type": "markdown",
   "metadata": {},
   "source": [
    "**불용어 지정 - 분기 (1)**"
   ]
  },
  {
   "cell_type": "code",
   "execution_count": 13,
   "metadata": {},
   "outputs": [],
   "source": [
    "with open(\"./data/stopwords.txt\", \"r\", encoding = \"utf-8\") as f:\n",
    "    stopwords = f.readlines()\n",
    "    stopwords = stopwords[0].split(\" \")"
   ]
  },
  {
   "cell_type": "code",
   "execution_count": 14,
   "metadata": {},
   "outputs": [
    {
     "name": "stdout",
     "output_type": "stream",
     "text": [
      "889\n",
      "['아', '휴', '아이구', '아이쿠', '아이고', '어', '나', '우리', '저희', '따라', '의해', '을', '를', '에', '의', '가', '으로', '로', '에게', '뿐이다']\n"
     ]
    }
   ],
   "source": [
    "print(len(stopwords))\n",
    "print(stopwords[:20])"
   ]
  },
  {
   "cell_type": "markdown",
   "metadata": {},
   "source": [
    "889개의 불용어로 구성되어 있는데 조금 지나치게 많은거 아닌가?"
   ]
  },
  {
   "cell_type": "code",
   "execution_count": 15,
   "metadata": {},
   "outputs": [],
   "source": [
    "stopwords_01 = ['의','가','이','은','들','는','좀','잘','걍','과','도','를','으로','자','에','와','한','하다']"
   ]
  },
  {
   "cell_type": "markdown",
   "metadata": {},
   "source": [
    "**형태소 분석 - 분기 (2)**"
   ]
  },
  {
   "cell_type": "code",
   "execution_count": 17,
   "metadata": {},
   "outputs": [],
   "source": [
    "okt = Okt()"
   ]
  },
  {
   "cell_type": "code",
   "execution_count": 18,
   "metadata": {},
   "outputs": [
    {
     "name": "stderr",
     "output_type": "stream",
     "text": [
      "100%|██████████| 143682/143682 [19:48<00:00, 120.94it/s]\n",
      "100%|██████████| 143682/143682 [26:45<00:00, 89.52it/s] \n",
      "100%|██████████| 143682/143682 [31:25<00:00, 76.19it/s] \n"
     ]
    }
   ],
   "source": [
    "# 토큰화만 형태소로 진행된 경우\n",
    "X_train_00 = []\n",
    "# 토큰화와 불용어 적게 제거한 경우\n",
    "X_train_01 = []\n",
    "# 토큰화와 형태소, 불용어 많이 제거한 경우\n",
    "X_train_02 = []\n",
    "\n",
    "# 00\n",
    "for sentence in tqdm(data['document']):\n",
    "    tokenized_sentence = okt.morphs(sentence, stem=True) # 토큰화\n",
    "    X_train_00.append(tokenized_sentence)\n",
    "\n",
    "# 01\n",
    "for sentence in tqdm(data['document']):\n",
    "    tokenized_sentence = okt.morphs(sentence, stem=True) # 토큰화\n",
    "    stopwords_removed_sentence = [word for word in tokenized_sentence if not word in stopwords_01] # 불용어 적게 제거\n",
    "    X_train_01.append(stopwords_removed_sentence)\n",
    "\n",
    "# 02\n",
    "for sentence in tqdm(data['document']):\n",
    "    tokenized_sentence = okt.morphs(sentence, stem=True) # 토큰화\n",
    "    stopwords_removed_sentence = [word for word in tokenized_sentence if not word in stopwords] # 불용어 많이 제거\n",
    "    X_train_02.append(stopwords_removed_sentence)"
   ]
  },
  {
   "cell_type": "markdown",
   "metadata": {},
   "source": [
    "##### [4] 정수 인코딩"
   ]
  },
  {
   "cell_type": "code",
   "execution_count": 20,
   "metadata": {},
   "outputs": [],
   "source": [
    "# 각각의 데이터에 대한 Tokenizer 생성\n",
    "tokenizer_0 = Tokenizer()\n",
    "tokenizer_1 = Tokenizer()\n",
    "tokenizer_2 = Tokenizer()\n",
    "# 각각의 Tokenizer 훈련\n",
    "tokenizer_0.fit_on_texts(X_train_00)\n",
    "tokenizer_1.fit_on_texts(X_train_01)\n",
    "tokenizer_2.fit_on_texts(X_train_02)"
   ]
  },
  {
   "cell_type": "code",
   "execution_count": 26,
   "metadata": {},
   "outputs": [
    {
     "name": "stdout",
     "output_type": "stream",
     "text": [
      "불용어를 제거하지 않는 경우  : 43770\n",
      "불용어를 일부만 제거한 경우  : 43752\n",
      "불용어를 많이 제거한 경우    : 43431\n"
     ]
    }
   ],
   "source": [
    "print('불용어를 제거하지 않는 경우  :', len(tokenizer_0.word_index))\n",
    "print('불용어를 일부만 제거한 경우  :', len(tokenizer_1.word_index))\n",
    "print('불용어를 많이 제거한 경우    :', len(tokenizer_2.word_index))"
   ]
  },
  {
   "cell_type": "code",
   "execution_count": 69,
   "metadata": {},
   "outputs": [],
   "source": [
    "def checkToken(tokenizer, threshold) :\n",
    "    total_cnt = len(tokenizer.word_index) # 단어의 수\n",
    "    rare_cnt = 0 # 등장 빈도수가 threshold보다 작은 단어의 개수를 카운트\n",
    "    total_freq = 0 # 훈련 데이터의 전체 단어 빈도수 총 합\n",
    "    rare_freq = 0 # 등장 빈도수가 threshold보다 작은 단어의 등장 빈도수의 총 합\n",
    "\n",
    "    # 단어와 빈도수의 쌍(pair)을 key와 value로 받는다.\n",
    "    for key, value in tokenizer.word_counts.items():\n",
    "        total_freq = total_freq + value\n",
    "\n",
    "        # 단어의 등장 빈도수가 threshold보다 작으면\n",
    "        if(value < threshold):\n",
    "            rare_cnt = rare_cnt + 1\n",
    "            rare_freq = rare_freq + value\n",
    "    \n",
    "\n",
    "    total = (rare_freq / total_freq)*100\n",
    "\n",
    "    print('단어 집합(vocabulary)의 크기 :',total_cnt)\n",
    "    print('등장 빈도가 %s번 미만인 희귀 단어의 수: %s'%(threshold, rare_cnt))\n",
    "    print(\"단어 집합에서 희귀 단어의 비율:\", (rare_cnt / total_cnt)*100)\n",
    "    print(\"전체 등장 빈도에서 희귀 단어 등장 빈도 비율:\", (rare_freq / total_freq)*100)\n",
    "    return (rare_freq / total_freq) * 100"
   ]
  },
  {
   "cell_type": "code",
   "execution_count": 76,
   "metadata": {},
   "outputs": [
    {
     "name": "stdout",
     "output_type": "stream",
     "text": [
      "단어 집합(vocabulary)의 크기 : 43770\n",
      "등장 빈도가 30번 미만인 희귀 단어의 수: 39276\n",
      "단어 집합에서 희귀 단어의 비율: 89.73269362577108\n",
      "전체 등장 빈도에서 희귀 단어 등장 빈도 비율: 8.339727969798032\n",
      "------------------------------\n",
      "단어 집합(vocabulary)의 크기 : 43770\n",
      "등장 빈도가 3번 미만인 희귀 단어의 수: 24340\n",
      "단어 집합에서 희귀 단어의 비율: 55.608864519076995\n",
      "전체 등장 빈도에서 희귀 단어 등장 빈도 비율: 1.5747898974035586\n",
      "------------------------------\n",
      "단어 집합(vocabulary)의 크기 : 43752\n",
      "등장 빈도가 30번 미만인 희귀 단어의 수: 39276\n",
      "단어 집합에서 희귀 단어의 비율: 89.76961053208996\n",
      "전체 등장 빈도에서 희귀 단어 등장 빈도 비율: 9.933426758471379\n",
      "------------------------------\n",
      "단어 집합(vocabulary)의 크기 : 43752\n",
      "등장 빈도가 3번 미만인 희귀 단어의 수: 24340\n",
      "단어 집합에서 희귀 단어의 비율: 55.631742548912044\n",
      "전체 등장 빈도에서 희귀 단어 등장 빈도 비율: 1.8757278609673573\n",
      "------------------------------\n",
      "단어 집합(vocabulary)의 크기 : 43431\n",
      "등장 빈도가 30번 미만인 희귀 단어의 수: 39189\n",
      "단어 집합에서 희귀 단어의 비율: 90.23278303515922\n",
      "전체 등장 빈도에서 희귀 단어 등장 빈도 비율: 11.946876212679722\n",
      "------------------------------\n",
      "단어 집합(vocabulary)의 크기 : 43431\n",
      "등장 빈도가 3번 미만인 희귀 단어의 수: 24307\n",
      "단어 집합에서 희귀 단어의 비율: 55.966936059496675\n",
      "전체 등장 빈도에서 희귀 단어 등장 빈도 비율: 2.261399473058748\n"
     ]
    }
   ],
   "source": [
    "num_pro_0_30 = checkToken(tokenizer_0, 30)\n",
    "print('------------------------------')\n",
    "num_pro_0_3 = checkToken(tokenizer_0, 3)\n",
    "print('------------------------------')\n",
    "num_pro_1_30 = checkToken(tokenizer_1, 30)\n",
    "print('------------------------------')\n",
    "num_pro_1_3 = checkToken(tokenizer_1, 3)\n",
    "print('------------------------------')\n",
    "num_pro_2_30 = checkToken(tokenizer_2, 30)\n",
    "print('------------------------------')\n",
    "num_pro_2_3 = checkToken(tokenizer_2, 3)\n",
    "\n",
    "list_pro_30 = []\n",
    "list_pro_3 = []\n",
    "\n",
    "list_pro_30.append(num_pro_0_30)\n",
    "list_pro_30.append(num_pro_1_30)\n",
    "list_pro_30.append(num_pro_2_30)\n",
    "list_pro_3.append(num_pro_0_3)\n",
    "list_pro_3.append(num_pro_1_3)\n",
    "list_pro_3.append(num_pro_2_3)"
   ]
  },
  {
   "cell_type": "code",
   "execution_count": 138,
   "metadata": {},
   "outputs": [
    {
     "data": {
      "image/png": "[encoded data removed]",
      "text/plain": [
       "<Figure size 1728x720 with 3 Axes>"
      ]
     },
     "metadata": {
      "needs_background": "light"
     },
     "output_type": "display_data"
    }
   ],
   "source": [
    "plt.figure(figsize=(24,10))\n",
    "plt.subplot(131)\n",
    "plt.bar(['Stopword X', 'Stopword S', 'Stopword L'], list_pro_30)\n",
    "plt.ylim(0,13)\n",
    "plt.subplot(132)\n",
    "plt.bar(['Stopword X', 'Stopword S', 'Stopword L'], list_pro_3, color = 'tomato')\n",
    "plt.ylim(0,13)\n",
    "plt.subplot(133)\n",
    "plt.bar(['Stopword X', 'Stopword S', 'Stopword L'], list_pro_3, color = 'tomato')\n",
    "plt.ylim(1,2.5)\n",
    "plt.show()"
   ]
  },
  {
   "cell_type": "code",
   "execution_count": 109,
   "metadata": {},
   "outputs": [
    {
     "name": "stdout",
     "output_type": "stream",
     "text": [
      "43771\n",
      "4495\n",
      "19431\n",
      "43753\n",
      "4477\n",
      "19413\n",
      "43432\n",
      "4243\n",
      "19125\n"
     ]
    }
   ],
   "source": [
    "total_cnt_0 = 43770\n",
    "total_cnt_1 = 43752\n",
    "total_cnt_2 = 43431\n",
    "\n",
    "rare_cnt_0_1  = 39276\n",
    "rare_cnt_0_2  = 24340\n",
    "\n",
    "rare_cnt_1_1  = 39189\n",
    "rare_cnt_1_2  = 24307\n",
    "\n",
    "vocab_size_0_0 = total_cnt_0 + 1\n",
    "vocab_size_0_3 = total_cnt_0 - rare_cnt_0_1 + 1\n",
    "vocab_size_0_30 = total_cnt_0 - rare_cnt_0_2 + 1\n",
    "\n",
    "vocab_size_1_0 = total_cnt_1 + 1\n",
    "vocab_size_1_3 = total_cnt_1 - rare_cnt_0_1 + 1\n",
    "vocab_size_1_30 = total_cnt_1 - rare_cnt_0_2 + 1\n",
    "\n",
    "vocab_size_2_0 = total_cnt_2 + 1\n",
    "vocab_size_2_3 = total_cnt_2 - rare_cnt_1_1 + 1\n",
    "vocab_size_2_30 = total_cnt_2 - rare_cnt_1_2 + 1\n",
    "\n",
    "print(vocab_size_0_0)\n",
    "print(vocab_size_0_3)\n",
    "print(vocab_size_0_30)\n",
    "print(vocab_size_1_0)\n",
    "print(vocab_size_1_3)\n",
    "print(vocab_size_1_30)\n",
    "print(vocab_size_2_0)\n",
    "print(vocab_size_2_3)\n",
    "print(vocab_size_2_30)"
   ]
  },
  {
   "cell_type": "markdown",
   "metadata": {},
   "source": [
    "텍스트 시퀀스를 정수 시퀀스로 변환"
   ]
  },
  {
   "cell_type": "code",
   "execution_count": 110,
   "metadata": {},
   "outputs": [],
   "source": [
    "tokenizer_0_0 = Tokenizer(vocab_size_0_0)\n",
    "tokenizer_0_3 = Tokenizer(vocab_size_0_3)\n",
    "tokenizer_0_30 = Tokenizer(vocab_size_0_30)\n",
    "tokenizer_1_0 = Tokenizer(vocab_size_1_0)\n",
    "tokenizer_1_3 = Tokenizer(vocab_size_1_3)\n",
    "tokenizer_1_30 = Tokenizer(vocab_size_1_30)\n",
    "tokenizer_1_0 = Tokenizer(vocab_size_2_0)\n",
    "tokenizer_1_3 = Tokenizer(vocab_size_2_3)\n",
    "tokenizer_1_30 = Tokenizer(vocab_size_2_30)"
   ]
  },
  {
   "cell_type": "code",
   "execution_count": 113,
   "metadata": {},
   "outputs": [],
   "source": [
    "X_train_0_0 = tokenizer_0_0.fit_on_texts(X_train_00)\n",
    "X_train_0_3 = tokenizer_0_3.fit_on_texts(X_train_00)\n",
    "X_train_0_30 = tokenizer_0_30.fit_on_texts(X_train_00)\n",
    "X_train_1_0 = tokenizer_1_0.fit_on_texts(X_train_01)\n",
    "X_train_1_3 = tokenizer_1_3.fit_on_texts(X_train_01)\n",
    "X_train_1_30 = tokenizer_1_30.fit_on_texts(X_train_01)\n",
    "X_train_2_0 = tokenizer_1_0.fit_on_texts(X_train_02)\n",
    "X_train_2_3 = tokenizer_1_3.fit_on_texts(X_train_02)\n",
    "X_train_2_30 = tokenizer_1_30.fit_on_texts(X_train_02)"
   ]
  },
  {
   "cell_type": "code",
   "execution_count": 114,
   "metadata": {},
   "outputs": [],
   "source": [
    "X_train_0_0 = tokenizer_0_0.texts_to_sequences(X_train_00)\n",
    "X_train_0_3 = tokenizer_0_3.texts_to_sequences(X_train_00)\n",
    "X_train_0_30 = tokenizer_0_30.texts_to_sequences(X_train_00)\n",
    "X_train_1_0 = tokenizer_1_0.texts_to_sequences(X_train_01)\n",
    "X_train_1_3 = tokenizer_1_3.texts_to_sequences(X_train_01)\n",
    "X_train_1_30 = tokenizer_1_30.texts_to_sequences(X_train_01)\n",
    "X_train_2_0 = tokenizer_1_0.texts_to_sequences(X_train_02)\n",
    "X_train_2_3 = tokenizer_1_3.texts_to_sequences(X_train_02)\n",
    "X_train_2_30 = tokenizer_1_30.texts_to_sequences(X_train_02)"
   ]
  },
  {
   "cell_type": "markdown",
   "metadata": {},
   "source": [
    "## 여기까지하고 일단 저장해두자..."
   ]
  },
  {
   "cell_type": "code",
   "execution_count": 130,
   "metadata": {},
   "outputs": [],
   "source": [
    "df = pd.DataFrame([X_train_0_0, X_train_0_3,\n",
    "X_train_0_30, X_train_1_0, X_train_1_3, X_train_1_30,\n",
    "X_train_2_0, X_train_2_3, X_train_2_30]).T"
   ]
  },
  {
   "cell_type": "code",
   "execution_count": 131,
   "metadata": {},
   "outputs": [],
   "source": [
    "df.columns = (['Stopword_X_0', 'Stopword_X_3', 'Stopword_X_30', 'Stopword_S_0', 'Stopword_S_3', 'Stopword_S_30', 'Stopword_L_0', 'Stopword_L_3', 'Stopword_L_30'])"
   ]
  },
  {
   "cell_type": "code",
   "execution_count": 132,
   "metadata": {},
   "outputs": [],
   "source": [
    "df['label'] = data['label']"
   ]
  },
  {
   "cell_type": "code",
   "execution_count": 134,
   "metadata": {},
   "outputs": [],
   "source": [
    "df.to_excel(excel_writer='sample.xlsx') #엑셀로 저장"
   ]
  }
 ],
 "metadata": {
  "kernelspec": {
   "display_name": "Python 3.9.12 ('base')",
   "language": "python",
   "name": "python3"
  },
  "language_info": {
   "codemirror_mode": {
    "name": "ipython",
    "version": 3
   },
   "file_extension": ".py",
   "mimetype": "text/x-python",
   "name": "python",
   "nbconvert_exporter": "python",
   "pygments_lexer": "ipython3",
   "version": "3.9.12"
  },
  "orig_nbformat": 4,
  "vscode": {
   "interpreter": {
    "hash": "399b942a90945adf822711c817a2148b24a3a269b52160aecaa333816877df5e"
   }
  }
 },
 "nbformat": 4,
 "nbformat_minor": 2
}
