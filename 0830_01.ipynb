{
 "cells": [
  {
   "cell_type": "code",
   "execution_count": 1,
   "metadata": {},
   "outputs": [],
   "source": [
    "# length Data\n",
    "bream_length =\t[25.4,\t26.3,\t26.5,\t29.0,\t29.0,\t29.7,\t29.7,\t30.0,\t30.0,\t30.7,\t31.0,\t\n",
    "31.0,\t31.5,\t32.0,\t32.0,\t32.0,\t33.0,\t33.0,\t33.5,\t33.5,\t34.0,\t34.0,\t\n",
    "34.5,\t35.0,\t35.0,\t35.0,\t35.0,\t36.0,\t36.0,\t37.0,\t38.5,\t38.5,\t39.5,\t\n",
    "41.0,\t41.0]"
   ]
  },
  {
   "cell_type": "code",
   "execution_count": 2,
   "metadata": {},
   "outputs": [],
   "source": [
    "# weight Data\n",
    "bream_weight = [242.0,\t290.0,\t340.0,\t363.0,\t430.0,\t450.0,\t500.0,\t390.0,\t450.0,\t500.0,\t\n",
    "475.0,\t500.0,\t500.0,\t340.0,\t600.0,\t600.0,\t700.0,\t700.0,\t610.0,\t650.0,\n",
    "575.0,\t685.0,\t620.0,\t680.0,\t700.0,\t725.0,\t720.0,\t714.0,\t850.0,\t1000.0,\n",
    "920.0,\t955.0,\t925.0,\t975.0,\t950.0]"
   ]
  },
  {
   "cell_type": "code",
   "execution_count": 3,
   "metadata": {},
   "outputs": [],
   "source": [
    "# 시각화 라이브러리 import\n",
    "import matplotlib.pyplot as plt"
   ]
  },
  {
   "cell_type": "code",
   "execution_count": 4,
   "metadata": {},
   "outputs": [
    {
     "data": {
      "image/png": "[encoded data removed]",
      "text/plain": [
       "<Figure size 432x288 with 1 Axes>"
      ]
     },
     "metadata": {
      "needs_background": "light"
     },
     "output_type": "display_data"
    }
   ],
   "source": [
    "plt.scatter(bream_length, bream_weight, c = 'tomato') # 산점도 그리기\n",
    "plt.xlabel('bream length') # x축 라벨 : 길이\n",
    "plt.ylabel('bream weight') # y축 라벨 : 무게\n",
    "plt.title('Data Bream')\n",
    "plt.show() "
   ]
  },
  {
   "cell_type": "code",
   "execution_count": 5,
   "metadata": {},
   "outputs": [],
   "source": [
    "# 빙어 length 데이터\n",
    "smelt_length = [9.8, 10.5, 10.6, 11.0, 11.2, 11.3, 11.8, 11.8, 12.0, 12.2,\n",
    "12.4, 13.0, 14.3, 15.0]\n",
    "# 빙어 weight 데이터\n",
    "smelt_weight = [6.7, 7.5, 7.0, 9.7, 9.8, 8.7, 10.0, 9.9, 9.8, 12.2, 13.4,\n",
    "12.2, 19.7, 19.9]"
   ]
  },
  {
   "cell_type": "code",
   "execution_count": 6,
   "metadata": {},
   "outputs": [
    {
     "data": {
      "image/png": "[encoded data removed]",
      "text/plain": [
       "<Figure size 432x288 with 1 Axes>"
      ]
     },
     "metadata": {
      "needs_background": "light"
     },
     "output_type": "display_data"
    }
   ],
   "source": [
    "# 도미 데이터와 빙어 데이터 비교 산점도\n",
    "plt.scatter(bream_length, bream_weight, label='bream', c = 'tomato') # 도미 그래프\n",
    "plt.scatter(smelt_length, smelt_weight, label='smelt', c= 'cyan') # 빙어 그래프\n",
    "plt.xlabel('length') # x축 라벨 : 길이\n",
    "plt.ylabel('weight') # y축 라벨 : 무게\n",
    "plt.legend() # \n",
    "plt.show()"
   ]
  },
  {
   "cell_type": "markdown",
   "metadata": {},
   "source": [
    "도미와 빙어의 확연한 차이가 보임"
   ]
  },
  {
   "cell_type": "markdown",
   "metadata": {},
   "source": [
    "# 첫번째 머신러닝 프로그램"
   ]
  },
  {
   "cell_type": "code",
   "execution_count": 7,
   "metadata": {},
   "outputs": [],
   "source": [
    "# 길이 데이터와 무게 데이터 합치기\n",
    "length = bream_length + smelt_length\n",
    "weight = bream_weight + smelt_weight"
   ]
  },
  {
   "cell_type": "code",
   "execution_count": 8,
   "metadata": {},
   "outputs": [
    {
     "name": "stdout",
     "output_type": "stream",
     "text": [
      "[[25.4, 242.0], [26.3, 290.0], [26.5, 340.0], [29.0, 363.0], [29.0, 430.0], [29.7, 450.0], [29.7, 500.0], [30.0, 390.0], [30.0, 450.0], [30.7, 500.0], [31.0, 475.0], [31.0, 500.0], [31.5, 500.0], [32.0, 340.0], [32.0, 600.0], [32.0, 600.0], [33.0, 700.0], [33.0, 700.0], [33.5, 610.0], [33.5, 650.0], [34.0, 575.0], [34.0, 685.0], [34.5, 620.0], [35.0, 680.0], [35.0, 700.0], [35.0, 725.0], [35.0, 720.0], [36.0, 714.0], [36.0, 850.0], [37.0, 1000.0], [38.5, 920.0], [38.5, 955.0], [39.5, 925.0], [41.0, 975.0], [41.0, 950.0], [9.8, 6.7], [10.5, 7.5], [10.6, 7.0], [11.0, 9.7], [11.2, 9.8], [11.3, 8.7], [11.8, 10.0], [11.8, 9.9], [12.0, 9.8], [12.2, 12.2], [12.4, 13.4], [13.0, 12.2], [14.3, 19.7], [15.0, 19.9]]\n"
     ]
    }
   ],
   "source": [
    "# 1차원 리스트 2개를 2차원 리스트로 변경\n",
    "# zip(length, weight) 함수로 이용\n",
    "fish_data = [[l, w] for l, w in zip(length, weight)]\n",
    "print(fish_data)"
   ]
  },
  {
   "cell_type": "code",
   "execution_count": 9,
   "metadata": {},
   "outputs": [
    {
     "name": "stdout",
     "output_type": "stream",
     "text": [
      "[1, 1, 1, 1, 1, 1, 1, 1, 1, 1, 1, 1, 1, 1, 1, 1, 1, 1, 1, 1, 1, 1, 1, 1, 1, 1, 1, 1, 1, 1, 1, 1, 1, 1, 1, 0, 0, 0, 0, 0, 0, 0, 0, 0, 0, 0, 0, 0, 0]\n"
     ]
    }
   ],
   "source": [
    "# 정답 데이터(fish_target) 준비\n",
    "# 생선의 길이와 무게를 이용하여 도미(1)와 빙어(0)를 구분\n",
    "fish_target = [1] * 35 + [0] * 14\n",
    "print(fish_target)"
   ]
  },
  {
   "cell_type": "markdown",
   "metadata": {},
   "source": [
    "## k-최근접 알고리즘\n",
    "가장 간단한 분류 알고리즘  \n",
    "**비슷한 특성을 가진 데이터는 비슷한 범주에 속한다**  \n",
    "주변의 가장 가까운 k개의 데이터를 보고 데이터가 속할 그룹을 판단  \n",
    "\n",
    "#### 단점  \n",
    "모든 데이터를 가지고 있어야 됨  \n",
    "많은 메모리를 소모하고 거리 계산에 많은 시간이 소요  "
   ]
  },
  {
   "cell_type": "markdown",
   "metadata": {},
   "source": [
    "모델 생성 -> 모델 훈련(fit) -> 모델 평가(score) -> 새로운 데이터 결과 예측(predict)"
   ]
  },
  {
   "cell_type": "code",
   "execution_count": 10,
   "metadata": {},
   "outputs": [],
   "source": [
    "# kNN 모델 생성\n",
    "# 기본 이웃의 갯수 : 5\n",
    "from sklearn.neighbors import KNeighborsClassifier\n",
    "kn = KNeighborsClassifier()"
   ]
  },
  {
   "cell_type": "code",
   "execution_count": 11,
   "metadata": {},
   "outputs": [
    {
     "data": {
      "text/plain": [
       "KNeighborsClassifier()"
      ]
     },
     "execution_count": 11,
     "metadata": {},
     "output_type": "execute_result"
    }
   ],
   "source": [
    "# 모델 훈련 fit(Training data, Target values)함수\n",
    "kn.fit(fish_data, fish_target) # 기본 데이터, 정답 데이터"
   ]
  },
  {
   "cell_type": "code",
   "execution_count": 13,
   "metadata": {},
   "outputs": [
    {
     "data": {
      "text/plain": [
       "1.0"
      ]
     },
     "execution_count": 13,
     "metadata": {},
     "output_type": "execute_result"
    }
   ],
   "source": [
    "# 모델 평가 score(Testsamples, Target values) 함수\n",
    "# 정확도의 평균값 리턴\n",
    "kn.score(fish_data, fish_target)"
   ]
  }
 ],
 "metadata": {
  "kernelspec": {
   "display_name": "Python 3.9.12 ('base')",
   "language": "python",
   "name": "python3"
  },
  "language_info": {
   "codemirror_mode": {
    "name": "ipython",
    "version": 3
   },
   "file_extension": ".py",
   "mimetype": "text/x-python",
   "name": "python",
   "nbconvert_exporter": "python",
   "pygments_lexer": "ipython3",
   "version": "3.9.12"
  },
  "orig_nbformat": 4,
  "vscode": {
   "interpreter": {
    "hash": "399b942a90945adf822711c817a2148b24a3a269b52160aecaa333816877df5e"
   }
  }
 },
 "nbformat": 4,
 "nbformat_minor": 2
}
