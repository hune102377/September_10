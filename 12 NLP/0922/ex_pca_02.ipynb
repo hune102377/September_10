{
 "cells": [
  {
   "cell_type": "code",
   "execution_count": 55,
   "metadata": {},
   "outputs": [],
   "source": [
    "import pandas as pd\n",
    "import numpy as np\n",
    "import matplotlib.pyplot as plt\n",
    "import tensorflow as tf\n",
    "from sklearn.decomposition import PCA\n",
    "from keras import callbacks"
   ]
  },
  {
   "cell_type": "markdown",
   "metadata": {},
   "source": [
    "#### [1] 데이터 불러오기"
   ]
  },
  {
   "cell_type": "code",
   "execution_count": 56,
   "metadata": {},
   "outputs": [],
   "source": [
    "df = pd.read_excel('./data/default of credit card clients.xls', header=1, index_col=0)"
   ]
  },
  {
   "cell_type": "code",
   "execution_count": 57,
   "metadata": {},
   "outputs": [
    {
     "data": {
      "text/html": [
       "<div>\n",
       "<style scoped>\n",
       "    .dataframe tbody tr th:only-of-type {\n",
       "        vertical-align: middle;\n",
       "    }\n",
       "\n",
       "    .dataframe tbody tr th {\n",
       "        vertical-align: top;\n",
       "    }\n",
       "\n",
       "    .dataframe thead th {\n",
       "        text-align: right;\n",
       "    }\n",
       "</style>\n",
       "<table border=\"1\" class=\"dataframe\">\n",
       "  <thead>\n",
       "    <tr style=\"text-align: right;\">\n",
       "      <th></th>\n",
       "      <th>LIMIT_BAL</th>\n",
       "      <th>SEX</th>\n",
       "      <th>EDUCATION</th>\n",
       "      <th>MARRIAGE</th>\n",
       "      <th>AGE</th>\n",
       "      <th>PAY_0</th>\n",
       "      <th>PAY_2</th>\n",
       "      <th>PAY_3</th>\n",
       "      <th>PAY_4</th>\n",
       "      <th>PAY_5</th>\n",
       "      <th>...</th>\n",
       "      <th>BILL_AMT4</th>\n",
       "      <th>BILL_AMT5</th>\n",
       "      <th>BILL_AMT6</th>\n",
       "      <th>PAY_AMT1</th>\n",
       "      <th>PAY_AMT2</th>\n",
       "      <th>PAY_AMT3</th>\n",
       "      <th>PAY_AMT4</th>\n",
       "      <th>PAY_AMT5</th>\n",
       "      <th>PAY_AMT6</th>\n",
       "      <th>default payment next month</th>\n",
       "    </tr>\n",
       "    <tr>\n",
       "      <th>ID</th>\n",
       "      <th></th>\n",
       "      <th></th>\n",
       "      <th></th>\n",
       "      <th></th>\n",
       "      <th></th>\n",
       "      <th></th>\n",
       "      <th></th>\n",
       "      <th></th>\n",
       "      <th></th>\n",
       "      <th></th>\n",
       "      <th></th>\n",
       "      <th></th>\n",
       "      <th></th>\n",
       "      <th></th>\n",
       "      <th></th>\n",
       "      <th></th>\n",
       "      <th></th>\n",
       "      <th></th>\n",
       "      <th></th>\n",
       "      <th></th>\n",
       "      <th></th>\n",
       "    </tr>\n",
       "  </thead>\n",
       "  <tbody>\n",
       "    <tr>\n",
       "      <th>1</th>\n",
       "      <td>20000</td>\n",
       "      <td>2</td>\n",
       "      <td>2</td>\n",
       "      <td>1</td>\n",
       "      <td>24</td>\n",
       "      <td>2</td>\n",
       "      <td>2</td>\n",
       "      <td>-1</td>\n",
       "      <td>-1</td>\n",
       "      <td>-2</td>\n",
       "      <td>...</td>\n",
       "      <td>0</td>\n",
       "      <td>0</td>\n",
       "      <td>0</td>\n",
       "      <td>0</td>\n",
       "      <td>689</td>\n",
       "      <td>0</td>\n",
       "      <td>0</td>\n",
       "      <td>0</td>\n",
       "      <td>0</td>\n",
       "      <td>1</td>\n",
       "    </tr>\n",
       "    <tr>\n",
       "      <th>2</th>\n",
       "      <td>120000</td>\n",
       "      <td>2</td>\n",
       "      <td>2</td>\n",
       "      <td>2</td>\n",
       "      <td>26</td>\n",
       "      <td>-1</td>\n",
       "      <td>2</td>\n",
       "      <td>0</td>\n",
       "      <td>0</td>\n",
       "      <td>0</td>\n",
       "      <td>...</td>\n",
       "      <td>3272</td>\n",
       "      <td>3455</td>\n",
       "      <td>3261</td>\n",
       "      <td>0</td>\n",
       "      <td>1000</td>\n",
       "      <td>1000</td>\n",
       "      <td>1000</td>\n",
       "      <td>0</td>\n",
       "      <td>2000</td>\n",
       "      <td>1</td>\n",
       "    </tr>\n",
       "    <tr>\n",
       "      <th>3</th>\n",
       "      <td>90000</td>\n",
       "      <td>2</td>\n",
       "      <td>2</td>\n",
       "      <td>2</td>\n",
       "      <td>34</td>\n",
       "      <td>0</td>\n",
       "      <td>0</td>\n",
       "      <td>0</td>\n",
       "      <td>0</td>\n",
       "      <td>0</td>\n",
       "      <td>...</td>\n",
       "      <td>14331</td>\n",
       "      <td>14948</td>\n",
       "      <td>15549</td>\n",
       "      <td>1518</td>\n",
       "      <td>1500</td>\n",
       "      <td>1000</td>\n",
       "      <td>1000</td>\n",
       "      <td>1000</td>\n",
       "      <td>5000</td>\n",
       "      <td>0</td>\n",
       "    </tr>\n",
       "    <tr>\n",
       "      <th>4</th>\n",
       "      <td>50000</td>\n",
       "      <td>2</td>\n",
       "      <td>2</td>\n",
       "      <td>1</td>\n",
       "      <td>37</td>\n",
       "      <td>0</td>\n",
       "      <td>0</td>\n",
       "      <td>0</td>\n",
       "      <td>0</td>\n",
       "      <td>0</td>\n",
       "      <td>...</td>\n",
       "      <td>28314</td>\n",
       "      <td>28959</td>\n",
       "      <td>29547</td>\n",
       "      <td>2000</td>\n",
       "      <td>2019</td>\n",
       "      <td>1200</td>\n",
       "      <td>1100</td>\n",
       "      <td>1069</td>\n",
       "      <td>1000</td>\n",
       "      <td>0</td>\n",
       "    </tr>\n",
       "    <tr>\n",
       "      <th>5</th>\n",
       "      <td>50000</td>\n",
       "      <td>1</td>\n",
       "      <td>2</td>\n",
       "      <td>1</td>\n",
       "      <td>57</td>\n",
       "      <td>-1</td>\n",
       "      <td>0</td>\n",
       "      <td>-1</td>\n",
       "      <td>0</td>\n",
       "      <td>0</td>\n",
       "      <td>...</td>\n",
       "      <td>20940</td>\n",
       "      <td>19146</td>\n",
       "      <td>19131</td>\n",
       "      <td>2000</td>\n",
       "      <td>36681</td>\n",
       "      <td>10000</td>\n",
       "      <td>9000</td>\n",
       "      <td>689</td>\n",
       "      <td>679</td>\n",
       "      <td>0</td>\n",
       "    </tr>\n",
       "  </tbody>\n",
       "</table>\n",
       "<p>5 rows × 24 columns</p>\n",
       "</div>"
      ],
      "text/plain": [
       "    LIMIT_BAL  SEX  EDUCATION  MARRIAGE  AGE  PAY_0  PAY_2  PAY_3  PAY_4  \\\n",
       "ID                                                                         \n",
       "1       20000    2          2         1   24      2      2     -1     -1   \n",
       "2      120000    2          2         2   26     -1      2      0      0   \n",
       "3       90000    2          2         2   34      0      0      0      0   \n",
       "4       50000    2          2         1   37      0      0      0      0   \n",
       "5       50000    1          2         1   57     -1      0     -1      0   \n",
       "\n",
       "    PAY_5  ...  BILL_AMT4  BILL_AMT5  BILL_AMT6  PAY_AMT1  PAY_AMT2  PAY_AMT3  \\\n",
       "ID         ...                                                                  \n",
       "1      -2  ...          0          0          0         0       689         0   \n",
       "2       0  ...       3272       3455       3261         0      1000      1000   \n",
       "3       0  ...      14331      14948      15549      1518      1500      1000   \n",
       "4       0  ...      28314      28959      29547      2000      2019      1200   \n",
       "5       0  ...      20940      19146      19131      2000     36681     10000   \n",
       "\n",
       "    PAY_AMT4  PAY_AMT5  PAY_AMT6  default payment next month  \n",
       "ID                                                            \n",
       "1          0         0         0                           1  \n",
       "2       1000         0      2000                           1  \n",
       "3       1000      1000      5000                           0  \n",
       "4       1100      1069      1000                           0  \n",
       "5       9000       689       679                           0  \n",
       "\n",
       "[5 rows x 24 columns]"
      ]
     },
     "execution_count": 57,
     "metadata": {},
     "output_type": "execute_result"
    }
   ],
   "source": [
    "df.head()"
   ]
  },
  {
   "cell_type": "code",
   "execution_count": 58,
   "metadata": {},
   "outputs": [
    {
     "name": "stdout",
     "output_type": "stream",
     "text": [
      "<class 'pandas.core.frame.DataFrame'>\n",
      "Int64Index: 30000 entries, 1 to 30000\n",
      "Data columns (total 24 columns):\n",
      " #   Column                      Non-Null Count  Dtype\n",
      "---  ------                      --------------  -----\n",
      " 0   LIMIT_BAL                   30000 non-null  int64\n",
      " 1   SEX                         30000 non-null  int64\n",
      " 2   EDUCATION                   30000 non-null  int64\n",
      " 3   MARRIAGE                    30000 non-null  int64\n",
      " 4   AGE                         30000 non-null  int64\n",
      " 5   PAY_0                       30000 non-null  int64\n",
      " 6   PAY_2                       30000 non-null  int64\n",
      " 7   PAY_3                       30000 non-null  int64\n",
      " 8   PAY_4                       30000 non-null  int64\n",
      " 9   PAY_5                       30000 non-null  int64\n",
      " 10  PAY_6                       30000 non-null  int64\n",
      " 11  BILL_AMT1                   30000 non-null  int64\n",
      " 12  BILL_AMT2                   30000 non-null  int64\n",
      " 13  BILL_AMT3                   30000 non-null  int64\n",
      " 14  BILL_AMT4                   30000 non-null  int64\n",
      " 15  BILL_AMT5                   30000 non-null  int64\n",
      " 16  BILL_AMT6                   30000 non-null  int64\n",
      " 17  PAY_AMT1                    30000 non-null  int64\n",
      " 18  PAY_AMT2                    30000 non-null  int64\n",
      " 19  PAY_AMT3                    30000 non-null  int64\n",
      " 20  PAY_AMT4                    30000 non-null  int64\n",
      " 21  PAY_AMT5                    30000 non-null  int64\n",
      " 22  PAY_AMT6                    30000 non-null  int64\n",
      " 23  default payment next month  30000 non-null  int64\n",
      "dtypes: int64(24)\n",
      "memory usage: 5.7 MB\n"
     ]
    }
   ],
   "source": [
    "# 데이터 확인\n",
    "df.info()"
   ]
  },
  {
   "cell_type": "code",
   "execution_count": 59,
   "metadata": {},
   "outputs": [
    {
     "data": {
      "text/plain": [
       "LIMIT_BAL                     0\n",
       "SEX                           0\n",
       "EDUCATION                     0\n",
       "MARRIAGE                      0\n",
       "AGE                           0\n",
       "PAY_0                         0\n",
       "PAY_2                         0\n",
       "PAY_3                         0\n",
       "PAY_4                         0\n",
       "PAY_5                         0\n",
       "PAY_6                         0\n",
       "BILL_AMT1                     0\n",
       "BILL_AMT2                     0\n",
       "BILL_AMT3                     0\n",
       "BILL_AMT4                     0\n",
       "BILL_AMT5                     0\n",
       "BILL_AMT6                     0\n",
       "PAY_AMT1                      0\n",
       "PAY_AMT2                      0\n",
       "PAY_AMT3                      0\n",
       "PAY_AMT4                      0\n",
       "PAY_AMT5                      0\n",
       "PAY_AMT6                      0\n",
       "default payment next month    0\n",
       "dtype: int64"
      ]
     },
     "execution_count": 59,
     "metadata": {},
     "output_type": "execute_result"
    }
   ],
   "source": [
    "# 결측치 확인\n",
    "df.isna().sum()"
   ]
  },
  {
   "cell_type": "code",
   "execution_count": 60,
   "metadata": {},
   "outputs": [],
   "source": [
    "# 인풋과 타겟 분리\n",
    "X_data = df.iloc[:, :-1]\n",
    "y_data = df.iloc[:,-1]"
   ]
  },
  {
   "cell_type": "code",
   "execution_count": 61,
   "metadata": {},
   "outputs": [
    {
     "data": {
      "text/plain": [
       "((30000, 23), (30000,))"
      ]
     },
     "execution_count": 61,
     "metadata": {},
     "output_type": "execute_result"
    }
   ],
   "source": [
    "X_data.shape, y_data.shape"
   ]
  },
  {
   "cell_type": "code",
   "execution_count": 62,
   "metadata": {},
   "outputs": [
    {
     "data": {
      "text/plain": [
       "0    23364\n",
       "1     6636\n",
       "Name: default payment next month, dtype: int64"
      ]
     },
     "execution_count": 62,
     "metadata": {},
     "output_type": "execute_result"
    }
   ],
   "source": [
    "y_data.value_counts()"
   ]
  },
  {
   "cell_type": "markdown",
   "metadata": {},
   "source": [
    "#### [2] 데이터 전처리"
   ]
  },
  {
   "cell_type": "code",
   "execution_count": 63,
   "metadata": {},
   "outputs": [],
   "source": [
    "from sklearn.preprocessing import StandardScaler\n",
    "\n",
    "scaler = StandardScaler()\n",
    "scaler.fit(X_data)\n",
    "X_data_scaled = scaler.transform(X_data)"
   ]
  },
  {
   "cell_type": "markdown",
   "metadata": {},
   "source": [
    "#### [2] PCA"
   ]
  },
  {
   "cell_type": "code",
   "execution_count": 64,
   "metadata": {},
   "outputs": [
    {
     "data": {
      "text/plain": [
       "PCA()"
      ]
     },
     "execution_count": 64,
     "metadata": {},
     "output_type": "execute_result"
    }
   ],
   "source": [
    "pca = PCA()\n",
    "pca.fit(X_data_scaled)"
   ]
  },
  {
   "cell_type": "code",
   "execution_count": 65,
   "metadata": {},
   "outputs": [
    {
     "data": {
      "text/plain": [
       "array([443.04929774, 350.6420357 , 215.70539822, 210.16175361,\n",
       "       175.37713289, 169.45792011, 165.00799458, 163.18238146,\n",
       "       161.67090383, 153.25759279, 148.26882983, 143.12454352,\n",
       "       130.87573497, 125.42606134, 110.04188243,  88.29841154,\n",
       "        86.45145711,  75.23782289,  62.87756995,  45.87669015,\n",
       "        34.97910792,  27.54735755,  26.39274393])"
      ]
     },
     "execution_count": 65,
     "metadata": {},
     "output_type": "execute_result"
    }
   ],
   "source": [
    "# 주성분 행렬\n",
    "pca.singular_values_"
   ]
  },
  {
   "cell_type": "code",
   "execution_count": 66,
   "metadata": {},
   "outputs": [
    {
     "data": {
      "text/plain": [
       "array([0.28448215, 0.17818817, 0.06743307, 0.06401154, 0.04457556,\n",
       "       0.04161737, 0.03946035, 0.03859201, 0.03788041, 0.03404042,\n",
       "       0.03186036, 0.02968788, 0.02482385, 0.02279956, 0.01754959,\n",
       "       0.01129943, 0.01083167, 0.00820396, 0.00572984, 0.00305025,\n",
       "       0.00177324, 0.00109979, 0.00100953])"
      ]
     },
     "execution_count": 66,
     "metadata": {},
     "output_type": "execute_result"
    }
   ],
   "source": [
    "# 주성분 투영 후 분산 비율정도 설명\n",
    "pca.explained_variance_ratio_"
   ]
  },
  {
   "cell_type": "markdown",
   "metadata": {},
   "source": [
    "##### [3] 주성분 갯수 지정"
   ]
  },
  {
   "cell_type": "markdown",
   "metadata": {},
   "source": [
    "[3] - 1 pca.explained_variance_ratio_의 누적값에서 원하는 분포정도 지정해서 PC 갯수 계산"
   ]
  },
  {
   "cell_type": "code",
   "execution_count": 67,
   "metadata": {},
   "outputs": [
    {
     "name": "stdout",
     "output_type": "stream",
     "text": [
      "주성분 갯수(차원 : 15\n"
     ]
    }
   ],
   "source": [
    "import numpy as np\n",
    "cumsum = np.cumsum(pca.explained_variance_ratio_)\n",
    "\n",
    "# 누적값이 0.95 필요한 경우\n",
    "d = np.argmax(cumsum >= 0.95) + 1\n",
    "print(f'주성분 갯수(차원 : {d}')"
   ]
  },
  {
   "cell_type": "code",
   "execution_count": 68,
   "metadata": {},
   "outputs": [],
   "source": [
    "# 지정된 PC 갯수로 주성분 데이터 압축/융합\n",
    "pca2 =PCA(n_components = d)\n",
    "pca.fit(X_data_scaled)\n",
    "X_data_PCA2 = pca.transform(X_data_scaled)"
   ]
  },
  {
   "cell_type": "code",
   "execution_count": 69,
   "metadata": {},
   "outputs": [
    {
     "data": {
      "image/png": "[encoded data removed]",
      "text/plain": [
       "<Figure size 432x288 with 1 Axes>"
      ]
     },
     "metadata": {
      "needs_background": "light"
     },
     "output_type": "display_data"
    }
   ],
   "source": [
    "# 주성분 데이터 투영 분산 정도 시각화\n",
    "plt.plot(cumsum)\n",
    "plt.plot(d, 0.95, 'ro')\n",
    "plt.xlabel(\"Dimention\")\n",
    "plt.ylabel(\"Explained Variance\")\n",
    "plt.show()"
   ]
  },
  {
   "cell_type": "markdown",
   "metadata": {},
   "source": [
    "[3] - 2 n_components = 0.0 ~ 1.0 : 주성분 투영된 데이터 분포 정도 지정하면 PC 갯수 자동 계산"
   ]
  },
  {
   "cell_type": "code",
   "execution_count": 70,
   "metadata": {},
   "outputs": [
    {
     "data": {
      "text/plain": [
       "array([[ 6.85184323e-02, -2.16564559e-02,  1.92056117e-02,\n",
       "        -5.60026083e-03,  1.42315227e-02,  1.61081970e-01,\n",
       "         1.94119641e-01,  2.00213038e-01,  2.07038234e-01,\n",
       "         2.10960472e-01,  2.06412352e-01,  3.34385122e-01,\n",
       "         3.45796995e-01,  3.49777117e-01,  3.53883216e-01,\n",
       "         3.51752413e-01,  3.44514390e-01,  9.42312296e-02,\n",
       "         7.86808761e-02,  8.63941854e-02,  7.77927170e-02,\n",
       "         7.53544304e-02,  6.99481572e-02],\n",
       "       [ 3.16322879e-01,  3.05947306e-02, -9.15225417e-02,\n",
       "        -4.32509370e-02,  6.65780269e-02, -2.98123879e-01,\n",
       "        -3.34820614e-01, -3.43894067e-01, -3.44581437e-01,\n",
       "        -3.31600381e-01, -3.05793874e-01,  1.39815174e-01,\n",
       "         1.40226985e-01,  1.46213389e-01,  1.45449832e-01,\n",
       "         1.43760869e-01,  1.41872155e-01,  1.49109472e-01,\n",
       "         1.39871902e-01,  1.51570097e-01,  1.41409070e-01,\n",
       "         1.37190501e-01,  1.29396376e-01],\n",
       "       [ 1.74535217e-02,  2.40375133e-02, -3.16425804e-01,\n",
       "         4.53184753e-01, -4.62346663e-01, -1.75075857e-02,\n",
       "         1.77737080e-02,  6.17305234e-02,  8.89297696e-02,\n",
       "         1.08707642e-01,  1.10866520e-01, -1.50877311e-01,\n",
       "        -1.27056541e-01, -8.39157118e-02, -7.05088948e-02,\n",
       "        -5.65687639e-02, -4.75493138e-02,  2.81865444e-01,\n",
       "         3.01835491e-01,  2.80300296e-01,  2.37381577e-01,\n",
       "         1.94267269e-01,  2.09305122e-01],\n",
       "       [ 6.99836250e-02, -7.82304989e-02,  2.46584589e-01,\n",
       "        -4.44561431e-01,  4.62752769e-01,  1.59591520e-02,\n",
       "         4.98681717e-02,  8.42726041e-02,  1.09366842e-01,\n",
       "         1.15576153e-01,  1.09890052e-01, -1.67952754e-01,\n",
       "        -1.49299844e-01, -1.04788711e-01, -1.00609747e-01,\n",
       "        -8.87438314e-02, -8.40633332e-02,  2.80361443e-01,\n",
       "         3.10998032e-01,  2.78230804e-01,  2.36485307e-01,\n",
       "         1.76168468e-01,  2.07186271e-01],\n",
       "       [-1.49540032e-01,  8.84073129e-01,  3.64899185e-01,\n",
       "        -5.33341640e-02, -1.63911827e-01, -3.45250549e-02,\n",
       "        -3.70499227e-02, -2.36517079e-02, -7.80868398e-03,\n",
       "         1.69360200e-03,  1.22875564e-02, -1.31666124e-02,\n",
       "         4.57378115e-03,  2.98599830e-02,  2.25718783e-02,\n",
       "         2.23485568e-02,  1.04741722e-02,  9.27196659e-02,\n",
       "         1.07915182e-01,  3.62358989e-02,  1.39480591e-02,\n",
       "        -5.67603347e-02, -5.17111058e-02],\n",
       "       [-3.75675621e-01, -3.95388429e-01,  5.65257290e-01,\n",
       "         2.79547794e-01, -8.89524258e-02, -3.98921743e-02,\n",
       "        -6.11154434e-02, -7.01254938e-02, -8.72375148e-02,\n",
       "        -8.68591343e-02, -9.11165657e-02,  1.75945748e-02,\n",
       "         5.51037352e-02,  8.54028145e-02,  6.41502269e-02,\n",
       "         2.49963125e-02, -2.14603266e-02,  2.38523271e-01,\n",
       "         2.55933521e-01,  1.42903872e-01, -6.02132393e-02,\n",
       "        -2.53199820e-01, -1.92006408e-01],\n",
       "       [ 1.06110107e-01,  6.50935886e-02, -3.99833412e-01,\n",
       "        -1.59849427e-01,  8.13464849e-02, -8.66328636e-02,\n",
       "        -9.19570842e-02, -2.08809654e-02,  3.92139338e-02,\n",
       "         1.03802621e-01,  1.38843588e-01, -6.54547137e-02,\n",
       "        -1.44642596e-02, -3.35320131e-03,  6.59134026e-02,\n",
       "         8.01658169e-02, -4.96025604e-02,  2.02908895e-01,\n",
       "         1.04131822e-01,  2.27246421e-01,  2.39946061e-02,\n",
       "        -7.01664101e-01, -3.60803298e-01],\n",
       "       [-5.92927064e-02, -2.76964593e-02,  8.09262751e-02,\n",
       "         2.63210848e-02, -1.29322850e-02,  2.13824104e-02,\n",
       "         1.56290406e-02, -2.65397878e-02, -5.61734420e-02,\n",
       "        -3.38682248e-02,  4.69256365e-02, -2.28001071e-02,\n",
       "        -7.59746931e-02, -1.25910705e-01, -3.68568395e-02,\n",
       "         1.13131736e-01,  1.63329255e-01, -2.67224868e-01,\n",
       "        -2.19072291e-01,  2.30155699e-01,  6.46597068e-01,\n",
       "         1.97160828e-01, -5.36735542e-01],\n",
       "       [ 2.14534998e-02,  1.89966890e-02, -1.54520199e-01,\n",
       "        -5.56915420e-02,  4.67644657e-02, -3.04266435e-02,\n",
       "        -3.33807616e-02, -1.13798534e-02,  4.42866009e-02,\n",
       "         5.43376641e-02, -9.06112648e-04, -6.46153376e-02,\n",
       "        -4.56837593e-02,  7.96619101e-02,  2.66719802e-02,\n",
       "        -6.94349400e-02,  8.07924146e-02,  3.63068976e-02,\n",
       "         3.93352161e-01, -3.35540672e-02, -4.45782435e-01,\n",
       "         4.75222426e-01, -5.97103966e-01],\n",
       "       [ 1.74808980e-02,  2.42623803e-02,  6.28946221e-02,\n",
       "         3.85769630e-02,  7.89426708e-03,  2.95751922e-03,\n",
       "         6.32516143e-03, -2.48671079e-02, -5.68124681e-02,\n",
       "         6.69685586e-02,  1.43955622e-02,  1.15188555e-02,\n",
       "        -3.68761635e-02, -1.22242772e-01,  1.23538477e-01,\n",
       "        -5.50520499e-03,  1.37950252e-02, -2.36318261e-01,\n",
       "        -2.78950909e-01,  7.84743746e-01, -4.35285564e-01,\n",
       "         5.62385206e-02,  1.04764255e-01],\n",
       "       [ 8.49029043e-03, -9.19738651e-03,  3.95374746e-04,\n",
       "        -1.13303246e-02, -2.11833431e-02,  4.66070896e-02,\n",
       "         2.93203994e-02, -1.06491544e-01, -7.71626578e-03,\n",
       "         9.52318113e-03,  2.23246083e-02,  1.02735940e-02,\n",
       "        -1.32725370e-01,  9.99538596e-02,  3.39797754e-02,\n",
       "         4.68348731e-02, -6.05215435e-03, -7.28286558e-01,\n",
       "         5.97239208e-01,  2.51733903e-02,  7.37862803e-02,\n",
       "        -1.84522973e-01,  1.61012898e-01],\n",
       "       [-9.90655244e-02,  5.61125462e-02, -1.85027563e-01,\n",
       "        -1.41121730e-01, -4.72143135e-02,  6.24184395e-01,\n",
       "         3.76470385e-01,  9.94460229e-02, -2.11602746e-01,\n",
       "        -3.58378623e-01, -4.00004188e-01,  4.30714752e-02,\n",
       "         4.09849570e-02,  1.28196232e-02, -1.33159379e-02,\n",
       "        -4.18688026e-02, -5.90286842e-02,  1.11602599e-01,\n",
       "         1.01833710e-01,  1.41694198e-01,  2.52050837e-02,\n",
       "        -4.16838735e-02, -4.27603935e-02],\n",
       "       [ 3.59222011e-01,  1.75896628e-01,  8.50715772e-02,\n",
       "         6.67141757e-01,  5.77358634e-01,  1.55714784e-01,\n",
       "         8.10215010e-02,  5.19056052e-02,  1.82138527e-02,\n",
       "        -2.32095322e-02, -4.01142100e-02, -8.06205543e-03,\n",
       "        -1.65493986e-02, -1.96473257e-02, -3.66851659e-02,\n",
       "        -3.72867181e-02, -4.90252739e-02,  4.08060073e-04,\n",
       "         2.98699304e-02, -2.50315507e-02,  1.19344265e-03,\n",
       "        -7.20172846e-02, -7.61901719e-02],\n",
       "       [-7.54104442e-01,  1.12999216e-01, -3.72633366e-01,\n",
       "         1.33488869e-01,  4.32440650e-01, -9.87289767e-02,\n",
       "        -8.37982130e-02, -8.51809078e-02, -6.00832934e-02,\n",
       "        -2.00285554e-02,  4.05570588e-02,  1.33962533e-02,\n",
       "         2.82234207e-02,  4.06598432e-02,  4.87658118e-02,\n",
       "         5.98310706e-02,  7.50992371e-02, -6.40832667e-03,\n",
       "        -6.18804343e-03,  1.96097920e-02,  4.19050870e-02,\n",
       "         9.16625209e-02,  1.42644777e-01],\n",
       "       [-2.38705689e-02,  2.47273034e-02, -3.61357115e-02,\n",
       "         5.61325814e-03,  2.34769443e-02, -6.07221112e-01,\n",
       "         3.21589091e-01,  5.41748226e-01,  1.70863336e-01,\n",
       "        -1.79050006e-01, -3.62230756e-01,  7.53307150e-02,\n",
       "         5.28143792e-02,  3.53575589e-02, -9.73208396e-03,\n",
       "        -5.56711547e-02, -7.51425998e-02, -8.83683597e-02,\n",
       "         4.16534585e-02,  8.05777493e-02,  3.97676895e-02,\n",
       "        -3.29033527e-02, -3.97786269e-02]])"
      ]
     },
     "execution_count": 70,
     "metadata": {},
     "output_type": "execute_result"
    }
   ],
   "source": [
    "pca3 = PCA(n_components = 0.95)\n",
    "pca3.fit(X_data_scaled)\n",
    "pca3.components_"
   ]
  },
  {
   "cell_type": "code",
   "execution_count": 71,
   "metadata": {},
   "outputs": [
    {
     "data": {
      "text/plain": [
       "(30000, 15)"
      ]
     },
     "execution_count": 71,
     "metadata": {},
     "output_type": "execute_result"
    }
   ],
   "source": [
    "X_data_PCA3 = pca3.transform(X_data_scaled)\n",
    "X_data_PCA3.shape"
   ]
  },
  {
   "cell_type": "code",
   "execution_count": 72,
   "metadata": {},
   "outputs": [],
   "source": [
    "df_X_data_PCA3 = pd.DataFrame(X_data_PCA3)"
   ]
  },
  {
   "cell_type": "code",
   "execution_count": 73,
   "metadata": {},
   "outputs": [
    {
     "data": {
      "text/html": [
       "<div>\n",
       "<style scoped>\n",
       "    .dataframe tbody tr th:only-of-type {\n",
       "        vertical-align: middle;\n",
       "    }\n",
       "\n",
       "    .dataframe tbody tr th {\n",
       "        vertical-align: top;\n",
       "    }\n",
       "\n",
       "    .dataframe thead th {\n",
       "        text-align: right;\n",
       "    }\n",
       "</style>\n",
       "<table border=\"1\" class=\"dataframe\">\n",
       "  <thead>\n",
       "    <tr style=\"text-align: right;\">\n",
       "      <th></th>\n",
       "      <th>0</th>\n",
       "      <th>1</th>\n",
       "      <th>2</th>\n",
       "      <th>3</th>\n",
       "      <th>4</th>\n",
       "      <th>5</th>\n",
       "      <th>6</th>\n",
       "      <th>7</th>\n",
       "      <th>8</th>\n",
       "      <th>9</th>\n",
       "      <th>10</th>\n",
       "      <th>11</th>\n",
       "      <th>12</th>\n",
       "      <th>13</th>\n",
       "      <th>14</th>\n",
       "    </tr>\n",
       "  </thead>\n",
       "  <tbody>\n",
       "    <tr>\n",
       "      <th>0</th>\n",
       "      <td>-1.887962</td>\n",
       "      <td>-0.906109</td>\n",
       "      <td>-0.487795</td>\n",
       "      <td>-0.540015</td>\n",
       "      <td>0.997957</td>\n",
       "      <td>0.044404</td>\n",
       "      <td>-0.623687</td>\n",
       "      <td>0.112794</td>\n",
       "      <td>-0.189894</td>\n",
       "      <td>-0.084602</td>\n",
       "      <td>0.245364</td>\n",
       "      <td>3.264405</td>\n",
       "      <td>-1.048591</td>\n",
       "      <td>-0.318525</td>\n",
       "      <td>-0.197425</td>\n",
       "    </tr>\n",
       "    <tr>\n",
       "      <th>1</th>\n",
       "      <td>-0.764696</td>\n",
       "      <td>-2.109288</td>\n",
       "      <td>1.097314</td>\n",
       "      <td>-0.483480</td>\n",
       "      <td>0.858980</td>\n",
       "      <td>-0.235098</td>\n",
       "      <td>0.064742</td>\n",
       "      <td>0.093595</td>\n",
       "      <td>-0.153700</td>\n",
       "      <td>0.124035</td>\n",
       "      <td>0.141711</td>\n",
       "      <td>-0.881855</td>\n",
       "      <td>0.078162</td>\n",
       "      <td>-0.273304</td>\n",
       "      <td>0.438007</td>\n",
       "    </tr>\n",
       "    <tr>\n",
       "      <th>2</th>\n",
       "      <td>-0.847408</td>\n",
       "      <td>-1.072179</td>\n",
       "      <td>0.412178</td>\n",
       "      <td>-0.433564</td>\n",
       "      <td>0.770493</td>\n",
       "      <td>0.018665</td>\n",
       "      <td>-0.150472</td>\n",
       "      <td>-0.091884</td>\n",
       "      <td>-0.156179</td>\n",
       "      <td>0.089171</td>\n",
       "      <td>0.046222</td>\n",
       "      <td>-0.273012</td>\n",
       "      <td>0.519953</td>\n",
       "      <td>0.338603</td>\n",
       "      <td>0.014379</td>\n",
       "    </tr>\n",
       "    <tr>\n",
       "      <th>3</th>\n",
       "      <td>-0.196589</td>\n",
       "      <td>-0.809022</td>\n",
       "      <td>-0.818642</td>\n",
       "      <td>0.292878</td>\n",
       "      <td>0.909366</td>\n",
       "      <td>-0.284645</td>\n",
       "      <td>0.235221</td>\n",
       "      <td>-0.062984</td>\n",
       "      <td>0.114612</td>\n",
       "      <td>-0.067007</td>\n",
       "      <td>0.021318</td>\n",
       "      <td>0.039545</td>\n",
       "      <td>-0.711917</td>\n",
       "      <td>0.504354</td>\n",
       "      <td>0.056116</td>\n",
       "    </tr>\n",
       "    <tr>\n",
       "      <th>4</th>\n",
       "      <td>-0.840934</td>\n",
       "      <td>-0.072538</td>\n",
       "      <td>-1.005257</td>\n",
       "      <td>2.328013</td>\n",
       "      <td>-1.023124</td>\n",
       "      <td>0.794330</td>\n",
       "      <td>0.711069</td>\n",
       "      <td>0.124191</td>\n",
       "      <td>0.602528</td>\n",
       "      <td>-0.307478</td>\n",
       "      <td>1.035848</td>\n",
       "      <td>-0.608437</td>\n",
       "      <td>0.072147</td>\n",
       "      <td>1.327269</td>\n",
       "      <td>0.214260</td>\n",
       "    </tr>\n",
       "  </tbody>\n",
       "</table>\n",
       "</div>"
      ],
      "text/plain": [
       "         0         1         2         3         4         5         6   \\\n",
       "0 -1.887962 -0.906109 -0.487795 -0.540015  0.997957  0.044404 -0.623687   \n",
       "1 -0.764696 -2.109288  1.097314 -0.483480  0.858980 -0.235098  0.064742   \n",
       "2 -0.847408 -1.072179  0.412178 -0.433564  0.770493  0.018665 -0.150472   \n",
       "3 -0.196589 -0.809022 -0.818642  0.292878  0.909366 -0.284645  0.235221   \n",
       "4 -0.840934 -0.072538 -1.005257  2.328013 -1.023124  0.794330  0.711069   \n",
       "\n",
       "         7         8         9         10        11        12        13  \\\n",
       "0  0.112794 -0.189894 -0.084602  0.245364  3.264405 -1.048591 -0.318525   \n",
       "1  0.093595 -0.153700  0.124035  0.141711 -0.881855  0.078162 -0.273304   \n",
       "2 -0.091884 -0.156179  0.089171  0.046222 -0.273012  0.519953  0.338603   \n",
       "3 -0.062984  0.114612 -0.067007  0.021318  0.039545 -0.711917  0.504354   \n",
       "4  0.124191  0.602528 -0.307478  1.035848 -0.608437  0.072147  1.327269   \n",
       "\n",
       "         14  \n",
       "0 -0.197425  \n",
       "1  0.438007  \n",
       "2  0.014379  \n",
       "3  0.056116  \n",
       "4  0.214260  "
      ]
     },
     "execution_count": 73,
     "metadata": {},
     "output_type": "execute_result"
    }
   ],
   "source": [
    "df_X_data_PCA3.head()"
   ]
  },
  {
   "cell_type": "markdown",
   "metadata": {},
   "source": [
    "#### [4] 모델 생성"
   ]
  },
  {
   "cell_type": "code",
   "execution_count": 74,
   "metadata": {},
   "outputs": [],
   "source": [
    "from sklearn.model_selection import train_test_split\n",
    "\n",
    "X_train, X_test, y_train, y_test = train_test_split(\n",
    "    X_data_PCA3, y_data, stratify=y_data\n",
    ")"
   ]
  },
  {
   "cell_type": "code",
   "execution_count": 75,
   "metadata": {},
   "outputs": [
    {
     "data": {
      "text/plain": [
       "0    17523\n",
       "1     4977\n",
       "Name: default payment next month, dtype: int64"
      ]
     },
     "execution_count": 75,
     "metadata": {},
     "output_type": "execute_result"
    }
   ],
   "source": [
    "y_train.value_counts()"
   ]
  },
  {
   "cell_type": "code",
   "execution_count": 76,
   "metadata": {},
   "outputs": [
    {
     "data": {
      "text/plain": [
       "0    5841\n",
       "1    1659\n",
       "Name: default payment next month, dtype: int64"
      ]
     },
     "execution_count": 76,
     "metadata": {},
     "output_type": "execute_result"
    }
   ],
   "source": [
    "y_test.value_counts()"
   ]
  },
  {
   "cell_type": "code",
   "execution_count": 77,
   "metadata": {},
   "outputs": [
    {
     "name": "stdout",
     "output_type": "stream",
     "text": [
      "Model: \"sequential_3\"\n",
      "_________________________________________________________________\n",
      " Layer (type)                Output Shape              Param #   \n",
      "=================================================================\n",
      " dense_18 (Dense)            (None, 16)                256       \n",
      "                                                                 \n",
      " dense_19 (Dense)            (None, 32)                544       \n",
      "                                                                 \n",
      " dense_20 (Dense)            (None, 16)                528       \n",
      "                                                                 \n",
      " dense_21 (Dense)            (None, 8)                 136       \n",
      "                                                                 \n",
      " dense_22 (Dense)            (None, 4)                 36        \n",
      "                                                                 \n",
      " dense_23 (Dense)            (None, 1)                 5         \n",
      "                                                                 \n",
      "=================================================================\n",
      "Total params: 1,505\n",
      "Trainable params: 1,505\n",
      "Non-trainable params: 0\n",
      "_________________________________________________________________\n"
     ]
    }
   ],
   "source": [
    "from keras.models import Sequential\n",
    "from keras.layers import Dense\n",
    "\n",
    "model = Sequential()\n",
    "model.add(Dense(16, input_shape = (15,), activation='tanh'))\n",
    "model.add(Dense(32, activation='relu'))\n",
    "model.add(Dense(16, activation='relu'))\n",
    "model.add(Dense(8, activation='relu'))\n",
    "model.add(Dense(4, activation='relu'))\n",
    "model.add(Dense(1, activation='sigmoid'))\n",
    "\n",
    "model.summary()"
   ]
  },
  {
   "cell_type": "code",
   "execution_count": 78,
   "metadata": {},
   "outputs": [],
   "source": [
    "model.compile(loss = 'binary_crossentropy', optimizer='adam', metrics = ['accuracy'])"
   ]
  },
  {
   "cell_type": "code",
   "execution_count": 79,
   "metadata": {},
   "outputs": [],
   "source": [
    "def scheduler(epoch):\n",
    "\tif epoch<10:\n",
    "\t\treturn 0.001\n",
    "\telse:\n",
    "\t\treturn 0.001 * tf.math.exp(0.1 *(10-epoch))\n",
    "\n",
    "callback = callbacks.LearningRateScheduler(scheduler)"
   ]
  },
  {
   "cell_type": "code",
   "execution_count": 80,
   "metadata": {},
   "outputs": [
    {
     "name": "stdout",
     "output_type": "stream",
     "text": [
      "Epoch 1/100\n",
      "704/704 [==============================] - 2s 2ms/step - loss: 0.4897 - accuracy: 0.7870 - val_loss: 0.4431 - val_accuracy: 0.8172 - lr: 0.0010\n",
      "Epoch 2/100\n",
      "704/704 [==============================] - 1s 2ms/step - loss: 0.4439 - accuracy: 0.8136 - val_loss: 0.4370 - val_accuracy: 0.8184 - lr: 0.0010\n",
      "Epoch 3/100\n",
      "704/704 [==============================] - 1s 2ms/step - loss: 0.4396 - accuracy: 0.8151 - val_loss: 0.4324 - val_accuracy: 0.8176 - lr: 0.0010\n",
      "Epoch 4/100\n",
      "704/704 [==============================] - 1s 2ms/step - loss: 0.4357 - accuracy: 0.8176 - val_loss: 0.4306 - val_accuracy: 0.8207 - lr: 0.0010\n",
      "Epoch 5/100\n",
      "704/704 [==============================] - 1s 2ms/step - loss: 0.4331 - accuracy: 0.8176 - val_loss: 0.4309 - val_accuracy: 0.8235 - lr: 0.0010\n",
      "Epoch 6/100\n",
      "704/704 [==============================] - 1s 2ms/step - loss: 0.4312 - accuracy: 0.8187 - val_loss: 0.4317 - val_accuracy: 0.8216 - lr: 0.0010\n",
      "Epoch 7/100\n",
      "704/704 [==============================] - 1s 2ms/step - loss: 0.4305 - accuracy: 0.8190 - val_loss: 0.4288 - val_accuracy: 0.8219 - lr: 0.0010\n",
      "Epoch 8/100\n",
      "704/704 [==============================] - 1s 2ms/step - loss: 0.4289 - accuracy: 0.8192 - val_loss: 0.4292 - val_accuracy: 0.8200 - lr: 0.0010\n",
      "Epoch 9/100\n",
      "704/704 [==============================] - 1s 2ms/step - loss: 0.4276 - accuracy: 0.8197 - val_loss: 0.4303 - val_accuracy: 0.8199 - lr: 0.0010\n",
      "Epoch 10/100\n",
      "704/704 [==============================] - 1s 2ms/step - loss: 0.4275 - accuracy: 0.8194 - val_loss: 0.4288 - val_accuracy: 0.8207 - lr: 0.0010\n",
      "Epoch 11/100\n",
      "704/704 [==============================] - 1s 2ms/step - loss: 0.4267 - accuracy: 0.8197 - val_loss: 0.4279 - val_accuracy: 0.8203 - lr: 0.0010\n",
      "Epoch 12/100\n",
      "704/704 [==============================] - 1s 2ms/step - loss: 0.4257 - accuracy: 0.8194 - val_loss: 0.4278 - val_accuracy: 0.8216 - lr: 9.0484e-04\n",
      "Epoch 13/100\n",
      "704/704 [==============================] - 1s 2ms/step - loss: 0.4243 - accuracy: 0.8212 - val_loss: 0.4276 - val_accuracy: 0.8199 - lr: 8.1873e-04\n",
      "Epoch 14/100\n",
      "704/704 [==============================] - 1s 2ms/step - loss: 0.4237 - accuracy: 0.8207 - val_loss: 0.4295 - val_accuracy: 0.8196 - lr: 7.4082e-04\n",
      "Epoch 15/100\n",
      "704/704 [==============================] - 1s 2ms/step - loss: 0.4226 - accuracy: 0.8201 - val_loss: 0.4280 - val_accuracy: 0.8212 - lr: 6.7032e-04\n",
      "Epoch 16/100\n",
      "704/704 [==============================] - 1s 2ms/step - loss: 0.4216 - accuracy: 0.8215 - val_loss: 0.4280 - val_accuracy: 0.8216 - lr: 6.0653e-04\n",
      "Epoch 17/100\n",
      "704/704 [==============================] - 1s 2ms/step - loss: 0.4207 - accuracy: 0.8207 - val_loss: 0.4281 - val_accuracy: 0.8208 - lr: 5.4881e-04\n",
      "Epoch 18/100\n",
      "704/704 [==============================] - 1s 2ms/step - loss: 0.4197 - accuracy: 0.8212 - val_loss: 0.4294 - val_accuracy: 0.8220 - lr: 4.9659e-04\n",
      "Epoch 19/100\n",
      "704/704 [==============================] - 1s 2ms/step - loss: 0.4194 - accuracy: 0.8211 - val_loss: 0.4298 - val_accuracy: 0.8197 - lr: 4.4933e-04\n",
      "Epoch 20/100\n",
      "704/704 [==============================] - 1s 2ms/step - loss: 0.4185 - accuracy: 0.8222 - val_loss: 0.4288 - val_accuracy: 0.8216 - lr: 4.0657e-04\n",
      "Epoch 21/100\n",
      "704/704 [==============================] - 1s 2ms/step - loss: 0.4180 - accuracy: 0.8227 - val_loss: 0.4299 - val_accuracy: 0.8215 - lr: 3.6788e-04\n",
      "Epoch 22/100\n",
      "704/704 [==============================] - 1s 2ms/step - loss: 0.4175 - accuracy: 0.8216 - val_loss: 0.4294 - val_accuracy: 0.8200 - lr: 3.3287e-04\n",
      "Epoch 23/100\n",
      "704/704 [==============================] - 1s 2ms/step - loss: 0.4169 - accuracy: 0.8232 - val_loss: 0.4300 - val_accuracy: 0.8211 - lr: 3.0119e-04\n",
      "Epoch 24/100\n",
      "704/704 [==============================] - 1s 2ms/step - loss: 0.4167 - accuracy: 0.8225 - val_loss: 0.4300 - val_accuracy: 0.8204 - lr: 2.7253e-04\n",
      "Epoch 25/100\n",
      "704/704 [==============================] - 1s 2ms/step - loss: 0.4161 - accuracy: 0.8226 - val_loss: 0.4304 - val_accuracy: 0.8191 - lr: 2.4660e-04\n",
      "Epoch 26/100\n",
      "704/704 [==============================] - 1s 2ms/step - loss: 0.4158 - accuracy: 0.8235 - val_loss: 0.4295 - val_accuracy: 0.8215 - lr: 2.2313e-04\n",
      "Epoch 27/100\n",
      "704/704 [==============================] - 1s 2ms/step - loss: 0.4153 - accuracy: 0.8226 - val_loss: 0.4297 - val_accuracy: 0.8215 - lr: 2.0190e-04\n",
      "Epoch 28/100\n",
      "704/704 [==============================] - 2s 2ms/step - loss: 0.4150 - accuracy: 0.8235 - val_loss: 0.4304 - val_accuracy: 0.8208 - lr: 1.8268e-04\n",
      "Epoch 29/100\n",
      "704/704 [==============================] - 2s 2ms/step - loss: 0.4148 - accuracy: 0.8240 - val_loss: 0.4300 - val_accuracy: 0.8219 - lr: 1.6530e-04\n",
      "Epoch 30/100\n",
      "704/704 [==============================] - 2s 2ms/step - loss: 0.4143 - accuracy: 0.8236 - val_loss: 0.4302 - val_accuracy: 0.8215 - lr: 1.4957e-04\n",
      "Epoch 31/100\n",
      "704/704 [==============================] - 2s 2ms/step - loss: 0.4140 - accuracy: 0.8232 - val_loss: 0.4301 - val_accuracy: 0.8204 - lr: 1.3534e-04\n",
      "Epoch 32/100\n",
      "704/704 [==============================] - 1s 2ms/step - loss: 0.4137 - accuracy: 0.8234 - val_loss: 0.4307 - val_accuracy: 0.8216 - lr: 1.2246e-04\n",
      "Epoch 33/100\n",
      "704/704 [==============================] - 2s 3ms/step - loss: 0.4136 - accuracy: 0.8239 - val_loss: 0.4305 - val_accuracy: 0.8216 - lr: 1.1080e-04\n",
      "Epoch 34/100\n",
      "704/704 [==============================] - 1s 2ms/step - loss: 0.4134 - accuracy: 0.8231 - val_loss: 0.4306 - val_accuracy: 0.8221 - lr: 1.0026e-04\n",
      "Epoch 35/100\n",
      "704/704 [==============================] - 2s 2ms/step - loss: 0.4133 - accuracy: 0.8236 - val_loss: 0.4306 - val_accuracy: 0.8216 - lr: 9.0718e-05\n",
      "Epoch 36/100\n",
      "704/704 [==============================] - 1s 2ms/step - loss: 0.4130 - accuracy: 0.8236 - val_loss: 0.4308 - val_accuracy: 0.8221 - lr: 8.2085e-05\n",
      "Epoch 37/100\n",
      "704/704 [==============================] - 2s 2ms/step - loss: 0.4129 - accuracy: 0.8233 - val_loss: 0.4308 - val_accuracy: 0.8211 - lr: 7.4274e-05\n",
      "Epoch 38/100\n",
      "704/704 [==============================] - 2s 2ms/step - loss: 0.4128 - accuracy: 0.8236 - val_loss: 0.4308 - val_accuracy: 0.8216 - lr: 6.7206e-05\n",
      "Epoch 39/100\n",
      "704/704 [==============================] - 1s 2ms/step - loss: 0.4126 - accuracy: 0.8234 - val_loss: 0.4307 - val_accuracy: 0.8216 - lr: 6.0810e-05\n",
      "Epoch 40/100\n",
      "704/704 [==============================] - 2s 3ms/step - loss: 0.4126 - accuracy: 0.8238 - val_loss: 0.4308 - val_accuracy: 0.8219 - lr: 5.5023e-05\n",
      "Epoch 41/100\n",
      "704/704 [==============================] - 2s 2ms/step - loss: 0.4124 - accuracy: 0.8236 - val_loss: 0.4309 - val_accuracy: 0.8212 - lr: 4.9787e-05\n",
      "Epoch 42/100\n",
      "704/704 [==============================] - 2s 3ms/step - loss: 0.4124 - accuracy: 0.8236 - val_loss: 0.4309 - val_accuracy: 0.8216 - lr: 4.5049e-05\n",
      "Epoch 43/100\n",
      "704/704 [==============================] - 2s 2ms/step - loss: 0.4123 - accuracy: 0.8238 - val_loss: 0.4309 - val_accuracy: 0.8208 - lr: 4.0762e-05\n",
      "Epoch 44/100\n",
      "704/704 [==============================] - 2s 2ms/step - loss: 0.4122 - accuracy: 0.8239 - val_loss: 0.4310 - val_accuracy: 0.8212 - lr: 3.6883e-05\n",
      "Epoch 45/100\n",
      "704/704 [==============================] - 1s 2ms/step - loss: 0.4121 - accuracy: 0.8237 - val_loss: 0.4310 - val_accuracy: 0.8213 - lr: 3.3373e-05\n",
      "Epoch 46/100\n",
      "704/704 [==============================] - 2s 3ms/step - loss: 0.4121 - accuracy: 0.8241 - val_loss: 0.4311 - val_accuracy: 0.8209 - lr: 3.0197e-05\n",
      "Epoch 47/100\n",
      "704/704 [==============================] - 2s 3ms/step - loss: 0.4120 - accuracy: 0.8238 - val_loss: 0.4310 - val_accuracy: 0.8215 - lr: 2.7324e-05\n",
      "Epoch 48/100\n",
      "704/704 [==============================] - 2s 2ms/step - loss: 0.4119 - accuracy: 0.8242 - val_loss: 0.4311 - val_accuracy: 0.8216 - lr: 2.4724e-05\n",
      "Epoch 49/100\n",
      "704/704 [==============================] - 1s 2ms/step - loss: 0.4119 - accuracy: 0.8237 - val_loss: 0.4311 - val_accuracy: 0.8215 - lr: 2.2371e-05\n",
      "Epoch 50/100\n",
      "704/704 [==============================] - 2s 3ms/step - loss: 0.4118 - accuracy: 0.8233 - val_loss: 0.4311 - val_accuracy: 0.8212 - lr: 2.0242e-05\n",
      "Epoch 51/100\n",
      "704/704 [==============================] - 2s 3ms/step - loss: 0.4118 - accuracy: 0.8239 - val_loss: 0.4311 - val_accuracy: 0.8216 - lr: 1.8316e-05\n",
      "Epoch 52/100\n",
      "704/704 [==============================] - 2s 2ms/step - loss: 0.4118 - accuracy: 0.8239 - val_loss: 0.4312 - val_accuracy: 0.8209 - lr: 1.6573e-05\n",
      "Epoch 53/100\n",
      "704/704 [==============================] - 1s 2ms/step - loss: 0.4117 - accuracy: 0.8240 - val_loss: 0.4312 - val_accuracy: 0.8216 - lr: 1.4996e-05\n",
      "Epoch 54/100\n",
      "704/704 [==============================] - 1s 2ms/step - loss: 0.4117 - accuracy: 0.8239 - val_loss: 0.4312 - val_accuracy: 0.8216 - lr: 1.3569e-05\n",
      "Epoch 55/100\n",
      "704/704 [==============================] - 1s 2ms/step - loss: 0.4117 - accuracy: 0.8240 - val_loss: 0.4312 - val_accuracy: 0.8213 - lr: 1.2277e-05\n",
      "Epoch 56/100\n",
      "704/704 [==============================] - 1s 2ms/step - loss: 0.4117 - accuracy: 0.8241 - val_loss: 0.4312 - val_accuracy: 0.8217 - lr: 1.1109e-05\n",
      "Epoch 57/100\n",
      "704/704 [==============================] - 1s 2ms/step - loss: 0.4116 - accuracy: 0.8239 - val_loss: 0.4312 - val_accuracy: 0.8217 - lr: 1.0052e-05\n",
      "Epoch 58/100\n",
      "704/704 [==============================] - 1s 2ms/step - loss: 0.4116 - accuracy: 0.8238 - val_loss: 0.4312 - val_accuracy: 0.8215 - lr: 9.0953e-06\n",
      "Epoch 59/100\n",
      "704/704 [==============================] - 1s 2ms/step - loss: 0.4116 - accuracy: 0.8240 - val_loss: 0.4312 - val_accuracy: 0.8213 - lr: 8.2297e-06\n",
      "Epoch 60/100\n",
      "704/704 [==============================] - 2s 2ms/step - loss: 0.4116 - accuracy: 0.8239 - val_loss: 0.4313 - val_accuracy: 0.8216 - lr: 7.4466e-06\n",
      "Epoch 61/100\n",
      "704/704 [==============================] - 2s 3ms/step - loss: 0.4116 - accuracy: 0.8240 - val_loss: 0.4313 - val_accuracy: 0.8216 - lr: 6.7379e-06\n",
      "Epoch 62/100\n",
      "704/704 [==============================] - 2s 2ms/step - loss: 0.4116 - accuracy: 0.8240 - val_loss: 0.4313 - val_accuracy: 0.8216 - lr: 6.0967e-06\n",
      "Epoch 63/100\n",
      "704/704 [==============================] - 2s 2ms/step - loss: 0.4115 - accuracy: 0.8241 - val_loss: 0.4313 - val_accuracy: 0.8216 - lr: 5.5166e-06\n",
      "Epoch 64/100\n",
      "704/704 [==============================] - 2s 2ms/step - loss: 0.4115 - accuracy: 0.8240 - val_loss: 0.4313 - val_accuracy: 0.8216 - lr: 4.9916e-06\n",
      "Epoch 65/100\n",
      "704/704 [==============================] - 2s 2ms/step - loss: 0.4115 - accuracy: 0.8241 - val_loss: 0.4313 - val_accuracy: 0.8216 - lr: 4.5166e-06\n",
      "Epoch 66/100\n",
      "704/704 [==============================] - 1s 2ms/step - loss: 0.4115 - accuracy: 0.8240 - val_loss: 0.4313 - val_accuracy: 0.8216 - lr: 4.0868e-06\n",
      "Epoch 67/100\n",
      "704/704 [==============================] - 2s 2ms/step - loss: 0.4115 - accuracy: 0.8242 - val_loss: 0.4313 - val_accuracy: 0.8216 - lr: 3.6979e-06\n",
      "Epoch 68/100\n",
      "704/704 [==============================] - 2s 3ms/step - loss: 0.4115 - accuracy: 0.8241 - val_loss: 0.4313 - val_accuracy: 0.8216 - lr: 3.3460e-06\n",
      "Epoch 69/100\n",
      "704/704 [==============================] - 1s 2ms/step - loss: 0.4115 - accuracy: 0.8240 - val_loss: 0.4313 - val_accuracy: 0.8216 - lr: 3.0276e-06\n",
      "Epoch 70/100\n",
      "704/704 [==============================] - 1s 2ms/step - loss: 0.4115 - accuracy: 0.8240 - val_loss: 0.4313 - val_accuracy: 0.8216 - lr: 2.7394e-06\n",
      "Epoch 71/100\n",
      "704/704 [==============================] - 1s 2ms/step - loss: 0.4115 - accuracy: 0.8241 - val_loss: 0.4313 - val_accuracy: 0.8216 - lr: 2.4788e-06\n",
      "Epoch 72/100\n",
      "704/704 [==============================] - 1s 2ms/step - loss: 0.4115 - accuracy: 0.8242 - val_loss: 0.4313 - val_accuracy: 0.8216 - lr: 2.2429e-06\n",
      "Epoch 73/100\n",
      "704/704 [==============================] - 1s 2ms/step - loss: 0.4115 - accuracy: 0.8240 - val_loss: 0.4313 - val_accuracy: 0.8216 - lr: 2.0294e-06\n",
      "Epoch 74/100\n",
      "704/704 [==============================] - 1s 2ms/step - loss: 0.4115 - accuracy: 0.8241 - val_loss: 0.4313 - val_accuracy: 0.8216 - lr: 1.8363e-06\n",
      "Epoch 75/100\n",
      "704/704 [==============================] - 1s 2ms/step - loss: 0.4115 - accuracy: 0.8241 - val_loss: 0.4313 - val_accuracy: 0.8216 - lr: 1.6616e-06\n",
      "Epoch 76/100\n",
      "704/704 [==============================] - 1s 2ms/step - loss: 0.4115 - accuracy: 0.8241 - val_loss: 0.4313 - val_accuracy: 0.8216 - lr: 1.5034e-06\n",
      "Epoch 77/100\n",
      "704/704 [==============================] - 1s 2ms/step - loss: 0.4114 - accuracy: 0.8241 - val_loss: 0.4313 - val_accuracy: 0.8216 - lr: 1.3604e-06\n",
      "Epoch 78/100\n",
      "704/704 [==============================] - 1s 2ms/step - loss: 0.4114 - accuracy: 0.8242 - val_loss: 0.4313 - val_accuracy: 0.8216 - lr: 1.2309e-06\n",
      "Epoch 79/100\n",
      "704/704 [==============================] - 1s 2ms/step - loss: 0.4114 - accuracy: 0.8242 - val_loss: 0.4313 - val_accuracy: 0.8216 - lr: 1.1138e-06\n",
      "Epoch 80/100\n",
      "704/704 [==============================] - 2s 2ms/step - loss: 0.4114 - accuracy: 0.8242 - val_loss: 0.4313 - val_accuracy: 0.8216 - lr: 1.0078e-06\n",
      "Epoch 81/100\n",
      "704/704 [==============================] - 1s 2ms/step - loss: 0.4114 - accuracy: 0.8242 - val_loss: 0.4313 - val_accuracy: 0.8216 - lr: 9.1188e-07\n",
      "Epoch 82/100\n",
      "704/704 [==============================] - 1s 2ms/step - loss: 0.4114 - accuracy: 0.8242 - val_loss: 0.4313 - val_accuracy: 0.8216 - lr: 8.2511e-07\n",
      "Epoch 83/100\n",
      "704/704 [==============================] - 1s 2ms/step - loss: 0.4114 - accuracy: 0.8242 - val_loss: 0.4313 - val_accuracy: 0.8216 - lr: 7.4659e-07\n",
      "Epoch 84/100\n",
      "704/704 [==============================] - 1s 2ms/step - loss: 0.4114 - accuracy: 0.8241 - val_loss: 0.4313 - val_accuracy: 0.8216 - lr: 6.7554e-07\n",
      "Epoch 85/100\n",
      "704/704 [==============================] - 1s 2ms/step - loss: 0.4114 - accuracy: 0.8242 - val_loss: 0.4313 - val_accuracy: 0.8216 - lr: 6.1125e-07\n",
      "Epoch 86/100\n",
      "704/704 [==============================] - 1s 2ms/step - loss: 0.4114 - accuracy: 0.8242 - val_loss: 0.4313 - val_accuracy: 0.8216 - lr: 5.5308e-07\n",
      "Epoch 87/100\n",
      "704/704 [==============================] - 1s 2ms/step - loss: 0.4114 - accuracy: 0.8242 - val_loss: 0.4313 - val_accuracy: 0.8216 - lr: 5.0045e-07\n",
      "Epoch 88/100\n",
      "704/704 [==============================] - 1s 2ms/step - loss: 0.4114 - accuracy: 0.8242 - val_loss: 0.4313 - val_accuracy: 0.8216 - lr: 4.5283e-07\n",
      "Epoch 89/100\n",
      "704/704 [==============================] - 1s 2ms/step - loss: 0.4114 - accuracy: 0.8242 - val_loss: 0.4313 - val_accuracy: 0.8216 - lr: 4.0973e-07\n",
      "Epoch 90/100\n",
      "704/704 [==============================] - 1s 2ms/step - loss: 0.4114 - accuracy: 0.8242 - val_loss: 0.4313 - val_accuracy: 0.8216 - lr: 3.7074e-07\n",
      "Epoch 91/100\n",
      "704/704 [==============================] - 1s 2ms/step - loss: 0.4114 - accuracy: 0.8242 - val_loss: 0.4313 - val_accuracy: 0.8216 - lr: 3.3546e-07\n",
      "Epoch 92/100\n",
      "704/704 [==============================] - 1s 2ms/step - loss: 0.4114 - accuracy: 0.8242 - val_loss: 0.4313 - val_accuracy: 0.8216 - lr: 3.0354e-07\n",
      "Epoch 93/100\n",
      "704/704 [==============================] - 1s 2ms/step - loss: 0.4114 - accuracy: 0.8242 - val_loss: 0.4313 - val_accuracy: 0.8216 - lr: 2.7465e-07\n",
      "Epoch 94/100\n",
      "704/704 [==============================] - 1s 2ms/step - loss: 0.4114 - accuracy: 0.8242 - val_loss: 0.4313 - val_accuracy: 0.8216 - lr: 2.4852e-07\n",
      "Epoch 95/100\n",
      "704/704 [==============================] - 1s 2ms/step - loss: 0.4114 - accuracy: 0.8242 - val_loss: 0.4313 - val_accuracy: 0.8216 - lr: 2.2487e-07\n",
      "Epoch 96/100\n",
      "704/704 [==============================] - 1s 2ms/step - loss: 0.4114 - accuracy: 0.8242 - val_loss: 0.4313 - val_accuracy: 0.8216 - lr: 2.0347e-07\n",
      "Epoch 97/100\n",
      "704/704 [==============================] - 1s 2ms/step - loss: 0.4114 - accuracy: 0.8241 - val_loss: 0.4313 - val_accuracy: 0.8216 - lr: 1.8411e-07\n",
      "Epoch 98/100\n",
      "704/704 [==============================] - 1s 2ms/step - loss: 0.4114 - accuracy: 0.8241 - val_loss: 0.4313 - val_accuracy: 0.8216 - lr: 1.6659e-07\n",
      "Epoch 99/100\n",
      "704/704 [==============================] - 1s 2ms/step - loss: 0.4114 - accuracy: 0.8242 - val_loss: 0.4313 - val_accuracy: 0.8216 - lr: 1.5073e-07\n",
      "Epoch 100/100\n",
      "704/704 [==============================] - 1s 2ms/step - loss: 0.4114 - accuracy: 0.8242 - val_loss: 0.4313 - val_accuracy: 0.8216 - lr: 1.3639e-07\n"
     ]
    }
   ],
   "source": [
    "history = model.fit(\n",
    "    X_train, y_train,\n",
    "    epochs=100,\n",
    "    validation_data=(X_test, y_test),\n",
    "    callbacks=[callback]\n",
    "    )"
   ]
  },
  {
   "cell_type": "code",
   "execution_count": 81,
   "metadata": {},
   "outputs": [
    {
     "data": {
      "image/png": "[encoded data removed]",
      "text/plain": [
       "<Figure size 864x576 with 1 Axes>"
      ]
     },
     "metadata": {
      "needs_background": "light"
     },
     "output_type": "display_data"
    }
   ],
   "source": [
    "plt.figure(figsize=(12,8))\n",
    "plt.plot(history.history['accuracy'], label = 'accuracy')\n",
    "plt.plot(history.history['val_accuracy'], label = 'val_accuracy')\n",
    "plt.legend()\n",
    "plt.show()"
   ]
  }
 ],
 "metadata": {
  "kernelspec": {
   "display_name": "Python 3.9.12 ('base')",
   "language": "python",
   "name": "python3"
  },
  "language_info": {
   "codemirror_mode": {
    "name": "ipython",
    "version": 3
   },
   "file_extension": ".py",
   "mimetype": "text/x-python",
   "name": "python",
   "nbconvert_exporter": "python",
   "pygments_lexer": "ipython3",
   "version": "3.9.12"
  },
  "orig_nbformat": 4,
  "vscode": {
   "interpreter": {
    "hash": "399b942a90945adf822711c817a2148b24a3a269b52160aecaa333816877df5e"
   }
  }
 },
 "nbformat": 4,
 "nbformat_minor": 2
}
