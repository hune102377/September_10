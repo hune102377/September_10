{
 "cells": [
  {
   "cell_type": "markdown",
   "metadata": {},
   "source": [
    "# AutoEncode 노이즈 제거\n",
    "---  \n",
    "* 데이터에 노이즈 제거 활용\n",
    "* 데이터에"
   ]
  },
  {
   "cell_type": "markdown",
   "metadata": {},
   "source": [
    "[1] 데이터 불러오기"
   ]
  },
  {
   "cell_type": "code",
   "execution_count": 27,
   "metadata": {},
   "outputs": [],
   "source": [
    "from tensorflow.keras.datasets.mnist import load_data\n",
    "from tensorflow.keras.utils import set_random_seed, plot_model\n",
    "from tensorflow.keras import Sequential\n",
    "from tensorflow.keras.layers import Dense\n",
    "from sklearn.model_selection import train_test_split\n",
    "import numpy as np\n",
    "import matplotlib.pyplot as plt"
   ]
  },
  {
   "cell_type": "code",
   "execution_count": 28,
   "metadata": {},
   "outputs": [],
   "source": [
    "set_random_seed(11)"
   ]
  },
  {
   "cell_type": "code",
   "execution_count": 29,
   "metadata": {},
   "outputs": [],
   "source": [
    "(x_train, y_train), (x_test, y_test) = load_data()"
   ]
  },
  {
   "cell_type": "code",
   "execution_count": 30,
   "metadata": {},
   "outputs": [],
   "source": [
    "x_train = x_train.reshape(-1, 28 * 28) / 255.\n",
    "x_test = x_test.reshape(-1, 28 * 28) / 255."
   ]
  },
  {
   "cell_type": "code",
   "execution_count": 31,
   "metadata": {},
   "outputs": [],
   "source": [
    "# 데이터셋에 노이즈 추가\n",
    "# np.rando.normal(loc=0.0, scale = 1.0, size = None)\n",
    "x_train_noised = x_train + np.random.normal(0, 0.5, size=x_train.shape)\n",
    "x_test_noised = x_test + np.random.normal(0, 0.5, size=x_test.shape)\n",
    "\n",
    "# np.clip(array, min, max)\n",
    "x_train_noised = np.clip(x_train_noised, a_min = 0, a_max = 1)\n",
    "x_test_noised = np.clip(x_test_noised, a_min = 0, a_max = 1)"
   ]
  },
  {
   "cell_type": "code",
   "execution_count": 32,
   "metadata": {},
   "outputs": [
    {
     "data": {
      "text/plain": [
       "Text(0.5, 1.0, 'Noised Image')"
      ]
     },
     "execution_count": 32,
     "metadata": {},
     "output_type": "execute_result"
    },
    {
     "data": {
      "image/png": "[encoded data removed]",
      "text/plain": [
       "<Figure size 864x576 with 2 Axes>"
      ]
     },
     "metadata": {
      "needs_background": "light"
     },
     "output_type": "display_data"
    }
   ],
   "source": [
    "plt.figure(figsize=(12, 8))\n",
    "plt.subplot(1,2,1)\n",
    "plt.imshow(x_train[0].reshape(28, 28), cmap='gray')\n",
    "plt.title('Pure Image')\n",
    "\n",
    "plt.subplot(1,2,2)\n",
    "plt.imshow(x_train_noised[0].reshape(28, 28), cmap='gray')\n",
    "plt.title('Noised Image')"
   ]
  },
  {
   "cell_type": "markdown",
   "metadata": {},
   "source": [
    "나머진 동일"
   ]
  },
  {
   "cell_type": "code",
   "execution_count": 33,
   "metadata": {},
   "outputs": [],
   "source": [
    "def createModel(n_node) :\n",
    "    model = Sequential()\n",
    "    model.add(Dense(n_node, activation = 'relu', input_shape = (784,)))\n",
    "    model.add(Dense(784, activation = 'sigmoid'))\n",
    "    model.compile(loss = 'mean_squared_error', optimizer = 'adam')\n",
    "    return model"
   ]
  },
  {
   "cell_type": "code",
   "execution_count": 34,
   "metadata": {},
   "outputs": [],
   "source": [
    "model1 = createModel(3)\n",
    "model2 = createModel(12)\n",
    "model3 = createModel(49)\n",
    "model4 = createModel(196)\n",
    "model5 = createModel(784)"
   ]
  },
  {
   "cell_type": "code",
   "execution_count": 35,
   "metadata": {},
   "outputs": [
    {
     "name": "stdout",
     "output_type": "stream",
     "text": [
      "Model: \"sequential_10\"\n",
      "_________________________________________________________________\n",
      " Layer (type)                Output Shape              Param #   \n",
      "=================================================================\n",
      " dense_20 (Dense)            (None, 3)                 2355      \n",
      "                                                                 \n",
      " dense_21 (Dense)            (None, 784)               3136      \n",
      "                                                                 \n",
      "=================================================================\n",
      "Total params: 5,491\n",
      "Trainable params: 5,491\n",
      "Non-trainable params: 0\n",
      "_________________________________________________________________\n",
      "Model: \"sequential_11\"\n",
      "_________________________________________________________________\n",
      " Layer (type)                Output Shape              Param #   \n",
      "=================================================================\n",
      " dense_22 (Dense)            (None, 12)                9420      \n",
      "                                                                 \n",
      " dense_23 (Dense)            (None, 784)               10192     \n",
      "                                                                 \n",
      "=================================================================\n",
      "Total params: 19,612\n",
      "Trainable params: 19,612\n",
      "Non-trainable params: 0\n",
      "_________________________________________________________________\n",
      "Model: \"sequential_13\"\n",
      "_________________________________________________________________\n",
      " Layer (type)                Output Shape              Param #   \n",
      "=================================================================\n",
      " dense_26 (Dense)            (None, 196)               153860    \n",
      "                                                                 \n",
      " dense_27 (Dense)            (None, 784)               154448    \n",
      "                                                                 \n",
      "=================================================================\n",
      "Total params: 308,308\n",
      "Trainable params: 308,308\n",
      "Non-trainable params: 0\n",
      "_________________________________________________________________\n"
     ]
    },
    {
     "data": {
      "text/plain": [
       "(None, None, None)"
      ]
     },
     "execution_count": 35,
     "metadata": {},
     "output_type": "execute_result"
    }
   ],
   "source": [
    "model1.summary(), model2.summary(), model4.summary()"
   ]
  },
  {
   "cell_type": "code",
   "execution_count": 36,
   "metadata": {},
   "outputs": [
    {
     "name": "stdout",
     "output_type": "stream",
     "text": [
      "1875/1875 [==============================] - 2s 1ms/step - loss: 0.0666\n",
      "1875/1875 [==============================] - 2s 1ms/step - loss: 0.0517\n",
      "1875/1875 [==============================] - 3s 1ms/step - loss: 0.0357\n",
      "1875/1875 [==============================] - 5s 2ms/step - loss: 0.0274\n",
      "1875/1875 [==============================] - 14s 8ms/step - loss: 0.0220\n"
     ]
    },
    {
     "data": {
      "text/plain": [
       "<keras.callbacks.History at 0x1de1bb890d0>"
      ]
     },
     "execution_count": 36,
     "metadata": {},
     "output_type": "execute_result"
    }
   ],
   "source": [
    "model1.fit(x_train_noised, x_train, epochs = 1)\n",
    "model2.fit(x_train_noised, x_train, epochs = 1)\n",
    "model3.fit(x_train_noised, x_train, epochs = 1)\n",
    "model4.fit(x_train_noised, x_train, epochs = 1)\n",
    "model5.fit(x_train_noised, x_train, epochs = 1)"
   ]
  },
  {
   "cell_type": "code",
   "execution_count": 37,
   "metadata": {},
   "outputs": [
    {
     "name": "stdout",
     "output_type": "stream",
     "text": [
      "313/313 [==============================] - 0s 1ms/step - loss: 27.0322\n",
      "313/313 [==============================] - 0s 882us/step - loss: 26.9944\n",
      "313/313 [==============================] - 0s 1ms/step - loss: 26.9993\n",
      "313/313 [==============================] - 1s 1ms/step - loss: 27.0036\n",
      "313/313 [==============================] - 1s 3ms/step - loss: 27.0151\n"
     ]
    },
    {
     "data": {
      "text/plain": [
       "27.015111923217773"
      ]
     },
     "execution_count": 37,
     "metadata": {},
     "output_type": "execute_result"
    }
   ],
   "source": [
    "model1.evaluate(x_test_noised, y_test)\n",
    "model2.evaluate(x_test_noised, y_test)\n",
    "model3.evaluate(x_test_noised, y_test)\n",
    "model4.evaluate(x_test_noised, y_test)\n",
    "model5.evaluate(x_test_noised, y_test)"
   ]
  },
  {
   "cell_type": "code",
   "execution_count": 38,
   "metadata": {},
   "outputs": [
    {
     "name": "stdout",
     "output_type": "stream",
     "text": [
      "1/1 [==============================] - 0s 49ms/step\n",
      "1/1 [==============================] - 0s 43ms/step\n",
      "1/1 [==============================] - 0s 47ms/step\n",
      "1/1 [==============================] - 0s 44ms/step\n",
      "1/1 [==============================] - 0s 42ms/step\n"
     ]
    }
   ],
   "source": [
    "pre_out1 = model1.predict(x_test_noised[0].reshape(-1, 784))\n",
    "pre_out2 = model2.predict(x_test_noised[0].reshape(-1, 784))\n",
    "pre_out3 = model3.predict(x_test_noised[0].reshape(-1, 784))\n",
    "pre_out4 = model4.predict(x_test_noised[0].reshape(-1, 784))\n",
    "pre_out5 = model5.predict(x_test_noised[0].reshape(-1, 784))"
   ]
  },
  {
   "cell_type": "code",
   "execution_count": 39,
   "metadata": {},
   "outputs": [
    {
     "data": {
      "text/plain": [
       "<matplotlib.image.AxesImage at 0x1de080fc2e0>"
      ]
     },
     "execution_count": 39,
     "metadata": {},
     "output_type": "execute_result"
    },
    {
     "data": {
      "image/png": "[encoded data removed]",
      "text/plain": [
       "<Figure size 1080x936 with 6 Axes>"
      ]
     },
     "metadata": {
      "needs_background": "light"
     },
     "output_type": "display_data"
    }
   ],
   "source": [
    "plt.figure(figsize = (15,13))\n",
    "plt.subplot(3,3,1)\n",
    "plt.imshow(x_test_noised[0].reshape(28,28), cmap='gray')\n",
    "plt.title(\"n_node : 3\")\n",
    "\n",
    "plt.subplot(3,3,2)\n",
    "plt.imshow(pre_out1.reshape(28,28), cmap='gray')\n",
    "plt.title(\"n_node : 12\")\n",
    "\n",
    "plt.subplot(3,3,3)\n",
    "plt.imshow(pre_out2.reshape(28,28), cmap='gray')\n",
    "plt.title(\"n_node : 49\")\n",
    "\n",
    "plt.subplot(3,3,4)\n",
    "plt.imshow(pre_out3.reshape(28,28), cmap='gray')\n",
    "plt.title(\"n_node : 3\")\n",
    "\n",
    "plt.subplot(3,3,5)\n",
    "plt.imshow(pre_out4.reshape(28,28), cmap='gray')\n",
    "plt.title(\"n_node : \")\n",
    "\n",
    "plt.subplot(3,3,6)\n",
    "plt.imshow(pre_out5.reshape(28,28), cmap='gray')\n",
    "plt.title(\"n_node : 784\")\n"
   ]
  }
 ],
 "metadata": {
  "kernelspec": {
   "display_name": "Python 3.9.12 ('base')",
   "language": "python",
   "name": "python3"
  },
  "language_info": {
   "codemirror_mode": {
    "name": "ipython",
    "version": 3
   },
   "file_extension": ".py",
   "mimetype": "text/x-python",
   "name": "python",
   "nbconvert_exporter": "python",
   "pygments_lexer": "ipython3",
   "version": "3.9.12"
  },
  "orig_nbformat": 4,
  "vscode": {
   "interpreter": {
    "hash": "399b942a90945adf822711c817a2148b24a3a269b52160aecaa333816877df5e"
   }
  }
 },
 "nbformat": 4,
 "nbformat_minor": 2
}
