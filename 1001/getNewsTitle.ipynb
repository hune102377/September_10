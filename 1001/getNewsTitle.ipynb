{
 "cells": [
  {
   "cell_type": "code",
   "execution_count": 8,
   "metadata": {},
   "outputs": [],
   "source": [
    "# 모듈 불러오기\n",
    "from urllib.request import urlopen #url 주소 호출 라이브러리\n",
    "from bs4 import BeautifulSoup\n",
    "import numpy as np\n",
    "import pandas as pd"
   ]
  },
  {
   "cell_type": "code",
   "execution_count": 2,
   "metadata": {},
   "outputs": [],
   "source": [
    "import time"
   ]
  },
  {
   "cell_type": "code",
   "execution_count": 3,
   "metadata": {},
   "outputs": [],
   "source": [
    "# IT 기사 리스트 : 0번째 리스트\n",
    "list_it = [731, 226, 227, 228, 732, 283, 229, 228]\n",
    "\n",
    "# 경제\n",
    "list_economy = [256, 258, 261, 771, 260, 262, 310, 263]\n",
    "\n",
    "# 사회\n",
    "list_social = [249, 250, 251, 254, 252, 255, 256, 276, 257]\n",
    "\n",
    "# 생활 문화\n",
    "list_life = [241, 239, 240, 237, 238, 376, 242, 243, 244, 348, 245]\n",
    "\n",
    "# 국제\n",
    "list_global = [231, 232, 233, 234, 322]\n",
    "\n",
    "# 스포츠\n",
    "list_sport = []\n",
    "\n",
    "# 정치\n",
    "list_politics = [264, 265, 268, 266, 267, 269]"
   ]
  },
  {
   "cell_type": "code",
   "execution_count": 4,
   "metadata": {},
   "outputs": [],
   "source": [
    "list_num = [5, 1, 2, 3, 4, 99, 0]\n",
    "\n",
    "# 리스트의 리스트\n",
    "list_list = [list_it, list_economy, list_social, list_life, list_global, list_sport, list_politics]"
   ]
  },
  {
   "cell_type": "code",
   "execution_count": 5,
   "metadata": {},
   "outputs": [],
   "source": [
    "def getTitles(date, type) :\n",
    "    # 리스트의 리스트에서 입력된 리스트를 불러오기\n",
    "    list_li = list_list[type]\n",
    "    num = list_num[type]\n",
    "    if num == 99 :\n",
    "        print(\"스포츠 뉴스는 다른 함수를 사용해주시길 바랍니다.\")\n",
    "    else :\n",
    "        # 타이틀을 담을 리스트\n",
    "        list_title = []\n",
    "        for i in range(0, len(list_li)) :\n",
    "            print(i)\n",
    "            # 입력한 날짜의 리스트 페이지의 데이터를 저장\n",
    "            url = (f'https://news.naver.com/main/list.naver?mode=LS2D&sid2=731&mid=shm&sid1=105&date=20221003&page=1')\n",
    "            print(url)\n",
    "            html = urlopen(url) # url 주소 html로 저장\n",
    "            soup = BeautifulSoup(html.read(), 'html.parser') # html 데이터 BeautifulSoup으로 요약\n",
    "            text = soup.find_all('dt')\n",
    "            j = 1\n",
    "            for j in range(1, 40, 2) :\n",
    "                print(j)\n",
    "                try :\n",
    "                    te = text[j].text.strip()\n",
    "                    if len(te) >= 1 : # 내용이 있는 경우에만\n",
    "                        list_title.append(te)\n",
    "                        print(te)\n",
    "                except :\n",
    "                    continue\n",
    "            time.sleep(10)\n",
    "        # 데이터를 데이터 프레임으로 변환\n",
    "        df = pd.DataFrame(list_title)\n",
    "        # 데이터에 입력했던 라벨 지정\n",
    "        df['label'] = type\n",
    "        return df\n"
   ]
  },
  {
   "cell_type": "code",
   "execution_count": null,
   "metadata": {},
   "outputs": [],
   "source": []
  },
  {
   "cell_type": "code",
   "execution_count": 6,
   "metadata": {},
   "outputs": [
    {
     "name": "stdout",
     "output_type": "stream",
     "text": [
      "0\n",
      "https://news.naver.com/main/list.naver?mode=LS2D&sid2=731&mid=shm&sid1=105&date=20220913&page=1\n"
     ]
    }
   ],
   "source": [
    "df = getTitles('20220913', 0)"
   ]
  }
 ],
 "metadata": {
  "kernelspec": {
   "display_name": "Python 3.9.12 ('base')",
   "language": "python",
   "name": "python3"
  },
  "language_info": {
   "codemirror_mode": {
    "name": "ipython",
    "version": 3
   },
   "file_extension": ".py",
   "mimetype": "text/x-python",
   "name": "python",
   "nbconvert_exporter": "python",
   "pygments_lexer": "ipython3",
   "version": "3.9.12"
  },
  "orig_nbformat": 4,
  "vscode": {
   "interpreter": {
    "hash": "263930470851f494f0ed2879c35b57985588df20f9e529b86e97dd5eb9ddc466"
   }
  }
 },
 "nbformat": 4,
 "nbformat_minor": 2
}
