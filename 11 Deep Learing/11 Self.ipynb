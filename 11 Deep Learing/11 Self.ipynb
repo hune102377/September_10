{
 "cells": [
  {
   "cell_type": "code",
   "execution_count": 114,
   "metadata": {},
   "outputs": [],
   "source": [
    "import os\n",
    "from keras_preprocessing.image import ImageDataGenerator\n",
    "import matplotlib.pyplot as plt"
   ]
  },
  {
   "cell_type": "markdown",
   "metadata": {},
   "source": [
    "#### [1] 데이터 불러오기"
   ]
  },
  {
   "cell_type": "code",
   "execution_count": 115,
   "metadata": {},
   "outputs": [],
   "source": [
    "# 각각의 데이터가 들어간 경로 설정\n",
    "dirname = './data/'\n",
    "dir_chess_folder = os.listdir(dirname)\n",
    "dir_chess_paths = [os.path.join(dirname, path) for path in dir_chess_folder]"
   ]
  },
  {
   "cell_type": "code",
   "execution_count": 116,
   "metadata": {},
   "outputs": [],
   "source": [
    "data_genrator = ImageDataGenerator(rescale=1./255)"
   ]
  },
  {
   "cell_type": "code",
   "execution_count": 117,
   "metadata": {},
   "outputs": [
    {
     "name": "stdout",
     "output_type": "stream",
     "text": [
      "Found 551 images belonging to 6 classes.\n"
     ]
    }
   ],
   "source": [
    "train_generator = data_genrator.flow_from_directory(\n",
    "    dirname,\n",
    "    target_size = (\n",
    "    100, 100),\n",
    "    batch_size = 551,\n",
    "    class_mode='categorical'\n",
    ")"
   ]
  },
  {
   "cell_type": "code",
   "execution_count": 118,
   "metadata": {},
   "outputs": [],
   "source": [
    "X_train, y_train = train_generator.next()\n",
    "X_train = X_train.reshape(-1, 100,100,3)"
   ]
  },
  {
   "cell_type": "markdown",
   "metadata": {},
   "source": [
    "#### [2] EDA"
   ]
  },
  {
   "cell_type": "markdown",
   "metadata": {},
   "source": [
    "#### [3] 모델 생성"
   ]
  },
  {
   "cell_type": "code",
   "execution_count": 120,
   "metadata": {},
   "outputs": [],
   "source": [
    "from sklearn.decomposition import PCA\n",
    "from keras.utils import plot_model"
   ]
  },
  {
   "cell_type": "code",
   "execution_count": 121,
   "metadata": {},
   "outputs": [],
   "source": [
    "model = PCA()"
   ]
  },
  {
   "cell_type": "markdown",
   "metadata": {},
   "source": [
    "#### [4] 모델 학습"
   ]
  },
  {
   "cell_type": "code",
   "execution_count": 122,
   "metadata": {},
   "outputs": [],
   "source": [
    "from keras.callbacks import ReduceLROnPlateau"
   ]
  },
  {
   "cell_type": "code",
   "execution_count": 123,
   "metadata": {},
   "outputs": [],
   "source": [
    "learning_rate_reduction = ReduceLROnPlateau(monitor = 'val_accuracy',\n",
    "patience=2,\n",
    "verbose=1,\n",
    "factor=0.5,\n",
    "min_lr = 0.005)\n",
    "\n",
    "callback = [learning_rate_reduction]"
   ]
  },
  {
   "cell_type": "code",
   "execution_count": 124,
   "metadata": {},
   "outputs": [
    {
     "ename": "TypeError",
     "evalue": "fit() got an unexpected keyword argument 'epochs'",
     "output_type": "error",
     "traceback": [
      "\u001b[1;31m---------------------------------------------------------------------------\u001b[0m",
      "\u001b[1;31mTypeError\u001b[0m                                 Traceback (most recent call last)",
      "\u001b[1;32mc:\\Users\\LJH\\Desktop\\File\\Study\\11 Deep Learing\\11 TF\\11 Self.ipynb 셀 14\u001b[0m in \u001b[0;36m<cell line: 1>\u001b[1;34m()\u001b[0m\n\u001b[1;32m----> <a href='vscode-notebook-cell:/c%3A/Users/LJH/Desktop/File/Study/11%20Deep%20Learing/11%20TF/11%20Self.ipynb#X40sZmlsZQ%3D%3D?line=0'>1</a>\u001b[0m history \u001b[39m=\u001b[39m model\u001b[39m.\u001b[39;49mfit(\n\u001b[0;32m      <a href='vscode-notebook-cell:/c%3A/Users/LJH/Desktop/File/Study/11%20Deep%20Learing/11%20TF/11%20Self.ipynb#X40sZmlsZQ%3D%3D?line=1'>2</a>\u001b[0m     X_train,\n\u001b[0;32m      <a href='vscode-notebook-cell:/c%3A/Users/LJH/Desktop/File/Study/11%20Deep%20Learing/11%20TF/11%20Self.ipynb#X40sZmlsZQ%3D%3D?line=2'>3</a>\u001b[0m     epochs\u001b[39m=\u001b[39;49m\u001b[39m50\u001b[39;49m,\n\u001b[0;32m      <a href='vscode-notebook-cell:/c%3A/Users/LJH/Desktop/File/Study/11%20Deep%20Learing/11%20TF/11%20Self.ipynb#X40sZmlsZQ%3D%3D?line=3'>4</a>\u001b[0m     callbacks \u001b[39m=\u001b[39;49m callback\n\u001b[0;32m      <a href='vscode-notebook-cell:/c%3A/Users/LJH/Desktop/File/Study/11%20Deep%20Learing/11%20TF/11%20Self.ipynb#X40sZmlsZQ%3D%3D?line=4'>5</a>\u001b[0m )\n",
      "\u001b[1;31mTypeError\u001b[0m: fit() got an unexpected keyword argument 'epochs'"
     ]
    }
   ],
   "source": [
    "history = model.fit(\n",
    "    X_train,\n",
    "    epochs=50,\n",
    "    callbacks = callback\n",
    ")"
   ]
  }
 ],
 "metadata": {
  "kernelspec": {
   "display_name": "Python 3.9.12 ('base')",
   "language": "python",
   "name": "python3"
  },
  "language_info": {
   "codemirror_mode": {
    "name": "ipython",
    "version": 3
   },
   "file_extension": ".py",
   "mimetype": "text/x-python",
   "name": "python",
   "nbconvert_exporter": "python",
   "pygments_lexer": "ipython3",
   "version": "3.9.12"
  },
  "orig_nbformat": 4,
  "vscode": {
   "interpreter": {
    "hash": "399b942a90945adf822711c817a2148b24a3a269b52160aecaa333816877df5e"
   }
  }
 },
 "nbformat": 4,
 "nbformat_minor": 2
}
