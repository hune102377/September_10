{
 "cells": [
  {
   "cell_type": "markdown",
   "metadata": {},
   "source": [
    "# Scikit-learn ML 기본동작\n",
    "\n",
    "---\n",
    "\n",
    "1) 데이터 수집 & 준비 단게\n",
    "2) 데이터 전처리\n",
    "    - 데이터 / 타겟 분리\n",
    "    - 데이터 표준화 / 정규화\n",
    "    - 타겟(라벨) 인코딩  \n",
    "\n",
    "3) 학습 위한 데이터 준비\n",
    "- 데이터 셋\n",
    "    * 학습용 데이터셋   : 학습\n",
    "    * 검증용 데이터셋   : 모델 생성 중에 사용\n",
    "    * 테스트용 데이터셋 : 모델 완성 후 사용\n",
    "\n",
    "4) 학습 모델 생성\n",
    "    - 학습 방법 선정 및 모델 객체 생성\n",
    "    - 학습 진행\n",
    "        * **모델 파라미터 최적화** => 학습에 의해서 결정되는 파라미터\n",
    "        * 최적의 모델 파라미터를 찾기 위한 방법 => **최적화(optimizer)**\n",
    "        * 가중치와 절편\n",
    "    - 모델 평가\n",
    "        * 성능 개선 => **하이퍼 파라미터** (모델마다 다름) : **모델 튜닝**\n",
    "        * 예) KNN에서 k 개 설정, 학습 횟수, 학습 크기(배치 사이즈), 규제 값들\n",
    "\n",
    "5) 모델 테스트\n",
    "    - 학습에 사용되지 않은 데이터를 활용 (새로운 데이터로 테스트 진행)\n"
   ]
  },
  {
   "cell_type": "code",
   "execution_count": 1,
   "metadata": {},
   "outputs": [],
   "source": [
    "# 모듈 로딩 ----------------------------------\n",
    "from sklearn.model_selection import train_test_split\n",
    "from sklearn.linear_model import LinearRegression"
   ]
  },
  {
   "cell_type": "markdown",
   "metadata": {},
   "source": [
    "## [1] 데이터 준비\n",
    "---"
   ]
  },
  {
   "cell_type": "code",
   "execution_count": 2,
   "metadata": {},
   "outputs": [],
   "source": [
    "# 데이터 생성\n",
    "X = [2,4,6,8,10,12]\n",
    "y = [40, 50, 60, 70, 80, 90]"
   ]
  },
  {
   "cell_type": "markdown",
   "metadata": {},
   "source": [
    "## [2] 데이터 분포 분석 => EDA => 시각화\n",
    "---\n",
    "시각화를 통해 Feature 자체의 파악과 상관관계 파악, 영향력 있는 Feature 추출"
   ]
  },
  {
   "cell_type": "code",
   "execution_count": 3,
   "metadata": {},
   "outputs": [
    {
     "data": {
      "image/png": "[encoded data removed]",
      "text/plain": [
       "<Figure size 432x288 with 1 Axes>"
      ]
     },
     "metadata": {
      "needs_background": "light"
     },
     "output_type": "display_data"
    }
   ],
   "source": [
    "import matplotlib.pyplot as plt\n",
    "\n",
    "plt.plot(X, y, marker='o')\n",
    "plt.xlabel('Hour')\n",
    "plt.ylabel('Score')\n",
    "plt.show()"
   ]
  },
  {
   "cell_type": "markdown",
   "metadata": {},
   "source": [
    "- 시간과 점수는 비례관계\n",
    "- 선형의 데이터 분포\n",
    "- 독립변수 : hour / 종속변수 : score"
   ]
  },
  {
   "cell_type": "code",
   "execution_count": 4,
   "metadata": {},
   "outputs": [
    {
     "data": {
      "text/plain": [
       "(6, 2)"
      ]
     },
     "execution_count": 4,
     "metadata": {},
     "output_type": "execute_result"
    }
   ],
   "source": [
    "# 학습에 사용되는 형태로 데이터 변환\n",
    "import pandas as pd\n",
    "\n",
    "df = pd.DataFrame({'Hour' : X, 'Score':y})\n",
    "df.shape"
   ]
  },
  {
   "cell_type": "code",
   "execution_count": 5,
   "metadata": {},
   "outputs": [
    {
     "name": "stdout",
     "output_type": "stream",
     "text": [
      "(6,) (6,)\n"
     ]
    }
   ],
   "source": [
    "import numpy as np\n",
    "\n",
    "arrX = np.array(X)\n",
    "arrY = np.array(y)\n",
    "\n",
    "print(arrX.shape, arrY.shape)"
   ]
  },
  {
   "cell_type": "code",
   "execution_count": 6,
   "metadata": {},
   "outputs": [
    {
     "name": "stdout",
     "output_type": "stream",
     "text": [
      "(6, 1) (6,)\n"
     ]
    }
   ],
   "source": [
    "# 1차원 => 2차원\n",
    "arrX = arrX.reshape(-1, 1)\n",
    "print(arrX.shape, arrY.shape)"
   ]
  },
  {
   "cell_type": "markdown",
   "metadata": {},
   "source": [
    "## [3] 학습 방법 선택 및 모델 생성\n",
    "---\n",
    "- 시간에 따른 점수 예측\n",
    "- 데이터 + 라벨 => 지도학습\n",
    "- 선형 데이터 분포 => 선형 모델 적용"
   ]
  },
  {
   "cell_type": "code",
   "execution_count": 7,
   "metadata": {},
   "outputs": [
    {
     "data": {
      "text/plain": [
       "LinearRegression()"
      ]
     },
     "execution_count": 7,
     "metadata": {},
     "output_type": "execute_result"
    }
   ],
   "source": [
    "# model 생성\n",
    "model = LinearRegression()\n",
    "\n",
    "# model 학습\n",
    "model.fit(arrX, arrY)"
   ]
  },
  {
   "cell_type": "code",
   "execution_count": 8,
   "metadata": {},
   "outputs": [
    {
     "name": "stdout",
     "output_type": "stream",
     "text": [
      "가중치 : [5.] 절편 : 29.999999999999993\n"
     ]
    }
   ],
   "source": [
    "# 모델 파라미터 => 가중치, 절편\n",
    "print('가중치 :', model.coef_, '절편 :', model.intercept_)"
   ]
  },
  {
   "cell_type": "markdown",
   "metadata": {},
   "source": [
    "## [4] 모델 평가\n",
    "---\n",
    "- 테스트(검증) 데이터로 평가\n",
    "- score()\n",
    "    * 분류 : 정답 --- 예측답 => 맞춘 정도\n",
    "        - **정확도(accuracy)**\n",
    "    * 회귀 : 정답 --- 예측답 => 차이 오차(Error)\n",
    "        - 손실함수(Loss/Cost Function) : MSE, MAE, RMSE (낮을 수록 좋음)\n",
    "        - **$R^2$ 계수 : 0 ~ 1 사이(높을 수록 좋음)**"
   ]
  },
  {
   "cell_type": "code",
   "execution_count": 9,
   "metadata": {},
   "outputs": [
    {
     "data": {
      "text/plain": [
       "1.0"
      ]
     },
     "execution_count": 9,
     "metadata": {},
     "output_type": "execute_result"
    }
   ],
   "source": [
    "#회귀의 결정계수(R^2) 값을 반환\n",
    "model.score(arrX, arrY)"
   ]
  },
  {
   "cell_type": "code",
   "execution_count": 11,
   "metadata": {},
   "outputs": [
    {
     "name": "stdout",
     "output_type": "stream",
     "text": [
      "[40. 50. 60. 70. 80. 90.]\n",
      "1.1842378929335002e-15 8.414516322357459e-30\n"
     ]
    }
   ],
   "source": [
    "# 오차 확인\n",
    "from sklearn.metrics import mean_absolute_error, mean_squared_error\n",
    "\n",
    "preY = model.predict(arrX)\n",
    "mae = mean_absolute_error(arrY, preY)\n",
    "mse = mean_squared_error(arrY, preY)\n",
    "\n",
    "print(preY)\n",
    "print(mae, mse)"
   ]
  }
 ],
 "metadata": {
  "kernelspec": {
   "display_name": "Python 3.9.12 ('base')",
   "language": "python",
   "name": "python3"
  },
  "language_info": {
   "codemirror_mode": {
    "name": "ipython",
    "version": 3
   },
   "file_extension": ".py",
   "mimetype": "text/x-python",
   "name": "python",
   "nbconvert_exporter": "python",
   "pygments_lexer": "ipython3",
   "version": "3.9.12"
  },
  "orig_nbformat": 4,
  "vscode": {
   "interpreter": {
    "hash": "399b942a90945adf822711c817a2148b24a3a269b52160aecaa333816877df5e"
   }
  }
 },
 "nbformat": 4,
 "nbformat_minor": 2
}
