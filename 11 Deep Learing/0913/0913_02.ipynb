{
 "cells": [
  {
   "cell_type": "markdown",
   "metadata": {},
   "source": [
    "## 퍼셉트론(Preceptoron)\n",
    "\n",
    "---\n",
    "\n",
    "- 뉴런을 컴퓨터 프로그램화 한 클래스\n",
    "- 단순한 구조의 분류모델\n",
    "- AND, OR 문제 분류 성공  \n",
    "- XOR 문제 분류 실패   \n",
    "---"
   ]
  },
  {
   "cell_type": "code",
   "execution_count": 1,
   "metadata": {},
   "outputs": [],
   "source": [
    "from sklearn.linear_model import Perceptron\n",
    "import numpy as np"
   ]
  },
  {
   "cell_type": "markdown",
   "metadata": {},
   "source": [
    "--- \n",
    "### AND 분류  \n",
    "X1 X2 y  \n",
    "0  0  0  \n",
    "1  0  0  \n",
    "0  1  0  \n",
    "1  1  1"
   ]
  },
  {
   "cell_type": "code",
   "execution_count": 2,
   "metadata": {},
   "outputs": [],
   "source": [
    "X1 = [[0.,0.],[1.,0.],[0.,1.],[1.,1.]]\n",
    "y1 = [0, 0, 0, 1]"
   ]
  },
  {
   "cell_type": "code",
   "execution_count": 3,
   "metadata": {},
   "outputs": [],
   "source": [
    "andModel= Perceptron().fit(X1,y1)"
   ]
  },
  {
   "cell_type": "code",
   "execution_count": 4,
   "metadata": {},
   "outputs": [],
   "source": [
    "# 모델 캑체 속성 출력 함수\n",
    "def showAttribute(model) :\n",
    "    print(f'classes_    : {model.classes_}')\n",
    "    print(f'coef_       : {model.coef_}')\n",
    "    print(f'intercept_  : {model.intercept_}')\n",
    "    print(f'n_iter_     : {model.n_iter_}')"
   ]
  },
  {
   "cell_type": "code",
   "execution_count": 5,
   "metadata": {},
   "outputs": [
    {
     "name": "stdout",
     "output_type": "stream",
     "text": [
      "classes_    : [0 1]\n",
      "coef_       : [[2. 2.]]\n",
      "intercept_  : [-2.]\n",
      "n_iter_     : 10\n"
     ]
    }
   ],
   "source": [
    "showAttribute(andModel)"
   ]
  },
  {
   "cell_type": "code",
   "execution_count": 6,
   "metadata": {},
   "outputs": [
    {
     "name": "stdout",
     "output_type": "stream",
     "text": [
      "0.1, 0.9 [0]\n",
      "0.2, 0.9 [1]\n"
     ]
    }
   ],
   "source": [
    "print('0.1, 0.9', andModel.predict([[0.1,0.9]]))\n",
    "print('0.2, 0.9', andModel.predict([[0.2,0.9]]))"
   ]
  },
  {
   "cell_type": "code",
   "execution_count": 7,
   "metadata": {},
   "outputs": [],
   "source": [
    "pre_and = andModel.predict(X1)"
   ]
  },
  {
   "cell_type": "code",
   "execution_count": 8,
   "metadata": {},
   "outputs": [
    {
     "name": "stdout",
     "output_type": "stream",
     "text": [
      "accuracy_score : 1.0\n"
     ]
    }
   ],
   "source": [
    "from sklearn.metrics import accuracy_score\n",
    "\n",
    "print(f'accuracy_score :', accuracy_score(y1, pre_and))"
   ]
  },
  {
   "cell_type": "markdown",
   "metadata": {},
   "source": [
    "---  \n",
    "### [2] Or 연산 분류"
   ]
  },
  {
   "cell_type": "code",
   "execution_count": 9,
   "metadata": {},
   "outputs": [],
   "source": [
    "X2 = [[0.,0.],[1.,0.],[0.,1.],[1.,1.]]\n",
    "y2 = [0, 1, 1, 1]"
   ]
  },
  {
   "cell_type": "code",
   "execution_count": 10,
   "metadata": {},
   "outputs": [],
   "source": [
    "orModel = Perceptron().fit(X2,y2)"
   ]
  },
  {
   "cell_type": "code",
   "execution_count": 11,
   "metadata": {},
   "outputs": [
    {
     "name": "stdout",
     "output_type": "stream",
     "text": [
      "0.1, 0.9 [1]\n",
      "0.2, 0.9 [1]\n"
     ]
    }
   ],
   "source": [
    "print('0.1, 0.9', orModel.predict([[0.1,0.9]]))\n",
    "print('0.2, 0.9', orModel.predict([[0.2,0.9]]))"
   ]
  },
  {
   "cell_type": "code",
   "execution_count": 12,
   "metadata": {},
   "outputs": [
    {
     "name": "stdout",
     "output_type": "stream",
     "text": [
      "accuracy_score : 1.0\n"
     ]
    }
   ],
   "source": [
    "pre_or = orModel.predict(X2)\n",
    "print(f'accuracy_score :', accuracy_score(y2, pre_or))"
   ]
  },
  {
   "cell_type": "markdown",
   "metadata": {},
   "source": [
    "---  \n",
    "### [3] Xor 연산 분류"
   ]
  },
  {
   "cell_type": "code",
   "execution_count": 13,
   "metadata": {},
   "outputs": [],
   "source": [
    "X3 = [[0.,0.],[1.,0.],[0.,1.],[1.,1.]]\n",
    "y3 = [0, 1, 1, 0]"
   ]
  },
  {
   "cell_type": "code",
   "execution_count": 14,
   "metadata": {},
   "outputs": [],
   "source": [
    "XorModel = Perceptron().fit(X3,y3)"
   ]
  },
  {
   "cell_type": "code",
   "execution_count": 15,
   "metadata": {},
   "outputs": [
    {
     "name": "stdout",
     "output_type": "stream",
     "text": [
      "0.1, 0.9 [0]\n",
      "0.2, 0.9 [0]\n"
     ]
    }
   ],
   "source": [
    "print('0.1, 0.9', XorModel.predict([[0.1,0.9]]))\n",
    "print('0.2, 0.9', XorModel.predict([[0.2,0.9]]))"
   ]
  },
  {
   "cell_type": "code",
   "execution_count": 16,
   "metadata": {},
   "outputs": [
    {
     "name": "stdout",
     "output_type": "stream",
     "text": [
      "accuracy_score : 0.75\n"
     ]
    }
   ],
   "source": [
    "pre_Xor = orModel.predict(X3)\n",
    "print(f'accuracy_score :', accuracy_score(y3, pre_Xor))"
   ]
  },
  {
   "cell_type": "code",
   "execution_count": 19,
   "metadata": {},
   "outputs": [
    {
     "name": "stdout",
     "output_type": "stream",
     "text": [
      "pre_Xor  : [0 1 1 1]\n",
      "y3       : [0, 1, 1, 0]\n"
     ]
    }
   ],
   "source": [
    "print('pre_Xor  :', pre_Xor)\n",
    "print('y3       :', y3)"
   ]
  }
 ],
 "metadata": {
  "kernelspec": {
   "display_name": "Python 3.9.12 ('base')",
   "language": "python",
   "name": "python3"
  },
  "language_info": {
   "codemirror_mode": {
    "name": "ipython",
    "version": 3
   },
   "file_extension": ".py",
   "mimetype": "text/x-python",
   "name": "python",
   "nbconvert_exporter": "python",
   "pygments_lexer": "ipython3",
   "version": "3.9.12"
  },
  "orig_nbformat": 4,
  "vscode": {
   "interpreter": {
    "hash": "399b942a90945adf822711c817a2148b24a3a269b52160aecaa333816877df5e"
   }
  }
 },
 "nbformat": 4,
 "nbformat_minor": 2
}
