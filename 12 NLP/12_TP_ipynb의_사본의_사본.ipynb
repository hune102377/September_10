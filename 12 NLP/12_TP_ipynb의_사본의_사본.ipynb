{
  "cells": [
    {
      "cell_type": "markdown",
      "metadata": {
        "id": "Acw189lbBeGe"
      },
      "source": [
        "# 네이버 영화 리뷰 감성 분류하기"
      ]
    },
    {
      "cell_type": "markdown",
      "metadata": {
        "id": "-5Tl_s24BeGi"
      },
      "source": [
        "모델은 고정해두고   \n",
        "(1) 데이터 양을 다르게 하고 (절반/전체)   \n",
        "(2) 전처리를 다르게 해서 (불용어 처리 유무, oov를 전체/일부/최소)  \n",
        "다양한 전처리 단계를 통해 분석량 변화  "
      ]
    },
    {
      "cell_type": "markdown",
      "metadata": {
        "id": "OnOoqz4uBeGi"
      },
      "source": [
        "### 1. 네이버 영화 리뷰 데이터에 대한 이해와 전처리"
      ]
    },
    {
      "cell_type": "code",
      "execution_count": null,
      "metadata": {
        "colab": {
          "base_uri": "https://localhost:8080/"
        },
        "id": "8LHP9jqCBsDE",
        "outputId": "f9639c2e-8fc2-4eeb-f36d-dc7bf6522520"
      },
      "outputs": [
        {
          "output_type": "stream",
          "name": "stdout",
          "text": [
            "Looking in indexes: https://pypi.org/simple, https://us-python.pkg.dev/colab-wheels/public/simple/\n",
            "Requirement already satisfied: konlpy in /usr/local/lib/python3.7/dist-packages (0.6.0)\n",
            "Requirement already satisfied: lxml>=4.1.0 in /usr/local/lib/python3.7/dist-packages (from konlpy) (4.9.1)\n",
            "Requirement already satisfied: JPype1>=0.7.0 in /usr/local/lib/python3.7/dist-packages (from konlpy) (1.4.0)\n",
            "Requirement already satisfied: numpy>=1.6 in /usr/local/lib/python3.7/dist-packages (from konlpy) (1.21.6)\n",
            "Requirement already satisfied: typing-extensions in /usr/local/lib/python3.7/dist-packages (from JPype1>=0.7.0->konlpy) (4.1.1)\n"
          ]
        }
      ],
      "source": [
        "!pip install konlpy"
      ]
    },
    {
      "cell_type": "code",
      "execution_count": null,
      "metadata": {
        "id": "ImEJbszFBeGj"
      },
      "outputs": [],
      "source": [
        "import pandas as pd\n",
        "import numpy as np\n",
        "import matplotlib.pyplot as plt\n",
        "\n",
        "from tensorflow.keras.preprocessing.text import Tokenizer\n",
        "from tensorflow.keras.preprocessing.sequence import pad_sequences\n",
        "\n",
        "import re # 정규 표현식 관련 모델\n",
        "from konlpy.tag import Okt #Open Korean Text 형태소 분리 모듈\n",
        "from tqdm import tqdm # 진행 상황을 보여주는 모듈\n",
        "\n",
        "from tensorflow.keras.layers import Embedding, Dense, LSTM\n",
        "from tensorflow.keras.models import Sequential\n",
        "from tensorflow.keras.models import load_model\n",
        "from tensorflow.keras.callbacks import EarlyStopping, ModelCheckpoint"
      ]
    },
    {
      "cell_type": "code",
      "execution_count": null,
      "metadata": {
        "id": "ef53ZQU4BeGk"
      },
      "outputs": [],
      "source": [
        "# 한글 깨짐 방지\n",
        "import platform\n",
        "\n",
        "if platform.system() == 'Windows': \n",
        "    path = r'c:\\Windows\\Fonts\\gulim.ttf'\n",
        "elif platform.system() == 'Darwin': # Mac OS\n",
        "    path = r'/System/Library/Fonts/AppleGothic'\n",
        "else:\n",
        "    path = r'/usr/share/fonts/truetype/name/NanumMyeongjo.ttf'"
      ]
    },
    {
      "cell_type": "markdown",
      "metadata": {
        "id": "82FDnoJ9BeGk"
      },
      "source": [
        "##### [1] 데이터 로드하기"
      ]
    },
    {
      "cell_type": "code",
      "execution_count": null,
      "metadata": {
        "id": "ynAhNjx-BeGl"
      },
      "outputs": [],
      "source": [
        "data = pd.read_table('/content/drive/MyDrive/data.txt')"
      ]
    },
    {
      "cell_type": "code",
      "execution_count": null,
      "metadata": {
        "colab": {
          "base_uri": "https://localhost:8080/",
          "height": 676
        },
        "id": "ab8So4B7BeGl",
        "outputId": "e2469a94-c9c8-4d7f-cddd-d67c34c264bb"
      },
      "outputs": [
        {
          "output_type": "execute_result",
          "data": {
            "text/plain": [
              "          id                                           document  label\n",
              "0    9976970                                아 더빙.. 진짜 짜증나네요 목소리      0\n",
              "1    3819312                  흠...포스터보고 초딩영화줄....오버연기조차 가볍지 않구나      1\n",
              "2   10265843                                  너무재밓었다그래서보는것을추천한다      0\n",
              "3    9045019                      교도소 이야기구먼 ..솔직히 재미는 없다..평점 조정      0\n",
              "4    6483659  사이몬페그의 익살스런 연기가 돋보였던 영화!스파이더맨에서 늙어보이기만 했던 커스틴 ...      1\n",
              "5    5403919      막 걸음마 뗀 3세부터 초등학교 1학년생인 8살용영화.ㅋㅋㅋ...별반개도 아까움.      0\n",
              "6    7797314                              원작의 긴장감을 제대로 살려내지못했다.      0\n",
              "7    9443947  별 반개도 아깝다 욕나온다 이응경 길용우 연기생활이몇년인지..정말 발로해도 그것보단...      0\n",
              "8    7156791                             액션이 없는데도 재미 있는 몇안되는 영화      1\n",
              "9    5912145      왜케 평점이 낮은건데? 꽤 볼만한데.. 헐리우드식 화려함에만 너무 길들여져 있나?      1\n",
              "10   9008700                                   걍인피니트가짱이다.진짜짱이다♥      1\n",
              "11  10217543        볼때마다 눈물나서 죽겠다90년대의 향수자극!!허진호는 감성절제멜로의 달인이다~      1\n",
              "12   5957425                울면서 손들고 횡단보도 건널때 뛰쳐나올뻔 이범수 연기 드럽게못해      0\n",
              "13   8628627  담백하고 깔끔해서 좋다. 신문기사로만 보다 보면 자꾸 잊어버린다. 그들도 사람이었다...      1\n",
              "14   9864035  취향은 존중한다지만 진짜 내생에 극장에서 본 영화중 가장 노잼 노감동임 스토리도 어...      0\n",
              "15   6852435                                   ㄱ냥 매번 긴장되고 재밋음ㅠㅠ      1\n",
              "16   9143163  참 사람들 웃긴게 바스코가 이기면 락스코라고 까고바비가 이기면 아이돌이라고 깐다.그...      1\n",
              "17   4891476                 굿바이 레닌 표절인것은 이해하는데 왜 뒤로 갈수록 재미없어지냐      0\n",
              "18   7465483      이건 정말 깨알 캐스팅과 질퍽하지않은 산뜻한 내용구성이 잘 버무러진 깨알일드!!♥      1\n",
              "19   3989148                 약탈자를 위한 변명, 이라. 저놈들은 착한놈들 절대 아닌걸요.      1"
            ],
            "text/html": [
              "\n",
              "  <div id=\"df-30f32e46-5529-4772-9b84-2a0c96c84f94\">\n",
              "    <div class=\"colab-df-container\">\n",
              "      <div>\n",
              "<style scoped>\n",
              "    .dataframe tbody tr th:only-of-type {\n",
              "        vertical-align: middle;\n",
              "    }\n",
              "\n",
              "    .dataframe tbody tr th {\n",
              "        vertical-align: top;\n",
              "    }\n",
              "\n",
              "    .dataframe thead th {\n",
              "        text-align: right;\n",
              "    }\n",
              "</style>\n",
              "<table border=\"1\" class=\"dataframe\">\n",
              "  <thead>\n",
              "    <tr style=\"text-align: right;\">\n",
              "      <th></th>\n",
              "      <th>id</th>\n",
              "      <th>document</th>\n",
              "      <th>label</th>\n",
              "    </tr>\n",
              "  </thead>\n",
              "  <tbody>\n",
              "    <tr>\n",
              "      <th>0</th>\n",
              "      <td>9976970</td>\n",
              "      <td>아 더빙.. 진짜 짜증나네요 목소리</td>\n",
              "      <td>0</td>\n",
              "    </tr>\n",
              "    <tr>\n",
              "      <th>1</th>\n",
              "      <td>3819312</td>\n",
              "      <td>흠...포스터보고 초딩영화줄....오버연기조차 가볍지 않구나</td>\n",
              "      <td>1</td>\n",
              "    </tr>\n",
              "    <tr>\n",
              "      <th>2</th>\n",
              "      <td>10265843</td>\n",
              "      <td>너무재밓었다그래서보는것을추천한다</td>\n",
              "      <td>0</td>\n",
              "    </tr>\n",
              "    <tr>\n",
              "      <th>3</th>\n",
              "      <td>9045019</td>\n",
              "      <td>교도소 이야기구먼 ..솔직히 재미는 없다..평점 조정</td>\n",
              "      <td>0</td>\n",
              "    </tr>\n",
              "    <tr>\n",
              "      <th>4</th>\n",
              "      <td>6483659</td>\n",
              "      <td>사이몬페그의 익살스런 연기가 돋보였던 영화!스파이더맨에서 늙어보이기만 했던 커스틴 ...</td>\n",
              "      <td>1</td>\n",
              "    </tr>\n",
              "    <tr>\n",
              "      <th>5</th>\n",
              "      <td>5403919</td>\n",
              "      <td>막 걸음마 뗀 3세부터 초등학교 1학년생인 8살용영화.ㅋㅋㅋ...별반개도 아까움.</td>\n",
              "      <td>0</td>\n",
              "    </tr>\n",
              "    <tr>\n",
              "      <th>6</th>\n",
              "      <td>7797314</td>\n",
              "      <td>원작의 긴장감을 제대로 살려내지못했다.</td>\n",
              "      <td>0</td>\n",
              "    </tr>\n",
              "    <tr>\n",
              "      <th>7</th>\n",
              "      <td>9443947</td>\n",
              "      <td>별 반개도 아깝다 욕나온다 이응경 길용우 연기생활이몇년인지..정말 발로해도 그것보단...</td>\n",
              "      <td>0</td>\n",
              "    </tr>\n",
              "    <tr>\n",
              "      <th>8</th>\n",
              "      <td>7156791</td>\n",
              "      <td>액션이 없는데도 재미 있는 몇안되는 영화</td>\n",
              "      <td>1</td>\n",
              "    </tr>\n",
              "    <tr>\n",
              "      <th>9</th>\n",
              "      <td>5912145</td>\n",
              "      <td>왜케 평점이 낮은건데? 꽤 볼만한데.. 헐리우드식 화려함에만 너무 길들여져 있나?</td>\n",
              "      <td>1</td>\n",
              "    </tr>\n",
              "    <tr>\n",
              "      <th>10</th>\n",
              "      <td>9008700</td>\n",
              "      <td>걍인피니트가짱이다.진짜짱이다♥</td>\n",
              "      <td>1</td>\n",
              "    </tr>\n",
              "    <tr>\n",
              "      <th>11</th>\n",
              "      <td>10217543</td>\n",
              "      <td>볼때마다 눈물나서 죽겠다90년대의 향수자극!!허진호는 감성절제멜로의 달인이다~</td>\n",
              "      <td>1</td>\n",
              "    </tr>\n",
              "    <tr>\n",
              "      <th>12</th>\n",
              "      <td>5957425</td>\n",
              "      <td>울면서 손들고 횡단보도 건널때 뛰쳐나올뻔 이범수 연기 드럽게못해</td>\n",
              "      <td>0</td>\n",
              "    </tr>\n",
              "    <tr>\n",
              "      <th>13</th>\n",
              "      <td>8628627</td>\n",
              "      <td>담백하고 깔끔해서 좋다. 신문기사로만 보다 보면 자꾸 잊어버린다. 그들도 사람이었다...</td>\n",
              "      <td>1</td>\n",
              "    </tr>\n",
              "    <tr>\n",
              "      <th>14</th>\n",
              "      <td>9864035</td>\n",
              "      <td>취향은 존중한다지만 진짜 내생에 극장에서 본 영화중 가장 노잼 노감동임 스토리도 어...</td>\n",
              "      <td>0</td>\n",
              "    </tr>\n",
              "    <tr>\n",
              "      <th>15</th>\n",
              "      <td>6852435</td>\n",
              "      <td>ㄱ냥 매번 긴장되고 재밋음ㅠㅠ</td>\n",
              "      <td>1</td>\n",
              "    </tr>\n",
              "    <tr>\n",
              "      <th>16</th>\n",
              "      <td>9143163</td>\n",
              "      <td>참 사람들 웃긴게 바스코가 이기면 락스코라고 까고바비가 이기면 아이돌이라고 깐다.그...</td>\n",
              "      <td>1</td>\n",
              "    </tr>\n",
              "    <tr>\n",
              "      <th>17</th>\n",
              "      <td>4891476</td>\n",
              "      <td>굿바이 레닌 표절인것은 이해하는데 왜 뒤로 갈수록 재미없어지냐</td>\n",
              "      <td>0</td>\n",
              "    </tr>\n",
              "    <tr>\n",
              "      <th>18</th>\n",
              "      <td>7465483</td>\n",
              "      <td>이건 정말 깨알 캐스팅과 질퍽하지않은 산뜻한 내용구성이 잘 버무러진 깨알일드!!♥</td>\n",
              "      <td>1</td>\n",
              "    </tr>\n",
              "    <tr>\n",
              "      <th>19</th>\n",
              "      <td>3989148</td>\n",
              "      <td>약탈자를 위한 변명, 이라. 저놈들은 착한놈들 절대 아닌걸요.</td>\n",
              "      <td>1</td>\n",
              "    </tr>\n",
              "  </tbody>\n",
              "</table>\n",
              "</div>\n",
              "      <button class=\"colab-df-convert\" onclick=\"convertToInteractive('df-30f32e46-5529-4772-9b84-2a0c96c84f94')\"\n",
              "              title=\"Convert this dataframe to an interactive table.\"\n",
              "              style=\"display:none;\">\n",
              "        \n",
              "  <svg xmlns=\"http://www.w3.org/2000/svg\" height=\"24px\"viewBox=\"0 0 24 24\"\n",
              "       width=\"24px\">\n",
              "    <path d=\"M0 0h24v24H0V0z\" fill=\"none\"/>\n",
              "    <path d=\"M18.56 5.44l.94 2.06.94-2.06 2.06-.94-2.06-.94-.94-2.06-.94 2.06-2.06.94zm-11 1L8.5 8.5l.94-2.06 2.06-.94-2.06-.94L8.5 2.5l-.94 2.06-2.06.94zm10 10l.94 2.06.94-2.06 2.06-.94-2.06-.94-.94-2.06-.94 2.06-2.06.94z\"/><path d=\"M17.41 7.96l-1.37-1.37c-.4-.4-.92-.59-1.43-.59-.52 0-1.04.2-1.43.59L10.3 9.45l-7.72 7.72c-.78.78-.78 2.05 0 2.83L4 21.41c.39.39.9.59 1.41.59.51 0 1.02-.2 1.41-.59l7.78-7.78 2.81-2.81c.8-.78.8-2.07 0-2.86zM5.41 20L4 18.59l7.72-7.72 1.47 1.35L5.41 20z\"/>\n",
              "  </svg>\n",
              "      </button>\n",
              "      \n",
              "  <style>\n",
              "    .colab-df-container {\n",
              "      display:flex;\n",
              "      flex-wrap:wrap;\n",
              "      gap: 12px;\n",
              "    }\n",
              "\n",
              "    .colab-df-convert {\n",
              "      background-color: #E8F0FE;\n",
              "      border: none;\n",
              "      border-radius: 50%;\n",
              "      cursor: pointer;\n",
              "      display: none;\n",
              "      fill: #1967D2;\n",
              "      height: 32px;\n",
              "      padding: 0 0 0 0;\n",
              "      width: 32px;\n",
              "    }\n",
              "\n",
              "    .colab-df-convert:hover {\n",
              "      background-color: #E2EBFA;\n",
              "      box-shadow: 0px 1px 2px rgba(60, 64, 67, 0.3), 0px 1px 3px 1px rgba(60, 64, 67, 0.15);\n",
              "      fill: #174EA6;\n",
              "    }\n",
              "\n",
              "    [theme=dark] .colab-df-convert {\n",
              "      background-color: #3B4455;\n",
              "      fill: #D2E3FC;\n",
              "    }\n",
              "\n",
              "    [theme=dark] .colab-df-convert:hover {\n",
              "      background-color: #434B5C;\n",
              "      box-shadow: 0px 1px 3px 1px rgba(0, 0, 0, 0.15);\n",
              "      filter: drop-shadow(0px 1px 2px rgba(0, 0, 0, 0.3));\n",
              "      fill: #FFFFFF;\n",
              "    }\n",
              "  </style>\n",
              "\n",
              "      <script>\n",
              "        const buttonEl =\n",
              "          document.querySelector('#df-30f32e46-5529-4772-9b84-2a0c96c84f94 button.colab-df-convert');\n",
              "        buttonEl.style.display =\n",
              "          google.colab.kernel.accessAllowed ? 'block' : 'none';\n",
              "\n",
              "        async function convertToInteractive(key) {\n",
              "          const element = document.querySelector('#df-30f32e46-5529-4772-9b84-2a0c96c84f94');\n",
              "          const dataTable =\n",
              "            await google.colab.kernel.invokeFunction('convertToInteractive',\n",
              "                                                     [key], {});\n",
              "          if (!dataTable) return;\n",
              "\n",
              "          const docLinkHtml = 'Like what you see? Visit the ' +\n",
              "            '<a target=\"_blank\" href=https://colab.research.google.com/notebooks/data_table.ipynb>data table notebook</a>'\n",
              "            + ' to learn more about interactive tables.';\n",
              "          element.innerHTML = '';\n",
              "          dataTable['output_type'] = 'display_data';\n",
              "          await google.colab.output.renderOutput(dataTable, element);\n",
              "          const docLink = document.createElement('div');\n",
              "          docLink.innerHTML = docLinkHtml;\n",
              "          element.appendChild(docLink);\n",
              "        }\n",
              "      </script>\n",
              "    </div>\n",
              "  </div>\n",
              "  "
            ]
          },
          "metadata": {},
          "execution_count": 5
        }
      ],
      "source": [
        "data.head(20)"
      ]
    },
    {
      "cell_type": "markdown",
      "metadata": {
        "id": "tvc54LiNBeGm"
      },
      "source": [
        "##### [2] 데이터 정제하기"
      ]
    },
    {
      "cell_type": "markdown",
      "metadata": {
        "id": "e2NETrUnBeGn"
      },
      "source": [
        "[2 - 1] 정규식을 통한 한글과 공백을 제외한 문자 제거"
      ]
    },
    {
      "cell_type": "code",
      "execution_count": null,
      "metadata": {
        "colab": {
          "base_uri": "https://localhost:8080/"
        },
        "id": "DrvzbU7sBeGn",
        "outputId": "e47b5cea-b214-4918-e838-fdfefa487aa0"
      },
      "outputs": [
        {
          "output_type": "stream",
          "name": "stderr",
          "text": [
            "/usr/local/lib/python3.7/dist-packages/ipykernel_launcher.py:1: FutureWarning: The default value of regex will change from True to False in a future version.\n",
            "  \"\"\"Entry point for launching an IPython kernel.\n"
          ]
        }
      ],
      "source": [
        "data['document'] = data['document'].str.replace(\"[^ㄱ-ㅎㅏ-ㅣ가-힣 ]\",\"\")"
      ]
    },
    {
      "cell_type": "markdown",
      "metadata": {
        "id": "1YDSLtfeBeGo"
      },
      "source": [
        "[2 - 2] 중복 유무 확인"
      ]
    },
    {
      "cell_type": "code",
      "execution_count": null,
      "metadata": {
        "colab": {
          "base_uri": "https://localhost:8080/"
        },
        "id": "9PnwhcmHBeGo",
        "outputId": "c3207982-5808-47e2-ca74-1dd734a01580"
      },
      "outputs": [
        {
          "output_type": "stream",
          "name": "stdout",
          "text": [
            "전체 데이터 : 150000\n",
            "고유값 : 143682\n"
          ]
        }
      ],
      "source": [
        "# document열의 중복여부 확인\n",
        "print('전체 데이터 :', len(data))\n",
        "print('고유값 :', data['document'].nunique())"
      ]
    },
    {
      "cell_type": "markdown",
      "metadata": {
        "id": "cz0qfMXtBeGo"
      },
      "source": [
        "전체 데이터에서 고유값과 차이가 난다는 것은 그만큼의 중복값이 있다는 것이니 제거한다"
      ]
    },
    {
      "cell_type": "code",
      "execution_count": null,
      "metadata": {
        "id": "fa3ctOqxBeGp"
      },
      "outputs": [],
      "source": [
        "# 중복 데이터 제거\n",
        "data.drop_duplicates(subset=['document'], inplace = True)"
      ]
    },
    {
      "cell_type": "markdown",
      "metadata": {
        "id": "XtYvnyWyBeGp"
      },
      "source": [
        "[2 - 3] 결측치 확인"
      ]
    },
    {
      "cell_type": "code",
      "execution_count": null,
      "metadata": {
        "colab": {
          "base_uri": "https://localhost:8080/"
        },
        "id": "uk0thMlkBeGp",
        "outputId": "87e9dad6-ac0a-4240-e7c4-f14d4346c93b"
      },
      "outputs": [
        {
          "output_type": "execute_result",
          "data": {
            "text/plain": [
              "id          0\n",
              "document    1\n",
              "label       0\n",
              "dtype: int64"
            ]
          },
          "metadata": {},
          "execution_count": 9
        }
      ],
      "source": [
        "data.isna().sum()"
      ]
    },
    {
      "cell_type": "code",
      "execution_count": null,
      "metadata": {
        "colab": {
          "base_uri": "https://localhost:8080/",
          "height": 81
        },
        "id": "676hDE5WBeGp",
        "outputId": "aa5ace0f-ed5e-4a47-d00a-0d0abc45d5a2"
      },
      "outputs": [
        {
          "output_type": "execute_result",
          "data": {
            "text/plain": [
              "            id document  label\n",
              "25857  2172111      NaN      1"
            ],
            "text/html": [
              "\n",
              "  <div id=\"df-bd11e54f-d478-44e5-99f9-4e538f350869\">\n",
              "    <div class=\"colab-df-container\">\n",
              "      <div>\n",
              "<style scoped>\n",
              "    .dataframe tbody tr th:only-of-type {\n",
              "        vertical-align: middle;\n",
              "    }\n",
              "\n",
              "    .dataframe tbody tr th {\n",
              "        vertical-align: top;\n",
              "    }\n",
              "\n",
              "    .dataframe thead th {\n",
              "        text-align: right;\n",
              "    }\n",
              "</style>\n",
              "<table border=\"1\" class=\"dataframe\">\n",
              "  <thead>\n",
              "    <tr style=\"text-align: right;\">\n",
              "      <th></th>\n",
              "      <th>id</th>\n",
              "      <th>document</th>\n",
              "      <th>label</th>\n",
              "    </tr>\n",
              "  </thead>\n",
              "  <tbody>\n",
              "    <tr>\n",
              "      <th>25857</th>\n",
              "      <td>2172111</td>\n",
              "      <td>NaN</td>\n",
              "      <td>1</td>\n",
              "    </tr>\n",
              "  </tbody>\n",
              "</table>\n",
              "</div>\n",
              "      <button class=\"colab-df-convert\" onclick=\"convertToInteractive('df-bd11e54f-d478-44e5-99f9-4e538f350869')\"\n",
              "              title=\"Convert this dataframe to an interactive table.\"\n",
              "              style=\"display:none;\">\n",
              "        \n",
              "  <svg xmlns=\"http://www.w3.org/2000/svg\" height=\"24px\"viewBox=\"0 0 24 24\"\n",
              "       width=\"24px\">\n",
              "    <path d=\"M0 0h24v24H0V0z\" fill=\"none\"/>\n",
              "    <path d=\"M18.56 5.44l.94 2.06.94-2.06 2.06-.94-2.06-.94-.94-2.06-.94 2.06-2.06.94zm-11 1L8.5 8.5l.94-2.06 2.06-.94-2.06-.94L8.5 2.5l-.94 2.06-2.06.94zm10 10l.94 2.06.94-2.06 2.06-.94-2.06-.94-.94-2.06-.94 2.06-2.06.94z\"/><path d=\"M17.41 7.96l-1.37-1.37c-.4-.4-.92-.59-1.43-.59-.52 0-1.04.2-1.43.59L10.3 9.45l-7.72 7.72c-.78.78-.78 2.05 0 2.83L4 21.41c.39.39.9.59 1.41.59.51 0 1.02-.2 1.41-.59l7.78-7.78 2.81-2.81c.8-.78.8-2.07 0-2.86zM5.41 20L4 18.59l7.72-7.72 1.47 1.35L5.41 20z\"/>\n",
              "  </svg>\n",
              "      </button>\n",
              "      \n",
              "  <style>\n",
              "    .colab-df-container {\n",
              "      display:flex;\n",
              "      flex-wrap:wrap;\n",
              "      gap: 12px;\n",
              "    }\n",
              "\n",
              "    .colab-df-convert {\n",
              "      background-color: #E8F0FE;\n",
              "      border: none;\n",
              "      border-radius: 50%;\n",
              "      cursor: pointer;\n",
              "      display: none;\n",
              "      fill: #1967D2;\n",
              "      height: 32px;\n",
              "      padding: 0 0 0 0;\n",
              "      width: 32px;\n",
              "    }\n",
              "\n",
              "    .colab-df-convert:hover {\n",
              "      background-color: #E2EBFA;\n",
              "      box-shadow: 0px 1px 2px rgba(60, 64, 67, 0.3), 0px 1px 3px 1px rgba(60, 64, 67, 0.15);\n",
              "      fill: #174EA6;\n",
              "    }\n",
              "\n",
              "    [theme=dark] .colab-df-convert {\n",
              "      background-color: #3B4455;\n",
              "      fill: #D2E3FC;\n",
              "    }\n",
              "\n",
              "    [theme=dark] .colab-df-convert:hover {\n",
              "      background-color: #434B5C;\n",
              "      box-shadow: 0px 1px 3px 1px rgba(0, 0, 0, 0.15);\n",
              "      filter: drop-shadow(0px 1px 2px rgba(0, 0, 0, 0.3));\n",
              "      fill: #FFFFFF;\n",
              "    }\n",
              "  </style>\n",
              "\n",
              "      <script>\n",
              "        const buttonEl =\n",
              "          document.querySelector('#df-bd11e54f-d478-44e5-99f9-4e538f350869 button.colab-df-convert');\n",
              "        buttonEl.style.display =\n",
              "          google.colab.kernel.accessAllowed ? 'block' : 'none';\n",
              "\n",
              "        async function convertToInteractive(key) {\n",
              "          const element = document.querySelector('#df-bd11e54f-d478-44e5-99f9-4e538f350869');\n",
              "          const dataTable =\n",
              "            await google.colab.kernel.invokeFunction('convertToInteractive',\n",
              "                                                     [key], {});\n",
              "          if (!dataTable) return;\n",
              "\n",
              "          const docLinkHtml = 'Like what you see? Visit the ' +\n",
              "            '<a target=\"_blank\" href=https://colab.research.google.com/notebooks/data_table.ipynb>data table notebook</a>'\n",
              "            + ' to learn more about interactive tables.';\n",
              "          element.innerHTML = '';\n",
              "          dataTable['output_type'] = 'display_data';\n",
              "          await google.colab.output.renderOutput(dataTable, element);\n",
              "          const docLink = document.createElement('div');\n",
              "          docLink.innerHTML = docLinkHtml;\n",
              "          element.appendChild(docLink);\n",
              "        }\n",
              "      </script>\n",
              "    </div>\n",
              "  </div>\n",
              "  "
            ]
          },
          "metadata": {},
          "execution_count": 10
        }
      ],
      "source": [
        "# 결측 데이터 확인\n",
        "data.loc[data.document.isnull()]"
      ]
    },
    {
      "cell_type": "code",
      "execution_count": null,
      "metadata": {
        "id": "TfB52LJLBeGq"
      },
      "outputs": [],
      "source": [
        "# 결측치 제거\n",
        "data = data.dropna(how = 'any')"
      ]
    },
    {
      "cell_type": "code",
      "execution_count": null,
      "metadata": {
        "colab": {
          "base_uri": "https://localhost:8080/",
          "height": 428
        },
        "id": "v65TjrvFBeGq",
        "outputId": "b7144231-f96a-4df7-b605-88c5005396cb"
      },
      "outputs": [
        {
          "output_type": "display_data",
          "data": {
            "text/plain": [
              "<Figure size 576x432 with 1 Axes>"
            ],
            "image/png": "[encoded data removed]"
          },
          "metadata": {
            "needs_background": "light"
          }
        },
        {
          "output_type": "stream",
          "name": "stdout",
          "text": [
            "   label  count\n",
            "0      0  72216\n",
            "1      1  71466\n"
          ]
        }
      ],
      "source": [
        "plt.figure(figsize=(8,6))\n",
        "plt.bar(['1', '0'], data['label'].value_counts(), color = ['steelblue', 'tomato'])\n",
        "plt.show()\n",
        "\n",
        "print(data.groupby('label').size().reset_index(name = 'count'))"
      ]
    },
    {
      "cell_type": "markdown",
      "metadata": {
        "id": "6e2NX3_QBeGq"
      },
      "source": [
        "거의 같은 데이터 자료로 구성되어 있음"
      ]
    },
    {
      "cell_type": "markdown",
      "metadata": {
        "id": "0e3isPI2BeGr"
      },
      "source": [
        "##### [3] 토큰화"
      ]
    },
    {
      "cell_type": "markdown",
      "metadata": {
        "id": "cEXBW1X3BeGr"
      },
      "source": [
        "[3 - 1] 불용어 제거"
      ]
    },
    {
      "cell_type": "markdown",
      "metadata": {
        "id": "HRbMqJOtBeGr"
      },
      "source": [
        "https://www.ranks.nl/stopwords/korean"
      ]
    },
    {
      "cell_type": "markdown",
      "metadata": {
        "id": "1Wl6che-BeGr"
      },
      "source": [
        "참고) 기본적인 한국어 불용어 리스트 100개\n",
        "- https://bab2min.tistory.com/544\n",
        "    * 단, 이 리스트는 구어나 인터넷의 가벼운 글들을 반영하지 않아서 블로그/SNS 등에는 적합하지 않음"
      ]
    },
    {
      "cell_type": "markdown",
      "metadata": {
        "id": "xIduTQEfBeGr"
      },
      "source": [
        "**불용어 지정 - 분기 (1)**"
      ]
    },
    {
      "cell_type": "code",
      "execution_count": null,
      "metadata": {
        "id": "rgPUt5CpBeGr"
      },
      "outputs": [],
      "source": [
        "with open(\"/content/drive/MyDrive/stopwords.txt\", \"r\", encoding = \"utf-8\") as f:\n",
        "    stopwords = f.readlines()\n",
        "    stopwords = stopwords[0].split(\" \")"
      ]
    },
    {
      "cell_type": "code",
      "execution_count": null,
      "metadata": {
        "colab": {
          "base_uri": "https://localhost:8080/"
        },
        "id": "ziHdmxP1BeGs",
        "outputId": "4c3f149c-43c8-4e2a-9bf6-8112d510a87b"
      },
      "outputs": [
        {
          "output_type": "stream",
          "name": "stdout",
          "text": [
            "889\n",
            "['아', '휴', '아이구', '아이쿠', '아이고', '어', '나', '우리', '저희', '따라', '의해', '을', '를', '에', '의', '가', '으로', '로', '에게', '뿐이다']\n"
          ]
        }
      ],
      "source": [
        "print(len(stopwords))\n",
        "print(stopwords[:20])"
      ]
    },
    {
      "cell_type": "markdown",
      "metadata": {
        "id": "Bob_dhNPBeGs"
      },
      "source": [
        "889개의 불용어로 구성되어 있는데 조금 지나치게 많은거 아닌가?"
      ]
    },
    {
      "cell_type": "code",
      "execution_count": null,
      "metadata": {
        "id": "VcQIJQvABeGs"
      },
      "outputs": [],
      "source": [
        "stopwords_01 = ['의','가','이','은','들','는','좀','잘','걍','과','도','를','으로','자','에','와','한','하다']"
      ]
    },
    {
      "cell_type": "code",
      "execution_count": null,
      "metadata": {
        "id": "WtWkqGPdBeGs"
      },
      "outputs": [],
      "source": [
        "okt = Okt()"
      ]
    },
    {
      "cell_type": "code",
      "execution_count": null,
      "metadata": {
        "colab": {
          "base_uri": "https://localhost:8080/"
        },
        "id": "0TA4Gjc2BeGs",
        "outputId": "0fcbf1ab-64f7-4594-94d1-01819ea8e0bc"
      },
      "outputs": [
        {
          "output_type": "stream",
          "name": "stderr",
          "text": [
            "100%|██████████| 143682/143682 [10:35<00:00, 226.13it/s]\n",
            "100%|██████████| 143682/143682 [12:14<00:00, 195.70it/s]\n",
            "100%|██████████| 143682/143682 [15:01<00:00, 159.45it/s]\n"
          ]
        }
      ],
      "source": [
        "# 토큰화만 형태소로 진행된 경우\n",
        "X_train_00 = []\n",
        "# 토큰화와 불용어 적게 제거한 경우\n",
        "X_train_01 = []\n",
        "# 토큰화와 형태소, 불용어 많이 제거한 경우\n",
        "X_train_02 = []\n",
        "\n",
        "# 00\n",
        "for sentence in tqdm(data['document']):\n",
        "    tokenized_sentence = okt.morphs(sentence, stem=True) # 토큰화\n",
        "    X_train_00.append(tokenized_sentence)\n",
        "\n",
        "# 01\n",
        "for sentence in tqdm(data['document']):\n",
        "    tokenized_sentence = okt.morphs(sentence, stem=True) # 토큰화\n",
        "    stopwords_removed_sentence = [word for word in tokenized_sentence if not word in stopwords_01] # 불용어 적게 제거\n",
        "    X_train_01.append(stopwords_removed_sentence)\n",
        "\n",
        "# 02\n",
        "for sentence in tqdm(data['document']):\n",
        "    tokenized_sentence = okt.morphs(sentence, stem=True) # 토큰화\n",
        "    stopwords_removed_sentence = [word for word in tokenized_sentence if not word in stopwords] # 불용어 많이 제거\n",
        "    X_train_02.append(stopwords_removed_sentence)"
      ]
    },
    {
      "cell_type": "markdown",
      "metadata": {
        "id": "mt02RygiBeGt"
      },
      "source": [
        "##### [4] 정수 인코딩"
      ]
    },
    {
      "cell_type": "code",
      "execution_count": null,
      "metadata": {
        "id": "APVLXLomBeGt"
      },
      "outputs": [],
      "source": [
        "# 각각의 데이터에 대한 Tokenizer 생성\n",
        "tokenizer_0 = Tokenizer()\n",
        "tokenizer_1 = Tokenizer()\n",
        "tokenizer_2 = Tokenizer()\n",
        "# 각각의 Tokenizer 훈련\n",
        "tokenizer_0.fit_on_texts(X_train_00)\n",
        "tokenizer_1.fit_on_texts(X_train_01)\n",
        "tokenizer_2.fit_on_texts(X_train_02)"
      ]
    },
    {
      "cell_type": "code",
      "execution_count": null,
      "metadata": {
        "colab": {
          "base_uri": "https://localhost:8080/"
        },
        "id": "hHfFgZyqBeGt",
        "outputId": "1e0c1645-ac7f-4797-dda2-4bf04dbdcd91"
      },
      "outputs": [
        {
          "output_type": "stream",
          "name": "stdout",
          "text": [
            "불용어를 제거하지 않는 경우  : 43770\n",
            "불용어를 일부만 제거한 경우  : 43752\n",
            "불용어를 많이 제거한 경우    : 43431\n"
          ]
        }
      ],
      "source": [
        "print('불용어를 제거하지 않는 경우  :', len(tokenizer_0.word_index))\n",
        "print('불용어를 일부만 제거한 경우  :', len(tokenizer_1.word_index))\n",
        "print('불용어를 많이 제거한 경우    :', len(tokenizer_2.word_index))"
      ]
    },
    {
      "cell_type": "code",
      "execution_count": null,
      "metadata": {
        "id": "yK3m8ykKBeGu"
      },
      "outputs": [],
      "source": [
        "def checkToken(tokenizer, threshold) :\n",
        "    total_cnt = len(tokenizer.word_index) # 단어의 수\n",
        "    rare_cnt = 0 # 등장 빈도수가 threshold보다 작은 단어의 개수를 카운트\n",
        "    total_freq = 0 # 훈련 데이터의 전체 단어 빈도수 총 합\n",
        "    rare_freq = 0 # 등장 빈도수가 threshold보다 작은 단어의 등장 빈도수의 총 합\n",
        "\n",
        "    # 단어와 빈도수의 쌍(pair)을 key와 value로 받는다.\n",
        "    for key, value in tokenizer.word_counts.items():\n",
        "        total_freq = total_freq + value\n",
        "\n",
        "        # 단어의 등장 빈도수가 threshold보다 작으면\n",
        "        if(value < threshold):\n",
        "            rare_cnt = rare_cnt + 1\n",
        "            rare_freq = rare_freq + value\n",
        "    \n",
        "\n",
        "    total = (rare_freq / total_freq)*100\n",
        "\n",
        "    print('단어 집합(vocabulary)의 크기 :',total_cnt)\n",
        "    print('등장 빈도가 %s번 미만인 희귀 단어의 수: %s'%(threshold, rare_cnt))\n",
        "    print(\"단어 집합에서 희귀 단어의 비율:\", (rare_cnt / total_cnt)*100)\n",
        "    print(\"전체 등장 빈도에서 희귀 단어 등장 빈도 비율:\", (rare_freq / total_freq)*100)\n",
        "    return (rare_freq / total_freq) * 100"
      ]
    },
    {
      "cell_type": "markdown",
      "source": [
        "**분기점 2 - 희귀 단어 수 설정**"
      ],
      "metadata": {
        "id": "eJ7Es-CEfc3J"
      }
    },
    {
      "cell_type": "code",
      "execution_count": null,
      "metadata": {
        "colab": {
          "base_uri": "https://localhost:8080/"
        },
        "id": "YEzf05AQBeGu",
        "outputId": "0b8306e9-24f3-4554-dc22-0ec858ca2cc0"
      },
      "outputs": [
        {
          "output_type": "stream",
          "name": "stdout",
          "text": [
            "단어 집합(vocabulary)의 크기 : 43770\n",
            "등장 빈도가 30번 미만인 희귀 단어의 수: 39276\n",
            "단어 집합에서 희귀 단어의 비율: 89.73269362577108\n",
            "전체 등장 빈도에서 희귀 단어 등장 빈도 비율: 8.339727969798032\n",
            "------------------------------\n",
            "단어 집합(vocabulary)의 크기 : 43770\n",
            "등장 빈도가 3번 미만인 희귀 단어의 수: 24340\n",
            "단어 집합에서 희귀 단어의 비율: 55.608864519076995\n",
            "전체 등장 빈도에서 희귀 단어 등장 빈도 비율: 1.5747898974035586\n",
            "------------------------------\n",
            "단어 집합(vocabulary)의 크기 : 43752\n",
            "등장 빈도가 30번 미만인 희귀 단어의 수: 39276\n",
            "단어 집합에서 희귀 단어의 비율: 89.76961053208996\n",
            "전체 등장 빈도에서 희귀 단어 등장 빈도 비율: 9.933426758471379\n",
            "------------------------------\n",
            "단어 집합(vocabulary)의 크기 : 43752\n",
            "등장 빈도가 3번 미만인 희귀 단어의 수: 24340\n",
            "단어 집합에서 희귀 단어의 비율: 55.631742548912044\n",
            "전체 등장 빈도에서 희귀 단어 등장 빈도 비율: 1.8757278609673573\n",
            "------------------------------\n",
            "단어 집합(vocabulary)의 크기 : 43431\n",
            "등장 빈도가 30번 미만인 희귀 단어의 수: 39189\n",
            "단어 집합에서 희귀 단어의 비율: 90.23278303515922\n",
            "전체 등장 빈도에서 희귀 단어 등장 빈도 비율: 11.946876212679722\n",
            "------------------------------\n",
            "단어 집합(vocabulary)의 크기 : 43431\n",
            "등장 빈도가 3번 미만인 희귀 단어의 수: 24307\n",
            "단어 집합에서 희귀 단어의 비율: 55.966936059496675\n",
            "전체 등장 빈도에서 희귀 단어 등장 빈도 비율: 2.261399473058748\n"
          ]
        }
      ],
      "source": [
        "num_pro_0_30 = checkToken(tokenizer_0, 30)\n",
        "print('------------------------------')\n",
        "num_pro_0_3 = checkToken(tokenizer_0, 3)\n",
        "print('------------------------------')\n",
        "num_pro_1_30 = checkToken(tokenizer_1, 30)\n",
        "print('------------------------------')\n",
        "num_pro_1_3 = checkToken(tokenizer_1, 3)\n",
        "print('------------------------------')\n",
        "num_pro_2_30 = checkToken(tokenizer_2, 30)\n",
        "print('------------------------------')\n",
        "num_pro_2_3 = checkToken(tokenizer_2, 3)\n",
        "\n",
        "list_pro_30 = []\n",
        "list_pro_3 = []\n",
        "\n",
        "list_pro_30.append(num_pro_0_30)\n",
        "list_pro_30.append(num_pro_1_30)\n",
        "list_pro_30.append(num_pro_2_30)\n",
        "list_pro_3.append(num_pro_0_3)\n",
        "list_pro_3.append(num_pro_1_3)\n",
        "list_pro_3.append(num_pro_2_3)"
      ]
    },
    {
      "cell_type": "code",
      "execution_count": null,
      "metadata": {
        "colab": {
          "base_uri": "https://localhost:8080/",
          "height": 483
        },
        "id": "N2_08DzJBeGu",
        "outputId": "b871df24-f5ac-4c75-9c58-163066c9420f"
      },
      "outputs": [
        {
          "output_type": "display_data",
          "data": {
            "text/plain": [
              "<Figure size 1728x720 with 3 Axes>"
            ],
            "image/png": "[encoded data removed]"
          },
          "metadata": {
            "needs_background": "light"
          }
        }
      ],
      "source": [
        "plt.figure(figsize=(24,10))\n",
        "plt.subplot(131)\n",
        "plt.bar(['Stopword X', 'Stopword S', 'Stopword L'], list_pro_30)\n",
        "plt.ylim(0,13)\n",
        "plt.subplot(132)\n",
        "plt.bar(['Stopword X', 'Stopword S', 'Stopword L'], list_pro_3, color = 'tomato')\n",
        "plt.ylim(0,13)\n",
        "plt.subplot(133)\n",
        "plt.bar(['Stopword X', 'Stopword S', 'Stopword L'], list_pro_3, color = 'tomato')\n",
        "plt.ylim(1,2.5)\n",
        "plt.show()"
      ]
    },
    {
      "cell_type": "code",
      "execution_count": null,
      "metadata": {
        "colab": {
          "base_uri": "https://localhost:8080/"
        },
        "id": "nCC3aAkXBeGu",
        "outputId": "ebb05179-1695-4ab0-9a67-206be521097c"
      },
      "outputs": [
        {
          "output_type": "stream",
          "name": "stdout",
          "text": [
            "43771\n",
            "4495\n",
            "19431\n",
            "43753\n",
            "4477\n",
            "19413\n",
            "43432\n",
            "4243\n",
            "19125\n"
          ]
        }
      ],
      "source": [
        "total_cnt_0 = 43770\n",
        "total_cnt_1 = 43752\n",
        "total_cnt_2 = 43431\n",
        "\n",
        "rare_cnt_0_1  = 39276\n",
        "rare_cnt_0_2  = 24340\n",
        "\n",
        "rare_cnt_1_1  = 39189\n",
        "rare_cnt_1_2  = 24307\n",
        "\n",
        "vocab_size_0_00 = total_cnt_0 + 1\n",
        "vocab_size_0_03 = total_cnt_0 - rare_cnt_0_1 + 1\n",
        "vocab_size_0_30 = total_cnt_0 - rare_cnt_0_2 + 1\n",
        "\n",
        "vocab_size_1_00 = total_cnt_1 + 1\n",
        "vocab_size_1_03 = total_cnt_1 - rare_cnt_0_1 + 1\n",
        "vocab_size_1_30 = total_cnt_1 - rare_cnt_0_2 + 1\n",
        "\n",
        "vocab_size_2_00 = total_cnt_2 + 1\n",
        "vocab_size_2_03 = total_cnt_2 - rare_cnt_1_1 + 1\n",
        "vocab_size_2_30 = total_cnt_2 - rare_cnt_1_2 + 1\n",
        "\n",
        "print(vocab_size_0_00)\n",
        "print(vocab_size_0_03)\n",
        "print(vocab_size_0_30)\n",
        "print(vocab_size_1_00)\n",
        "print(vocab_size_1_03)\n",
        "print(vocab_size_1_30)\n",
        "print(vocab_size_2_00)\n",
        "print(vocab_size_2_03)\n",
        "print(vocab_size_2_30)"
      ]
    },
    {
      "cell_type": "markdown",
      "metadata": {
        "id": "Y6PbD33xBeGv"
      },
      "source": [
        "텍스트 시퀀스를 정수 시퀀스로 변환"
      ]
    },
    {
      "cell_type": "code",
      "execution_count": null,
      "metadata": {
        "id": "fv660MWoBeGv"
      },
      "outputs": [],
      "source": [
        "tokenizer_0_0 = Tokenizer(vocab_size_0_00)\n",
        "tokenizer_0_3 = Tokenizer(vocab_size_0_03)\n",
        "tokenizer_0_30 = Tokenizer(vocab_size_0_30)\n",
        "tokenizer_1_0 = Tokenizer(vocab_size_1_00)\n",
        "tokenizer_1_3 = Tokenizer(vocab_size_1_03)\n",
        "tokenizer_1_30 = Tokenizer(vocab_size_1_30)\n",
        "tokenizer_1_0 = Tokenizer(vocab_size_2_00)\n",
        "tokenizer_1_3 = Tokenizer(vocab_size_2_03)\n",
        "tokenizer_1_30 = Tokenizer(vocab_size_2_30)"
      ]
    },
    {
      "cell_type": "code",
      "execution_count": null,
      "metadata": {
        "id": "G_M_3q9wBeGv"
      },
      "outputs": [],
      "source": [
        "X_train_0_00 = tokenizer_0_0.fit_on_texts(X_train_00)\n",
        "X_train_0_03 = tokenizer_0_3.fit_on_texts(X_train_00)\n",
        "X_train_0_30 = tokenizer_0_30.fit_on_texts(X_train_00)\n",
        "X_train_1_00 = tokenizer_1_0.fit_on_texts(X_train_01)\n",
        "X_train_1_03 = tokenizer_1_3.fit_on_texts(X_train_01)\n",
        "X_train_1_30 = tokenizer_1_30.fit_on_texts(X_train_01)\n",
        "X_train_2_00 = tokenizer_1_0.fit_on_texts(X_train_02)\n",
        "X_train_2_03 = tokenizer_1_3.fit_on_texts(X_train_02)\n",
        "X_train_2_30 = tokenizer_1_30.fit_on_texts(X_train_02)"
      ]
    },
    {
      "cell_type": "code",
      "execution_count": null,
      "metadata": {
        "id": "ZcL0Srs6BeGv"
      },
      "outputs": [],
      "source": [
        "X_train_0_00 = tokenizer_0_0.texts_to_sequences(X_train_00)\n",
        "X_train_0_03 = tokenizer_0_3.texts_to_sequences(X_train_00)\n",
        "X_train_0_30 = tokenizer_0_30.texts_to_sequences(X_train_00)\n",
        "X_train_1_00 = tokenizer_1_0.texts_to_sequences(X_train_01)\n",
        "X_train_1_03 = tokenizer_1_3.texts_to_sequences(X_train_01)\n",
        "X_train_1_30 = tokenizer_1_30.texts_to_sequences(X_train_01)\n",
        "X_train_2_00 = tokenizer_1_0.texts_to_sequences(X_train_02)\n",
        "X_train_2_03 = tokenizer_1_3.texts_to_sequences(X_train_02)\n",
        "X_train_2_30 = tokenizer_1_30.texts_to_sequences(X_train_02)"
      ]
    },
    {
      "cell_type": "code",
      "execution_count": null,
      "metadata": {
        "id": "TgMc2P9cDzgz"
      },
      "outputs": [],
      "source": [
        "y_train = np.array(data['label'])"
      ]
    },
    {
      "cell_type": "code",
      "execution_count": null,
      "metadata": {
        "colab": {
          "base_uri": "https://localhost:8080/"
        },
        "id": "ICrKkMtYFLe6",
        "outputId": "6b1c9884-3d69-4fd2-a660-a10315ee76b1"
      },
      "outputs": [
        {
          "output_type": "execute_result",
          "data": {
            "text/plain": [
              "143682"
            ]
          },
          "metadata": {},
          "execution_count": 28
        }
      ],
      "source": [
        "len(y_train)"
      ]
    },
    {
      "cell_type": "markdown",
      "metadata": {
        "id": "BpHsXvlvFSJR"
      },
      "source": [
        "[5] 빈 샘플 제거"
      ]
    },
    {
      "cell_type": "code",
      "execution_count": null,
      "metadata": {
        "id": "eErUQsXYFV4C"
      },
      "outputs": [],
      "source": [
        "drop_train_0_00 = [index for index, sentence in enumerate(X_train_0_00) if len(sentence) < 1]\n",
        "drop_train_0_03 = [index for index, sentence in enumerate(X_train_0_03) if len(sentence) < 1]\n",
        "drop_train_0_30 = [index for index, sentence in enumerate(X_train_0_30) if len(sentence) < 1]\n",
        "\n",
        "drop_train_1_00 = [index for index, sentence in enumerate(X_train_1_00) if len(sentence) < 1]\n",
        "drop_train_1_03 = [index for index, sentence in enumerate(X_train_1_03) if len(sentence) < 1]\n",
        "drop_train_1_30 = [index for index, sentence in enumerate(X_train_1_30) if len(sentence) < 1]\n",
        "\n",
        "drop_train_2_00 = [index for index, sentence in enumerate(X_train_2_00) if len(sentence) < 1]\n",
        "drop_train_2_03 = [index for index, sentence in enumerate(X_train_2_03) if len(sentence) < 1]\n",
        "drop_train_2_30 = [index for index, sentence in enumerate(X_train_2_30) if len(sentence) < 1]"
      ]
    },
    {
      "cell_type": "code",
      "execution_count": null,
      "metadata": {
        "id": "nOc2qINyFWRq",
        "colab": {
          "base_uri": "https://localhost:8080/"
        },
        "outputId": "cc172867-9a71-4669-9ac7-534d44a590f7"
      },
      "outputs": [
        {
          "output_type": "stream",
          "name": "stderr",
          "text": [
            "/usr/local/lib/python3.7/dist-packages/numpy/lib/function_base.py:4454: VisibleDeprecationWarning: Creating an ndarray from ragged nested sequences (which is a list-or-tuple of lists-or-tuples-or ndarrays with different lengths or shapes) is deprecated. If you meant to do this, you must specify 'dtype=object' when creating the ndarray.\n",
            "  arr = asarray(arr)\n"
          ]
        },
        {
          "output_type": "stream",
          "name": "stdout",
          "text": [
            "143660\n",
            "143001\n",
            "143447\n",
            "143650\n",
            "142882\n",
            "143428\n",
            "143492\n",
            "142436\n",
            "143199\n"
          ]
        }
      ],
      "source": [
        "# 빈 샘플들을 제거\n",
        "X_train_0_00 = np.delete(X_train_0_00, drop_train_0_00, axis=0)\n",
        "X_train_0_03 = np.delete(X_train_0_03, drop_train_0_03, axis=0)\n",
        "X_train_0_30 = np.delete(X_train_0_30, drop_train_0_30, axis=0)\n",
        "X_train_1_00 = np.delete(X_train_1_00, drop_train_1_00, axis=0)\n",
        "X_train_1_03 = np.delete(X_train_1_03, drop_train_1_03, axis=0)\n",
        "X_train_1_30 = np.delete(X_train_1_30, drop_train_1_30, axis=0)\n",
        "X_train_2_00 = np.delete(X_train_2_00, drop_train_2_00, axis=0)\n",
        "X_train_2_03 = np.delete(X_train_2_03, drop_train_2_03, axis=0)\n",
        "X_train_2_30 = np.delete(X_train_2_30, drop_train_2_30, axis=0)\n",
        "\n",
        "print(len(X_train_0_00))\n",
        "print(len(X_train_0_03))\n",
        "print(len(X_train_0_30))\n",
        "print(len(X_train_1_00))\n",
        "print(len(X_train_1_03))\n",
        "print(len(X_train_1_30))\n",
        "print(len(X_train_2_00))\n",
        "print(len(X_train_2_03))\n",
        "print(len(X_train_2_30))"
      ]
    },
    {
      "cell_type": "code",
      "source": [
        "y_train_0_00 = np.delete(y_train, drop_train_0_00, axis=0)\n",
        "y_train_0_03 = np.delete(y_train, drop_train_0_03, axis=0)\n",
        "y_train_0_30 = np.delete(y_train, drop_train_0_30, axis=0)\n",
        "y_train_1_00 = np.delete(y_train, drop_train_1_00, axis=0)\n",
        "y_train_1_03 = np.delete(y_train, drop_train_1_03, axis=0)\n",
        "y_train_1_30 = np.delete(y_train, drop_train_1_30, axis=0)\n",
        "y_train_2_00 = np.delete(y_train, drop_train_2_00, axis=0)\n",
        "y_train_2_03 = np.delete(y_train, drop_train_2_03, axis=0)\n",
        "y_train_2_30 = np.delete(y_train, drop_train_2_30, axis=0)\n",
        "\n",
        "print(len(y_train_0_00))\n",
        "print(len(y_train_0_03))\n",
        "print(len(y_train_0_30))\n",
        "print(len(y_train_1_00))\n",
        "print(len(y_train_1_03))\n",
        "print(len(y_train_1_30))\n",
        "print(len(y_train_2_00))\n",
        "print(len(y_train_2_03))\n",
        "print(len(y_train_2_30))"
      ],
      "metadata": {
        "colab": {
          "base_uri": "https://localhost:8080/"
        },
        "id": "hMFiktSKpEPC",
        "outputId": "cb1389dc-5033-419d-ad32-e51d5a0bae94"
      },
      "execution_count": null,
      "outputs": [
        {
          "output_type": "stream",
          "name": "stdout",
          "text": [
            "143660\n",
            "143001\n",
            "143447\n",
            "143650\n",
            "142882\n",
            "143428\n",
            "143492\n",
            "142436\n",
            "143199\n"
          ]
        }
      ]
    },
    {
      "cell_type": "code",
      "source": [
        "print(len(y_train))"
      ],
      "metadata": {
        "colab": {
          "base_uri": "https://localhost:8080/"
        },
        "id": "lKsJPhEnoqzH",
        "outputId": "4cdf6fc4-3e17-4a4e-c4d2-bca27f43538b"
      },
      "execution_count": null,
      "outputs": [
        {
          "output_type": "stream",
          "name": "stdout",
          "text": [
            "143682\n"
          ]
        }
      ]
    },
    {
      "cell_type": "markdown",
      "metadata": {
        "id": "k8EBJwk5FVDl"
      },
      "source": [
        "[6] 패딩"
      ]
    },
    {
      "cell_type": "code",
      "execution_count": null,
      "metadata": {
        "id": "hIfcPfQsFwLi"
      },
      "outputs": [],
      "source": [
        "# 데이터의 길이 확인\n",
        "def checkLen(X_data) :\n",
        "  list_len = []\n",
        "  for i in range(0, len(X_data)):\n",
        "      list_len.append(len(X_data[i]))\n",
        "    \n",
        "  print('리뷰의 최대 길이 :', max(list_len))\n",
        "  print('리뷰의 평균 길이 :', np.mean(list_len))\n",
        "  print('리뷰의 중간 값 길이 :', np.median(list_len))\n",
        "  return list_len"
      ]
    },
    {
      "cell_type": "code",
      "execution_count": null,
      "metadata": {
        "id": "5ZEF7wS8F4KZ",
        "colab": {
          "base_uri": "https://localhost:8080/"
        },
        "outputId": "a722e2ba-96f0-4324-8d58-1342aab6b00e"
      },
      "outputs": [
        {
          "output_type": "stream",
          "name": "stdout",
          "text": [
            "리뷰의 최대 길이 : 78\n",
            "리뷰의 평균 길이 : 13.234950577753027\n",
            "리뷰의 중간 값 길이 : 10.0\n"
          ]
        }
      ],
      "source": [
        "list_len_0_00 = checkLen(X_train_0_00)"
      ]
    },
    {
      "cell_type": "code",
      "execution_count": null,
      "metadata": {
        "id": "oXrtl5JbF5Ry",
        "colab": {
          "base_uri": "https://localhost:8080/"
        },
        "outputId": "cd79883c-abab-4645-c7a4-bd3ec2d1ba74"
      },
      "outputs": [
        {
          "output_type": "stream",
          "name": "stdout",
          "text": [
            "리뷰의 최대 길이 : 68\n",
            "리뷰의 평균 길이 : 9.017102074735158\n",
            "리뷰의 중간 값 길이 : 7.0\n"
          ]
        }
      ],
      "source": [
        "list_len_2_30 = checkLen(X_train_2_30)"
      ]
    },
    {
      "cell_type": "code",
      "execution_count": null,
      "metadata": {
        "id": "vCAS_Pj5F6UL",
        "colab": {
          "base_uri": "https://localhost:8080/",
          "height": 484
        },
        "outputId": "0929c598-0d94-4cf3-efea-c9bd634af62e"
      },
      "outputs": [
        {
          "output_type": "display_data",
          "data": {
            "text/plain": [
              "<Figure size 1728x720 with 4 Axes>"
            ],
            "image/png": "[encoded data removed]"
          },
          "metadata": {
            "needs_background": "light"
          }
        }
      ],
      "source": [
        "plt.figure(figsize=(24,10))\n",
        "plt.subplot(2,2,1)\n",
        "plt.hist(list_len_0_00)\n",
        "plt.xlabel('length of samples')\n",
        "plt.ylabel('number of samples')\n",
        "\n",
        "plt.subplot(2,2,2)\n",
        "plt.boxplot(list_len_0_00)\n",
        "\n",
        "plt.subplot(2,2,3)\n",
        "plt.hist(list_len_2_30)\n",
        "plt.xlabel('length of samples')\n",
        "plt.ylabel('number of samples')\n",
        "\n",
        "plt.subplot(2,2,4)\n",
        "plt.boxplot(list_len_2_30)\n",
        "plt.show()"
      ]
    },
    {
      "cell_type": "code",
      "execution_count": null,
      "metadata": {
        "id": "vyFUv_0eF7Ac"
      },
      "outputs": [],
      "source": [
        "def below_threshold_len(max_len, nested_list):\n",
        "  count = 0\n",
        "  for sentence in nested_list:\n",
        "    if(len(sentence) <= max_len):\n",
        "        count = count + 1\n",
        "  print(nested_list,'전체 샘플 중 길이가 %s 이하인 샘플의 비율: %s'%(max_len, (count / len(nested_list))*100))"
      ]
    },
    {
      "cell_type": "code",
      "execution_count": null,
      "metadata": {
        "id": "5PYotwFGF9Kq",
        "colab": {
          "base_uri": "https://localhost:8080/"
        },
        "outputId": "979f73fa-41c9-4d32-9455-ead4456acd2f"
      },
      "outputs": [
        {
          "output_type": "stream",
          "name": "stdout",
          "text": [
            "[list([64, 473, 27, 278, 677])\n",
            " list([965, 474, 54, 620, 2, 230, 1466, 37, 979, 694, 31])\n",
            " list([403, 2460, 25033, 2330, 5684, 3, 237, 21, 19]) ...\n",
            " list([1, 51, 74, 68, 1465, 13, 5615, 14641, 56, 10481, 10417, 13, 1061])\n",
            " list([1057, 2, 5, 2282, 2946, 35, 1250, 558, 10, 5, 7864])\n",
            " list([212, 2, 1836, 29, 43770, 4, 72, 1, 1374, 2])] 전체 샘플 중 길이가 40 이하인 샘플의 비율: 95.1921202840039\n"
          ]
        }
      ],
      "source": [
        "below_threshold_len(40, X_train_0_00)"
      ]
    },
    {
      "cell_type": "code",
      "execution_count": null,
      "metadata": {
        "id": "ODWKyJXZF-VM",
        "colab": {
          "base_uri": "https://localhost:8080/"
        },
        "outputId": "1d5ae521-5034-40ff-b999-dd7db7348907"
      },
      "outputs": [
        {
          "output_type": "stream",
          "name": "stdout",
          "text": [
            "[list([429, 12, 235, 607]) list([905, 430, 26, 558, 1, 1427, 17, 623])\n",
            " list([2415, 2288, 5654, 2, 196, 8]) ...\n",
            " list([24, 47, 39, 1426, 13, 5585, 14614, 28, 10445, 10381, 13, 1009])\n",
            " list([1005, 1, 2236, 2904, 1208, 508, 7834])\n",
            " list([174, 1, 1790, 45, 1337, 1])] 전체 샘플 중 길이가 40 이하인 샘플의 비율: 99.84636764223214\n"
          ]
        }
      ],
      "source": [
        "below_threshold_len(40, X_train_2_30)"
      ]
    },
    {
      "cell_type": "code",
      "execution_count": null,
      "metadata": {
        "id": "8BD-OESbGAFC"
      },
      "outputs": [],
      "source": [
        "max_len = 40\n",
        "\n",
        "X_data_0_00 = pad_sequences(X_train_0_00, maxlen = max_len)\n",
        "X_data_0_03 = pad_sequences(X_train_0_03, maxlen = max_len)\n",
        "X_data_0_30 = pad_sequences(X_train_0_30, maxlen = max_len)\n",
        "X_data_1_00 = pad_sequences(X_train_1_00, maxlen = max_len)\n",
        "X_data_1_03 = pad_sequences(X_train_1_03, maxlen = max_len)\n",
        "X_data_1_30 = pad_sequences(X_train_1_30, maxlen = max_len)\n",
        "X_data_2_00 = pad_sequences(X_train_2_00, maxlen = max_len)\n",
        "X_data_2_03 = pad_sequences(X_train_2_03, maxlen = max_len)\n",
        "X_data_2_30 = pad_sequences(X_train_2_30, maxlen = max_len)"
      ]
    },
    {
      "cell_type": "code",
      "execution_count": null,
      "metadata": {
        "id": "kOLeZbhHGShR"
      },
      "outputs": [],
      "source": [
        "embedding_dim = 100\n",
        "hidden_units = 128\n",
        "\n",
        "es = EarlyStopping(monitor='val_loss', mode='min', verbose=1, patience=4)"
      ]
    },
    {
      "cell_type": "code",
      "execution_count": null,
      "metadata": {
        "id": "kcwH1y_iGV6Z"
      },
      "outputs": [],
      "source": [
        "def checkModel(X_train, y_train, vocab_size, name):\n",
        "  model = Sequential()\n",
        "  model.add(Embedding(vocab_size, embedding_dim))\n",
        "  model.add(LSTM(hidden_units))\n",
        "  model.add(Dense(1, activation='sigmoid'))\n",
        "  \n",
        "  model.compile(optimizer='adam', loss='binary_crossentropy', metrics=['acc'])\n",
        "\n",
        "  name = (f'{name}.h5')\n",
        "  mc = ModelCheckpoint('.h5', monitor='val_acc', mode='max', verbose=1, save_best_only=True)\n",
        "\n",
        "  history = model.fit(X_train, y_train, epochs=15, callbacks=[es, mc], batch_size=64, validation_split=0.2)\n",
        "  return history"
      ]
    },
    {
      "cell_type": "code",
      "execution_count": null,
      "metadata": {
        "id": "EWc81iCwHc2p",
        "colab": {
          "base_uri": "https://localhost:8080/"
        },
        "outputId": "37d3111d-f538-4485-bdf3-5c611aa169d8"
      },
      "outputs": [
        {
          "output_type": "stream",
          "name": "stdout",
          "text": [
            "Epoch 1/15\n",
            "1796/1796 [==============================] - ETA: 0s - loss: 0.3860 - acc: 0.8230\n",
            "Epoch 1: val_acc improved from -inf to 0.85052, saving model to .h5\n",
            "1796/1796 [==============================] - 265s 143ms/step - loss: 0.3860 - acc: 0.8230 - val_loss: 0.3418 - val_acc: 0.8505\n",
            "Epoch 2/15\n",
            "1796/1796 [==============================] - ETA: 0s - loss: 0.2838 - acc: 0.8802\n",
            "Epoch 2: val_acc improved from 0.85052 to 0.85309, saving model to .h5\n",
            "1796/1796 [==============================] - 253s 141ms/step - loss: 0.2838 - acc: 0.8802 - val_loss: 0.3474 - val_acc: 0.8531\n",
            "Epoch 3/15\n",
            "1796/1796 [==============================] - ETA: 0s - loss: 0.2270 - acc: 0.9072\n",
            "Epoch 3: val_acc did not improve from 0.85309\n",
            "1796/1796 [==============================] - 257s 143ms/step - loss: 0.2270 - acc: 0.9072 - val_loss: 0.3850 - val_acc: 0.8491\n",
            "Epoch 4/15\n",
            "1796/1796 [==============================] - ETA: 0s - loss: 0.1808 - acc: 0.9274\n",
            "Epoch 4: val_acc did not improve from 0.85309\n",
            "1796/1796 [==============================] - 254s 141ms/step - loss: 0.1808 - acc: 0.9274 - val_loss: 0.4203 - val_acc: 0.8447\n",
            "Epoch 5/15\n",
            "1796/1796 [==============================] - ETA: 0s - loss: 0.1431 - acc: 0.9440\n",
            "Epoch 5: val_acc did not improve from 0.85309\n",
            "1796/1796 [==============================] - 248s 138ms/step - loss: 0.1431 - acc: 0.9440 - val_loss: 0.4970 - val_acc: 0.8427\n",
            "Epoch 5: early stopping\n",
            "Epoch 1/15\n",
            "1788/1788 [==============================] - ETA: 0s - loss: 0.3890 - acc: 0.8216\n",
            "Epoch 1: val_acc improved from -inf to 0.84015, saving model to .h5\n",
            "1788/1788 [==============================] - 196s 105ms/step - loss: 0.3890 - acc: 0.8216 - val_loss: 0.3554 - val_acc: 0.8401\n",
            "Epoch 2/15\n",
            "1788/1788 [==============================] - ETA: 0s - loss: 0.3254 - acc: 0.8557\n",
            "Epoch 2: val_acc improved from 0.84015 to 0.85018, saving model to .h5\n",
            "1788/1788 [==============================] - 194s 108ms/step - loss: 0.3254 - acc: 0.8557 - val_loss: 0.3441 - val_acc: 0.8502\n",
            "Epoch 3/15\n",
            "1788/1788 [==============================] - ETA: 0s - loss: 0.2979 - acc: 0.8687\n",
            "Epoch 3: val_acc improved from 0.85018 to 0.85364, saving model to .h5\n",
            "1788/1788 [==============================] - 195s 109ms/step - loss: 0.2979 - acc: 0.8687 - val_loss: 0.3374 - val_acc: 0.8536\n",
            "Epoch 4/15\n",
            "1788/1788 [==============================] - ETA: 0s - loss: 0.2753 - acc: 0.8788\n",
            "Epoch 4: val_acc improved from 0.85364 to 0.85462, saving model to .h5\n",
            "1788/1788 [==============================] - 195s 109ms/step - loss: 0.2753 - acc: 0.8788 - val_loss: 0.3435 - val_acc: 0.8546\n",
            "Epoch 5/15\n",
            "1788/1788 [==============================] - ETA: 0s - loss: 0.2512 - acc: 0.8917\n",
            "Epoch 5: val_acc did not improve from 0.85462\n",
            "1788/1788 [==============================] - 194s 109ms/step - loss: 0.2512 - acc: 0.8917 - val_loss: 0.3530 - val_acc: 0.8515\n",
            "Epoch 6/15\n",
            "1788/1788 [==============================] - ETA: 0s - loss: 0.2270 - acc: 0.9029\n",
            "Epoch 6: val_acc did not improve from 0.85462\n",
            "1788/1788 [==============================] - 193s 108ms/step - loss: 0.2270 - acc: 0.9029 - val_loss: 0.3906 - val_acc: 0.8495\n",
            "Epoch 7/15\n",
            "1788/1788 [==============================] - ETA: 0s - loss: 0.2016 - acc: 0.9146\n",
            "Epoch 7: val_acc did not improve from 0.85462\n",
            "1788/1788 [==============================] - 195s 109ms/step - loss: 0.2016 - acc: 0.9146 - val_loss: 0.3985 - val_acc: 0.8465\n",
            "Epoch 7: early stopping\n",
            "Epoch 1/15\n",
            "1794/1794 [==============================] - ETA: 0s - loss: 0.3844 - acc: 0.8251\n",
            "Epoch 1: val_acc improved from -inf to 0.84918, saving model to .h5\n",
            "1794/1794 [==============================] - 229s 126ms/step - loss: 0.3844 - acc: 0.8251 - val_loss: 0.3401 - val_acc: 0.8492\n",
            "Epoch 2/15\n",
            "1794/1794 [==============================] - ETA: 0s - loss: 0.2921 - acc: 0.8750\n",
            "Epoch 2: val_acc improved from 0.84918 to 0.85159, saving model to .h5\n",
            "1794/1794 [==============================] - 223s 124ms/step - loss: 0.2921 - acc: 0.8750 - val_loss: 0.3409 - val_acc: 0.8516\n",
            "Epoch 3/15\n",
            "1794/1794 [==============================] - ETA: 0s - loss: 0.2425 - acc: 0.8990\n",
            "Epoch 3: val_acc did not improve from 0.85159\n",
            "1794/1794 [==============================] - 225s 126ms/step - loss: 0.2425 - acc: 0.8990 - val_loss: 0.3535 - val_acc: 0.8496\n",
            "Epoch 4/15\n",
            "1794/1794 [==============================] - ETA: 0s - loss: 0.2007 - acc: 0.9182\n",
            "Epoch 4: val_acc did not improve from 0.85159\n",
            "1794/1794 [==============================] - 220s 123ms/step - loss: 0.2007 - acc: 0.9182 - val_loss: 0.3989 - val_acc: 0.8460\n",
            "Epoch 5/15\n",
            "1794/1794 [==============================] - ETA: 0s - loss: 0.1638 - acc: 0.9346\n",
            "Epoch 5: val_acc did not improve from 0.85159\n",
            "1794/1794 [==============================] - 222s 124ms/step - loss: 0.1638 - acc: 0.9346 - val_loss: 0.4711 - val_acc: 0.8443\n",
            "Epoch 5: early stopping\n",
            "Epoch 1/15\n",
            "1796/1796 [==============================] - ETA: 0s - loss: 0.3884 - acc: 0.8226\n",
            "Epoch 1: val_acc improved from -inf to 0.84800, saving model to .h5\n",
            "1796/1796 [==============================] - 274s 151ms/step - loss: 0.3884 - acc: 0.8226 - val_loss: 0.3464 - val_acc: 0.8480\n",
            "Epoch 2/15\n",
            "1796/1796 [==============================] - ETA: 0s - loss: 0.2862 - acc: 0.8792\n",
            "Epoch 2: val_acc improved from 0.84800 to 0.84988, saving model to .h5\n",
            "1796/1796 [==============================] - 268s 149ms/step - loss: 0.2862 - acc: 0.8792 - val_loss: 0.3485 - val_acc: 0.8499\n",
            "Epoch 3/15\n",
            "1796/1796 [==============================] - ETA: 0s - loss: 0.2253 - acc: 0.9080\n",
            "Epoch 3: val_acc did not improve from 0.84988\n",
            "1796/1796 [==============================] - 264s 147ms/step - loss: 0.2253 - acc: 0.9080 - val_loss: 0.3760 - val_acc: 0.8477\n",
            "Epoch 4/15\n",
            "1796/1796 [==============================] - ETA: 0s - loss: 0.1791 - acc: 0.9286\n",
            "Epoch 4: val_acc did not improve from 0.84988\n",
            "1796/1796 [==============================] - 260s 145ms/step - loss: 0.1791 - acc: 0.9286 - val_loss: 0.4069 - val_acc: 0.8444\n",
            "Epoch 5/15\n",
            "1796/1796 [==============================] - ETA: 0s - loss: 0.1404 - acc: 0.9448\n",
            "Epoch 5: val_acc did not improve from 0.84988\n",
            "1796/1796 [==============================] - 258s 144ms/step - loss: 0.1404 - acc: 0.9448 - val_loss: 0.4787 - val_acc: 0.8411\n",
            "Epoch 5: early stopping\n",
            "Epoch 1/15\n",
            "1787/1787 [==============================] - ETA: 0s - loss: 0.3914 - acc: 0.8197\n",
            "Epoch 1: val_acc improved from -inf to 0.84218, saving model to .h5\n",
            "1787/1787 [==============================] - 202s 108ms/step - loss: 0.3914 - acc: 0.8197 - val_loss: 0.3557 - val_acc: 0.8422\n",
            "Epoch 2/15\n",
            "1786/1787 [============================>.] - ETA: 0s - loss: 0.3282 - acc: 0.8544\n",
            "Epoch 2: val_acc improved from 0.84218 to 0.85026, saving model to .h5\n",
            "1787/1787 [==============================] - 191s 107ms/step - loss: 0.3282 - acc: 0.8544 - val_loss: 0.3425 - val_acc: 0.8503\n",
            "Epoch 3/15\n",
            "1786/1787 [============================>.] - ETA: 0s - loss: 0.3018 - acc: 0.8673\n",
            "Epoch 3: val_acc did not improve from 0.85026\n",
            "1787/1787 [==============================] - 191s 107ms/step - loss: 0.3018 - acc: 0.8673 - val_loss: 0.3485 - val_acc: 0.8488\n",
            "Epoch 4/15\n",
            "1786/1787 [============================>.] - ETA: 0s - loss: 0.2788 - acc: 0.8787\n",
            "Epoch 4: val_acc improved from 0.85026 to 0.85058, saving model to .h5\n",
            "1787/1787 [==============================] - 193s 108ms/step - loss: 0.2788 - acc: 0.8787 - val_loss: 0.3451 - val_acc: 0.8506\n",
            "Epoch 5/15\n",
            "1786/1787 [============================>.] - ETA: 0s - loss: 0.2552 - acc: 0.8893\n",
            "Epoch 5: val_acc did not improve from 0.85058\n",
            "1787/1787 [==============================] - 192s 107ms/step - loss: 0.2552 - acc: 0.8893 - val_loss: 0.3600 - val_acc: 0.8453\n",
            "Epoch 6/15\n",
            "1786/1787 [============================>.] - ETA: 0s - loss: 0.2318 - acc: 0.9019\n",
            "Epoch 6: val_acc did not improve from 0.85058\n",
            "1787/1787 [==============================] - 193s 108ms/step - loss: 0.2318 - acc: 0.9019 - val_loss: 0.3786 - val_acc: 0.8461\n",
            "Epoch 6: early stopping\n",
            "Epoch 1/15\n",
            "1793/1793 [==============================] - ETA: 0s - loss: 0.3878 - acc: 0.8229\n",
            "Epoch 1: val_acc improved from -inf to 0.84773, saving model to .h5\n",
            "1793/1793 [==============================] - 227s 125ms/step - loss: 0.3878 - acc: 0.8229 - val_loss: 0.3549 - val_acc: 0.8477\n",
            "Epoch 2/15\n",
            "1793/1793 [==============================] - ETA: 0s - loss: 0.2984 - acc: 0.8721\n",
            "Epoch 2: val_acc improved from 0.84773 to 0.85143, saving model to .h5\n",
            "1793/1793 [==============================] - 220s 122ms/step - loss: 0.2984 - acc: 0.8721 - val_loss: 0.3502 - val_acc: 0.8514\n",
            "Epoch 3/15\n",
            "1793/1793 [==============================] - ETA: 0s - loss: 0.2477 - acc: 0.8952\n",
            "Epoch 3: val_acc did not improve from 0.85143\n",
            "1793/1793 [==============================] - 221s 123ms/step - loss: 0.2477 - acc: 0.8952 - val_loss: 0.3561 - val_acc: 0.8504\n",
            "Epoch 4/15\n",
            "1793/1793 [==============================] - ETA: 0s - loss: 0.2045 - acc: 0.9160\n",
            "Epoch 4: val_acc did not improve from 0.85143\n",
            "1793/1793 [==============================] - 223s 124ms/step - loss: 0.2045 - acc: 0.9160 - val_loss: 0.3936 - val_acc: 0.8468\n",
            "Epoch 5/15\n",
            "1793/1793 [==============================] - ETA: 0s - loss: 0.1664 - acc: 0.9331\n",
            "Epoch 5: val_acc did not improve from 0.85143\n",
            "1793/1793 [==============================] - 221s 123ms/step - loss: 0.1664 - acc: 0.9331 - val_loss: 0.4590 - val_acc: 0.8465\n",
            "Epoch 6/15\n",
            "1793/1793 [==============================] - ETA: 0s - loss: 0.1342 - acc: 0.9475\n",
            "Epoch 6: val_acc did not improve from 0.85143\n",
            "1793/1793 [==============================] - 219s 122ms/step - loss: 0.1342 - acc: 0.9475 - val_loss: 0.5198 - val_acc: 0.8416\n",
            "Epoch 6: early stopping\n",
            "Epoch 1/15\n",
            "1794/1794 [==============================] - ETA: 0s - loss: 0.4003 - acc: 0.8163\n",
            "Epoch 1: val_acc improved from -inf to 0.83815, saving model to .h5\n",
            "1794/1794 [==============================] - 275s 152ms/step - loss: 0.4003 - acc: 0.8163 - val_loss: 0.3702 - val_acc: 0.8381\n",
            "Epoch 2/15\n",
            "1794/1794 [==============================] - ETA: 0s - loss: 0.3021 - acc: 0.8700\n",
            "Epoch 2: val_acc did not improve from 0.83815\n",
            "1794/1794 [==============================] - 262s 146ms/step - loss: 0.3021 - acc: 0.8700 - val_loss: 0.3780 - val_acc: 0.8322\n",
            "Epoch 3/15\n",
            "1794/1794 [==============================] - ETA: 0s - loss: 0.2445 - acc: 0.8980\n",
            "Epoch 3: val_acc did not improve from 0.83815\n",
            "1794/1794 [==============================] - 264s 147ms/step - loss: 0.2445 - acc: 0.8980 - val_loss: 0.3964 - val_acc: 0.8323\n",
            "Epoch 4/15\n",
            "1794/1794 [==============================] - ETA: 0s - loss: 0.1984 - acc: 0.9189\n",
            "Epoch 4: val_acc did not improve from 0.83815\n",
            "1794/1794 [==============================] - 263s 147ms/step - loss: 0.1984 - acc: 0.9189 - val_loss: 0.4555 - val_acc: 0.8307\n",
            "Epoch 5/15\n",
            "1794/1794 [==============================] - ETA: 0s - loss: 0.1583 - acc: 0.9365\n",
            "Epoch 5: val_acc did not improve from 0.83815\n",
            "1794/1794 [==============================] - 264s 147ms/step - loss: 0.1583 - acc: 0.9365 - val_loss: 0.5170 - val_acc: 0.8249\n",
            "Epoch 5: early stopping\n",
            "Epoch 1/15\n",
            "1781/1781 [==============================] - ETA: 0s - loss: 0.4047 - acc: 0.8127\n",
            "Epoch 1: val_acc improved from -inf to 0.83414, saving model to .h5\n",
            "1781/1781 [==============================] - 203s 111ms/step - loss: 0.4047 - acc: 0.8127 - val_loss: 0.3743 - val_acc: 0.8341\n",
            "Epoch 2/15\n",
            "1781/1781 [==============================] - ETA: 0s - loss: 0.3515 - acc: 0.8429\n",
            "Epoch 2: val_acc improved from 0.83414 to 0.83751, saving model to .h5\n",
            "1781/1781 [==============================] - 201s 113ms/step - loss: 0.3515 - acc: 0.8429 - val_loss: 0.3675 - val_acc: 0.8375\n",
            "Epoch 3/15\n",
            "1781/1781 [==============================] - ETA: 0s - loss: 0.3276 - acc: 0.8545\n",
            "Epoch 3: val_acc did not improve from 0.83751\n",
            "1781/1781 [==============================] - 196s 110ms/step - loss: 0.3276 - acc: 0.8545 - val_loss: 0.3685 - val_acc: 0.8366\n",
            "Epoch 4/15\n",
            "1781/1781 [==============================] - ETA: 0s - loss: 0.3089 - acc: 0.8634\n",
            "Epoch 4: val_acc did not improve from 0.83751\n",
            "1781/1781 [==============================] - 195s 110ms/step - loss: 0.3089 - acc: 0.8634 - val_loss: 0.3794 - val_acc: 0.8364\n",
            "Epoch 5/15\n",
            "1781/1781 [==============================] - ETA: 0s - loss: 0.2870 - acc: 0.8745\n",
            "Epoch 5: val_acc did not improve from 0.83751\n",
            "1781/1781 [==============================] - 197s 111ms/step - loss: 0.2870 - acc: 0.8745 - val_loss: 0.3904 - val_acc: 0.8321\n",
            "Epoch 6/15\n",
            "1781/1781 [==============================] - ETA: 0s - loss: 0.2653 - acc: 0.8851\n",
            "Epoch 6: val_acc did not improve from 0.83751\n",
            "1781/1781 [==============================] - 197s 110ms/step - loss: 0.2653 - acc: 0.8851 - val_loss: 0.4078 - val_acc: 0.8313\n",
            "Epoch 6: early stopping\n",
            "Epoch 1/15\n",
            "1790/1790 [==============================] - ETA: 0s - loss: 0.3984 - acc: 0.8164\n",
            "Epoch 1: val_acc improved from -inf to 0.83911, saving model to .h5\n",
            "1790/1790 [==============================] - 238s 127ms/step - loss: 0.3984 - acc: 0.8164 - val_loss: 0.3647 - val_acc: 0.8391\n",
            "Epoch 2/15\n",
            "1790/1790 [==============================] - ETA: 0s - loss: 0.3139 - acc: 0.8630\n",
            "Epoch 2: val_acc improved from 0.83911 to 0.84092, saving model to .h5\n",
            "1790/1790 [==============================] - 222s 124ms/step - loss: 0.3139 - acc: 0.8630 - val_loss: 0.3624 - val_acc: 0.8409\n",
            "Epoch 3/15\n",
            "1790/1790 [==============================] - ETA: 0s - loss: 0.2654 - acc: 0.8876\n",
            "Epoch 3: val_acc did not improve from 0.84092\n",
            "1790/1790 [==============================] - 221s 124ms/step - loss: 0.2654 - acc: 0.8876 - val_loss: 0.3846 - val_acc: 0.8382\n",
            "Epoch 4/15\n",
            "1790/1790 [==============================] - ETA: 0s - loss: 0.2249 - acc: 0.9063\n",
            "Epoch 4: val_acc did not improve from 0.84092\n",
            "1790/1790 [==============================] - 220s 123ms/step - loss: 0.2249 - acc: 0.9063 - val_loss: 0.4207 - val_acc: 0.8328\n",
            "Epoch 5/15\n",
            "1790/1790 [==============================] - ETA: 0s - loss: 0.1857 - acc: 0.9237\n",
            "Epoch 5: val_acc did not improve from 0.84092\n",
            "1790/1790 [==============================] - 221s 123ms/step - loss: 0.1857 - acc: 0.9237 - val_loss: 0.5159 - val_acc: 0.8268\n",
            "Epoch 6/15\n",
            "1790/1790 [==============================] - ETA: 0s - loss: 0.1527 - acc: 0.9383\n",
            "Epoch 6: val_acc did not improve from 0.84092\n",
            "1790/1790 [==============================] - 220s 123ms/step - loss: 0.1527 - acc: 0.9383 - val_loss: 0.5787 - val_acc: 0.8225\n",
            "Epoch 6: early stopping\n"
          ]
        }
      ],
      "source": [
        "history_0_00 = checkModel(X_data_0_00, y_train_0_00, vocab_size_0_00, 'X_data_0_00')\n",
        "history_0_03 = checkModel(X_data_0_03, y_train_0_03, vocab_size_0_03, 'X_data_0_03')\n",
        "history_0_30 = checkModel(X_data_0_30, y_train_0_30, vocab_size_0_30, 'X_data_0_30')\n",
        "\n",
        "history_1_00 = checkModel(X_data_1_00, y_train_1_00, vocab_size_1_00, 'X_data_1_00')\n",
        "history_1_03 = checkModel(X_data_1_03, y_train_1_03, vocab_size_1_03, 'X_data_1_03')\n",
        "history_1_30 = checkModel(X_data_1_30, y_train_1_30, vocab_size_1_30, 'X_data_1_30')\n",
        "\n",
        "history_2_00 = checkModel(X_data_2_00, y_train_2_00, vocab_size_2_00, 'X_data_2_00')\n",
        "history_2_03 = checkModel(X_data_2_03, y_train_2_03, vocab_size_2_03, 'X_data_2_03')\n",
        "history_2_30 = checkModel(X_data_2_30, y_train_2_30, vocab_size_2_30, 'X_data_2_30')"
      ]
    },
    {
      "cell_type": "code",
      "execution_count": null,
      "metadata": {
        "id": "rxd0ZPWUIDRg"
      },
      "outputs": [],
      "source": [
        "df_history = pd.DataFrame([history_0_00.history['val_acc'], history_0_03.history['val_acc'], history_0_30.history['val_acc'], \n",
        "                           history_1_00.history['val_acc'], history_1_03.history['val_acc'], history_1_30.history['val_acc'], \n",
        "                           history_2_00.history['val_acc'], history_2_03.history['val_acc'], history_2_30.history['val_acc'],\n",
        "                           history_0_00.history['acc'], history_0_03.history['acc'], history_0_30.history['acc'], \n",
        "                           history_1_00.history['acc'], history_1_03.history['acc'], history_1_30.history['acc'], \n",
        "                           history_2_00.history['acc'], history_2_03.history['acc'], history_2_30.history['acc']]).T"
      ]
    },
    {
      "cell_type": "code",
      "execution_count": null,
      "metadata": {
        "id": "Lfs0pyM4IZ6J"
      },
      "outputs": [],
      "source": [
        "list_index = ['X_0_00', 'X_0_03', 'X_0_30',\n",
        "              'X_1_00', 'X_1_03', 'X_1_30',\n",
        "              'X_2_00', 'X_2_03', 'X_2_30']"
      ]
    },
    {
      "cell_type": "code",
      "source": [
        "list_val_acc = df_history.loc[:,:8]\n",
        "list_acc = df_history.loc[:,9:]"
      ],
      "metadata": {
        "id": "9bUwX-MB-giP"
      },
      "execution_count": null,
      "outputs": []
    },
    {
      "cell_type": "code",
      "source": [
        "def checkMax(data):\n",
        "  list_acc = []\n",
        "  for i in range(0, len(data.columns)) :\n",
        "    list_acc.append(max(data.iloc[:, i]))\n",
        "  return list_acc"
      ],
      "metadata": {
        "id": "Lcj9wWwT-lNj"
      },
      "execution_count": null,
      "outputs": []
    },
    {
      "cell_type": "code",
      "source": [
        "list_v_a = checkMax(list_val_acc)"
      ],
      "metadata": {
        "id": "XK9Ltu-x-mVs"
      },
      "execution_count": null,
      "outputs": []
    },
    {
      "cell_type": "code",
      "source": [
        "list_a = checkMax(list_acc)"
      ],
      "metadata": {
        "id": "frSrn2Pb-nXh"
      },
      "execution_count": null,
      "outputs": []
    },
    {
      "cell_type": "code",
      "source": [
        "plt.figure(figsize=(24,8))\n",
        "plt.subplot(121)\n",
        "plt.barh(list_index, list_a)\n",
        "plt.xlim(0.83,1)\n",
        "plt.title('Acc')\n",
        "\n",
        "plt.subplot(122)\n",
        "plt.barh(list_index, list_v_a)\n",
        "plt.xlim(0.83,0.93)\n",
        "plt.title('Val_Acc')\n",
        "\n",
        "plt.show()"
      ],
      "metadata": {
        "colab": {
          "base_uri": "https://localhost:8080/",
          "height": 401
        },
        "id": "sL-Hc8vD-ogH",
        "outputId": "373f9bac-a005-4b28-bb21-31b0b455bed9"
      },
      "execution_count": null,
      "outputs": [
        {
          "output_type": "display_data",
          "data": {
            "text/plain": [
              "<Figure size 1728x576 with 2 Axes>"
            ],
            "image/png": "[encoded data removed]"
          },
          "metadata": {
            "needs_background": "light"
          }
        }
      ]
    },
    {
      "cell_type": "markdown",
      "source": [
        "**알 수 있는 사실**  \n",
        "(1) 불용어 제거 : 지나치면 안하느니 못하다.  \n",
        "(2) 낮은 빈도 수 단어 제거 : 적당히 하면 과적합을 줄일 수 있다."
      ],
      "metadata": {
        "id": "DAiiujBP-tSA"
      }
    },
    {
      "cell_type": "markdown",
      "source": [
        "### 예측해보기"
      ],
      "metadata": {
        "id": "ZaaF68VQAbcY"
      }
    },
    {
      "cell_type": "code",
      "source": [
        "model = Sequential()\n",
        "model.add(Embedding(vocab_size_1_03, embedding_dim))\n",
        "model.add(LSTM(hidden_units))\n",
        "model.add(Dense(1, activation='sigmoid'))\n",
        "  \n",
        "model.compile(optimizer='adam', loss='binary_crossentropy', metrics=['acc'])\n",
        "history = model.fit(X_data_1_03, y_train_1_03, epochs=15, callbacks=[es], batch_size=64, validation_split=0.2)"
      ],
      "metadata": {
        "id": "0R_UVFOL_CwE",
        "colab": {
          "base_uri": "https://localhost:8080/"
        },
        "outputId": "da4e5b91-cd15-4c30-f6c2-dfb1608d10fb"
      },
      "execution_count": null,
      "outputs": [
        {
          "output_type": "stream",
          "name": "stdout",
          "text": [
            "Epoch 1/15\n",
            "1787/1787 [==============================] - 214s 117ms/step - loss: 0.3917 - acc: 0.8219 - val_loss: 0.3573 - val_acc: 0.8430\n",
            "Epoch 2/15\n",
            "1787/1787 [==============================] - 192s 107ms/step - loss: 0.3307 - acc: 0.8538 - val_loss: 0.3469 - val_acc: 0.8485\n",
            "Epoch 3/15\n",
            "1787/1787 [==============================] - 203s 113ms/step - loss: 0.3036 - acc: 0.8664 - val_loss: 0.3393 - val_acc: 0.8514\n",
            "Epoch 4/15\n",
            "1787/1787 [==============================] - 194s 108ms/step - loss: 0.2809 - acc: 0.8769 - val_loss: 0.3550 - val_acc: 0.8488\n",
            "Epoch 5/15\n",
            "1787/1787 [==============================] - 193s 108ms/step - loss: 0.2567 - acc: 0.8891 - val_loss: 0.3649 - val_acc: 0.8486\n",
            "Epoch 6/15\n",
            "1787/1787 [==============================] - 194s 108ms/step - loss: 0.2309 - acc: 0.9018 - val_loss: 0.3934 - val_acc: 0.8451\n",
            "Epoch 7/15\n",
            "1787/1787 [==============================] - 195s 109ms/step - loss: 0.2069 - acc: 0.9137 - val_loss: 0.4283 - val_acc: 0.8416\n",
            "Epoch 7: early stopping\n"
          ]
        }
      ]
    },
    {
      "cell_type": "code",
      "source": [
        "def sentiment_predict(new_sentence):\n",
        "  new_sentence = re.sub(r'[^ㄱ-ㅎㅏ-ㅣ가-힣 ]','', new_sentence)\n",
        "  new_sentence = okt.morphs(new_sentence, stem=True) # 토큰화\n",
        "  new_sentence = [word for word in new_sentence if not word in stopwords] # 불용어 제거\n",
        "  encoded = tokenizer_1_3.texts_to_sequences([new_sentence]) # 정수 인코딩\n",
        "  pad_new = pad_sequences(encoded, maxlen = max_len) # 패딩\n",
        "  score = float(model.predict(pad_new)) # 예측\n",
        "  if(score > 0.5):\n",
        "    print(\"{:.2f}% 확률로 긍정 리뷰입니다.\\n\".format(score * 100))\n",
        "  else:\n",
        "    print(\"{:.2f}% 확률로 부정 리뷰입니다.\\n\".format((1 - score) * 100))"
      ],
      "metadata": {
        "id": "9TqQIJjpADNb"
      },
      "execution_count": null,
      "outputs": []
    },
    {
      "cell_type": "code",
      "source": [
        "# 일반적인 긍정 리뷰\n",
        "sentiment_predict('너무 재밌어요^^')"
      ],
      "metadata": {
        "id": "vTJaDD7lATdl",
        "colab": {
          "base_uri": "https://localhost:8080/"
        },
        "outputId": "ff1d9b77-d645-4c7c-ebe6-f2ee8536fb08"
      },
      "execution_count": null,
      "outputs": [
        {
          "output_type": "stream",
          "name": "stdout",
          "text": [
            "99.63% 확률로 긍정 리뷰입니다.\n",
            "\n"
          ]
        }
      ]
    },
    {
      "cell_type": "code",
      "source": [
        "# 일반적인 부정 리뷰\n",
        "sentiment_predict('진짜 심각하네요...')"
      ],
      "metadata": {
        "id": "Z5Rq9SHPAgKE",
        "colab": {
          "base_uri": "https://localhost:8080/"
        },
        "outputId": "c073f0ec-dc2d-4b56-eba4-712e6cf5eb8f"
      },
      "execution_count": null,
      "outputs": [
        {
          "output_type": "stream",
          "name": "stdout",
          "text": [
            "99.54% 확률로 부정 리뷰입니다.\n",
            "\n"
          ]
        }
      ]
    },
    {
      "cell_type": "code",
      "source": [
        "# 평론가 긍정 리뷰 : 이동진 - '그랜드 부다페스트 호텔'\n",
        "sentiment_predict('지나온 적 없는 어제의 세계들에 대한 근원적 노스탤지어.')"
      ],
      "metadata": {
        "id": "sJnOiRUpAkvj",
        "colab": {
          "base_uri": "https://localhost:8080/"
        },
        "outputId": "a76aff5a-f6ee-409a-f865-be7fbb138490"
      },
      "execution_count": null,
      "outputs": [
        {
          "output_type": "stream",
          "name": "stdout",
          "text": [
            "79.12% 확률로 긍정 리뷰입니다.\n",
            "\n"
          ]
        }
      ]
    },
    {
      "cell_type": "code",
      "source": [
        "# 평론가 부정 리뷰 : 이동진 - '7광구'\n",
        "sentiment_predict('소재만 있었지, 할 이야기 자체가 없었던 영화.')"
      ],
      "metadata": {
        "id": "e7b978KsBajD",
        "colab": {
          "base_uri": "https://localhost:8080/"
        },
        "outputId": "d0e861f2-3b67-49fb-8468-427577dce620"
      },
      "execution_count": null,
      "outputs": [
        {
          "output_type": "stream",
          "name": "stdout",
          "text": [
            "88.59% 확률로 부정 리뷰입니다.\n",
            "\n"
          ]
        }
      ]
    },
    {
      "cell_type": "code",
      "source": [
        "# 비꼬기 리뷰\n",
        "sentiment_predict('감독님은 이 영화 덕분에 만수무강하시겠네요 ^^')"
      ],
      "metadata": {
        "id": "2TapTzqgCunc",
        "colab": {
          "base_uri": "https://localhost:8080/"
        },
        "outputId": "7b3257ed-b520-41ab-8f79-862dee495629"
      },
      "execution_count": null,
      "outputs": [
        {
          "output_type": "stream",
          "name": "stdout",
          "text": [
            "68.93% 확률로 부정 리뷰입니다.\n",
            "\n"
          ]
        }
      ]
    }
  ],
  "metadata": {
    "colab": {
      "collapsed_sections": [],
      "provenance": []
    },
    "kernelspec": {
      "display_name": "Python 3.9.12 ('base')",
      "language": "python",
      "name": "python3"
    },
    "language_info": {
      "codemirror_mode": {
        "name": "ipython",
        "version": 3
      },
      "file_extension": ".py",
      "mimetype": "text/x-python",
      "name": "python",
      "nbconvert_exporter": "python",
      "pygments_lexer": "ipython3",
      "version": "3.9.12"
    },
    "vscode": {
      "interpreter": {
        "hash": "399b942a90945adf822711c817a2148b24a3a269b52160aecaa333816877df5e"
      }
    },
    "accelerator": "GPU"
  },
  "nbformat": 4,
  "nbformat_minor": 0
}